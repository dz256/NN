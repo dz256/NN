{
 "cells": [
  {
   "cell_type": "code",
   "execution_count": 1,
   "id": "929a0299",
   "metadata": {},
   "outputs": [],
   "source": [
    "#since noteboke doesn't work in jupiterlabs    %matplotlib notebook \n",
    "%matplotlib inline \n",
    "%load_ext autoreload\n",
    "%autoreload 2"
   ]
  },
  {
   "cell_type": "code",
   "execution_count": 2,
   "id": "2904af6b",
   "metadata": {
    "scrolled": true
   },
   "outputs": [],
   "source": [
    "import tensorflow as tf\n",
    "import os\n",
    "# os.environ['PATH'] += os.pathsep + 'D:\\\\6OHDA\\\\'\n",
    "import numpy as np\n",
    "import scipy as sci\n",
    "from IO import *\n",
    "from utils import *\n",
    "import re\n",
    "import tqdm\n",
    "\n",
    "from tensorflow.keras.models import Sequential, load_model\n",
    "from tensorflow.keras.layers import Input\n",
    "from tensorflow.keras.layers import Dense, Dropout, Activation, Flatten, Concatenate\n",
    "from tensorflow.keras.layers import Convolution2D, MaxPooling2D,Conv2D, Conv1D,MaxPooling1D\n",
    "# from tensorflow.keras.layers.core import Lambda\n",
    "import tensorflow.keras.optimizers as optimizers\n",
    "from tensorflow.keras import regularizers\n",
    "from tensorflow.keras import backend as K\n",
    "from tensorflow.keras.models import Model\n",
    "\n",
    "from matplotlib import pyplot as plt\n",
    "from matplotlib import gridspec\n",
    "import seaborn as sns\n",
    "\n",
    "import pickle\n",
    "import random"
   ]
  },
  {
   "cell_type": "code",
   "execution_count": 56,
   "id": "dabf073e",
   "metadata": {},
   "outputs": [],
   "source": [
    "Files = ['FinalData_6OHDA.h5','FinalData_6OHDA_H.h5']\n",
    "miceList = getMiceList(Files[0])\n",
    "#miceList.remove('1253')\n",
    "#miceList.remove('1231')\n",
    "def periodCalc(day):\n",
    "    if day== 0:\n",
    "        return 0#'Healthy'\n",
    "    elif day<13:\n",
    "        return 1#np.array([0,1,0])#'Acute' #day 1-13\n",
    "    else:\n",
    "        return 2#np.array([0,0,1])#'Chronic' #day 14-35"
   ]
  },
  {
   "cell_type": "code",
   "execution_count": 173,
   "id": "2e69ab06",
   "metadata": {},
   "outputs": [
    {
     "name": "stdout",
     "output_type": "stream",
     "text": [
      "cleaning up trace data\n",
      "cleaning up trace data\n",
      "cleaning up trace data\n"
     ]
    }
   ],
   "source": [
    "mTrain = ['0761', '1208', '1222', '1231', '1236', '7909' , '1793','4539',  '8430','1253']\n",
    "mValidate = ['2976', '2980', '2981', '7584']\n",
    "dataTrain = getData(Files[1],['trace'],period ='Pre',mice = mTrain)\n",
    "dataValidate = getData(Files[1],['trace'],period ='Pre',mice = mValidate)\n",
    "dataTest = getData(Files[1],['trace'],period ='Pre',mice = miceList[12:])"
   ]
  },
  {
   "cell_type": "code",
   "execution_count": 236,
   "id": "b092bcaa",
   "metadata": {},
   "outputs": [],
   "source": [
    "l = list(dataTrain.keys())\n",
    "random.shuffle(l)\n",
    "\n",
    "l2 = list(dataValidate.keys())\n",
    "random.shuffle(l2)"
   ]
  },
  {
   "cell_type": "code",
   "execution_count": 175,
   "id": "1ed1fb32",
   "metadata": {},
   "outputs": [
    {
     "name": "stdout",
     "output_type": "stream",
     "text": [
      "\n",
      "\n",
      "\n",
      "\n",
      "\n",
      "\n"
     ]
    }
   ],
   "source": [
    "for ind in np.arange(1,13,2):\n",
    "    print()\n",
    "    del dataTrain['4539_day{ind:d}'.format(ind=ind)]#,dataValidate['7584_day{ind:d}'.format(ind=ind)]\n",
    "    del dataTrain['7909_day{ind:d}'.format(ind=ind)]"
   ]
  },
  {
   "cell_type": "code",
   "execution_count": 237,
   "id": "e0b410c4",
   "metadata": {},
   "outputs": [],
   "source": [
    "def loadTrain_broken(data,l):\n",
    "    while True: \n",
    "        for sess in l:\n",
    "            m = sess[:4]\n",
    "            if sess[5] == 'B':\n",
    "                day = 0\n",
    "            else:\n",
    "                day = int(re.findall(r'\\d+',sess[5:])[0])\n",
    "            label = np.array([periodCalc(day)])\n",
    "            sessdata = np.mean(data[sess]['trace']['dff'][:,:],axis=0)\n",
    "            for win in range((np.max(sessdata.shape)-1200)//40):\n",
    "                dataPoint = sessdata[win*40:(win*40)+1200]\n",
    "                if dataPoint.shape[0]!=1200:\n",
    "                    break\n",
    "                yield (dataPoint[None,:,None].T,label)\n",
    "    \n"
   ]
  },
  {
   "cell_type": "code",
   "execution_count": 239,
   "id": "b47c4ee6",
   "metadata": {},
   "outputs": [],
   "source": [
    "def loadTrain(data,l):\n",
    "#     while True:\n",
    "    while True: \n",
    "        for win in range((12000-1200)//40):\n",
    "            for sess in l:\n",
    "                m = sess[:4]\n",
    "                if sess[5] == 'B':\n",
    "                    day = 0\n",
    "                else:\n",
    "                    day = int(re.findall(r'\\d+',sess[5:])[0])\n",
    "                label = np.array([periodCalc(day)])\n",
    "                dataPoint = np.mean(data[sess]['trace']['dff'][:,win*40:(win*40)+1200],axis=0)\n",
    "                if dataPoint.shape[0]!=1200:\n",
    "                    continue\n",
    "                yield (dataPoint[None,:,None].T,label)\n",
    "    \n"
   ]
  },
  {
   "cell_type": "code",
   "execution_count": 252,
   "id": "1626ac06",
   "metadata": {},
   "outputs": [],
   "source": [
    "def loadTest(data,l):\n",
    "    for win in range((12000-1200)//40):\n",
    "        for sess in l:\n",
    "            m = sess[:4]\n",
    "            if sess[5] == 'B':\n",
    "                day = 0\n",
    "            else:\n",
    "                day = int(re.findall(r'\\d+',sess[5:])[0])\n",
    "            label = np.array([periodCalc(day)])\n",
    "            dataPoint = np.mean(data[sess]['trace']['dff'][:,win*40:(win*40)+1200],axis=0)\n",
    "            if dataPoint.shape[0]!=1200:\n",
    "                continue\n",
    "            yield (dataPoint[None,:,None].T,label)\n"
   ]
  },
  {
   "cell_type": "code",
   "execution_count": 25,
   "id": "3ecd829c",
   "metadata": {},
   "outputs": [],
   "source": [
    "def loadValidate(data,n):\n",
    "    while True:\n",
    "        for sess in data.keys():\n",
    "            m = sess[:4]\n",
    "            if sess[5] == 'B':\n",
    "                day = 0\n",
    "            else:\n",
    "                day = int(re.findall(r'\\d+',sess[5:])[0])\n",
    "            label = np.array([periodCalc(day)])\n",
    "            sessdata = np.mean(data[sess]['trace']['dff'][:,1200*n:],axis=0)\n",
    "            for win in range(1200//20):\n",
    "                dataPoint = sessdata[win*20:(win*20)+1200]\n",
    "                if dataPoint.shape[0]!=1200:\n",
    "                    break\n",
    "                yield (dataPoint[None,:,None].T,label)\n",
    "    \n"
   ]
  },
  {
   "cell_type": "code",
   "execution_count": 8,
   "id": "651e941a",
   "metadata": {},
   "outputs": [
    {
     "name": "stdout",
     "output_type": "stream",
     "text": [
      "[name: \"/device:CPU:0\"\n",
      "device_type: \"CPU\"\n",
      "memory_limit: 268435456\n",
      "locality {\n",
      "}\n",
      "incarnation: 8501982781466560805\n",
      ", name: \"/device:GPU:0\"\n",
      "device_type: \"GPU\"\n",
      "memory_limit: 10091102208\n",
      "locality {\n",
      "  bus_id: 1\n",
      "  links {\n",
      "  }\n",
      "}\n",
      "incarnation: 7404313913767792312\n",
      "physical_device_desc: \"device: 0, name: NVIDIA GeForce GTX 1080 Ti, pci bus id: 0000:17:00.0, compute capability: 6.1\"\n",
      ", name: \"/device:GPU:1\"\n",
      "device_type: \"GPU\"\n",
      "memory_limit: 10091102208\n",
      "locality {\n",
      "  bus_id: 1\n",
      "  links {\n",
      "  }\n",
      "}\n",
      "incarnation: 15375253182120616661\n",
      "physical_device_desc: \"device: 1, name: NVIDIA GeForce GTX 1080 Ti, pci bus id: 0000:65:00.0, compute capability: 6.1\"\n",
      "]\n"
     ]
    },
    {
     "data": {
      "text/plain": [
       "[PhysicalDevice(name='/physical_device:CPU:0', device_type='CPU'),\n",
       " PhysicalDevice(name='/physical_device:GPU:0', device_type='GPU'),\n",
       " PhysicalDevice(name='/physical_device:GPU:1', device_type='GPU')]"
      ]
     },
     "execution_count": 8,
     "metadata": {},
     "output_type": "execute_result"
    }
   ],
   "source": [
    "from tensorflow.python.client import device_lib\n",
    "print(device_lib.list_local_devices())\n",
    "tf.config.list_physical_devices()"
   ]
  },
  {
   "cell_type": "code",
   "execution_count": 273,
   "id": "2de8fb7d",
   "metadata": {},
   "outputs": [],
   "source": [
    "del model"
   ]
  },
  {
   "cell_type": "code",
   "execution_count": 274,
   "id": "2d3432ba",
   "metadata": {},
   "outputs": [],
   "source": [
    "model = Sequential()\n",
    "model.add(Conv1D(10, (10), input_shape=(1200,1)))\n",
    "model.add(Activation('relu'))\n",
    "# model.add(MaxPooling1D(pool_size=(2)))\n",
    "\n",
    "model.add(Conv1D(20, (15)))\n",
    "model.add(Activation('relu'))\n",
    "model.add(MaxPooling1D(pool_size=(2)))\n",
    "\n",
    "# model.add(Conv2D(10, (3, 3)))\n",
    "# model.add(Activation('relu'))\n",
    "# model.add(MaxPooling2D(pool_size=(2, 2)))\n",
    "\n",
    "model.add(Flatten())\n",
    "model.add(Dense(50,activation='relu'))\n",
    "model.add(Dense(3,activation='softmax'))\n"
   ]
  },
  {
   "cell_type": "code",
   "execution_count": null,
   "id": "07b95d09",
   "metadata": {
    "scrolled": true
   },
   "outputs": [],
   "source": [
    "model = Sequential()\n",
    "model.add(Conv1D(64, (10), input_shape=(1200,1)))\n",
    "model.add(Activation('relu'))\n",
    "model.add(MaxPooling1D(pool_size=(2)))\n",
    "\n",
    "model.add(Conv1D(64, (15)))\n",
    "model.add(Activation('relu'))\n",
    "model.add(MaxPooling1D(pool_size=(2)))\n",
    "\n",
    "model.add(Conv1D(32, (20)))\n",
    "model.add(Activation('relu'))\n",
    "model.add(MaxPooling1D(pool_size=(2)))\n",
    "\n",
    "model.add(Conv1D(16, (15)))\n",
    "model.add(Activation('relu'))\n",
    "model.add(MaxPooling1D(pool_size=(2)))\n",
    "\n",
    "model.add(Conv1D(32, (10)))\n",
    "model.add(Activation('relu'))\n",
    "model.add(MaxPooling1D(pool_size=(2)))\n",
    "\n",
    "\n",
    "# model.add(Conv2D(10, (3, 3)))\n",
    "# model.add(Activation('relu'))\n",
    "# model.add(MaxPooling2D(pool_size=(2, 2)))\n",
    "\n",
    "model.add(Flatten())\n",
    "model.add(Dense(3,activation='softmax'))\n",
    "\n",
    "# model.add(Conv2D(10, (3, 3)))\n",
    "# model.add(Activation('relu'))\n",
    "# model.add(MaxPooling2D(pool_size=(2, 2)))\n",
    "\n",
    "\n"
   ]
  },
  {
   "cell_type": "code",
   "execution_count": 275,
   "id": "8fb8411a",
   "metadata": {},
   "outputs": [
    {
     "name": "stdout",
     "output_type": "stream",
     "text": [
      "Model: \"sequential_19\"\n",
      "_________________________________________________________________\n",
      "Layer (type)                 Output Shape              Param #   \n",
      "=================================================================\n",
      "conv1d_53 (Conv1D)           (None, 1191, 10)          110       \n",
      "_________________________________________________________________\n",
      "activation_46 (Activation)   (None, 1191, 10)          0         \n",
      "_________________________________________________________________\n",
      "conv1d_54 (Conv1D)           (None, 1177, 20)          3020      \n",
      "_________________________________________________________________\n",
      "activation_47 (Activation)   (None, 1177, 20)          0         \n",
      "_________________________________________________________________\n",
      "max_pooling1d_48 (MaxPooling (None, 588, 20)           0         \n",
      "_________________________________________________________________\n",
      "flatten_19 (Flatten)         (None, 11760)             0         \n",
      "_________________________________________________________________\n",
      "dense_23 (Dense)             (None, 50)                588050    \n",
      "_________________________________________________________________\n",
      "dense_24 (Dense)             (None, 3)                 153       \n",
      "=================================================================\n",
      "Total params: 591,333\n",
      "Trainable params: 591,333\n",
      "Non-trainable params: 0\n",
      "_________________________________________________________________\n",
      "None\n"
     ]
    }
   ],
   "source": [
    "print(model.summary())"
   ]
  },
  {
   "cell_type": "code",
   "execution_count": 286,
   "id": "50b307a4",
   "metadata": {
    "scrolled": true
   },
   "outputs": [
    {
     "name": "stdout",
     "output_type": "stream",
     "text": [
      "Epoch 1/50\n",
      "120/120 [==============================] - 21s 178ms/step - loss: 0.8910 - accuracy: 0.5417 - val_loss: 1.2781 - val_accuracy: 0.3002\n",
      "Epoch 2/50\n",
      "114/120 [===========================>..] - ETA: 0s - loss: 0.8720 - accuracy: 0.5000WARNING:tensorflow:Your input ran out of data; interrupting training. Make sure that your dataset or generator can generate at least `steps_per_epoch * epochs` batches (in this case, 15752 batches). You may need to use the repeat() function when building your dataset.\n",
      "120/120 [==============================] - 0s 3ms/step - loss: 0.8733 - accuracy: 0.5000\n",
      "Epoch 3/50\n",
      "120/120 [==============================] - 0s 3ms/step - loss: 0.8941 - accuracy: 0.5083\n",
      "Epoch 4/50\n",
      "120/120 [==============================] - 0s 3ms/step - loss: 0.8762 - accuracy: 0.5250\n",
      "Epoch 5/50\n",
      "120/120 [==============================] - 0s 3ms/step - loss: 0.8748 - accuracy: 0.5583\n",
      "Epoch 6/50\n",
      "120/120 [==============================] - 0s 3ms/step - loss: 0.8581 - accuracy: 0.5500\n",
      "Epoch 7/50\n",
      "120/120 [==============================] - 0s 3ms/step - loss: 0.8460 - accuracy: 0.5667\n",
      "Epoch 8/50\n",
      "120/120 [==============================] - 0s 3ms/step - loss: 0.8274 - accuracy: 0.5583\n",
      "Epoch 9/50\n",
      "120/120 [==============================] - 0s 3ms/step - loss: 0.8519 - accuracy: 0.6000\n",
      "Epoch 10/50\n",
      "120/120 [==============================] - 0s 3ms/step - loss: 0.8338 - accuracy: 0.5417\n",
      "Epoch 11/50\n",
      "120/120 [==============================] - 0s 3ms/step - loss: 0.8501 - accuracy: 0.5250\n",
      "Epoch 12/50\n",
      "120/120 [==============================] - 0s 3ms/step - loss: 0.8700 - accuracy: 0.5500\n",
      "Epoch 13/50\n",
      "120/120 [==============================] - 0s 3ms/step - loss: 0.8425 - accuracy: 0.6083\n",
      "Epoch 14/50\n",
      "120/120 [==============================] - 0s 3ms/step - loss: 0.8476 - accuracy: 0.5750\n",
      "Epoch 15/50\n",
      "120/120 [==============================] - 0s 3ms/step - loss: 0.8563 - accuracy: 0.5583\n",
      "Epoch 16/50\n",
      "120/120 [==============================] - 0s 3ms/step - loss: 0.8635 - accuracy: 0.5583\n",
      "Epoch 17/50\n",
      "120/120 [==============================] - 0s 3ms/step - loss: 0.8718 - accuracy: 0.5667\n",
      "Epoch 18/50\n",
      "120/120 [==============================] - 0s 3ms/step - loss: 0.8868 - accuracy: 0.5333\n",
      "Epoch 19/50\n",
      "120/120 [==============================] - 0s 3ms/step - loss: 0.8659 - accuracy: 0.5667\n",
      "Epoch 20/50\n",
      "120/120 [==============================] - 0s 3ms/step - loss: 0.8644 - accuracy: 0.5583\n",
      "Epoch 21/50\n",
      "120/120 [==============================] - 0s 3ms/step - loss: 0.8729 - accuracy: 0.5417\n",
      "Epoch 22/50\n",
      "120/120 [==============================] - 0s 3ms/step - loss: 0.9066 - accuracy: 0.5833\n",
      "Epoch 23/50\n",
      "120/120 [==============================] - 0s 3ms/step - loss: 0.8671 - accuracy: 0.5667\n",
      "Epoch 24/50\n",
      "120/120 [==============================] - 0s 3ms/step - loss: 0.8835 - accuracy: 0.5500\n",
      "Epoch 25/50\n",
      "120/120 [==============================] - 0s 3ms/step - loss: 0.8635 - accuracy: 0.5083\n",
      "Epoch 26/50\n",
      "120/120 [==============================] - 0s 3ms/step - loss: 0.8767 - accuracy: 0.5083\n",
      "Epoch 27/50\n",
      "120/120 [==============================] - 0s 3ms/step - loss: 0.8883 - accuracy: 0.4833\n",
      "Epoch 28/50\n",
      "120/120 [==============================] - 0s 3ms/step - loss: 0.8571 - accuracy: 0.5167\n",
      "Epoch 29/50\n",
      "120/120 [==============================] - 0s 3ms/step - loss: 0.8802 - accuracy: 0.5000\n",
      "Epoch 30/50\n",
      "120/120 [==============================] - 0s 3ms/step - loss: 0.9196 - accuracy: 0.4750\n",
      "Epoch 31/50\n",
      "120/120 [==============================] - 0s 3ms/step - loss: 0.9613 - accuracy: 0.4833\n",
      "Epoch 32/50\n",
      "120/120 [==============================] - 0s 3ms/step - loss: 0.8857 - accuracy: 0.4667\n",
      "Epoch 33/50\n",
      "120/120 [==============================] - 0s 3ms/step - loss: 0.9069 - accuracy: 0.4417\n",
      "Epoch 34/50\n",
      "120/120 [==============================] - 0s 3ms/step - loss: 0.9096 - accuracy: 0.4500\n",
      "Epoch 35/50\n",
      "120/120 [==============================] - 0s 3ms/step - loss: 0.8894 - accuracy: 0.4333\n",
      "Epoch 36/50\n",
      "120/120 [==============================] - 0s 3ms/step - loss: 0.8791 - accuracy: 0.4333\n",
      "Epoch 37/50\n",
      "120/120 [==============================] - 0s 3ms/step - loss: 0.8794 - accuracy: 0.5167\n",
      "Epoch 38/50\n",
      "120/120 [==============================] - 0s 3ms/step - loss: 0.8839 - accuracy: 0.4667\n",
      "Epoch 39/50\n",
      "120/120 [==============================] - 0s 3ms/step - loss: 3.1830 - accuracy: 0.4667\n",
      "Epoch 40/50\n",
      "120/120 [==============================] - 0s 3ms/step - loss: 1.1142 - accuracy: 0.5583\n",
      "Epoch 41/50\n",
      "120/120 [==============================] - 0s 3ms/step - loss: 0.9350 - accuracy: 0.5083\n",
      "Epoch 42/50\n",
      "120/120 [==============================] - 0s 3ms/step - loss: 1.1437 - accuracy: 0.5083\n",
      "Epoch 43/50\n",
      "120/120 [==============================] - 0s 3ms/step - loss: 0.9603 - accuracy: 0.5083\n",
      "Epoch 44/50\n",
      "120/120 [==============================] - 0s 3ms/step - loss: 0.8779 - accuracy: 0.5417\n",
      "Epoch 45/50\n",
      "120/120 [==============================] - 0s 3ms/step - loss: 0.9153 - accuracy: 0.5250\n",
      "Epoch 46/50\n",
      "120/120 [==============================] - 0s 3ms/step - loss: 0.9493 - accuracy: 0.5250\n",
      "Epoch 47/50\n",
      "120/120 [==============================] - 0s 3ms/step - loss: 0.8732 - accuracy: 0.5083\n",
      "Epoch 48/50\n",
      "120/120 [==============================] - 0s 3ms/step - loss: 0.8922 - accuracy: 0.5167\n",
      "Epoch 49/50\n",
      "120/120 [==============================] - 0s 3ms/step - loss: 0.8664 - accuracy: 0.5750\n",
      "Epoch 50/50\n",
      "120/120 [==============================] - 0s 3ms/step - loss: 0.9017 - accuracy: 0.5417\n"
     ]
    }
   ],
   "source": [
    "# model.compile(optimizer='adam',\n",
    "#               loss=tf.keras.losses.SparseCategoricalCrossentropy(from_logits=True),\n",
    "#               metrics=['accuracy'])\n",
    "# history = model.fit(loadTrain(dataTrain,l), validation_data =loadTest(dataValidate,l2),epochs=800,batch_size=115,steps_per_epoch = 120)\n",
    "# model.fit(loadTrain(dataValidate), epochs=500,batch_size=2579,steps_per_epoch = 120)\n",
    "history = model.fit(loadTrain(dataTrain,l),validation_data =loadTest(dataValidate,l2),  epochs=50,batch_size=2579,steps_per_epoch = 120)\n",
    "\n",
    "# print(dataP.shape)\n",
    "# model.fit(loadData(data))\n"
   ]
  },
  {
   "cell_type": "code",
   "execution_count": 284,
   "id": "b8471574",
   "metadata": {},
   "outputs": [
    {
     "name": "stdout",
     "output_type": "stream",
     "text": [
      "INFO:tensorflow:Assets written to: E:\\caOnly_v1\\assets\n"
     ]
    }
   ],
   "source": [
    "## Saving the model\n",
    "# model.save('E:\\\\caOnly_v1')\n",
    "# model.save_weights(\"E:\\\\caOnly_v1_weights.h5\")"
   ]
  },
  {
   "cell_type": "code",
   "execution_count": 287,
   "id": "3b370f98",
   "metadata": {},
   "outputs": [
    {
     "data": {
      "text/plain": [
       "[<matplotlib.lines.Line2D at 0x2274107e310>]"
      ]
     },
     "execution_count": 287,
     "metadata": {},
     "output_type": "execute_result"
    },
    {
     "data": {
      "image/png": "[encoded data removed]",
      "text/plain": [
       "<Figure size 432x288 with 1 Axes>"
      ]
     },
     "metadata": {
      "needs_background": "light"
     },
     "output_type": "display_data"
    }
   ],
   "source": [
    "plt.plot(history.history['loss'])"
   ]
  },
  {
   "cell_type": "code",
   "execution_count": 282,
   "id": "430dbb25",
   "metadata": {},
   "outputs": [],
   "source": [
    "# model =  tf.keras.models.load_model('E:\\\\caOnly_v1')\n",
    "# model.compile(optimizer='adam',\n",
    "#               loss=tf.keras.losses.SparseCategoricalCrossentropy(from_logits=True),\n",
    "#               metrics=['accuracy'])\n",
    "# model.load_weights(\"E:\\\\caOnly_v1_weights.h5\")\n",
    "pred = model.predict(loadTest(dataTrain,l)) \n",
    "# pred = pred/np.sum(pred)\n",
    "pred = np.argmax(pred, axis = 1)\n",
    "y = []\n",
    "for ind,(label,dataP) in enumerate(loadTest(dataTrain,l)):\n",
    "    y.append(dataP[0])\n"
   ]
  },
  {
   "cell_type": "code",
   "execution_count": 278,
   "id": "3ed66872",
   "metadata": {},
   "outputs": [
    {
     "name": "stdout",
     "output_type": "stream",
     "text": [
      "30820/30820 [==============================] - 51s 2ms/step - loss: 0.8675 - accuracy: 0.5518\n",
      "Test loss: 0.8675424456596375\n",
      "Test accuracy: 0.5517520904541016\n"
     ]
    }
   ],
   "source": [
    "# x,y = loadTest(data)\n",
    "score = model.evaluate(loadTest(dataTrain,l)) \n",
    "\n",
    "print('Test loss:', score[0]) \n",
    "print('Test accuracy:', score[1])\n"
   ]
  },
  {
   "cell_type": "code",
   "execution_count": 289,
   "id": "05917f0b",
   "metadata": {},
   "outputs": [
    {
     "name": "stdout",
     "output_type": "stream",
     "text": [
      "16011/16011 [==============================] - 26s 2ms/step - loss: 0.9511 - accuracy: 0.5722\n",
      "Test loss: 0.951057493686676\n",
      "Test accuracy: 0.5722315907478333\n"
     ]
    }
   ],
   "source": [
    "# x,y = loadTest(data)\n",
    "score = model.evaluate(loadTest(dataTest,dataTest.keys())) \n",
    "\n",
    "print('Test loss:', score[0]) \n",
    "print('Test accuracy:', score[1])\n"
   ]
  },
  {
   "cell_type": "code",
   "execution_count": 288,
   "id": "808e9d88",
   "metadata": {},
   "outputs": [],
   "source": [
    "# model =  tf.keras.models.load_model('E:\\\\caOnly_v1')\n",
    "# model.compile(optimizer='adam',\n",
    "#               loss=tf.keras.losses.SparseCategoricalCrossentropy(from_logits=True),\n",
    "#               metrics=['accuracy'])\n",
    "# model.load_weights(\"E:\\\\caOnly_v1_weights.h5\")\n",
    "pred = model.predict(loadTest(dataTest,dataTest.keys())) \n",
    "# pred = pred/np.sum(pred)\n",
    "pred = np.argmax(pred, axis = 1)\n",
    "y = []\n",
    "for ind,(label,dataP) in enumerate(loadTest(dataTest,dataTest.keys())):\n",
    "    y.append(dataP[0])\n"
   ]
  },
  {
   "cell_type": "code",
   "execution_count": 119,
   "id": "60ec5640",
   "metadata": {},
   "outputs": [
    {
     "name": "stdout",
     "output_type": "stream",
     "text": [
      "2579\n"
     ]
    },
    {
     "data": {
      "image/png": "[encoded data removed]",
      "text/plain": [
       "<Figure size 432x288 with 1 Axes>"
      ]
     },
     "metadata": {
      "needs_background": "light"
     },
     "output_type": "display_data"
    }
   ],
   "source": [
    "y = []\n",
    "for ind,(label,dataP) in enumerate(loadTest(dataTrain)):\n",
    "    y.append(dataP[0])\n",
    "plt.hist(y,bins=[0,1,2,3],density=True)\n",
    "print(ind)"
   ]
  },
  {
   "cell_type": "code",
   "execution_count": 131,
   "id": "402455df",
   "metadata": {},
   "outputs": [
    {
     "name": "stdout",
     "output_type": "stream",
     "text": [
      "2459\n"
     ]
    },
    {
     "data": {
      "image/png": "[encoded data removed]",
      "text/plain": [
       "<Figure size 432x288 with 1 Axes>"
      ]
     },
     "metadata": {
      "needs_background": "light"
     },
     "output_type": "display_data"
    }
   ],
   "source": [
    "y = []\n",
    "for ind,(label,dataP) in enumerate(loadTest(dataValidate)):\n",
    "    y.append(dataP[0])\n",
    "plt.hist(y,bins=[0,1,2,3],density=True)\n",
    "print(ind)"
   ]
  },
  {
   "cell_type": "code",
   "execution_count": 281,
   "id": "0ca3f6c2",
   "metadata": {},
   "outputs": [
    {
     "data": {
      "image/png": "[encoded data removed]",
      "text/plain": [
       "<Figure size 576x576 with 2 Axes>"
      ]
     },
     "metadata": {
      "needs_background": "light"
     },
     "output_type": "display_data"
    }
   ],
   "source": [
    "classes=['Healthy','Acute','Chronic']\n",
    "con_mat = tf.math.confusion_matrix(labels=y, predictions=pred).numpy()\n",
    "con_mat_norm = np.around(con_mat.astype('float') / con_mat.sum(axis=1)[:, np.newaxis], decimals=2)\n",
    "\n",
    "con_mat_df = pd.DataFrame(con_mat_norm,\n",
    "                     index = classes, \n",
    "                     columns = classes)\n",
    "figure = plt.figure(figsize=(8, 8))\n",
    "sns.heatmap(con_mat_df, annot=True,cmap=plt.cm.Blues)\n",
    "plt.tight_layout()\n",
    "plt.ylabel('True label')\n",
    "plt.xlabel('Predicted label')\n",
    "plt.show()"
   ]
  },
  {
   "cell_type": "code",
   "execution_count": 290,
   "id": "28f86be1",
   "metadata": {},
   "outputs": [
    {
     "data": {
      "image/png": "[encoded data removed]",
      "text/plain": [
       "<Figure size 576x576 with 2 Axes>"
      ]
     },
     "metadata": {
      "needs_background": "light"
     },
     "output_type": "display_data"
    }
   ],
   "source": [
    "classes=['Healthy','Acute','Chronic']\n",
    "con_mat = tf.math.confusion_matrix(labels=y, predictions=pred).numpy()\n",
    "con_mat_norm = np.around(con_mat.astype('float') / con_mat.sum(axis=1)[:, np.newaxis], decimals=2)\n",
    "\n",
    "con_mat_df = pd.DataFrame(con_mat_norm,\n",
    "                     index = classes, \n",
    "                     columns = classes)\n",
    "figure = plt.figure(figsize=(8, 8))\n",
    "sns.heatmap(con_mat_df, annot=True,cmap=plt.cm.Blues)\n",
    "plt.tight_layout()\n",
    "plt.ylabel('True label')\n",
    "plt.xlabel('Predicted label')\n",
    "plt.show()"
   ]
  },
  {
   "cell_type": "code",
   "execution_count": 249,
   "id": "15234db8",
   "metadata": {},
   "outputs": [
    {
     "data": {
      "text/plain": [
       "['1793_day8',\n",
       " '1222_day7',\n",
       " '4539_day15A',\n",
       " '1222_BaselineL',\n",
       " '1793_BaselineS',\n",
       " '7909_day8',\n",
       " '1208_day2',\n",
       " '8430_day35L',\n",
       " '0761_day19L',\n",
       " '7909_day10',\n",
       " '1236_day30A',\n",
       " '1208_BaselineS',\n",
       " '1236_day3',\n",
       " '1236_day1',\n",
       " '4539_day8',\n",
       " '1793_day6',\n",
       " '1231_BaselineL',\n",
       " '0761_day2',\n",
       " '8430_day3',\n",
       " '1208_BaselineL',\n",
       " '0761_day12',\n",
       " '4539_day6',\n",
       " '7909_day12',\n",
       " '1222_day15A',\n",
       " '1222_day9',\n",
       " '7909_day14',\n",
       " '1793_BaselineA',\n",
       " '1208_day14',\n",
       " '4539_day0',\n",
       " '1793_day15A',\n",
       " '7909_Baseline2A',\n",
       " '0761_BaselineS',\n",
       " '0761_day6',\n",
       " '1222_day5',\n",
       " '1793_day34L',\n",
       " '1222_day20L',\n",
       " '1208_day30A',\n",
       " '0761_day4',\n",
       " '1222_day3',\n",
       " '0761_day1',\n",
       " '1222_day32A',\n",
       " '1253_BaselineS',\n",
       " '1793_day12',\n",
       " '8430_day9',\n",
       " '4539_day14',\n",
       " '7909_day13',\n",
       " '1231_BaselineA',\n",
       " '1222_day2',\n",
       " '1793_day2',\n",
       " '0761_day31A',\n",
       " '4539_day12',\n",
       " '1793_day14',\n",
       " '8430_day19L',\n",
       " '7909_day0',\n",
       " '8430_day11',\n",
       " '1236_day35L',\n",
       " '1236_day9',\n",
       " '1208_day15A',\n",
       " '8430_BaselineS',\n",
       " '8430_BaselineL',\n",
       " '0761_day8',\n",
       " '1208_day12',\n",
       " '1236_day13',\n",
       " '8430_day5',\n",
       " '1236_BaselineA',\n",
       " '1793_day30A',\n",
       " '1222_BaselineA',\n",
       " '1208_day8',\n",
       " '1208_day4',\n",
       " '1236_day5',\n",
       " '4539_day4',\n",
       " '1208_BaselineA',\n",
       " '1222_day13',\n",
       " '1253_BaselineL',\n",
       " '1236_day15A',\n",
       " '1231_BaselineS',\n",
       " '1236_BaselineL',\n",
       " '0761_BaselineL',\n",
       " '4539_day13',\n",
       " '1222_BaselineS',\n",
       " '4539_Baseline2A',\n",
       " '1793_BaselineL',\n",
       " '1208_day10',\n",
       " '4539_day30A',\n",
       " '1793_day19L',\n",
       " '0761_day35L',\n",
       " '7909_day4',\n",
       " '7909_day2',\n",
       " '8430_day15A',\n",
       " '1793_day4',\n",
       " '0761_day14A',\n",
       " '7909_BaselineA',\n",
       " '1208_day19L',\n",
       " '1236_day19L',\n",
       " '7909_day6',\n",
       " '8430_day7',\n",
       " '1793_day10',\n",
       " '7909_day30A',\n",
       " '0761_day10',\n",
       " '1236_day11',\n",
       " '1253_BaselineA',\n",
       " '1208_day34L',\n",
       " '8430_day1',\n",
       " '1222_day36L',\n",
       " '0761_BaselineA',\n",
       " '8430_BaselineA',\n",
       " '8430_day30A',\n",
       " '1236_BaselineS',\n",
       " '4539_BaselineA',\n",
       " '1236_day7',\n",
       " '4539_day2',\n",
       " '4539_day10',\n",
       " '1208_day6',\n",
       " '7909_day15A',\n",
       " '1222_day11']"
      ]
     },
     "execution_count": 249,
     "metadata": {},
     "output_type": "execute_result"
    }
   ],
   "source": [
    "# pred = model.predict(loadTest(dataTrain)) \n",
    "# print(pred,(sci.special.softmax(pred,axis=1)) )\n",
    "l"
   ]
  }
 ],
 "metadata": {
  "kernelspec": {
   "display_name": "Python 3",
   "language": "python",
   "name": "python3"
  },
  "language_info": {
   "codemirror_mode": {
    "name": "ipython",
    "version": 3
   },
   "file_extension": ".py",
   "mimetype": "text/x-python",
   "name": "python",
   "nbconvert_exporter": "python",
   "pygments_lexer": "ipython3",
   "version": "3.8.10"
  }
 },
 "nbformat": 4,
 "nbformat_minor": 5
}
