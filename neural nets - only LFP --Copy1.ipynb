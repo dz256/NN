{
 "cells": [
  {
   "cell_type": "code",
   "execution_count": 1,
   "id": "929a0299",
   "metadata": {},
   "outputs": [],
   "source": [
    "#since noteboke doesn't work in jupiterlabs    %matplotlib notebook \n",
    "%matplotlib inline \n",
    "%load_ext autoreload\n",
    "%autoreload 2"
   ]
  },
  {
   "cell_type": "code",
   "execution_count": 2,
   "id": "2904af6b",
   "metadata": {
    "scrolled": true
   },
   "outputs": [],
   "source": [
    "import tensorflow as tf\n",
    "import os\n",
    "# os.environ['PATH'] += os.pathsep + 'D:\\\\6OHDA\\\\'\n",
    "import numpy as np\n",
    "import scipy as sci\n",
    "from IO import *\n",
    "from utils import *\n",
    "import re\n",
    "from tqdm import tqdm\n",
    "\n",
    "from tensorflow.keras.models import Sequential, load_model\n",
    "from tensorflow.keras.layers import Input\n",
    "from tensorflow.keras.layers import Dense, Dropout, Activation, Flatten, Concatenate\n",
    "from tensorflow.keras.layers import Convolution2D, MaxPooling2D,Conv2D, Conv1D,MaxPooling1D\n",
    "# from tensorflow.keras.layers.core import Lambda\n",
    "import tensorflow.keras.optimizers as optimizers\n",
    "from tensorflow.keras import regularizers\n",
    "from tensorflow.keras import backend as K\n",
    "from tensorflow.keras.models import Model\n",
    "\n",
    "from matplotlib import pyplot as plt\n",
    "from matplotlib import gridspec\n",
    "import seaborn as sns\n",
    "\n",
    "import pickle\n",
    "import random\n",
    "# import png"
   ]
  },
  {
   "cell_type": "code",
   "execution_count": 3,
   "id": "651e941a",
   "metadata": {},
   "outputs": [
    {
     "name": "stdout",
     "output_type": "stream",
     "text": [
      "[name: \"/device:CPU:0\"\n",
      "device_type: \"CPU\"\n",
      "memory_limit: 268435456\n",
      "locality {\n",
      "}\n",
      "incarnation: 4984788027876810977\n",
      ", name: \"/device:GPU:0\"\n",
      "device_type: \"GPU\"\n",
      "memory_limit: 9792466944\n",
      "locality {\n",
      "  bus_id: 1\n",
      "  links {\n",
      "  }\n",
      "}\n",
      "incarnation: 5989846677400897553\n",
      "physical_device_desc: \"device: 0, name: GeForce GTX 1080 Ti, pci bus id: 0000:17:00.0, compute capability: 6.1\"\n",
      ", name: \"/device:GPU:1\"\n",
      "device_type: \"GPU\"\n",
      "memory_limit: 10091102208\n",
      "locality {\n",
      "  bus_id: 1\n",
      "  links {\n",
      "  }\n",
      "}\n",
      "incarnation: 13042235019359673931\n",
      "physical_device_desc: \"device: 1, name: GeForce GTX 1080 Ti, pci bus id: 0000:65:00.0, compute capability: 6.1\"\n",
      "]\n"
     ]
    },
    {
     "data": {
      "text/plain": [
       "[PhysicalDevice(name='/physical_device:CPU:0', device_type='CPU'),\n",
       " PhysicalDevice(name='/physical_device:GPU:0', device_type='GPU'),\n",
       " PhysicalDevice(name='/physical_device:GPU:1', device_type='GPU')]"
      ]
     },
     "execution_count": 3,
     "metadata": {},
     "output_type": "execute_result"
    }
   ],
   "source": [
    "from tensorflow.python.client import device_lib\n",
    "print(device_lib.list_local_devices())\n",
    "tf.config.list_physical_devices()"
   ]
  },
  {
   "cell_type": "code",
   "execution_count": 4,
   "id": "dabf073e",
   "metadata": {},
   "outputs": [],
   "source": [
    "Files = ['FinalData_6OHDA.h5','FinalData_6OHDA_H.h5']\n",
    "#miceList.remove('1253')\n",
    "#miceList.remove('1231')\n",
    "def periodCalc(day):\n",
    "    if day== 0:\n",
    "        return 'Healthy'\n",
    "    elif day<13:\n",
    "        return 'Acute' #day 1-13\n",
    "    else:\n",
    "        return 'Chronic' #day 14-35"
   ]
  },
  {
   "cell_type": "code",
   "execution_count": 9,
   "id": "2e69ab06",
   "metadata": {},
   "outputs": [
    {
     "name": "stdout",
     "output_type": "stream",
     "text": [
      "['1231', '1253', '2976', '2980', '0761', '7584', '8815', '1208', '4539', '8430', '1236', '8803'] ['7909', '1222'] ['2981', '1793']\n"
     ]
    }
   ],
   "source": [
    "miceList = getMiceList(Files[0])\n",
    "miceList.remove('1253')\n",
    "miceList.remove('1231')\n",
    "mOrder = np.random.permutation(len(miceList))\n",
    "\n",
    "mTrain = ['1231', '1253']\n",
    "mValidate =[miceList[i] for i in mOrder[:2]]\n",
    "mTest =  [miceList[i] for i in mOrder[2:4]]\n",
    "mTrain = mTrain+ [miceList[i] for i in mOrder[4:]]\n",
    "\n",
    "print(mTrain,mValidate,mTest)\n",
    "# print(miceList[mOrder[:2]])"
   ]
  },
  {
   "cell_type": "code",
   "execution_count": 9,
   "id": "1ed1fb32",
   "metadata": {},
   "outputs": [],
   "source": [
    "# create and save the LFP images so can do flow from directory\n",
    "savePath = \"E:\\\\data\\\\\"\n",
    "for g in ['Train','Validate','Test']:\n",
    "    if not os.path.isdir(savePath+g):\n",
    "            os.mkdir(savePath+g)\n",
    "    sPath = savePath+g+\"\\\\\"\n",
    "    if g=='Test':\n",
    "        os.mkdir(sPath+'unlabeled')\n",
    "    else:\n",
    "        for cond in ['Healthy','Acute','Chronic']:\n",
    "            if not os.path.isdir(sPath+cond):\n",
    "                os.mkdir(sPath+cond)\n"
   ]
  },
  {
   "cell_type": "code",
   "execution_count": 23,
   "id": "b72ca33a",
   "metadata": {
    "scrolled": true
   },
   "outputs": [
    {
     "name": "stderr",
     "output_type": "stream",
     "text": [
      "\r",
      "  0%|                                                                                            | 0/2 [00:00<?, ?it/s]"
     ]
    },
    {
     "name": "stdout",
     "output_type": "stream",
     "text": [
      "cleaning up lfp data\n",
      "181549\n",
      "181564\n",
      "181549\n",
      "181549\n",
      "181564\n",
      "181564\n",
      "found  50.0  outlier points\n",
      "181564\n",
      "181549\n",
      "181564\n",
      "181549\n",
      "144867\n",
      "181564\n",
      "181564\n"
     ]
    },
    {
     "name": "stderr",
     "output_type": "stream",
     "text": [
      "\r",
      " 50%|█████████████████████████████████████████▌                                         | 1/2 [14:55<14:55, 895.38s/it]"
     ]
    },
    {
     "name": "stdout",
     "output_type": "stream",
     "text": [
      "cleaning up lfp data\n",
      "181549\n",
      "181549\n",
      "181549\n",
      "181549\n",
      "181549\n",
      "181564\n",
      "181564\n",
      "181564\n",
      "181549\n",
      "181564\n",
      "181564\n",
      "181564\n",
      "181564\n",
      "181534\n"
     ]
    },
    {
     "name": "stderr",
     "output_type": "stream",
     "text": [
      "100%|███████████████████████████████████████████████████████████████████████████████████| 2/2 [30:23<00:00, 911.59s/it]\n",
      "  0%|                                                                                            | 0/2 [00:00<?, ?it/s]"
     ]
    },
    {
     "name": "stdout",
     "output_type": "stream",
     "text": [
      "cleaning up lfp data\n",
      "181549\n",
      "181549\n",
      "181549\n",
      "181549\n",
      "181549\n",
      "181564\n",
      "181549\n",
      "181549\n",
      "181549\n",
      "181564\n",
      "181549\n",
      "181564\n",
      "181549\n",
      "181549\n"
     ]
    },
    {
     "name": "stderr",
     "output_type": "stream",
     "text": [
      "\r",
      " 50%|█████████████████████████████████████████                                         | 1/2 [18:34<18:34, 1114.28s/it]"
     ]
    },
    {
     "name": "stdout",
     "output_type": "stream",
     "text": [
      "cleaning up lfp data\n",
      "181564\n",
      "181564\n",
      "181549\n",
      "181564\n",
      "181549\n",
      "181549\n",
      "181549\n",
      "181549\n",
      "181564\n",
      "181549\n",
      "181564\n",
      "181549\n",
      "181564\n",
      "181564\n"
     ]
    },
    {
     "name": "stderr",
     "output_type": "stream",
     "text": [
      "100%|███████████████████████████████████████████████████████████████████████████████████| 2/2 [32:52<00:00, 986.16s/it]\n",
      "  0%|                                                                                           | 0/12 [00:00<?, ?it/s]"
     ]
    },
    {
     "name": "stdout",
     "output_type": "stream",
     "text": [
      "cleaning up lfp data\n",
      "181549\n",
      "181564\n",
      "181564\n"
     ]
    },
    {
     "name": "stderr",
     "output_type": "stream",
     "text": [
      "\r",
      "  8%|██████▊                                                                           | 1/12 [03:19<36:31, 199.26s/it]"
     ]
    },
    {
     "name": "stdout",
     "output_type": "stream",
     "text": [
      "cleaning up lfp data\n",
      "181549\n",
      "181549\n",
      "181549\n"
     ]
    },
    {
     "name": "stderr",
     "output_type": "stream",
     "text": [
      "\r",
      " 17%|█████████████▋                                                                    | 2/12 [06:27<32:09, 192.93s/it]"
     ]
    },
    {
     "name": "stdout",
     "output_type": "stream",
     "text": [
      "cleaning up lfp data\n",
      "181549\n",
      "181549\n",
      "181564\n",
      "181564\n",
      "found  29.0  outlier points\n",
      "181564\n",
      "181549\n",
      "181564\n",
      "181564\n",
      "181564\n",
      "181549\n",
      "181534\n",
      "181549\n",
      "181549\n",
      "181564\n",
      "181549\n",
      "181549\n",
      "181549\n",
      "181549\n",
      "181564\n"
     ]
    },
    {
     "name": "stderr",
     "output_type": "stream",
     "text": [
      "\r",
      " 25%|████████████████████                                                            | 3/12 [27:25<1:41:50, 678.97s/it]"
     ]
    },
    {
     "name": "stdout",
     "output_type": "stream",
     "text": [
      "cleaning up lfp data\n",
      "181549\n",
      "181549\n",
      "181549\n",
      "181534\n",
      "181549\n",
      "181564\n",
      "181564\n",
      "181564\n",
      "181549\n",
      "181549\n",
      "181564\n",
      "181564\n",
      "181549\n",
      "181564\n",
      "181564\n",
      "181549\n",
      "181549\n",
      "181564\n",
      "181564\n"
     ]
    },
    {
     "name": "stderr",
     "output_type": "stream",
     "text": [
      "\r",
      " 33%|██████████████████████████▋                                                     | 4/12 [51:05<2:09:32, 971.54s/it]"
     ]
    },
    {
     "name": "stdout",
     "output_type": "stream",
     "text": [
      "cleaning up lfp data\n",
      "181549\n",
      "181549\n",
      "181549\n",
      "181549\n",
      "181564\n",
      "181564\n",
      "181564\n",
      "181549\n",
      "181549\n",
      "181564\n",
      "181549\n",
      "181549\n",
      "178116\n",
      "181549\n"
     ]
    },
    {
     "name": "stderr",
     "output_type": "stream",
     "text": [
      "\r",
      " 42%|████████████████████████████████                                             | 5/12 [1:09:23<1:58:39, 1017.13s/it]"
     ]
    },
    {
     "name": "stdout",
     "output_type": "stream",
     "text": [
      "cleaning up lfp data\n",
      "181564\n",
      "181564\n",
      "181549\n",
      "181549\n",
      "181564\n",
      "181549\n",
      "181549\n",
      "181549\n",
      "181564\n",
      "181549\n",
      "181549\n",
      "181549\n",
      "181549\n",
      "181534\n",
      "181549\n",
      "181564\n",
      "181549\n"
     ]
    },
    {
     "name": "stderr",
     "output_type": "stream",
     "text": [
      "\r",
      " 50%|██████████████████████████████████████▌                                      | 6/12 [1:28:36<1:46:21, 1063.61s/it]"
     ]
    },
    {
     "name": "stdout",
     "output_type": "stream",
     "text": [
      "cleaning up lfp data\n",
      "181549\n",
      "181549\n",
      "181564\n",
      "181564\n",
      "181549\n",
      "181549\n",
      "181549\n",
      "181564\n",
      "181549\n",
      "181564\n",
      "181549\n",
      "181564\n",
      "181564\n"
     ]
    },
    {
     "name": "stderr",
     "output_type": "stream",
     "text": [
      "\r",
      " 58%|█████████████████████████████████████████████▌                                | 7/12 [1:41:59<1:21:30, 978.18s/it]"
     ]
    },
    {
     "name": "stdout",
     "output_type": "stream",
     "text": [
      "cleaning up lfp data\n",
      "181549\n",
      "181564\n",
      "181549\n",
      "181564\n",
      "181549\n",
      "181564\n",
      "181549\n",
      "181549\n",
      "181564\n",
      "181564\n",
      "181549\n",
      "181564\n",
      "181564\n",
      "181564\n"
     ]
    },
    {
     "name": "stderr",
     "output_type": "stream",
     "text": [
      "\r",
      " 67%|████████████████████████████████████████████████████                          | 8/12 [1:58:25<1:05:23, 980.88s/it]"
     ]
    },
    {
     "name": "stdout",
     "output_type": "stream",
     "text": [
      "cleaning up lfp data\n",
      "I deleted session: 1208_day12\n",
      "181549\n",
      "181564\n",
      "181549\n",
      "181549\n",
      "181549\n",
      "181549\n",
      "found  17.0  outlier points\n",
      "181564\n",
      "181534\n",
      "181549\n",
      "181549\n",
      "181564\n",
      "181564\n",
      "181564\n"
     ]
    },
    {
     "name": "stderr",
     "output_type": "stream",
     "text": [
      "\r",
      " 75%|████████████████████████████████████████████████████████████                    | 9/12 [2:12:48<47:12, 944.03s/it]"
     ]
    },
    {
     "name": "stdout",
     "output_type": "stream",
     "text": [
      "cleaning up lfp data\n",
      "I deleted session: 2976_day4\n",
      "found  1.0  outlier points\n",
      "181564\n",
      "181564\n",
      "181549\n",
      "181549\n",
      "181549\n",
      "181564\n",
      "181549\n",
      "181564\n",
      "181549\n",
      "181549\n",
      "181549\n",
      "181564\n",
      "found  3.0  outlier points\n",
      "181549\n"
     ]
    },
    {
     "name": "stderr",
     "output_type": "stream",
     "text": [
      "\r",
      " 83%|█████████████████████████████████████████████████████████████████▊             | 10/12 [2:26:40<30:18, 909.30s/it]"
     ]
    },
    {
     "name": "stdout",
     "output_type": "stream",
     "text": [
      "cleaning up lfp data\n",
      "found  1.0  outlier points\n",
      "181549\n",
      "181564\n",
      "181549\n",
      "181549\n",
      "181549\n",
      "181534\n",
      "181564\n",
      "181564\n",
      "181534\n",
      "found  888231.0  outlier points\n",
      "found  481139.0  outlier points\n",
      "181549\n",
      "181549\n",
      "181549\n"
     ]
    },
    {
     "name": "stderr",
     "output_type": "stream",
     "text": [
      "\r",
      " 92%|████████████████████████████████████████████████████████████████████████▍      | 11/12 [2:40:47<14:50, 890.29s/it]"
     ]
    },
    {
     "name": "stdout",
     "output_type": "stream",
     "text": [
      "cleaning up lfp data\n",
      "181549\n",
      "181549\n",
      "181549\n",
      "161240\n",
      "181549\n",
      "181534\n",
      "181549\n",
      "181549\n",
      "181564\n",
      "181564\n",
      "181564\n",
      "181564\n",
      "163162\n",
      "181564\n"
     ]
    },
    {
     "name": "stderr",
     "output_type": "stream",
     "text": [
      "100%|███████████████████████████████████████████████████████████████████████████████| 12/12 [2:55:53<00:00, 879.44s/it]\n"
     ]
    }
   ],
   "source": [
    "# add speed data:\n",
    "from matplotlib import image as pltI\n",
    "savePath = \"E:\\\\data\\\\\"\n",
    "dtL = 0.0032768\n",
    "tPlot = np.linspace(-8,8,int(16/dtL-1))\n",
    "f = h5py.File('D:\\\\6OHDA\\\\Spectograms.hdf5','r') \n",
    "for g in ['Test','Validate','Train']: #'Train','Validate',\n",
    "    mList = eval(\"m\"+g)\n",
    "    sPath = savePath+g+\"\\\\\"\n",
    "    for m in tqdm(mList):\n",
    "        data =  getData(Files[0],['lfp'],period ='Pre', mice=m)\n",
    "        for sess in data:\n",
    "            if sess[5] == 'B':\n",
    "                day = 0\n",
    "            else:\n",
    "                day = int(re.findall(r'\\d+',sess[5:])[0])\n",
    "\n",
    "            # get data\n",
    "            speed = getOnsetOrPeriod(m,sess,'Pre','HighMvmtPeriods_vector')\n",
    "            caT = np.arange(max(speed.shape))*0.05\n",
    "            speedF = sci.interpolate.interp1d(caT, speed,kind='linear')\n",
    "\n",
    "            period = periodCalc(day)\n",
    "            freq = f[m][sess]['Pre']['freq'][:]\n",
    "            coeff = np.abs(f[m][sess]['Pre']['coeff'][:])\n",
    "            lfpOutliers = removeLFPOutliers(data[sess]['lfp']['lfp'], sess)\n",
    "            coeff = coeff[:,(lfpOutliers[:,0]==0)]\n",
    "            coeff = coeff.T*freq\n",
    "            Hs = np.nansum(coeff, axis=1)\n",
    "            coeff = coeff.T/Hs.T\n",
    "            coeff = coeff.T\n",
    "            a = sci.signal.decimate(coeff,10,axis=0)\n",
    "\n",
    "            lfpT = np.arange(max(a.shape))*dtL\n",
    "            if max(caT)< max(lfpT):\n",
    "                endInd = np.argmin(np.abs(max(caT)-lfpT))\n",
    "                print(endInd)\n",
    "                while lfpT[endInd]>max(caT):\n",
    "                    endInd = endInd-1\n",
    "            speedNew = speedF(lfpT[:endInd])\n",
    "            speedNew =speedNew.reshape((len(speedNew),1))/5\n",
    "            a = np.hstack((a[:endInd,:],speedNew))\n",
    "\n",
    "            del coeff\n",
    "            A = [a[i : i + tPlot.shape[0],:] for i in range(0, a.shape[0],int(np.ceil(2/dtL)))] \n",
    "            if g == 'Test':\n",
    "                sPathSess = sPath + 'unlabeled\\\\'\n",
    "            else:\n",
    "                sPathSess = sPath +period+'\\\\'\n",
    "            for ind,img in enumerate(A):\n",
    "                z = (65535*((img - np.nanmin(img))/( np.nanmax(img)- np.nanmin(img)))).astype(np.uint16)\n",
    "                pltI.imsave(sPathSess+'{m:s}_{p:s}_{ind:d}.png'.format(m=sess,p=period,ind=ind), z)\n",
    "                \n",
    "\n",
    "                \n",
    "\n",
    "                \n"
   ]
  },
  {
   "cell_type": "code",
   "execution_count": 21,
   "id": "b7e6ee39",
   "metadata": {},
   "outputs": [
    {
     "name": "stdout",
     "output_type": "stream",
     "text": [
      "[0.00000000e+00 1.28000001e-05 1.79200000e-04 ... 1.99910400e-01\n",
      " 1.99948800e-01 2.00000000e-01]\n"
     ]
    },
    {
     "data": {
      "text/plain": [
       "[<matplotlib.lines.Line2D at 0x18099aaa100>]"
      ]
     },
     "execution_count": 21,
     "metadata": {},
     "output_type": "execute_result"
    },
    {
     "data": {
      "image/png": "[encoded data removed]",
      "text/plain": [
       "<Figure size 432x288 with 1 Axes>"
      ]
     },
     "metadata": {
      "needs_background": "light"
     },
     "output_type": "display_data"
    }
   ],
   "source": [
    "# speedNew = speedF(lfpT[:endInd])\n",
    "# speedNew =speedNew.reshape((len(speedNew),1))/5\n",
    "# a = np.hstack((a[:endInd,:],speedNew))\n",
    "print(np.unique(speedNew))\n",
    "plt.plot(speedNew[:1000])"
   ]
  },
  {
   "cell_type": "code",
   "execution_count": 5,
   "id": "e0b410c4",
   "metadata": {},
   "outputs": [
    {
     "name": "stdout",
     "output_type": "stream",
     "text": [
      "Found 23329 images belonging to 2 classes.\n",
      "Found 4470 images belonging to 2 classes.\n",
      "Found 4768 images belonging to 1 classes.\n"
     ]
    }
   ],
   "source": [
    "train_datagen = tf.keras.preprocessing.image.ImageDataGenerator(rescale=1./255)#(rescale = 1./65535)\n",
    "valid_datagen = tf.keras.preprocessing.image.ImageDataGenerator(rescale=1./255)#(rescale = 1./65535)\n",
    "test_datagen = tf.keras.preprocessing.image.ImageDataGenerator(rescale=1./255)#(rescale = 1./65535) #rescale=1./255\n",
    "train_generator = train_datagen.flow_from_directory(\n",
    "    directory=\"E:\\\\data\\\\Train\\\\\",#'E:\\\\data\\\\imageTest\\\\training_set\\\\',#\n",
    "    target_size=(600, 300),\n",
    "    color_mode=\"grayscale\",\n",
    "    batch_size=32,\n",
    "    class_mode=\"categorical\",\n",
    "    shuffle=True,\n",
    "    seed=36\n",
    ")\n",
    "validate_generator = valid_datagen.flow_from_directory(\n",
    "    directory=\"E:\\\\data\\\\Validate\\\\\",#'E:\\\\data\\\\imageTest\\\\test_set\\\\',#\n",
    "    target_size=(600, 300),\n",
    "    color_mode=\"grayscale\",\n",
    "    batch_size=32,\n",
    "    class_mode=\"categorical\",\n",
    "    shuffle=True,\n",
    "    seed=42\n",
    ")\n",
    "test_generator = test_datagen.flow_from_directory(\n",
    "    directory=\"E:\\\\data\\\\Test\\\\\",#'E:\\\\data\\\\imageTest\\\\test_set\\\\',#\n",
    "    target_size=(600, 300),\n",
    "    color_mode=\"grayscale\",\n",
    "    batch_size=32,\n",
    "    class_mode=None,\n",
    "    shuffle=False\n",
    ")\n",
    "\n"
   ]
  },
  {
   "cell_type": "code",
   "execution_count": 6,
   "id": "a239118b",
   "metadata": {},
   "outputs": [
    {
     "name": "stdout",
     "output_type": "stream",
     "text": [
      "[12601, 10728]\n",
      "{0: 0.9256805015474963, 1: 1.0872949291573453}\n"
     ]
    }
   ],
   "source": [
    "# calculate the class weight: - flow from directory goes alphabetically so Acute, Chroniq, Healthy\n",
    "files_per_class = []\n",
    "for folder in ['Chronic','Healthy']:\n",
    "    if not os.path.isfile(\"E:\\\\data\\\\Train\\\\\"+folder):\n",
    "            files_per_class.append(len(os.listdir(\"E:\\\\data\\\\Train\\\\\"+folder)))\n",
    "total_files = sum(files_per_class)\n",
    "class_weights = {}\n",
    "print(files_per_class)\n",
    "for i in range(len(files_per_class)):\n",
    "    class_weights[i] = (1 /(float(files_per_class[i]))) *( total_files/2)\n",
    "\n",
    "print(class_weights)"
   ]
  },
  {
   "cell_type": "code",
   "execution_count": 7,
   "id": "250abf08",
   "metadata": {},
   "outputs": [
    {
     "name": "stdout",
     "output_type": "stream",
     "text": [
      "(32, 600, 300, 1)\n",
      "0.11764707 0.8431373\n"
     ]
    },
    {
     "data": {
      "image/png": "[encoded data removed]",
      "text/plain": [
       "<Figure size 432x288 with 1 Axes>"
      ]
     },
     "metadata": {
      "needs_background": "light"
     },
     "output_type": "display_data"
    }
   ],
   "source": [
    "a = test_generator.next()\n",
    "plt.imshow(a[4,:,:,0])\n",
    "print(a.shape)\n",
    "print(np.min(a[:,:,:,0]),np.max(a[:,:,:,0]))"
   ]
  },
  {
   "cell_type": "code",
   "execution_count": 21,
   "id": "2de8fb7d",
   "metadata": {},
   "outputs": [],
   "source": [
    "del model"
   ]
  },
  {
   "cell_type": "code",
   "execution_count": 22,
   "id": "c1acc7e9",
   "metadata": {},
   "outputs": [],
   "source": [
    "# model for v4\n",
    "# mix_layer = []\n",
    "# inputShape = (600,300,1)\n",
    "# inp = Input(shape=inputShape)\n",
    "# convs = []\n",
    "# kernel_size= {}\n",
    "# kernel_size[0]= (20,5)\n",
    "# kernel_size[1]= (5,15)\n",
    "# for k_no in range(len(kernel_size)):\n",
    "#     conv = Conv2D(16, kernel_size[k_no],activation='relu',\n",
    "#                   padding='SAME',input_shape=inputShape)(inp)\n",
    "#     pool = MaxPooling2D(pool_size=(2,2))(conv)\n",
    "#     mix_layer.append(pool)\n",
    "# out = Concatenate()(mix_layer)\n",
    "# conv_model = Model(inputs=inp, outputs=out)\n",
    "\n",
    "model = Sequential()\n",
    "# model.add(conv_model) \n",
    "model.add(Conv2D(8, kernel_size=(15,15), activation='relu', input_shape=(600,300,1)))\n",
    "model.add(MaxPooling2D(pool_size=(2,2)))\n",
    "model.add(Dropout(0.50))\n",
    "model.add(Conv2D(16, kernel_size=(5,5), activation='relu'))\n",
    "model.add(MaxPooling2D(pool_size=(4,4)))\n",
    "model.add(Dropout(0.50))\n",
    "\n",
    "\n",
    "# model.add(Conv2D(64, kernel_size=(5,5), activation='relu'))#,kernel_initializer=initializer))\n",
    "model.add(Flatten())\n",
    "# model.add(Dense(50, activation='relu'))#,kernel_initializer=initializer))\n",
    "model.add(Dense(2, activation='sigmoid'))"
   ]
  },
  {
   "cell_type": "code",
   "execution_count": 23,
   "id": "8fb8411a",
   "metadata": {},
   "outputs": [
    {
     "name": "stdout",
     "output_type": "stream",
     "text": [
      "Model: \"sequential_4\"\n",
      "_________________________________________________________________\n",
      "Layer (type)                 Output Shape              Param #   \n",
      "=================================================================\n",
      "conv2d_8 (Conv2D)            (None, 586, 286, 8)       1808      \n",
      "_________________________________________________________________\n",
      "max_pooling2d_8 (MaxPooling2 (None, 293, 143, 8)       0         \n",
      "_________________________________________________________________\n",
      "dropout_8 (Dropout)          (None, 293, 143, 8)       0         \n",
      "_________________________________________________________________\n",
      "conv2d_9 (Conv2D)            (None, 289, 139, 16)      3216      \n",
      "_________________________________________________________________\n",
      "max_pooling2d_9 (MaxPooling2 (None, 72, 34, 16)        0         \n",
      "_________________________________________________________________\n",
      "dropout_9 (Dropout)          (None, 72, 34, 16)        0         \n",
      "_________________________________________________________________\n",
      "flatten_4 (Flatten)          (None, 39168)             0         \n",
      "_________________________________________________________________\n",
      "dense_4 (Dense)              (None, 2)                 78338     \n",
      "=================================================================\n",
      "Total params: 83,362\n",
      "Trainable params: 83,362\n",
      "Non-trainable params: 0\n",
      "_________________________________________________________________\n",
      "None\n"
     ]
    }
   ],
   "source": [
    "print(model.summary())"
   ]
  },
  {
   "cell_type": "code",
   "execution_count": 12,
   "id": "d4551229",
   "metadata": {},
   "outputs": [],
   "source": [
    "early_stopping = tf.keras.callbacks.EarlyStopping(\n",
    "    monitor='val_accuracy', \n",
    "    verbose=1,\n",
    "    patience=160,\n",
    "    mode='max',\n",
    "    restore_best_weights=True)"
   ]
  },
  {
   "cell_type": "code",
   "execution_count": 24,
   "id": "50b307a4",
   "metadata": {
    "scrolled": true
   },
   "outputs": [
    {
     "name": "stdout",
     "output_type": "stream",
     "text": [
      "Epoch 1/500\n",
      "729/729 [==============================] - 501s 687ms/step - loss: 0.6967 - accuracy: 0.4963 - val_loss: 0.6946 - val_accuracy: 0.4000\n",
      "Epoch 2/500\n",
      "729/729 [==============================] - 252s 345ms/step - loss: 0.6932 - accuracy: 0.4860 - val_loss: 0.6948 - val_accuracy: 0.4004\n",
      "Epoch 3/500\n",
      "729/729 [==============================] - 251s 344ms/step - loss: 0.6932 - accuracy: 0.4826 - val_loss: 0.6919 - val_accuracy: 0.6000\n",
      "Epoch 4/500\n",
      "729/729 [==============================] - 248s 340ms/step - loss: 0.6932 - accuracy: 0.4999 - val_loss: 0.6921 - val_accuracy: 0.6000\n",
      "Epoch 5/500\n",
      "729/729 [==============================] - 250s 343ms/step - loss: 0.6932 - accuracy: 0.5039 - val_loss: 0.6908 - val_accuracy: 0.5996\n",
      "Epoch 6/500\n",
      "729/729 [==============================] - 251s 345ms/step - loss: 0.6932 - accuracy: 0.5126 - val_loss: 0.6927 - val_accuracy: 0.5989\n",
      "Epoch 7/500\n",
      "729/729 [==============================] - 254s 348ms/step - loss: 0.6932 - accuracy: 0.5010 - val_loss: 0.6938 - val_accuracy: 0.3997\n",
      "Epoch 8/500\n",
      "729/729 [==============================] - 263s 360ms/step - loss: 0.6932 - accuracy: 0.4972 - val_loss: 0.6934 - val_accuracy: 0.3993\n",
      "Epoch 9/500\n",
      "729/729 [==============================] - 294s 403ms/step - loss: 0.6932 - accuracy: 0.4861 - val_loss: 0.6919 - val_accuracy: 0.5998\n",
      "Epoch 10/500\n",
      "729/729 [==============================] - 317s 434ms/step - loss: 0.6932 - accuracy: 0.4989 - val_loss: 0.6927 - val_accuracy: 0.5996\n",
      "Epoch 11/500\n",
      "729/729 [==============================] - 309s 423ms/step - loss: 0.6932 - accuracy: 0.4834 - val_loss: 0.6920 - val_accuracy: 0.5996\n",
      "Epoch 12/500\n",
      "729/729 [==============================] - 305s 419ms/step - loss: 0.6932 - accuracy: 0.4750 - val_loss: 0.6914 - val_accuracy: 0.6007\n",
      "Epoch 13/500\n",
      "729/729 [==============================] - 314s 431ms/step - loss: 0.6932 - accuracy: 0.5114 - val_loss: 0.6933 - val_accuracy: 0.4004\n",
      "Epoch 14/500\n",
      "729/729 [==============================] - 315s 432ms/step - loss: 0.6932 - accuracy: 0.5031 - val_loss: 0.6931 - val_accuracy: 0.5982\n",
      "Epoch 15/500\n",
      "729/729 [==============================] - 305s 419ms/step - loss: 0.6932 - accuracy: 0.4955 - val_loss: 0.6911 - val_accuracy: 0.6000\n",
      "Epoch 16/500\n",
      "729/729 [==============================] - 308s 422ms/step - loss: 0.6932 - accuracy: 0.5105 - val_loss: 0.6927 - val_accuracy: 0.6005\n",
      "Epoch 17/500\n",
      "729/729 [==============================] - 307s 421ms/step - loss: 0.6931 - accuracy: 0.5244 - val_loss: 0.6960 - val_accuracy: 0.3993\n",
      "Epoch 18/500\n",
      "729/729 [==============================] - 315s 432ms/step - loss: 0.6932 - accuracy: 0.4864 - val_loss: 0.6935 - val_accuracy: 0.3997\n",
      "Epoch 19/500\n",
      "729/729 [==============================] - 306s 420ms/step - loss: 0.6931 - accuracy: 0.4925 - val_loss: 0.6911 - val_accuracy: 0.5998\n",
      "Epoch 20/500\n",
      "729/729 [==============================] - 308s 422ms/step - loss: 0.6938 - accuracy: 0.5071 - val_loss: 0.6859 - val_accuracy: 0.5998\n",
      "Epoch 21/500\n",
      "729/729 [==============================] - 310s 425ms/step - loss: 0.6864 - accuracy: 0.5365 - val_loss: 0.6601 - val_accuracy: 0.5998\n",
      "Epoch 22/500\n",
      "729/729 [==============================] - 311s 426ms/step - loss: 0.6650 - accuracy: 0.5769 - val_loss: 0.6533 - val_accuracy: 0.5967\n",
      "Epoch 23/500\n",
      "729/729 [==============================] - 309s 424ms/step - loss: 0.6589 - accuracy: 0.5857 - val_loss: 0.6262 - val_accuracy: 0.5944\n",
      "Epoch 24/500\n",
      "729/729 [==============================] - 312s 428ms/step - loss: 0.6520 - accuracy: 0.5960 - val_loss: 0.6601 - val_accuracy: 0.5800\n",
      "Epoch 25/500\n",
      "729/729 [==============================] - 309s 425ms/step - loss: 0.6435 - accuracy: 0.6054 - val_loss: 0.6986 - val_accuracy: 0.5537\n",
      "Epoch 26/500\n",
      "729/729 [==============================] - 308s 422ms/step - loss: 0.6393 - accuracy: 0.6106 - val_loss: 0.7341 - val_accuracy: 0.5360\n",
      "Epoch 27/500\n",
      "729/729 [==============================] - 298s 408ms/step - loss: 0.6243 - accuracy: 0.6328 - val_loss: 0.7627 - val_accuracy: 0.5333\n",
      "Epoch 28/500\n",
      "729/729 [==============================] - 292s 401ms/step - loss: 0.6233 - accuracy: 0.6317 - val_loss: 0.7794 - val_accuracy: 0.5263\n",
      "Epoch 29/500\n",
      "729/729 [==============================] - 300s 411ms/step - loss: 0.6194 - accuracy: 0.6388 - val_loss: 0.7970 - val_accuracy: 0.5135\n",
      "Epoch 30/500\n",
      "729/729 [==============================] - 309s 424ms/step - loss: 0.6131 - accuracy: 0.6471 - val_loss: 0.8065 - val_accuracy: 0.5164\n",
      "Epoch 31/500\n",
      "729/729 [==============================] - 307s 422ms/step - loss: 0.6088 - accuracy: 0.6564 - val_loss: 0.8188 - val_accuracy: 0.5189\n",
      "Epoch 32/500\n",
      "729/729 [==============================] - 311s 427ms/step - loss: 0.6055 - accuracy: 0.6581 - val_loss: 0.8128 - val_accuracy: 0.5232\n",
      "Epoch 33/500\n",
      "729/729 [==============================] - 306s 420ms/step - loss: 0.6025 - accuracy: 0.6674 - val_loss: 0.8202 - val_accuracy: 0.5263\n",
      "Epoch 34/500\n",
      "729/729 [==============================] - 309s 424ms/step - loss: 0.5981 - accuracy: 0.6695 - val_loss: 0.8099 - val_accuracy: 0.5436\n",
      "Epoch 35/500\n",
      "729/729 [==============================] - 308s 422ms/step - loss: 0.5946 - accuracy: 0.6733 - val_loss: 0.8301 - val_accuracy: 0.5274\n",
      "Epoch 36/500\n",
      "729/729 [==============================] - 304s 418ms/step - loss: 0.5934 - accuracy: 0.6784 - val_loss: 0.7933 - val_accuracy: 0.5342\n",
      "Epoch 37/500\n",
      "729/729 [==============================] - 310s 425ms/step - loss: 0.5876 - accuracy: 0.6816 - val_loss: 0.7868 - val_accuracy: 0.5416\n",
      "Epoch 38/500\n",
      "729/729 [==============================] - 306s 419ms/step - loss: 0.5874 - accuracy: 0.6787 - val_loss: 0.8151 - val_accuracy: 0.5126\n",
      "Epoch 39/500\n",
      "729/729 [==============================] - 307s 421ms/step - loss: 0.5826 - accuracy: 0.6847 - val_loss: 0.8408 - val_accuracy: 0.5065\n",
      "Epoch 40/500\n",
      "729/729 [==============================] - 305s 418ms/step - loss: 0.5805 - accuracy: 0.6858 - val_loss: 0.8110 - val_accuracy: 0.5265\n",
      "Epoch 41/500\n",
      "729/729 [==============================] - 301s 413ms/step - loss: 0.5760 - accuracy: 0.6886 - val_loss: 0.8302 - val_accuracy: 0.5083\n",
      "Epoch 42/500\n",
      "729/729 [==============================] - 299s 411ms/step - loss: 0.5735 - accuracy: 0.6912 - val_loss: 0.7665 - val_accuracy: 0.5364\n",
      "Epoch 43/500\n",
      "729/729 [==============================] - 306s 420ms/step - loss: 0.5727 - accuracy: 0.6925 - val_loss: 0.8135 - val_accuracy: 0.5223\n",
      "Epoch 44/500\n",
      "729/729 [==============================] - 306s 420ms/step - loss: 0.5683 - accuracy: 0.6991 - val_loss: 0.7969 - val_accuracy: 0.5207\n",
      "Epoch 45/500\n",
      "729/729 [==============================] - 309s 424ms/step - loss: 0.5668 - accuracy: 0.7012 - val_loss: 0.8049 - val_accuracy: 0.5274\n",
      "Epoch 46/500\n",
      "729/729 [==============================] - 300s 411ms/step - loss: 0.5648 - accuracy: 0.6973 - val_loss: 0.7919 - val_accuracy: 0.5290\n",
      "Epoch 47/500\n",
      "729/729 [==============================] - 308s 423ms/step - loss: 0.5651 - accuracy: 0.6978 - val_loss: 0.7914 - val_accuracy: 0.5330\n",
      "Epoch 48/500\n",
      "729/729 [==============================] - 315s 432ms/step - loss: 0.5590 - accuracy: 0.7038 - val_loss: 0.8230 - val_accuracy: 0.5234\n",
      "Epoch 49/500\n",
      "729/729 [==============================] - 312s 428ms/step - loss: 0.5583 - accuracy: 0.7014 - val_loss: 0.8238 - val_accuracy: 0.5216\n",
      "Epoch 50/500\n",
      "729/729 [==============================] - 311s 427ms/step - loss: 0.5567 - accuracy: 0.7058 - val_loss: 0.8253 - val_accuracy: 0.5227\n",
      "Epoch 51/500\n",
      "729/729 [==============================] - 313s 430ms/step - loss: 0.5565 - accuracy: 0.7044 - val_loss: 0.8650 - val_accuracy: 0.5119\n",
      "Epoch 52/500\n",
      "729/729 [==============================] - 309s 425ms/step - loss: 0.5526 - accuracy: 0.7076 - val_loss: 0.8369 - val_accuracy: 0.5142\n",
      "Epoch 53/500\n",
      "729/729 [==============================] - 267s 366ms/step - loss: 0.5476 - accuracy: 0.7119 - val_loss: 0.8211 - val_accuracy: 0.5070\n",
      "Epoch 54/500\n",
      "729/729 [==============================] - 253s 347ms/step - loss: 0.5496 - accuracy: 0.7125 - val_loss: 0.8319 - val_accuracy: 0.5277\n",
      "Epoch 55/500\n",
      "729/729 [==============================] - 250s 343ms/step - loss: 0.5492 - accuracy: 0.7100 - val_loss: 0.7904 - val_accuracy: 0.4935\n",
      "Epoch 56/500\n",
      "729/729 [==============================] - 252s 346ms/step - loss: 0.5460 - accuracy: 0.7128 - val_loss: 0.8304 - val_accuracy: 0.5216\n",
      "Epoch 57/500\n",
      "729/729 [==============================] - 256s 351ms/step - loss: 0.5422 - accuracy: 0.7159 - val_loss: 0.7448 - val_accuracy: 0.5513\n",
      "Epoch 58/500\n",
      "729/729 [==============================] - 257s 353ms/step - loss: 0.5401 - accuracy: 0.7165 - val_loss: 0.7926 - val_accuracy: 0.5326\n",
      "Epoch 59/500\n",
      "729/729 [==============================] - 253s 347ms/step - loss: 0.5401 - accuracy: 0.7175 - val_loss: 0.8029 - val_accuracy: 0.5187\n",
      "Epoch 60/500\n",
      "729/729 [==============================] - 252s 346ms/step - loss: 0.5407 - accuracy: 0.7179 - val_loss: 0.7852 - val_accuracy: 0.5250\n",
      "Epoch 61/500\n",
      "729/729 [==============================] - 252s 345ms/step - loss: 0.5392 - accuracy: 0.7176 - val_loss: 0.8440 - val_accuracy: 0.5229\n",
      "Epoch 62/500\n",
      "729/729 [==============================] - 252s 346ms/step - loss: 0.5365 - accuracy: 0.7206 - val_loss: 0.8003 - val_accuracy: 0.5187\n",
      "Epoch 63/500\n",
      "729/729 [==============================] - 252s 345ms/step - loss: 0.5353 - accuracy: 0.7197 - val_loss: 0.7596 - val_accuracy: 0.5344\n",
      "Epoch 64/500\n",
      "729/729 [==============================] - 252s 346ms/step - loss: 0.5353 - accuracy: 0.7196 - val_loss: 0.7309 - val_accuracy: 0.5396\n",
      "Epoch 65/500\n",
      "729/729 [==============================] - 251s 344ms/step - loss: 0.5325 - accuracy: 0.7230 - val_loss: 0.7572 - val_accuracy: 0.5418\n",
      "Epoch 66/500\n",
      "729/729 [==============================] - 252s 346ms/step - loss: 0.5323 - accuracy: 0.7234 - val_loss: 0.7895 - val_accuracy: 0.5229\n",
      "Epoch 67/500\n",
      "729/729 [==============================] - 255s 349ms/step - loss: 0.5279 - accuracy: 0.7267 - val_loss: 0.7941 - val_accuracy: 0.5380\n",
      "Epoch 68/500\n",
      "729/729 [==============================] - 251s 345ms/step - loss: 0.5303 - accuracy: 0.7229 - val_loss: 0.8058 - val_accuracy: 0.5319\n",
      "Epoch 69/500\n",
      "729/729 [==============================] - 252s 346ms/step - loss: 0.5253 - accuracy: 0.7284 - val_loss: 0.8127 - val_accuracy: 0.5346\n",
      "Epoch 70/500\n",
      "729/729 [==============================] - 251s 345ms/step - loss: 0.5266 - accuracy: 0.7288 - val_loss: 0.7779 - val_accuracy: 0.5362\n",
      "Epoch 71/500\n",
      "729/729 [==============================] - 251s 344ms/step - loss: 0.5229 - accuracy: 0.7301 - val_loss: 0.8434 - val_accuracy: 0.5337\n",
      "Epoch 72/500\n",
      "729/729 [==============================] - 250s 343ms/step - loss: 0.5230 - accuracy: 0.7273 - val_loss: 0.7680 - val_accuracy: 0.5344\n",
      "Epoch 73/500\n",
      "729/729 [==============================] - 250s 343ms/step - loss: 0.5185 - accuracy: 0.7328 - val_loss: 0.8656 - val_accuracy: 0.5180\n",
      "Epoch 74/500\n",
      "729/729 [==============================] - 250s 342ms/step - loss: 0.5210 - accuracy: 0.7298 - val_loss: 0.7811 - val_accuracy: 0.5214\n",
      "Epoch 75/500\n",
      "729/729 [==============================] - 250s 343ms/step - loss: 0.5198 - accuracy: 0.7331 - val_loss: 0.8575 - val_accuracy: 0.5169\n",
      "Epoch 76/500\n",
      "729/729 [==============================] - 250s 343ms/step - loss: 0.5224 - accuracy: 0.7312 - val_loss: 0.8241 - val_accuracy: 0.5270\n",
      "Epoch 77/500\n",
      "729/729 [==============================] - 250s 343ms/step - loss: 0.5196 - accuracy: 0.7319 - val_loss: 0.8213 - val_accuracy: 0.4987\n",
      "Epoch 78/500\n",
      "729/729 [==============================] - 250s 342ms/step - loss: 0.5151 - accuracy: 0.7349 - val_loss: 0.8332 - val_accuracy: 0.5256\n",
      "Epoch 79/500\n",
      "729/729 [==============================] - 250s 343ms/step - loss: 0.5145 - accuracy: 0.7356 - val_loss: 0.8006 - val_accuracy: 0.5268\n",
      "Epoch 80/500\n",
      "729/729 [==============================] - 249s 341ms/step - loss: 0.5097 - accuracy: 0.7404 - val_loss: 0.8734 - val_accuracy: 0.5070\n",
      "Epoch 81/500\n",
      "729/729 [==============================] - 249s 341ms/step - loss: 0.5211 - accuracy: 0.7304 - val_loss: 0.7577 - val_accuracy: 0.5225\n",
      "Epoch 82/500\n",
      "729/729 [==============================] - 250s 342ms/step - loss: 0.5153 - accuracy: 0.7365 - val_loss: 0.7870 - val_accuracy: 0.5256\n",
      "Epoch 83/500\n",
      "729/729 [==============================] - 254s 348ms/step - loss: 0.5092 - accuracy: 0.7411 - val_loss: 0.7902 - val_accuracy: 0.5236\n",
      "Epoch 84/500\n",
      "729/729 [==============================] - 247s 338ms/step - loss: 0.5074 - accuracy: 0.7411 - val_loss: 0.8001 - val_accuracy: 0.5148\n",
      "Epoch 85/500\n",
      "729/729 [==============================] - 246s 337ms/step - loss: 0.5102 - accuracy: 0.7373 - val_loss: 0.8210 - val_accuracy: 0.5169\n",
      "Epoch 86/500\n",
      "729/729 [==============================] - 245s 335ms/step - loss: 0.5076 - accuracy: 0.7400 - val_loss: 0.8616 - val_accuracy: 0.5002\n",
      "Epoch 87/500\n",
      "729/729 [==============================] - 246s 337ms/step - loss: 0.5776 - accuracy: 0.6537 - val_loss: 0.7715 - val_accuracy: 0.5418\n",
      "Epoch 88/500\n",
      "729/729 [==============================] - 246s 337ms/step - loss: 0.5142 - accuracy: 0.7369 - val_loss: 0.7965 - val_accuracy: 0.5286\n",
      "Epoch 89/500\n",
      "729/729 [==============================] - 249s 341ms/step - loss: 0.5077 - accuracy: 0.7408 - val_loss: 0.8589 - val_accuracy: 0.5092\n",
      "Epoch 90/500\n",
      "729/729 [==============================] - 250s 343ms/step - loss: 0.5046 - accuracy: 0.7438 - val_loss: 0.7704 - val_accuracy: 0.5216\n",
      "Epoch 91/500\n",
      "729/729 [==============================] - 249s 342ms/step - loss: 0.5064 - accuracy: 0.7447 - val_loss: 0.8606 - val_accuracy: 0.5187\n",
      "Epoch 92/500\n",
      "729/729 [==============================] - 249s 341ms/step - loss: 0.5032 - accuracy: 0.7437 - val_loss: 0.7914 - val_accuracy: 0.5202\n",
      "Epoch 93/500\n",
      "729/729 [==============================] - 250s 343ms/step - loss: 0.5017 - accuracy: 0.7447 - val_loss: 0.8568 - val_accuracy: 0.5160\n",
      "Epoch 94/500\n",
      "729/729 [==============================] - 249s 342ms/step - loss: 0.5021 - accuracy: 0.7472 - val_loss: 0.8391 - val_accuracy: 0.5171\n",
      "Epoch 95/500\n",
      "729/729 [==============================] - 249s 342ms/step - loss: 0.4972 - accuracy: 0.7494 - val_loss: 0.7820 - val_accuracy: 0.5283\n",
      "Epoch 96/500\n",
      "729/729 [==============================] - 250s 343ms/step - loss: 0.5027 - accuracy: 0.7458 - val_loss: 0.8447 - val_accuracy: 0.5283\n",
      "Epoch 97/500\n",
      "729/729 [==============================] - 249s 342ms/step - loss: 0.5036 - accuracy: 0.7412 - val_loss: 0.7989 - val_accuracy: 0.5259\n",
      "Epoch 98/500\n",
      "729/729 [==============================] - 249s 342ms/step - loss: 0.4951 - accuracy: 0.7495 - val_loss: 0.8625 - val_accuracy: 0.5151\n",
      "Epoch 99/500\n",
      "729/729 [==============================] - 250s 343ms/step - loss: 0.5000 - accuracy: 0.7442 - val_loss: 0.7888 - val_accuracy: 0.5295\n",
      "Epoch 100/500\n",
      "729/729 [==============================] - 250s 343ms/step - loss: 0.4995 - accuracy: 0.7453 - val_loss: 0.8595 - val_accuracy: 0.5184\n",
      "Epoch 101/500\n",
      "729/729 [==============================] - 250s 343ms/step - loss: 0.4993 - accuracy: 0.7470 - val_loss: 0.8093 - val_accuracy: 0.5169\n",
      "Epoch 102/500\n",
      "729/729 [==============================] - 249s 342ms/step - loss: 0.4961 - accuracy: 0.7473 - val_loss: 0.8312 - val_accuracy: 0.5164\n",
      "Epoch 103/500\n",
      "729/729 [==============================] - 248s 340ms/step - loss: 0.4933 - accuracy: 0.7527 - val_loss: 0.8485 - val_accuracy: 0.5137\n",
      "Epoch 104/500\n",
      "729/729 [==============================] - 245s 336ms/step - loss: 0.4926 - accuracy: 0.7515 - val_loss: 0.7818 - val_accuracy: 0.5268\n",
      "Epoch 105/500\n",
      "729/729 [==============================] - 246s 337ms/step - loss: 0.4912 - accuracy: 0.7523 - val_loss: 0.7781 - val_accuracy: 0.5088\n",
      "Epoch 106/500\n",
      "729/729 [==============================] - 245s 336ms/step - loss: 0.4946 - accuracy: 0.7492 - val_loss: 0.7995 - val_accuracy: 0.5081\n",
      "Epoch 107/500\n",
      "729/729 [==============================] - 245s 337ms/step - loss: 0.4901 - accuracy: 0.7536 - val_loss: 0.7641 - val_accuracy: 0.5162\n",
      "Epoch 108/500\n",
      "729/729 [==============================] - 245s 337ms/step - loss: 0.4895 - accuracy: 0.7527 - val_loss: 0.8150 - val_accuracy: 0.5241\n",
      "Epoch 109/500\n",
      "729/729 [==============================] - 245s 336ms/step - loss: 0.4896 - accuracy: 0.7531 - val_loss: 0.8393 - val_accuracy: 0.5202\n",
      "Epoch 110/500\n",
      "729/729 [==============================] - 246s 337ms/step - loss: 0.4990 - accuracy: 0.7503 - val_loss: 0.8316 - val_accuracy: 0.4953\n",
      "Epoch 111/500\n"
     ]
    },
    {
     "name": "stdout",
     "output_type": "stream",
     "text": [
      "729/729 [==============================] - 250s 344ms/step - loss: 0.4914 - accuracy: 0.7548 - val_loss: 0.7861 - val_accuracy: 0.5130\n",
      "Epoch 112/500\n",
      "729/729 [==============================] - 250s 343ms/step - loss: 0.4874 - accuracy: 0.7540 - val_loss: 0.8855 - val_accuracy: 0.5045\n",
      "Epoch 113/500\n",
      "729/729 [==============================] - 250s 343ms/step - loss: 0.4933 - accuracy: 0.7525 - val_loss: 0.8365 - val_accuracy: 0.5133\n",
      "Epoch 114/500\n",
      "729/729 [==============================] - 249s 342ms/step - loss: 0.4916 - accuracy: 0.7531 - val_loss: 0.8226 - val_accuracy: 0.4915\n",
      "Epoch 115/500\n",
      "729/729 [==============================] - 249s 341ms/step - loss: 0.4880 - accuracy: 0.7552 - val_loss: 0.8580 - val_accuracy: 0.4890\n",
      "Epoch 116/500\n",
      "729/729 [==============================] - 250s 343ms/step - loss: 0.4866 - accuracy: 0.7535 - val_loss: 0.8752 - val_accuracy: 0.5047\n",
      "Epoch 117/500\n",
      "729/729 [==============================] - 250s 343ms/step - loss: 0.4824 - accuracy: 0.7581 - val_loss: 0.8913 - val_accuracy: 0.5130\n",
      "Epoch 118/500\n",
      "729/729 [==============================] - 250s 343ms/step - loss: 0.4859 - accuracy: 0.7552 - val_loss: 0.8437 - val_accuracy: 0.5099\n",
      "Epoch 119/500\n",
      "729/729 [==============================] - 250s 342ms/step - loss: 0.4833 - accuracy: 0.7572 - val_loss: 0.9197 - val_accuracy: 0.5004\n",
      "Epoch 120/500\n",
      "729/729 [==============================] - 248s 341ms/step - loss: 0.4844 - accuracy: 0.7593 - val_loss: 0.8669 - val_accuracy: 0.4919\n",
      "Epoch 121/500\n",
      "729/729 [==============================] - 247s 339ms/step - loss: 0.4854 - accuracy: 0.7528 - val_loss: 0.8683 - val_accuracy: 0.5047\n",
      "Epoch 122/500\n",
      "729/729 [==============================] - 248s 340ms/step - loss: 0.4867 - accuracy: 0.7554 - val_loss: 0.8683 - val_accuracy: 0.5137\n",
      "Epoch 123/500\n",
      "729/729 [==============================] - 248s 341ms/step - loss: 0.4809 - accuracy: 0.7610 - val_loss: 0.8513 - val_accuracy: 0.5002\n",
      "Epoch 124/500\n",
      "729/729 [==============================] - 249s 341ms/step - loss: 0.4864 - accuracy: 0.7545 - val_loss: 0.8296 - val_accuracy: 0.4969\n",
      "Epoch 125/500\n",
      "729/729 [==============================] - 252s 346ms/step - loss: 0.4853 - accuracy: 0.7599 - val_loss: 0.8307 - val_accuracy: 0.5083\n",
      "Epoch 126/500\n",
      "729/729 [==============================] - 249s 341ms/step - loss: 0.4813 - accuracy: 0.7592 - val_loss: 0.8982 - val_accuracy: 0.4955\n",
      "Epoch 127/500\n",
      "729/729 [==============================] - 249s 342ms/step - loss: 0.4808 - accuracy: 0.7593 - val_loss: 0.8553 - val_accuracy: 0.5101\n",
      "Epoch 128/500\n",
      "729/729 [==============================] - 249s 342ms/step - loss: 0.4831 - accuracy: 0.7594 - val_loss: 0.8585 - val_accuracy: 0.4901\n",
      "Epoch 129/500\n",
      "729/729 [==============================] - 250s 342ms/step - loss: 0.4876 - accuracy: 0.7547 - val_loss: 0.8522 - val_accuracy: 0.5250\n",
      "Epoch 130/500\n",
      "729/729 [==============================] - 249s 342ms/step - loss: 0.4800 - accuracy: 0.7585 - val_loss: 0.8165 - val_accuracy: 0.5016\n",
      "Epoch 131/500\n",
      "729/729 [==============================] - 250s 342ms/step - loss: 0.4763 - accuracy: 0.7629 - val_loss: 0.8559 - val_accuracy: 0.5090\n",
      "Epoch 132/500\n",
      "729/729 [==============================] - 249s 341ms/step - loss: 0.4792 - accuracy: 0.7621 - val_loss: 0.8353 - val_accuracy: 0.5025\n",
      "Epoch 133/500\n",
      "729/729 [==============================] - 246s 337ms/step - loss: 0.4774 - accuracy: 0.7621 - val_loss: 0.8949 - val_accuracy: 0.4996\n",
      "Epoch 134/500\n",
      "729/729 [==============================] - 246s 337ms/step - loss: 0.4799 - accuracy: 0.7621 - val_loss: 0.8250 - val_accuracy: 0.5047\n",
      "Epoch 135/500\n",
      "729/729 [==============================] - 246s 337ms/step - loss: 0.4822 - accuracy: 0.7564 - val_loss: 0.8702 - val_accuracy: 0.4984\n",
      "Epoch 136/500\n",
      "729/729 [==============================] - 246s 337ms/step - loss: 0.4760 - accuracy: 0.7622 - val_loss: 0.7937 - val_accuracy: 0.5225\n",
      "Epoch 137/500\n",
      "729/729 [==============================] - 246s 337ms/step - loss: 0.4781 - accuracy: 0.7610 - val_loss: 0.8379 - val_accuracy: 0.5106\n",
      "Epoch 138/500\n",
      "729/729 [==============================] - 244s 335ms/step - loss: 0.4740 - accuracy: 0.7635 - val_loss: 0.8797 - val_accuracy: 0.5173\n",
      "Epoch 139/500\n",
      "729/729 [==============================] - 246s 337ms/step - loss: 0.4762 - accuracy: 0.7627 - val_loss: 0.8657 - val_accuracy: 0.5106\n",
      "Epoch 140/500\n",
      "729/729 [==============================] - 246s 337ms/step - loss: 0.4743 - accuracy: 0.7649 - val_loss: 0.9148 - val_accuracy: 0.4978\n",
      "Epoch 141/500\n",
      "729/729 [==============================] - 246s 337ms/step - loss: 0.4801 - accuracy: 0.7620 - val_loss: 0.9591 - val_accuracy: 0.4933\n",
      "Epoch 142/500\n",
      "729/729 [==============================] - 246s 338ms/step - loss: 0.4764 - accuracy: 0.7627 - val_loss: 0.8784 - val_accuracy: 0.5128\n",
      "Epoch 143/500\n",
      "729/729 [==============================] - 246s 337ms/step - loss: 0.4762 - accuracy: 0.7666 - val_loss: 0.8303 - val_accuracy: 0.5155\n",
      "Epoch 144/500\n",
      "729/729 [==============================] - 245s 336ms/step - loss: 0.4704 - accuracy: 0.7654 - val_loss: 0.8003 - val_accuracy: 0.5216\n",
      "Epoch 145/500\n",
      "729/729 [==============================] - 246s 337ms/step - loss: 0.4803 - accuracy: 0.7621 - val_loss: 0.8307 - val_accuracy: 0.4890\n",
      "Epoch 146/500\n",
      "729/729 [==============================] - 246s 337ms/step - loss: 0.4743 - accuracy: 0.7662 - val_loss: 0.8436 - val_accuracy: 0.5049\n",
      "Epoch 147/500\n",
      "729/729 [==============================] - 248s 341ms/step - loss: 0.4713 - accuracy: 0.7640 - val_loss: 0.8635 - val_accuracy: 0.5097\n",
      "Epoch 148/500\n",
      "729/729 [==============================] - 250s 343ms/step - loss: 0.4787 - accuracy: 0.7652 - val_loss: 0.9141 - val_accuracy: 0.5036\n",
      "Epoch 149/500\n",
      "729/729 [==============================] - 250s 342ms/step - loss: 0.4715 - accuracy: 0.7654 - val_loss: 0.8259 - val_accuracy: 0.5092\n",
      "Epoch 150/500\n",
      "729/729 [==============================] - 249s 341ms/step - loss: 0.4690 - accuracy: 0.7692 - val_loss: 0.7726 - val_accuracy: 0.5164\n",
      "Epoch 151/500\n",
      "729/729 [==============================] - 249s 342ms/step - loss: 0.4733 - accuracy: 0.7664 - val_loss: 0.8138 - val_accuracy: 0.5045\n",
      "Epoch 152/500\n",
      "729/729 [==============================] - 249s 342ms/step - loss: 0.4693 - accuracy: 0.7667 - val_loss: 0.8527 - val_accuracy: 0.4962\n",
      "Epoch 153/500\n",
      "729/729 [==============================] - 249s 342ms/step - loss: 0.4628 - accuracy: 0.7696 - val_loss: 0.8758 - val_accuracy: 0.5083\n",
      "Epoch 154/500\n",
      "729/729 [==============================] - 249s 341ms/step - loss: 0.4744 - accuracy: 0.7623 - val_loss: 0.8607 - val_accuracy: 0.4982\n",
      "Epoch 155/500\n",
      "729/729 [==============================] - 248s 341ms/step - loss: 0.4707 - accuracy: 0.7673 - val_loss: 0.8625 - val_accuracy: 0.5043\n",
      "Epoch 156/500\n",
      "729/729 [==============================] - 250s 343ms/step - loss: 0.4700 - accuracy: 0.7664 - val_loss: 0.8660 - val_accuracy: 0.5074\n",
      "Epoch 157/500\n",
      "729/729 [==============================] - 249s 341ms/step - loss: 0.4705 - accuracy: 0.7657 - val_loss: 0.8084 - val_accuracy: 0.5004\n",
      "Epoch 158/500\n",
      "729/729 [==============================] - 249s 341ms/step - loss: 0.4678 - accuracy: 0.7665 - val_loss: 0.8743 - val_accuracy: 0.5058\n",
      "Epoch 159/500\n",
      "729/729 [==============================] - 249s 341ms/step - loss: 0.4685 - accuracy: 0.7668 - val_loss: 0.9401 - val_accuracy: 0.4937\n",
      "Epoch 160/500\n",
      "729/729 [==============================] - 249s 341ms/step - loss: 0.4724 - accuracy: 0.7693 - val_loss: 0.9587 - val_accuracy: 0.4942\n",
      "Epoch 161/500\n",
      "729/729 [==============================] - 248s 340ms/step - loss: 0.4714 - accuracy: 0.7618 - val_loss: 0.8521 - val_accuracy: 0.5061\n",
      "Epoch 162/500\n",
      "729/729 [==============================] - 245s 336ms/step - loss: 0.4720 - accuracy: 0.7670 - val_loss: 0.9034 - val_accuracy: 0.5076\n",
      "Epoch 163/500\n",
      "729/729 [==============================] - 245s 336ms/step - loss: 0.4667 - accuracy: 0.7689 - val_loss: 0.8735 - val_accuracy: 0.5108\n",
      "Epoch 164/500\n",
      "729/729 [==============================] - 245s 336ms/step - loss: 0.4688 - accuracy: 0.7702 - val_loss: 0.9295 - val_accuracy: 0.4838\n",
      "Epoch 165/500\n",
      "729/729 [==============================] - 245s 336ms/step - loss: 0.4681 - accuracy: 0.7691 - val_loss: 0.9890 - val_accuracy: 0.5036\n",
      "Epoch 166/500\n"
     ]
    },
    {
     "name": "stdout",
     "output_type": "stream",
     "text": [
      "729/729 [==============================] - 253s 346ms/step - loss: 0.4642 - accuracy: 0.7730 - val_loss: 0.9224 - val_accuracy: 0.5031\n",
      "Epoch 167/500\n",
      "729/729 [==============================] - 249s 342ms/step - loss: 0.4668 - accuracy: 0.7701 - val_loss: 0.8623 - val_accuracy: 0.5137\n",
      "Epoch 168/500\n",
      "729/729 [==============================] - 250s 343ms/step - loss: 0.4649 - accuracy: 0.7704 - val_loss: 0.9058 - val_accuracy: 0.4946\n",
      "Epoch 169/500\n",
      "729/729 [==============================] - 250s 342ms/step - loss: 0.4707 - accuracy: 0.7674 - val_loss: 0.8277 - val_accuracy: 0.5207\n",
      "Epoch 170/500\n",
      "729/729 [==============================] - 250s 343ms/step - loss: 0.4661 - accuracy: 0.7681 - val_loss: 0.8967 - val_accuracy: 0.5031\n",
      "Epoch 171/500\n",
      "729/729 [==============================] - 251s 344ms/step - loss: 0.4663 - accuracy: 0.7686 - val_loss: 0.8602 - val_accuracy: 0.5088\n",
      "Epoch 172/500\n",
      "729/729 [==============================] - 249s 342ms/step - loss: 0.4675 - accuracy: 0.7677 - val_loss: 0.9272 - val_accuracy: 0.4915\n",
      "Restoring model weights from the end of the best epoch.\n",
      "Epoch 00172: early stopping\n"
     ]
    }
   ],
   "source": [
    "modelName = 'LFP_period_v16'\n",
    "\n",
    "model.compile(optimizer='sgd',\n",
    "              loss=tf.keras.losses.CategoricalCrossentropy(),\n",
    "              metrics=['accuracy'])\n",
    "\n",
    "stepTrain=train_generator.n//train_generator.batch_size\n",
    "stepValidate=validate_generator.n//validate_generator.batch_size\n",
    "\n",
    "history = model.fit(train_generator,\n",
    "                    steps_per_epoch=stepTrain,\n",
    "                    validation_data=validate_generator,\n",
    "                    validation_steps=stepValidate,\n",
    "                    epochs=500,class_weight=class_weights,callbacks=[early_stopping])#,\n"
   ]
  },
  {
   "cell_type": "code",
   "execution_count": 31,
   "id": "b8471574",
   "metadata": {},
   "outputs": [
    {
     "name": "stdout",
     "output_type": "stream",
     "text": [
      "INFO:tensorflow:Assets written to: E:\\LFP_period_v13\\assets\n"
     ]
    }
   ],
   "source": [
    "## Saving the model\n",
    "##\n",
    "model.save('E:\\\\'+modelName)\n",
    "model.save_weights('E:\\\\'+modelName+'_weights.h5')"
   ]
  },
  {
   "cell_type": "code",
   "execution_count": 25,
   "id": "3b370f98",
   "metadata": {},
   "outputs": [
    {
     "data": {
      "text/plain": [
       "[<matplotlib.lines.Line2D at 0x201438088e0>]"
      ]
     },
     "execution_count": 25,
     "metadata": {},
     "output_type": "execute_result"
    },
    {
     "data": {
      "image/png": "[encoded data removed]",
      "text/plain": [
       "<Figure size 432x288 with 1 Axes>"
      ]
     },
     "metadata": {
      "needs_background": "light"
     },
     "output_type": "display_data"
    }
   ],
   "source": [
    "plt.plot(history.history['accuracy'])\n",
    "\n",
    "plt.plot(history.history['val_accuracy'])# history.history"
   ]
  },
  {
   "cell_type": "code",
   "execution_count": 13,
   "id": "808e9d88",
   "metadata": {},
   "outputs": [
    {
     "name": "stderr",
     "output_type": "stream",
     "text": [
      "C:\\Users\\dzemel\\AppData\\Roaming\\Python\\Python38\\site-packages\\tensorflow\\python\\keras\\engine\\training.py:2001: UserWarning: `Model.predict_generator` is deprecated and will be removed in a future version. Please use `Model.predict`, which supports generators.\n",
      "  warnings.warn('`Model.predict_generator` is deprecated and '\n"
     ]
    },
    {
     "name": "stdout",
     "output_type": "stream",
     "text": [
      "261/261 [==============================] - 156s 598ms/step\n",
      "[0 1 2]\n"
     ]
    }
   ],
   "source": [
    "# model =  tf.keras.models.load_model('E:\\\\caOnly_v1')\n",
    "# model.compile(optimizer='adam',\n",
    "#               loss=tf.keras.losses.SparseCategoricalCrossentropy(from_logits=True),\n",
    "#               metrics=['accuracy'])\n",
    "# model.load_weights(\"E:\\\\caOnly_v1_weights.h5\")\n",
    "\n",
    "labels = (train_generator.class_indices)\n",
    "pred = model.predict_generator(test_generator,verbose=1)\n",
    "pred = np.argmax(pred,axis=1)\n",
    "print(np.unique(pred))\n",
    "\n",
    "y = []\n",
    "for f in test_generator.filenames:\n",
    "    sess = f.split(\"_\")[1]\n",
    "    if sess[0] == 'B':\n",
    "        day = 0\n",
    "    else:\n",
    "        day = int(re.findall(r'\\d+',sess)[0])\n",
    "\n",
    "    # get data\n",
    "    period = periodCalc(day) \n",
    "    y.append(labels[period])"
   ]
  },
  {
   "cell_type": "code",
   "execution_count": 14,
   "id": "0ca3f6c2",
   "metadata": {},
   "outputs": [
    {
     "name": "stdout",
     "output_type": "stream",
     "text": [
      "0.438758389261745\n"
     ]
    },
    {
     "data": {
      "image/png": "[encoded data removed]",
      "text/plain": [
       "<Figure size 576x576 with 2 Axes>"
      ]
     },
     "metadata": {
      "needs_background": "light"
     },
     "output_type": "display_data"
    }
   ],
   "source": [
    "classes=labels.keys()\n",
    "con_mat = tf.math.confusion_matrix(labels=y, predictions=pred).numpy()\n",
    "con_mat_norm = np.around(con_mat.astype('float') / con_mat.sum(axis=1)[:, np.newaxis], decimals=2)\n",
    "\n",
    "con_mat_df = pd.DataFrame(con_mat_norm,\n",
    "                     index = classes, \n",
    "                     columns = classes)\n",
    "figure = plt.figure(figsize=(8, 8))\n",
    "sns.heatmap(con_mat_df, annot=True,cmap=plt.cm.Blues)\n",
    "plt.tight_layout()\n",
    "plt.title(modelName +\"- on test dataset. Accuracy: {acc:f}\".format(acc=np.sum(y==pred)/len(y)))\n",
    "plt.ylabel('True label')\n",
    "plt.xlabel('Predicted label')\n",
    "plt.savefig(\"E:\\\\NN\\\\\"+modelName+\"_confusionOnTest_Test.png\")\n",
    "print(np.sum(y==pred)/len(y))"
   ]
  },
  {
   "cell_type": "code",
   "execution_count": 71,
   "id": "4c38192e",
   "metadata": {},
   "outputs": [
    {
     "name": "stdout",
     "output_type": "stream",
     "text": [
      "567/567 [==============================] - 89s 157ms/step\n",
      "[0 1 2]\n"
     ]
    }
   ],
   "source": [
    "# model =  tf.keras.models.load_model('E:\\\\caOnly_v1')\n",
    "# model.compile(optimizer='adam',\n",
    "#               loss=tf.keras.losses.SparseCategoricalCrossentropy(from_logits=True),\n",
    "#               metrics=['accuracy'])\n",
    "# model.load_weights(\"E:\\\\caOnly_v1_weights.h5\")\n",
    "\n",
    "# train_datagenT = tf.keras.preprocessing.image.ImageDataGenerator(rescale=1./255)\n",
    "# train_generatorT = train_datagenT.flow_from_directory(\n",
    "#     directory=\"E:\\\\data\\\\Train\\\\\",#'E:\\\\data\\\\imageTest\\\\training_set\\\\',#\n",
    "#     target_size=(300, 300),\n",
    "#     color_mode=\"grayscale\",\n",
    "#     batch_size=32,\n",
    "#     class_mode=\"categorical\",\n",
    "#     shuffle=False,\n",
    "#     seed=36\n",
    "# )\n",
    "\n",
    "\n",
    "labels = (train_generator.class_indices)\n",
    "pred = model.predict_generator(train_generatorT,verbose=1)\n",
    "pred = np.argmax(pred,axis=1)\n",
    "print(np.unique(pred))\n",
    "\n",
    "y = []\n",
    "for f in train_generatorT.filenames:\n",
    "    sess = f.split(\"_\")[1]\n",
    "    if sess[0] == 'B':\n",
    "        day = 0\n",
    "    else:\n",
    "        day = int(re.findall(r'\\d+',sess)[0])\n",
    "\n",
    "    # get data\n",
    "    period = periodCalc(day) \n",
    "    y.append(labels[period])"
   ]
  },
  {
   "cell_type": "code",
   "execution_count": 73,
   "id": "413a86d9",
   "metadata": {},
   "outputs": [
    {
     "data": {
      "image/png": "[encoded data removed]",
      "text/plain": [
       "<Figure size 576x576 with 2 Axes>"
      ]
     },
     "metadata": {
      "needs_background": "light"
     },
     "output_type": "display_data"
    }
   ],
   "source": [
    "classes=labels.keys()\n",
    "con_mat = tf.math.confusion_matrix(labels=y, predictions=pred).numpy()\n",
    "con_mat_norm = np.around(con_mat.astype('float') / con_mat.sum(axis=1)[:, np.newaxis], decimals=2)\n",
    "\n",
    "con_mat_df = pd.DataFrame(con_mat_norm,\n",
    "                     index = classes, \n",
    "                     columns = classes)\n",
    "figure = plt.figure(figsize=(8, 8))\n",
    "sns.heatmap(con_mat_df, annot=True,cmap=plt.cm.Blues)\n",
    "plt.tight_layout()\n",
    "plt.title(modelName +\"- on train dataset. Accuracy: {acc:f}\".format(acc=np.sum(y==pred)/len(y)))\n",
    "plt.ylabel('True label')\n",
    "plt.xlabel('Predicted label')\n",
    "plt.savefig(\"E:\\\\NN\\\\\"+modelName+\"_confusionOnTest_Train.png\")\n"
   ]
  },
  {
   "cell_type": "code",
   "execution_count": 61,
   "id": "142c3a68",
   "metadata": {},
   "outputs": [
    {
     "name": "stdout",
     "output_type": "stream",
     "text": [
      "567/567 [==============================] - 89s 157ms/step - loss: 3.5345e-04 - accuracy: 1.0000\n",
      "[0.00035344576463103294, 1.0]\n"
     ]
    }
   ],
   "source": [
    "score = model.evaluate(train_generatorT)\n",
    "print(score)"
   ]
  },
  {
   "cell_type": "code",
   "execution_count": 56,
   "id": "545001b0",
   "metadata": {},
   "outputs": [
    {
     "name": "stdout",
     "output_type": "stream",
     "text": [
      "567/567 [==============================] - 89s 157ms/step\n"
     ]
    },
    {
     "data": {
      "text/plain": [
       "(18130, 3)"
      ]
     },
     "execution_count": 56,
     "metadata": {},
     "output_type": "execute_result"
    }
   ],
   "source": [
    "pred = model.predict_generator(train_generator,verbose=1)\n",
    "pred.shape"
   ]
  },
  {
   "cell_type": "code",
   "execution_count": 57,
   "id": "5dc95673",
   "metadata": {},
   "outputs": [
    {
     "data": {
      "text/plain": [
       "array([[9.9993336e-01, 6.6623645e-05, 2.0047966e-09],\n",
       "       [1.0000000e+00, 1.3673330e-08, 4.0443326e-10],\n",
       "       [3.7493074e-08, 1.0000000e+00, 1.9402356e-11],\n",
       "       [3.0466440e-04, 9.9913293e-01, 5.6242698e-04]], dtype=float32)"
      ]
     },
     "execution_count": 57,
     "metadata": {},
     "output_type": "execute_result"
    }
   ],
   "source": [
    "train_generatorT = train_datagen.flow_from_directory(\n",
    "    directory=\"E:\\\\data\\\\Train\\\\\",#'E:\\\\data\\\\imageTest\\\\training_set\\\\',#\n",
    "    target_size=(300, 300),\n",
    "    color_mode=\"grayscale\",\n",
    "    batch_size=32,\n",
    "    class_mode=\"categorical\",\n",
    "    shuffle=False,\n",
    "    seed=36\n",
    ")\n"
   ]
  },
  {
   "cell_type": "code",
   "execution_count": 85,
   "id": "a38145dc",
   "metadata": {},
   "outputs": [
    {
     "data": {
      "image/png": "[encoded data removed]",
      "text/plain": [
       "<Figure size 432x288 with 1 Axes>"
      ]
     },
     "metadata": {
      "needs_background": "light"
     },
     "output_type": "display_data"
    }
   ],
   "source": [
    "%matplotlib inline\n",
    "for d,l in train_generator:\n",
    "    plt.imshow(d[16,:,:,0])\n",
    "    break"
   ]
  }
 ],
 "metadata": {
  "kernelspec": {
   "display_name": "Python 3 (ipykernel)",
   "language": "python",
   "name": "python3"
  },
  "language_info": {
   "codemirror_mode": {
    "name": "ipython",
    "version": 3
   },
   "file_extension": ".py",
   "mimetype": "text/x-python",
   "name": "python",
   "nbconvert_exporter": "python",
   "pygments_lexer": "ipython3",
   "version": "3.7.9"
  }
 },
 "nbformat": 4,
 "nbformat_minor": 5
}
