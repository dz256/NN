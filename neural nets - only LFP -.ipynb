{
 "cells": [
  {
   "cell_type": "code",
   "execution_count": 1,
   "id": "929a0299",
   "metadata": {},
   "outputs": [],
   "source": [
    "#since noteboke doesn't work in jupiterlabs    %matplotlib notebook \n",
    "%matplotlib inline \n",
    "%load_ext autoreload\n",
    "%autoreload 2"
   ]
  },
  {
   "cell_type": "code",
   "execution_count": 2,
   "id": "2904af6b",
   "metadata": {
    "scrolled": true
   },
   "outputs": [],
   "source": [
    "import tensorflow as tf\n",
    "import os\n",
    "# os.environ['PATH'] += os.pathsep + 'D:\\\\6OHDA\\\\'\n",
    "import numpy as np\n",
    "import scipy as sci\n",
    "from IO import *\n",
    "from utils import *\n",
    "import re\n",
    "import tqdm\n",
    "\n",
    "from tensorflow.keras.models import Sequential, load_model\n",
    "from tensorflow.keras.layers import Input\n",
    "from tensorflow.keras.layers import Dense, Dropout, Activation, Flatten, Concatenate\n",
    "from tensorflow.keras.layers import Convolution2D, MaxPooling2D,Conv2D, Conv1D,MaxPooling1D\n",
    "# from tensorflow.keras.layers.core import Lambda\n",
    "import tensorflow.keras.optimizers as optimizers\n",
    "from tensorflow.keras import regularizers\n",
    "from tensorflow.keras import backend as K\n",
    "from tensorflow.keras.models import Model\n",
    "\n",
    "from matplotlib import pyplot as plt\n",
    "from matplotlib import gridspec\n",
    "import seaborn as sns\n",
    "\n",
    "import pickle\n",
    "import random\n",
    "# import png"
   ]
  },
  {
   "cell_type": "code",
   "execution_count": 3,
   "id": "651e941a",
   "metadata": {},
   "outputs": [
    {
     "name": "stdout",
     "output_type": "stream",
     "text": [
      "[name: \"/device:CPU:0\"\n",
      "device_type: \"CPU\"\n",
      "memory_limit: 268435456\n",
      "locality {\n",
      "}\n",
      "incarnation: 3774321040501734157\n",
      ", name: \"/device:GPU:0\"\n",
      "device_type: \"GPU\"\n",
      "memory_limit: 10091102208\n",
      "locality {\n",
      "  bus_id: 1\n",
      "  links {\n",
      "  }\n",
      "}\n",
      "incarnation: 1548650894829921777\n",
      "physical_device_desc: \"device: 0, name: GeForce GTX 1080 Ti, pci bus id: 0000:17:00.0, compute capability: 6.1\"\n",
      ", name: \"/device:GPU:1\"\n",
      "device_type: \"GPU\"\n",
      "memory_limit: 10091102208\n",
      "locality {\n",
      "  bus_id: 1\n",
      "  links {\n",
      "  }\n",
      "}\n",
      "incarnation: 13402876291712152474\n",
      "physical_device_desc: \"device: 1, name: GeForce GTX 1080 Ti, pci bus id: 0000:65:00.0, compute capability: 6.1\"\n",
      "]\n"
     ]
    },
    {
     "data": {
      "text/plain": [
       "[PhysicalDevice(name='/physical_device:CPU:0', device_type='CPU'),\n",
       " PhysicalDevice(name='/physical_device:GPU:0', device_type='GPU'),\n",
       " PhysicalDevice(name='/physical_device:GPU:1', device_type='GPU')]"
      ]
     },
     "execution_count": 3,
     "metadata": {},
     "output_type": "execute_result"
    }
   ],
   "source": [
    "from tensorflow.python.client import device_lib\n",
    "print(device_lib.list_local_devices())\n",
    "tf.config.list_physical_devices()"
   ]
  },
  {
   "cell_type": "code",
   "execution_count": 4,
   "id": "dabf073e",
   "metadata": {},
   "outputs": [],
   "source": [
    "Files = ['FinalData_6OHDA.h5','FinalData_6OHDA_H.h5']\n",
    "miceList = getMiceList(Files[0])\n",
    "#miceList.remove('1253')\n",
    "#miceList.remove('1231')\n",
    "def periodCalc(day):\n",
    "    if day== 0:\n",
    "        return 'Healthy'\n",
    "    elif day<13:\n",
    "        return 'Acute' #day 1-13\n",
    "    else:\n",
    "        return 'Chronic' #day 14-35"
   ]
  },
  {
   "cell_type": "code",
   "execution_count": 5,
   "id": "2e69ab06",
   "metadata": {},
   "outputs": [],
   "source": [
    "mTrain = ['0761', '1208', '1222', '1231', '1236', '7909' , '1793','4539',  '8430','1253']\n",
    "mValidate = ['2976', '2980', '2981', '7584']\n",
    "mTest = ['8803', '8815']"
   ]
  },
  {
   "cell_type": "code",
   "execution_count": 7,
   "id": "1ed1fb32",
   "metadata": {},
   "outputs": [],
   "source": [
    "# create and save the LFP images so can do flow from directory\n",
    "savePath = \"E:\\\\data\\\\\"\n",
    "for g in ['Train','Validate','Test']:\n",
    "    if not os.path.isdir(savePath+g):\n",
    "            os.mkdir(savePath+g)\n",
    "    sPath = savePath+g+\"\\\\\"\n",
    "    for cond in ['Healthy','Acute','Chronic']:\n",
    "        if not os.path.isdir(sPath+cond):\n",
    "            os.mkdir(sPath+cond)\n"
   ]
  },
  {
   "cell_type": "code",
   "execution_count": 63,
   "id": "b72ca33a",
   "metadata": {
    "scrolled": true
   },
   "outputs": [
    {
     "name": "stdout",
     "output_type": "stream",
     "text": [
      "cleaning up lfp data\n",
      "cleaning up speed data\n",
      "cleaning up lfp data\n",
      "I deleted session: 1208_day12\n",
      "cleaning up speed data\n",
      "found  17.0  outlier points\n",
      "cleaning up lfp data\n",
      "cleaning up speed data\n",
      "cleaning up lfp data\n",
      "cleaning up speed data\n",
      "cleaning up lfp data\n",
      "cleaning up speed data\n",
      "found  1.0  outlier points\n",
      "found  888231.0  outlier points\n",
      "found  481139.0  outlier points\n",
      "cleaning up lfp data\n",
      "cleaning up speed data\n",
      "cleaning up lfp data\n",
      "cleaning up speed data\n",
      "cleaning up lfp data\n",
      "cleaning up speed data\n",
      "found  29.0  outlier points\n",
      "cleaning up lfp data\n",
      "cleaning up speed data\n",
      "cleaning up lfp data\n",
      "cleaning up speed data\n",
      "cleaning up lfp data\n",
      "I deleted session: 2976_day4\n",
      "cleaning up speed data\n",
      "found  1.0  outlier points\n",
      "found  3.0  outlier points\n",
      "cleaning up lfp data\n",
      "cleaning up speed data\n",
      "cleaning up lfp data\n",
      "cleaning up speed data\n",
      "found  50.0  outlier points\n",
      "cleaning up lfp data\n",
      "cleaning up speed data\n",
      "cleaning up lfp data\n",
      "cleaning up speed data\n",
      "cleaning up lfp data\n",
      "cleaning up speed data\n"
     ]
    }
   ],
   "source": [
    "savePath = \"E:\\\\data\\\\\"\n",
    "dtL = 0.0032768\n",
    "tPlot = np.linspace(-2,2,int(4/dtL-1))\n",
    "f = h5py.File('D:\\\\6OHDA\\\\Spectograms.hdf5','r') \n",
    "for g in ['Train','Validate','Test']:\n",
    "    mList = eval(\"m\"+g)\n",
    "    sPath = savePath+g+\"\\\\\"\n",
    "    for m in mList:\n",
    "        data =  getData(Files[0],['lfp','speed'],period ='Pre', mice=m)\n",
    "        for sess in data:\n",
    "            if sess[5] == 'B':\n",
    "                day = 0\n",
    "            else:\n",
    "                day = int(re.findall(r'\\d+',sess[5:])[0])\n",
    "\n",
    "            # get data\n",
    "            period = periodCalc(day)\n",
    "            freq = f[m][sess]['Pre']['freq'][:]\n",
    "            coeff = np.abs(f[m][sess]['Pre']['coeff'][:])\n",
    "            lfpOutliers = removeLFPOutliers(data[sess]['lfp']['lfp'], sess)\n",
    "            coeff[:,(lfpOutliers[:,0]==1)] = np.nan\n",
    "            coeff = coeff.T\n",
    "            a = sci.signal.decimate(coeff,10,axis=0)\n",
    "            del coeff\n",
    "            A = [a[i : i + tPlot.shape[0],:] for i in range(0, a.shape[0],int(np.ceil(1/dtL)))] \n",
    "            if g == 'Test':\n",
    "                sPathSess = sPath + 'unlabeled\\\\'\n",
    "            else:\n",
    "                sPathSess = sPath +period+'\\\\'\n",
    "            for ind,img in enumerate(A):\n",
    "                z = (65535*((img - img.min())/img.ptp())).astype(np.uint16)\n",
    "                with open(sPathSess+'{m:s}_{ind:d}.png'.format(m=sess,ind=ind), 'wb') as f2:\n",
    "                    writer = png.Writer(width=z.shape[1], height=z.shape[0], bitdepth=16, greyscale=True)\n",
    "                    zgray2list = z.tolist()\n",
    "                    writer.write(f2, zgray2list)\n",
    "                \n",
    "\n",
    "                \n",
    "\n",
    "                \n"
   ]
  },
  {
   "cell_type": "code",
   "execution_count": 55,
   "id": "b35b5742",
   "metadata": {},
   "outputs": [
    {
     "name": "stdout",
     "output_type": "stream",
     "text": [
      "E:\\data\\Test\\1208_0.png\n",
      "E:\\data\\Test\\1208_1.png\n",
      "E:\\data\\Test\\1208_2.png\n",
      "E:\\data\\Test\\1208_3.png\n"
     ]
    }
   ],
   "source": [
    "# f = h5py.File('D:\\\\6OHDA\\\\Spectograms.hdf5','r') \n",
    "# fig, ax = plt.subplots(1,2)\n",
    "# # m = '1208'\n",
    "# sess = '1208_BaselineA'\n",
    "# data =  getData(Files[0],['lfp','speed'],period ='Pre', mice=m)\n",
    "# freq = f[m][sess]['Pre']['freq'][:]\n",
    "# coeff = np.abs(f[m][sess]['Pre']['coeff'][:])\n",
    "# lfpOutliers = removeLFPOutliers(data[sess]['lfp']['lfp'], sess)\n",
    "# coeff[:,(lfpOutliers[:,0]==1)] = np.nan\n",
    "# coeff = coeff.T\n",
    "\n",
    "# ax[0].pcolormesh(np.arange(3000),freq,coeff[3000:6000,:].T)\n",
    "# a = sci.signal.decimate(coeff,10,axis=0)\n",
    "# ax[1].pcolormesh(np.arange(300),freq,a[300:600,:].T)\n",
    "# dtL = 0.0032768\n",
    "# tPlot = np.linspace(-2,2,int(4/dtL-1))\n",
    "# f.close()\n",
    "# from PIL import Image\n",
    "sPath = savePath+g+\"\\\\\"\n",
    "for ind,img in enumerate(A):\n",
    "    z = (65535*((img - img.min())/img.ptp())).astype(np.uint16)\n",
    "    print(sPath+'{m:s}_{ind:d}.png'.format(m=m,ind=ind))\n",
    "    if ind>2:\n",
    "        break"
   ]
  },
  {
   "cell_type": "code",
   "execution_count": 54,
   "id": "c1d971a5",
   "metadata": {},
   "outputs": [
    {
     "name": "stdout",
     "output_type": "stream",
     "text": [
      "(1219, 87) (1219, 87)\n"
     ]
    },
    {
     "data": {
      "text/plain": [
       "0"
      ]
     },
     "execution_count": 54,
     "metadata": {},
     "output_type": "execute_result"
    }
   ],
   "source": [
    "\n",
    "\n",
    "# fig, ax = plt.subplots(1,1)\n",
    "# ax.pcolormesh(np.arange(A[0].shape[0]),np.arange(A[0].shape[1]),A[0].T,\n",
    "#                                 rasterized = True)\n",
    "# ax.set_aspect('equal', adjustable='box')\n",
    "# ind=0\n",
    "\n",
    "with open('E:\\\\{m:s}_{ind:d}.png'.format(m=m,ind=ind), 'wb') as f:\n",
    "    writer = png.Writer(width=z.shape[1], height=z.shape[0], bitdepth=16, greyscale=True)\n",
    "    zgray2list = z.tolist()\n",
    "    writer.write(f, zgray2list)\n",
    "# from PIL import Image\n",
    "# image =  np.array(Image.open('E:\\\\{m:s}_{ind:d}.png'.format(m=m,ind=ind)))\n",
    "\n",
    "print(image.shape,z.shape)\n",
    "np.sum(image!=z)"
   ]
  },
  {
   "cell_type": "code",
   "execution_count": 9,
   "id": "e0b410c4",
   "metadata": {},
   "outputs": [
    {
     "name": "stdout",
     "output_type": "stream",
     "text": [
      "Found 59704 images belonging to 3 classes.\n",
      "Found 28569 images belonging to 3 classes.\n",
      "Found 16495 images belonging to 1 classes.\n"
     ]
    }
   ],
   "source": [
    "train_datagen = tf.keras.preprocessing.image.ImageDataGenerator()\n",
    "valid_datagen = tf.keras.preprocessing.image.ImageDataGenerator()\n",
    "test_datagen = tf.keras.preprocessing.image.ImageDataGenerator()\n",
    "train_generator = train_datagen.flow_from_directory(\n",
    "    directory=\"E:\\\\data\\\\Train\\\\\",\n",
    "    target_size=(1219, 87),\n",
    "    color_mode=\"grayscale\",\n",
    "    batch_size=32,\n",
    "    class_mode=\"sparse\",\n",
    "    shuffle=True,\n",
    "    seed=36\n",
    ")\n",
    "validate_generator = valid_datagen.flow_from_directory(\n",
    "    directory=\"E:\\\\data\\\\Validate\\\\\",\n",
    "    target_size=(1219, 87),\n",
    "    color_mode=\"grayscale\",\n",
    "    batch_size=32,\n",
    "    class_mode=\"sparse\",\n",
    "    shuffle=True,\n",
    "    seed=42\n",
    ")\n",
    "test_generator = test_datagen.flow_from_directory(\n",
    "    directory=\"E:\\\\data\\\\Test\\\\\",\n",
    "    target_size=(1219, 87),\n",
    "    color_mode=\"grayscale\",\n",
    "    batch_size=32,\n",
    "    class_mode=\"sparse\",\n",
    "    shuffle=False\n",
    ")"
   ]
  },
  {
   "cell_type": "code",
   "execution_count": 75,
   "id": "a239118b",
   "metadata": {},
   "outputs": [
    {
     "name": "stdout",
     "output_type": "stream",
     "text": [
      "{0: 0.656639421144312, 1: 0.6418330430121935, 2: 0.7015275358434946}\n"
     ]
    }
   ],
   "source": [
    "# calculate the class weight: - flow from directory goes alphabetically so Acute, Chroniq, Healthy\n",
    "files_per_class = []\n",
    "for folder in ['Acute','Chronic','Healthy']:\n",
    "    if not os.path.isfile(\"E:\\\\data\\\\Train\\\\\"+folder):\n",
    "            files_per_class.append(len(os.listdir(\"E:\\\\data\\\\Train\\\\\"+folder)))\n",
    "total_files = sum(files_per_class)\n",
    "class_weights = {}\n",
    "for i in range(len(files_per_class)):\n",
    "    class_weights[i] = 1 - (float(files_per_class[i]) / total_files)\n",
    "print (class_weights)"
   ]
  },
  {
   "cell_type": "code",
   "execution_count": 106,
   "id": "250abf08",
   "metadata": {},
   "outputs": [
    {
     "name": "stdout",
     "output_type": "stream",
     "text": [
      "[20500, 21384, 17820]\n"
     ]
    }
   ],
   "source": [
    "print(files_per_class)"
   ]
  },
  {
   "cell_type": "code",
   "execution_count": 37,
   "id": "2de8fb7d",
   "metadata": {},
   "outputs": [],
   "source": [
    "del model"
   ]
  },
  {
   "cell_type": "code",
   "execution_count": 38,
   "id": "2d3432ba",
   "metadata": {},
   "outputs": [],
   "source": [
    "initializer = tf.keras.initializers.RandomNormal(mean=0., stddev=1.)\n",
    "model = Sequential()\n",
    "model.add(Conv2D(16, kernel_size=10, activation='tanh', input_shape=(1219,87,1),kernel_initializer=initializer))\n",
    "model.add(Conv2D(32, kernel_size=5, activation='tanh',kernel_initializer=initializer))\n",
    "model.add(Conv2D(64, kernel_size=3, activation='tanh',kernel_initializer=initializer))\n",
    "model.add(Flatten())\n",
    "model.add(Dense(50, activation='tanh',kernel_initializer=initializer))\n",
    "model.add(Dense(3, activation='softmax'))"
   ]
  },
  {
   "cell_type": "code",
   "execution_count": 39,
   "id": "8fb8411a",
   "metadata": {},
   "outputs": [
    {
     "name": "stdout",
     "output_type": "stream",
     "text": [
      "Model: \"sequential_1\"\n",
      "_________________________________________________________________\n",
      "Layer (type)                 Output Shape              Param #   \n",
      "=================================================================\n",
      "conv2d_3 (Conv2D)            (None, 1210, 78, 16)      1616      \n",
      "_________________________________________________________________\n",
      "conv2d_4 (Conv2D)            (None, 1206, 74, 32)      12832     \n",
      "_________________________________________________________________\n",
      "conv2d_5 (Conv2D)            (None, 1204, 72, 64)      18496     \n",
      "_________________________________________________________________\n",
      "flatten_1 (Flatten)          (None, 5548032)           0         \n",
      "_________________________________________________________________\n",
      "dense_2 (Dense)              (None, 50)                277401650 \n",
      "_________________________________________________________________\n",
      "dense_3 (Dense)              (None, 3)                 153       \n",
      "=================================================================\n",
      "Total params: 277,434,747\n",
      "Trainable params: 277,434,747\n",
      "Non-trainable params: 0\n",
      "_________________________________________________________________\n",
      "None\n"
     ]
    }
   ],
   "source": [
    "print(model.summary())"
   ]
  },
  {
   "cell_type": "code",
   "execution_count": 40,
   "id": "4dcc97e2",
   "metadata": {},
   "outputs": [
    {
     "name": "stdout",
     "output_type": "stream",
     "text": [
      "Found 153 images belonging to 3 classes.\n"
     ]
    }
   ],
   "source": [
    "# debugging\n",
    "debug_datagen = tf.keras.preprocessing.image.ImageDataGenerator()\n",
    "debug_datagen = debug_datagen.flow_from_directory(\n",
    "    directory=\"E:\\\\data\\\\debug\\\\\",\n",
    "    target_size=(1219, 87),\n",
    "    color_mode=\"grayscale\",\n",
    "    batch_size=3,\n",
    "    class_mode=\"sparse\",\n",
    "    shuffle=True,\n",
    "    seed=36\n",
    ")\n",
    "\n",
    "        "
   ]
  },
  {
   "cell_type": "code",
   "execution_count": 44,
   "id": "50b307a4",
   "metadata": {
    "scrolled": true
   },
   "outputs": [
    {
     "name": "stdout",
     "output_type": "stream",
     "text": [
      "Epoch 1/20\n",
      "51/51 [==============================] - 6s 117ms/step - loss: 1.1125 - accuracy: 0.3137\n",
      "Epoch 2/20\n",
      "51/51 [==============================] - 6s 116ms/step - loss: 1.1167 - accuracy: 0.3268\n",
      "Epoch 3/20\n",
      "51/51 [==============================] - 6s 116ms/step - loss: 1.1109 - accuracy: 0.3464\n",
      "Epoch 4/20\n",
      "51/51 [==============================] - 6s 116ms/step - loss: 1.1216 - accuracy: 0.3203\n",
      "Epoch 5/20\n",
      "51/51 [==============================] - 6s 116ms/step - loss: 1.1135 - accuracy: 0.2680\n",
      "Epoch 6/20\n",
      "51/51 [==============================] - 6s 116ms/step - loss: 1.1236 - accuracy: 0.3007\n",
      "Epoch 7/20\n",
      "51/51 [==============================] - 6s 116ms/step - loss: 1.1242 - accuracy: 0.2418\n",
      "Epoch 8/20\n",
      "51/51 [==============================] - 6s 116ms/step - loss: 1.1221 - accuracy: 0.2680\n",
      "Epoch 9/20\n",
      "51/51 [==============================] - 6s 116ms/step - loss: 1.1147 - accuracy: 0.2680\n",
      "Epoch 10/20\n",
      "51/51 [==============================] - 6s 117ms/step - loss: 1.1187 - accuracy: 0.2418\n",
      "Epoch 11/20\n",
      "51/51 [==============================] - 6s 117ms/step - loss: 1.1201 - accuracy: 0.3137\n",
      "Epoch 12/20\n",
      "51/51 [==============================] - 6s 117ms/step - loss: 1.1129 - accuracy: 0.3203\n",
      "Epoch 13/20\n",
      "51/51 [==============================] - 6s 117ms/step - loss: 1.1158 - accuracy: 0.2941\n",
      "Epoch 14/20\n",
      "51/51 [==============================] - 6s 117ms/step - loss: 1.1157 - accuracy: 0.2614\n",
      "Epoch 15/20\n",
      "51/51 [==============================] - 6s 117ms/step - loss: 1.1106 - accuracy: 0.2614\n",
      "Epoch 16/20\n",
      "51/51 [==============================] - 6s 117ms/step - loss: 1.1177 - accuracy: 0.3007\n",
      "Epoch 17/20\n",
      "51/51 [==============================] - 6s 118ms/step - loss: 1.1134 - accuracy: 0.3529\n",
      "Epoch 18/20\n",
      "51/51 [==============================] - 6s 118ms/step - loss: 1.1214 - accuracy: 0.2941\n",
      "Epoch 19/20\n",
      "51/51 [==============================] - 6s 118ms/step - loss: 1.1148 - accuracy: 0.3203\n",
      "Epoch 20/20\n",
      "51/51 [==============================] - 6s 118ms/step - loss: 1.1167 - accuracy: 0.2680\n"
     ]
    }
   ],
   "source": [
    "# model.compile(optimizer='adam',\n",
    "#               loss=tf.keras.losses.SparseCategoricalCrossentropy(from_logits=True),\n",
    "#               metrics=['accuracy'])\n",
    "\n",
    "# STEP_SIZE_TRAIN=train_generator.n//train_generator.batch_size\n",
    "# STEP_SIZE_VALID=validate_generator.n//validate_generator.batch_size\n",
    "\n",
    "# history = model.fit(train_generator,\n",
    "#                     steps_per_epoch=STEP_SIZE_TRAIN,\n",
    "#                     validation_data=validate_generator,\n",
    "#                     validation_steps=STEP_SIZE_VALID,\n",
    "#                     epochs=2) #class_weight=class_weights,\n",
    "history = model.fit(debug_datagen,\n",
    "                    epochs=20) #class_weight=class_weights,\n",
    "\n",
    "\n",
    "# print(dataP.shape)\n",
    "# model.fit(loadData(data))\n"
   ]
  },
  {
   "cell_type": "code",
   "execution_count": 284,
   "id": "b8471574",
   "metadata": {},
   "outputs": [
    {
     "name": "stdout",
     "output_type": "stream",
     "text": [
      "INFO:tensorflow:Assets written to: E:\\caOnly_v1\\assets\n"
     ]
    }
   ],
   "source": [
    "## Saving the model\n",
    "# model.save('E:\\\\caLFP_v1')\n",
    "# model.save_weights(\"E:\\\\caOnly_v1_weights.h5\")"
   ]
  },
  {
   "cell_type": "code",
   "execution_count": 43,
   "id": "3b370f98",
   "metadata": {},
   "outputs": [
    {
     "data": {
      "text/plain": [
       "[<matplotlib.lines.Line2D at 0x22a64165520>]"
      ]
     },
     "execution_count": 43,
     "metadata": {},
     "output_type": "execute_result"
    },
    {
     "data": {
      "image/png": "[encoded data removed]",
      "text/plain": [
       "<Figure size 432x288 with 1 Axes>"
      ]
     },
     "metadata": {
      "needs_background": "light"
     },
     "output_type": "display_data"
    }
   ],
   "source": [
    "plt.plot(history.history['accuracy'])\n",
    "# history.history"
   ]
  },
  {
   "cell_type": "code",
   "execution_count": 65,
   "id": "3ed66872",
   "metadata": {},
   "outputs": [
    {
     "name": "stdout",
     "output_type": "stream",
     "text": [
      "516/516 [==============================] - 45s 88ms/step - loss: 0.9424 - accuracy: 1.00000s - loss: 0.9424 - accuracy: 1.\n",
      "Test loss: 0.9424198865890503\n",
      "Test accuracy: 1.0\n"
     ]
    }
   ],
   "source": [
    "# x,y = loadTest(data)\n",
    "score = model.evaluate(test_generator) \n",
    "\n",
    "print('Test loss:', score[0]) \n",
    "print('Test accuracy:', score[1])\n"
   ]
  },
  {
   "cell_type": "code",
   "execution_count": 34,
   "id": "808e9d88",
   "metadata": {},
   "outputs": [
    {
     "name": "stdout",
     "output_type": "stream",
     "text": [
      "516/516 [==============================] - 53s 103ms/step\n",
      "[0 1 2]\n"
     ]
    }
   ],
   "source": [
    "# model =  tf.keras.models.load_model('E:\\\\caOnly_v1')\n",
    "# model.compile(optimizer='adam',\n",
    "#               loss=tf.keras.losses.SparseCategoricalCrossentropy(from_logits=True),\n",
    "#               metrics=['accuracy'])\n",
    "# model.load_weights(\"E:\\\\caOnly_v1_weights.h5\")\n",
    "\n",
    "\n",
    "pred = model.predict_generator(test_generator,verbose=1)\n",
    "pred = np.argmax(pred,axis=1)\n",
    "print(np.unique(pred))\n",
    "\n",
    "y = []\n",
    "for f in test_generator.filenames:\n",
    "    sess = f.split(\"_\")[1]\n",
    "    if sess[0] == 'B':\n",
    "        day = 0\n",
    "    else:\n",
    "        day = int(re.findall(r'\\d+',sess)[0])\n",
    "\n",
    "    # get data\n",
    "    period = periodCalc(day) \n",
    "    y.append(labels[period])"
   ]
  },
  {
   "cell_type": "code",
   "execution_count": 35,
   "id": "67492b95",
   "metadata": {},
   "outputs": [],
   "source": [
    "np.sum(pred==2)\n",
    "labels = (train_generator.class_indices)\n",
    "# print(labels)"
   ]
  },
  {
   "cell_type": "code",
   "execution_count": 36,
   "id": "33295ced",
   "metadata": {},
   "outputs": [
    {
     "name": "stdout",
     "output_type": "stream",
     "text": [
      "{'Acute': 0, 'Chronic': 1, 'Healthy': 2}\n",
      "unlabeled\\8803_BaselineS_93.png 2\n",
      "unlabeled\\8803_BaselineS_94.png 2\n",
      "unlabeled\\8803_BaselineS_95.png 2\n",
      "unlabeled\\8803_BaselineS_96.png 2\n",
      "unlabeled\\8803_BaselineS_97.png 2\n",
      "unlabeled\\8803_BaselineS_98.png 2\n",
      "unlabeled\\8803_BaselineS_99.png 2\n",
      "unlabeled\\8803_day10_0.png 0\n",
      "unlabeled\\8803_day10_1.png 0\n",
      "unlabeled\\8803_day10_10.png 0\n"
     ]
    }
   ],
   "source": [
    "# test_generator.filenames\n",
    "# labels = (train_generator.class_indices)\n",
    "print(labels)\n",
    "for f in test_generator.filenames[1775:1785]:\n",
    "    sess = f.split(\"_\")[1]\n",
    "    if sess[0] == 'B':\n",
    "        day = 0\n",
    "    else:\n",
    "        day = int(re.findall(r'\\d+',sess)[0])\n",
    "\n",
    "    # get data\n",
    "    period = periodCalc(day) \n",
    "    y = labels[period]\n",
    "    print(f,y)"
   ]
  },
  {
   "cell_type": "code",
   "execution_count": 131,
   "id": "402455df",
   "metadata": {},
   "outputs": [
    {
     "name": "stdout",
     "output_type": "stream",
     "text": [
      "2459\n"
     ]
    },
    {
     "data": {
      "image/png": "[encoded data removed]",
      "text/plain": [
       "<Figure size 432x288 with 1 Axes>"
      ]
     },
     "metadata": {
      "needs_background": "light"
     },
     "output_type": "display_data"
    }
   ],
   "source": [
    "y = []\n",
    "for ind,(label,dataP) in enumerate(loadTest(dataValidate)):\n",
    "    y.append(dataP[0])\n",
    "plt.hist(y,bins=[0,1,2,3],density=True)\n",
    "print(ind)"
   ]
  },
  {
   "cell_type": "code",
   "execution_count": 36,
   "id": "0ca3f6c2",
   "metadata": {},
   "outputs": [
    {
     "data": {
      "image/png": "[encoded data removed]",
      "text/plain": [
       "<Figure size 576x576 with 2 Axes>"
      ]
     },
     "metadata": {
      "needs_background": "light"
     },
     "output_type": "display_data"
    }
   ],
   "source": [
    "classes=labels.keys()\n",
    "con_mat = tf.math.confusion_matrix(labels=y, predictions=pred).numpy()\n",
    "con_mat_norm = np.around(con_mat.astype('float') / con_mat.sum(axis=1)[:, np.newaxis], decimals=2)\n",
    "\n",
    "con_mat_df = pd.DataFrame(con_mat_norm,\n",
    "                     index = classes, \n",
    "                     columns = classes)\n",
    "figure = plt.figure(figsize=(8, 8))\n",
    "sns.heatmap(con_mat_df, annot=True,cmap=plt.cm.Blues)\n",
    "plt.tight_layout()\n",
    "plt.ylabel('True label')\n",
    "plt.xlabel('Predicted label')\n",
    "plt.show()"
   ]
  },
  {
   "cell_type": "code",
   "execution_count": 290,
   "id": "28f86be1",
   "metadata": {},
   "outputs": [
    {
     "data": {
      "image/png": "[encoded data removed]",
      "text/plain": [
       "<Figure size 576x576 with 2 Axes>"
      ]
     },
     "metadata": {
      "needs_background": "light"
     },
     "output_type": "display_data"
    }
   ],
   "source": [
    "classes=['Healthy','Acute','Chronic']\n",
    "con_mat = tf.math.confusion_matrix(labels=y, predictions=pred).numpy()\n",
    "con_mat_norm = np.around(con_mat.astype('float') / con_mat.sum(axis=1)[:, np.newaxis], decimals=2)\n",
    "\n",
    "con_mat_df = pd.DataFrame(con_mat_norm,\n",
    "                     index = classes, \n",
    "                     columns = classes)\n",
    "figure = plt.figure(figsize=(8, 8))\n",
    "sns.heatmap(con_mat_df, annot=True,cmap=plt.cm.Blues)\n",
    "plt.tight_layout()\n",
    "plt.ylabel('True label')\n",
    "plt.xlabel('Predicted label')\n",
    "plt.show()"
   ]
  },
  {
   "cell_type": "code",
   "execution_count": 249,
   "id": "15234db8",
   "metadata": {},
   "outputs": [
    {
     "data": {
      "text/plain": [
       "['1793_day8',\n",
       " '1222_day7',\n",
       " '4539_day15A',\n",
       " '1222_BaselineL',\n",
       " '1793_BaselineS',\n",
       " '7909_day8',\n",
       " '1208_day2',\n",
       " '8430_day35L',\n",
       " '0761_day19L',\n",
       " '7909_day10',\n",
       " '1236_day30A',\n",
       " '1208_BaselineS',\n",
       " '1236_day3',\n",
       " '1236_day1',\n",
       " '4539_day8',\n",
       " '1793_day6',\n",
       " '1231_BaselineL',\n",
       " '0761_day2',\n",
       " '8430_day3',\n",
       " '1208_BaselineL',\n",
       " '0761_day12',\n",
       " '4539_day6',\n",
       " '7909_day12',\n",
       " '1222_day15A',\n",
       " '1222_day9',\n",
       " '7909_day14',\n",
       " '1793_BaselineA',\n",
       " '1208_day14',\n",
       " '4539_day0',\n",
       " '1793_day15A',\n",
       " '7909_Baseline2A',\n",
       " '0761_BaselineS',\n",
       " '0761_day6',\n",
       " '1222_day5',\n",
       " '1793_day34L',\n",
       " '1222_day20L',\n",
       " '1208_day30A',\n",
       " '0761_day4',\n",
       " '1222_day3',\n",
       " '0761_day1',\n",
       " '1222_day32A',\n",
       " '1253_BaselineS',\n",
       " '1793_day12',\n",
       " '8430_day9',\n",
       " '4539_day14',\n",
       " '7909_day13',\n",
       " '1231_BaselineA',\n",
       " '1222_day2',\n",
       " '1793_day2',\n",
       " '0761_day31A',\n",
       " '4539_day12',\n",
       " '1793_day14',\n",
       " '8430_day19L',\n",
       " '7909_day0',\n",
       " '8430_day11',\n",
       " '1236_day35L',\n",
       " '1236_day9',\n",
       " '1208_day15A',\n",
       " '8430_BaselineS',\n",
       " '8430_BaselineL',\n",
       " '0761_day8',\n",
       " '1208_day12',\n",
       " '1236_day13',\n",
       " '8430_day5',\n",
       " '1236_BaselineA',\n",
       " '1793_day30A',\n",
       " '1222_BaselineA',\n",
       " '1208_day8',\n",
       " '1208_day4',\n",
       " '1236_day5',\n",
       " '4539_day4',\n",
       " '1208_BaselineA',\n",
       " '1222_day13',\n",
       " '1253_BaselineL',\n",
       " '1236_day15A',\n",
       " '1231_BaselineS',\n",
       " '1236_BaselineL',\n",
       " '0761_BaselineL',\n",
       " '4539_day13',\n",
       " '1222_BaselineS',\n",
       " '4539_Baseline2A',\n",
       " '1793_BaselineL',\n",
       " '1208_day10',\n",
       " '4539_day30A',\n",
       " '1793_day19L',\n",
       " '0761_day35L',\n",
       " '7909_day4',\n",
       " '7909_day2',\n",
       " '8430_day15A',\n",
       " '1793_day4',\n",
       " '0761_day14A',\n",
       " '7909_BaselineA',\n",
       " '1208_day19L',\n",
       " '1236_day19L',\n",
       " '7909_day6',\n",
       " '8430_day7',\n",
       " '1793_day10',\n",
       " '7909_day30A',\n",
       " '0761_day10',\n",
       " '1236_day11',\n",
       " '1253_BaselineA',\n",
       " '1208_day34L',\n",
       " '8430_day1',\n",
       " '1222_day36L',\n",
       " '0761_BaselineA',\n",
       " '8430_BaselineA',\n",
       " '8430_day30A',\n",
       " '1236_BaselineS',\n",
       " '4539_BaselineA',\n",
       " '1236_day7',\n",
       " '4539_day2',\n",
       " '4539_day10',\n",
       " '1208_day6',\n",
       " '7909_day15A',\n",
       " '1222_day11']"
      ]
     },
     "execution_count": 249,
     "metadata": {},
     "output_type": "execute_result"
    }
   ],
   "source": [
    "# pred = model.predict(loadTest(dataTrain)) \n",
    "# print(pred,(sci.special.softmax(pred,axis=1)) )\n",
    "l"
   ]
  }
 ],
 "metadata": {
  "kernelspec": {
   "display_name": "Python 3",
   "language": "python",
   "name": "python3"
  },
  "language_info": {
   "codemirror_mode": {
    "name": "ipython",
    "version": 3
   },
   "file_extension": ".py",
   "mimetype": "text/x-python",
   "name": "python",
   "nbconvert_exporter": "python",
   "pygments_lexer": "ipython3",
   "version": "3.8.10"
  }
 },
 "nbformat": 4,
 "nbformat_minor": 5
}
