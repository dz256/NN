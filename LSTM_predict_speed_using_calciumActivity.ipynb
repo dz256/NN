{
 "cells": [
  {
   "cell_type": "code",
   "execution_count": 1,
   "id": "929a0299",
   "metadata": {},
   "outputs": [],
   "source": [
    "#since noteboke doesn't work in jupiterlabs    %matplotlib notebook \n",
    "%matplotlib inline \n",
    "%load_ext autoreload\n",
    "%autoreload 2"
   ]
  },
  {
   "cell_type": "code",
   "execution_count": 66,
   "id": "2904af6b",
   "metadata": {
    "scrolled": true
   },
   "outputs": [],
   "source": [
    "import tensorflow as tf\n",
    "import os\n",
    "# os.environ['PATH'] += os.pathsep + 'D:\\\\6OHDA\\\\'\n",
    "import numpy as np\n",
    "import scipy as sci\n",
    "from IO import *\n",
    "from utils import *\n",
    "import re\n",
    "from tqdm import tqdm\n",
    "\n",
    "from tensorflow.keras.models import Sequential, load_model\n",
    "from tensorflow.keras.layers import Input\n",
    "from tensorflow.keras.layers import Dense, Dropout, Activation, Flatten, Concatenate\n",
    "from tensorflow.keras.layers import Convolution2D, MaxPooling2D,Conv2D, Conv1D,MaxPooling1D,LSTM\n",
    "# from tensorflow.keras.layers.core import Lambda\n",
    "import tensorflow.keras.optimizers as optimizers\n",
    "from tensorflow.keras import regularizers\n",
    "from tensorflow.keras import backend as K\n",
    "from tensorflow.keras.models import Model\n",
    "\n",
    "from matplotlib import pyplot as plt\n",
    "from matplotlib import gridspec\n",
    "import seaborn as sns\n",
    "\n",
    "import pickle\n",
    "import random\n",
    "# import png"
   ]
  },
  {
   "cell_type": "code",
   "execution_count": 69,
   "id": "2630af93",
   "metadata": {},
   "outputs": [],
   "source": [
    "import tensorflow as tf"
   ]
  },
  {
   "cell_type": "code",
   "execution_count": 3,
   "id": "651e941a",
   "metadata": {
    "scrolled": false
   },
   "outputs": [
    {
     "name": "stdout",
     "output_type": "stream",
     "text": [
      "[name: \"/device:CPU:0\"\n",
      "device_type: \"CPU\"\n",
      "memory_limit: 268435456\n",
      "locality {\n",
      "}\n",
      "incarnation: 8787836833126824238\n",
      ", name: \"/device:GPU:0\"\n",
      "device_type: \"GPU\"\n",
      "memory_limit: 9959403520\n",
      "locality {\n",
      "  bus_id: 1\n",
      "  links {\n",
      "  }\n",
      "}\n",
      "incarnation: 11933185864257564005\n",
      "physical_device_desc: \"device: 0, name: GeForce GTX 1080 Ti, pci bus id: 0000:17:00.0, compute capability: 6.1\"\n",
      ", name: \"/device:GPU:1\"\n",
      "device_type: \"GPU\"\n",
      "memory_limit: 10091102208\n",
      "locality {\n",
      "  bus_id: 1\n",
      "  links {\n",
      "  }\n",
      "}\n",
      "incarnation: 10501009115982758161\n",
      "physical_device_desc: \"device: 1, name: GeForce GTX 1080 Ti, pci bus id: 0000:65:00.0, compute capability: 6.1\"\n",
      "]\n"
     ]
    },
    {
     "data": {
      "text/plain": [
       "[PhysicalDevice(name='/physical_device:CPU:0', device_type='CPU'),\n",
       " PhysicalDevice(name='/physical_device:GPU:0', device_type='GPU'),\n",
       " PhysicalDevice(name='/physical_device:GPU:1', device_type='GPU')]"
      ]
     },
     "execution_count": 3,
     "metadata": {},
     "output_type": "execute_result"
    }
   ],
   "source": [
    "from tensorflow.python.client import device_lib\n",
    "print(device_lib.list_local_devices())\n",
    "tf.config.list_physical_devices()"
   ]
  },
  {
   "cell_type": "code",
   "execution_count": 4,
   "id": "dabf073e",
   "metadata": {},
   "outputs": [],
   "source": [
    "Files = ['FinalData_6OHDA.h5','FinalData_6OHDA_H.h5']\n",
    "#miceList.remove('1253')\n",
    "#miceList.remove('1231')\n",
    "def periodCalc(day):\n",
    "    if day== 0:\n",
    "        return 'Healthy'\n",
    "    elif day<13:\n",
    "        return 'Acute' #day 1-13\n",
    "    else:\n",
    "        return 'Chronic' #day 14-35"
   ]
  },
  {
   "cell_type": "code",
   "execution_count": 8,
   "id": "f5c8b13a",
   "metadata": {},
   "outputs": [
    {
     "name": "stdout",
     "output_type": "stream",
     "text": [
      "(286, 11900) [1. 1. 1. 1. 1. 1. 1. 1. 1. 1. 1. 1. 1. 1. 1. 1. 1. 1. 1. 1. 1. 1. 1. 1.\n",
      " 1. 1. 1. 1. 1. 1. 1. 1. 1. 1. 1. 1. 1. 1. 1. 1. 1. 1. 1. 1. 1. 1. 1. 1.\n",
      " 1. 1. 1. 1. 1. 1. 1. 1. 1. 1. 1. 1. 1. 1. 1. 1. 1. 1. 1. 1. 1. 1. 1. 1.\n",
      " 1. 1. 1. 1. 1. 1. 1. 1. 1. 1. 1. 1. 1. 1. 1. 1. 1. 1. 1. 1. 1. 1. 1. 1.\n",
      " 1. 1. 1. 1. 1. 1. 1. 1. 1. 1. 1. 1. 1. 1. 1. 1. 1. 1. 1. 1. 1. 1. 1. 1.\n",
      " 1. 1. 1. 1. 1. 1. 1. 1. 1. 1. 1. 1. 1. 1. 1. 1. 1. 1. 1. 1. 1. 1. 1. 1.\n",
      " 1. 1. 1. 1. 1. 1. 1. 1. 1. 1. 1. 1. 1. 1. 1. 1. 1. 1. 1. 1. 1. 1. 1. 1.\n",
      " 1. 1. 1. 1. 1. 1. 1. 1. 1. 1. 1. 1. 1. 1. 1. 1. 1. 1. 1. 1. 1. 1. 1. 1.\n",
      " 1. 1. 1. 1. 1. 1. 1. 1. 1. 1. 1. 1. 1. 1. 1. 1. 1. 1. 1. 1. 1. 1. 1. 1.\n",
      " 1. 1. 1. 1. 1. 1. 1. 1. 1. 1. 1. 1. 1. 1. 1. 1. 1. 1. 1. 1. 1. 1. 1. 1.\n",
      " 1. 1. 1. 1. 1. 1. 1. 1. 1. 1. 1. 1. 1. 1. 1. 1. 1. 1. 1. 1. 1. 1. 1. 1.\n",
      " 1. 1. 1. 1. 1. 1. 1. 1. 1. 1. 1. 1. 1. 1. 1. 1. 1. 1. 1. 1. 1. 1.] [0. 0. 0. 0. 0. 0. 0. 0. 0. 0. 0. 0. 0. 0. 0. 0. 0. 0. 0. 0. 0. 0. 0. 0.\n",
      " 0. 0. 0. 0. 0. 0. 0. 0. 0. 0. 0. 0. 0. 0. 0. 0. 0. 0. 0. 0. 0. 0. 0. 0.\n",
      " 0. 0. 0. 0. 0. 0. 0. 0. 0. 0. 0. 0. 0. 0. 0. 0. 0. 0. 0. 0. 0. 0. 0. 0.\n",
      " 0. 0. 0. 0. 0. 0. 0. 0. 0. 0. 0. 0. 0. 0. 0. 0. 0. 0. 0. 0. 0. 0. 0. 0.\n",
      " 0. 0. 0. 0. 0. 0. 0. 0. 0. 0. 0. 0. 0. 0. 0. 0. 0. 0. 0. 0. 0. 0. 0. 0.\n",
      " 0. 0. 0. 0. 0. 0. 0. 0. 0. 0. 0. 0. 0. 0. 0. 0. 0. 0. 0. 0. 0. 0. 0. 0.\n",
      " 0. 0. 0. 0. 0. 0. 0. 0. 0. 0. 0. 0. 0. 0. 0. 0. 0. 0. 0. 0. 0. 0. 0. 0.\n",
      " 0. 0. 0. 0. 0. 0. 0. 0. 0. 0. 0. 0. 0. 0. 0. 0. 0. 0. 0. 0. 0. 0. 0. 0.\n",
      " 0. 0. 0. 0. 0. 0. 0. 0. 0. 0. 0. 0. 0. 0. 0. 0. 0. 0. 0. 0. 0. 0. 0. 0.\n",
      " 0. 0. 0. 0. 0. 0. 0. 0. 0. 0. 0. 0. 0. 0. 0. 0. 0. 0. 0. 0. 0. 0. 0. 0.\n",
      " 0. 0. 0. 0. 0. 0. 0. 0. 0. 0. 0. 0. 0. 0. 0. 0. 0. 0. 0. 0. 0. 0. 0. 0.\n",
      " 0. 0. 0. 0. 0. 0. 0. 0. 0. 0. 0. 0. 0. 0. 0. 0. 0. 0. 0. 0. 0. 0.]\n"
     ]
    }
   ],
   "source": [
    "# m = '1208'\n",
    "# data =  getData(Files[0],['speed','trace'],period ='Pre', mice=m)\n",
    "# maxSpeed = []\n",
    "# for sess in data:\n",
    "#     speed = smooth(data[sess]['speed']['speed'],20)\n",
    "#     maxSpeed.append(np.max(speed))\n",
    "# maxSpeed = np.mean(maxSpeed)\n",
    "# sess = m+'_BaselineA'\n",
    "# speed = data[sess]['speed']['speed']\n",
    "# speed = speed/maxSpeed\n",
    "# dff = data[sess]['trace']['dff']\n",
    "mx = np.max(dff,axis = 1)\n",
    "mn = np.min(dff,axis = 1)\n",
    "dff = (dff.T-mn)/(mx-mn)\n",
    "dff = dff.T\n",
    "print(dff.shape,np.max(dff,axis = 1),np.min(dff,axis = 1))"
   ]
  },
  {
   "cell_type": "code",
   "execution_count": 9,
   "id": "5f5a8141",
   "metadata": {
    "scrolled": true
   },
   "outputs": [
    {
     "name": "stdout",
     "output_type": "stream",
     "text": [
      "cleaning up trace data\n",
      "cleaning up speed data\n",
      "cleaning up trace data\n",
      "cleaning up speed data\n",
      "cleaning up trace data\n",
      "cleaning up speed data\n",
      "cleaning up trace data\n",
      "cleaning up speed data\n",
      "cleaning up trace data\n",
      "cleaning up speed data\n",
      "cleaning up trace data\n",
      "cleaning up speed data\n",
      "cleaning up trace data\n",
      "cleaning up speed data\n",
      "cleaning up trace data\n",
      "cleaning up speed data\n",
      "cleaning up trace data\n",
      "cleaning up speed data\n",
      "cleaning up trace data\n",
      "cleaning up speed data\n",
      "cleaning up trace data\n",
      "cleaning up speed data\n",
      "cleaning up trace data\n",
      "cleaning up speed data\n",
      "cleaning up trace data\n",
      "cleaning up speed data\n",
      "cleaning up trace data\n",
      "cleaning up speed data\n",
      "cleaning up trace data\n",
      "cleaning up speed data\n",
      "cleaning up trace data\n",
      "cleaning up speed data\n"
     ]
    }
   ],
   "source": [
    "f = h5py.File('E:\\\\normalized_Ca_Speed.hdf5','a')\n",
    "df = pd.DataFrame(columns= [\"Mouse\",\"Session\",\"Period\",\"length\"])\n",
    "dt = 0.05\n",
    "for m in getMiceList(Files[0]):\n",
    "    data =  getData(Files[0],['speed','trace'],period ='Pre', mice=m)\n",
    "    maxSpeed = []\n",
    "    for sess in data:\n",
    "        speed = smooth(data[sess]['speed']['speed'],20)\n",
    "        maxSpeed.append(np.max(speed))\n",
    "    maxSpeed = np.mean(maxSpeed)\n",
    "    for sess in data.keys():\n",
    "\n",
    "        speed = data[sess]['speed']['speed']\n",
    "        speed = speed/maxSpeed\n",
    "        dff = data[sess]['trace']['dff']\n",
    "        mx = np.max(dff,axis = 1)\n",
    "        mn = np.min(dff,axis = 1)\n",
    "        dff = (dff.T-mn)/(mx-mn)\n",
    "        dff = dff.T\n",
    "\n",
    "        if sess[5] == 'B':\n",
    "            day = 0\n",
    "        else:\n",
    "            day = int(re.findall(r'\\d+',sess[5:])[0])\n",
    "        \n",
    "        try:\n",
    "            g = f.create_group(sess)\n",
    "            g['dff'] = dff\n",
    "            g['speed'] = speed\n",
    "        except:\n",
    "            del f[sess]\n",
    "            f.create_group(sess)\n",
    "            g['dff'] = dff\n",
    "            g['speed'] = speed\n",
    "        \n",
    "        df = df.append({\"Mouse\":m,\"Session\":sess,'Period':periodCalc(day),\"length\":np.max(speed.shape)},ignore_index=True)\n",
    "        \n",
    "df.to_csv('availableData_ca.csv')       "
   ]
  },
  {
   "cell_type": "code",
   "execution_count": 10,
   "id": "2e69ab06",
   "metadata": {},
   "outputs": [
    {
     "name": "stdout",
     "output_type": "stream",
     "text": [
      "[1231, 1253, 2980, 4539, 1222, 1236, 8803, 761, 2976, 7584, 8430, 1208, 1793, 2981] [7909, 8815]\n"
     ]
    }
   ],
   "source": [
    "miceList = getMiceList(Files[0])\n",
    "miceList.remove('1253')\n",
    "miceList.remove('1231')\n",
    "mOrder = np.random.permutation(len(miceList))\n",
    "\n",
    "mTrain = [1231, 1253]\n",
    "mTest =[int(miceList[i]) for i in mOrder[:2]]\n",
    "mTrain = mTrain+ [int(miceList[i]) for i in mOrder[2:]]\n",
    "\n",
    "print(mTrain,mTest)\n",
    "# print(miceList[mOrder[:2]])"
   ]
  },
  {
   "cell_type": "code",
   "execution_count": 22,
   "id": "ab5903d9",
   "metadata": {},
   "outputs": [],
   "source": [
    "def prepData(segN,overlap,df):\n",
    "    df2 = df\n",
    "    df2['start'] = pd.Series([[]] * len(df2), index=df2.index)\n",
    "    df2['end'] = pd.Series([[]] * len(df2), index=df2.index)\n",
    "    for l in df.length.unique():\n",
    "        a = np.asarray([[i,i + segN] for i in range(0, l-(segN-overlap),int(segN-overlap))])\n",
    "        df2.loc[df2.length==l,'start'] = pd.Series([a[:,0]] * len(df2), index=df2.index)\n",
    "        df2.loc[df2.length==l,'end'] =  pd.Series([a[:,1]] * len(df2), index=df2.index)\n",
    "    lst_col = 'start'\n",
    "\n",
    "    lst_col = 'start'\n",
    "    lst_col2 = 'end'\n",
    "    df3 = pd.DataFrame({\n",
    "        col:np.repeat(df2[col].values, df2['start'].str.len())\n",
    "        for col in df2.columns.difference(['start','end'])\n",
    "    }).assign(**{'start':np.concatenate(df2['start'].values)}).assign(**{'end':np.concatenate(df2['end'].values)})[df2.columns.tolist()]\n",
    "    return df3"
   ]
  },
  {
   "cell_type": "code",
   "execution_count": 33,
   "id": "04b266ab",
   "metadata": {},
   "outputs": [
    {
     "name": "stdout",
     "output_type": "stream",
     "text": [
      "402402 97328 71388\n"
     ]
    }
   ],
   "source": [
    "df = pd.read_csv('availableData_ca.csv')  \n",
    "# try 30s with 20s overlab\n",
    "dt = 0.05\n",
    "segN = int(np.ceil(1/dt))\n",
    "overlap = segN-1\n",
    "dataSamples = prepData(segN,overlap,df)\n",
    "\n",
    "df = prepData(segN,overlap,df)\n",
    "df = df[df.Period=='Healthy']\n",
    "testData = df[df.Mouse.isin(mTest)]\n",
    "trainData = df[df.Mouse.isin(mTrain)]\n",
    "validate = trainData[trainData.end>(480/dt)]\n",
    "trainData = trainData.drop(validate.index)\n",
    "print(len(trainData),len(validate),len(testData))"
   ]
  },
  {
   "cell_type": "code",
   "execution_count": 30,
   "id": "962caedd",
   "metadata": {},
   "outputs": [],
   "source": [
    "dataVersion = 'v1_n_ca'\n",
    "#save data partition: \n",
    "trainData.to_csv('dataPartition_'+dataVersion+'_train.csv')\n",
    "validate.to_csv('dataPartition_'+dataVersion+'_val.csv')\n",
    "testData.to_csv('dataPartition_'+dataVersion+'_test.csv')"
   ]
  },
  {
   "cell_type": "code",
   "execution_count": 62,
   "id": "0c64cf96",
   "metadata": {},
   "outputs": [],
   "source": [
    "def loadTrain(data,butchSize,N):\n",
    "    f = h5py.File('E:\\\\normalized_Ca_Speed.hdf5','r')\n",
    "    # sampleSize = batchSize/3\n",
    "    while True: \n",
    "        data.sample(frac=1)\n",
    "        for i, g in data.groupby(np.arange(len(data)) // butchSize):\n",
    "            batch = g\n",
    "            labels = batch.apply(lambda row: f[row.Session]['speed'][row.end],axis=1  )\n",
    "            labels = np.stack(labels.values)\n",
    "            dataPoint = batch.apply(lambda row: f[row.Session]['dff'][:,row.start:row.end].T, axis=1).values\n",
    "            dataPoint = [row[:,np.random.randint(0,row.shape[0],size=N)] for row in dataPoint]\n",
    "            try:\n",
    "                dataPoint = np.stack(dataPoint)\n",
    "            except:\n",
    "                continue\n",
    "            yield (dataPoint,labels)\n",
    "    f.close()\n"
   ]
  },
  {
   "cell_type": "code",
   "execution_count": 57,
   "id": "bc36bf02",
   "metadata": {},
   "outputs": [
    {
     "name": "stdout",
     "output_type": "stream",
     "text": [
      "[(20, 100), (20, 100), (20, 100)]\n"
     ]
    }
   ],
   "source": [
    "# for i, g in trainData.groupby(np.arange(len(trainData)) // 3):\n",
    "#     batch = g\n",
    "#     labels = batch.apply(lambda row: f[row.Session]['speed'][row.end],axis=1  )\n",
    "#     labels = np.stack(labels.values)\n",
    "#     dataPoint = batch.apply(lambda row: f[row.Session]['dff'][:,row.start:row.end].T, axis=1).values\n",
    "#     if i == 0:\n",
    "#         break\n",
    "d = \n",
    "print([row.shape for row in d])"
   ]
  },
  {
   "cell_type": "code",
   "execution_count": 63,
   "id": "c89e1c7e",
   "metadata": {},
   "outputs": [],
   "source": [
    "def loadTest(data,N):\n",
    "    f = h5py.File('E:\\\\normalized_Ca_Speed.hdf5','r')\n",
    "    # sampleSize = batchSize/3 \n",
    "    for i, g in data.groupby(np.arange(len(data)) // 9):\n",
    "        batch = g\n",
    "        labels = batch.apply(lambda row: f[row.Session]['speed'][row.end],axis=1  )\n",
    "        labels = np.stack(labels.values)\n",
    "        dataPoint = batch.apply(lambda row: f[row.Session]['dff'][:,row.start:row.end].T, axis=1).values\n",
    "        dataPoint = [row[:,np.random.randint(0,row.shape[0],size=N)] for row in dataPoint]\n",
    "        try:\n",
    "            dataPoint = np.stack(dataPoint)\n",
    "        except:\n",
    "            continue\n",
    "        yield (dataPoint,labels)\n",
    "    f.close()\n"
   ]
  },
  {
   "cell_type": "code",
   "execution_count": 61,
   "id": "c0b536ea",
   "metadata": {},
   "outputs": [
    {
     "name": "stdout",
     "output_type": "stream",
     "text": [
      "[0.09782828 0.21839997 0.17138285 0.21839997 0.33582578 0.15468071\n",
      " 0.21839997 0.17170904 0.14606328 0.30802416 0.22817605 0.23249507\n",
      " 0.15468071 0.14606328 0.17170904 0.16593507 0.2014692  0.30802416\n",
      " 0.17170904 0.22439939 0.29845493 0.17138285 0.29845493 0.30802416\n",
      " 0.17138285 0.22817605 0.29845493 0.17138285 0.2014692  0.17170904\n",
      " 0.25990415 0.16593507 0.29845493 0.18415533 0.17138285 0.17170904\n",
      " 0.17170904 0.26394649 0.25990415 0.18415533 0.15468071 0.22439939\n",
      " 0.29845493 0.29845493 0.29845493 0.33582578 0.26394649 0.22817605\n",
      " 0.22817605 0.14606328 0.15468071 0.17170904 0.30802416 0.33582578\n",
      " 0.25990415 0.25514118 0.32069196 0.33582578 0.21839997 0.16593507\n",
      " 0.30802416 0.22439939 0.16714288 0.23249507 0.23249507 0.09782828\n",
      " 0.17170904 0.21839997 0.09782828 0.21839997 0.09782828 0.15468071\n",
      " 0.17138285 0.23249507 0.16714288 0.18415533 0.23249507 0.22817605\n",
      " 0.16593507 0.30802416 0.26394649 0.25990415 0.2014692  0.30802416\n",
      " 0.21839997 0.16593507 0.29845493 0.21839997 0.16593507 0.22439939\n",
      " 0.22817605 0.26394649 0.18415533 0.18415533 0.17138285 0.09782828\n",
      " 0.22439939 0.09782828 0.22439939 0.09782828]\n",
      "[0.18834016 0.32441092 0.2450211  0.18834016 0.2006142  0.19686312\n",
      " 0.2006142  0.27284803 0.26062197 0.2303016  0.41215659 0.2006142\n",
      " 0.41215659 0.19686312 0.2303016  0.23991243 0.28767088 0.23991243\n",
      " 0.27158498 0.11593515 0.32441092 0.27129913 0.2303016  0.23991243\n",
      " 0.25597398 0.23991243 0.27158498 0.28575207 0.18834016 0.41215659\n",
      " 0.11593515 0.11593515 0.2006142  0.18834016 0.19686312 0.26062197\n",
      " 0.28767088 0.32441092 0.27158498 0.19686312 0.18834016 0.41215659\n",
      " 0.28767088 0.16277948 0.27129913 0.28767088 0.18834016 0.2303016\n",
      " 0.27129913 0.28767088 0.27129913 0.28767088 0.23991243 0.26062197\n",
      " 0.25597398 0.11593515 0.18834016 0.18834016 0.19686312 0.26062197\n",
      " 0.28575207 0.2450211  0.28767088 0.16277948 0.19686312 0.27158498\n",
      " 0.11593515 0.2303016  0.23991243 0.27158498 0.28767088 0.28767088\n",
      " 0.2303016  0.2006142  0.25597398 0.41215659 0.16277948 0.2303016\n",
      " 0.27129913 0.41215659 0.2006142  0.16277948 0.28767088 0.2303016\n",
      " 0.17951115 0.2450211  0.19686312 0.32441092 0.27158498 0.16797548\n",
      " 0.27284803 0.32441092 0.27284803 0.27158498 0.18834016 0.27158498\n",
      " 0.27158498 0.28575207 0.16277948 0.26062197]\n"
     ]
    }
   ],
   "source": [
    "for ind,(dataP,label) in enumerate(loadTest(testData)):\n",
    "    print(np.max(dataP[3,:,:],axis=0))\n",
    "    if ind == 1:\n",
    "        break"
   ]
  },
  {
   "cell_type": "code",
   "execution_count": 59,
   "id": "3921f1e0",
   "metadata": {},
   "outputs": [
    {
     "name": "stdout",
     "output_type": "stream",
     "text": [
      "(3,) (3, 20, 100)\n",
      "(3,) (3, 20, 100)\n",
      "(3,) (3, 20, 100)\n",
      "(3,) (3, 20, 100)\n"
     ]
    }
   ],
   "source": [
    "for ind,(dataP,label) in enumerate(loadTrain(trainData,3,100)):\n",
    "    print(label.shape,dataP.shape)\n",
    "    if ind == 3:\n",
    "        break"
   ]
  },
  {
   "cell_type": "code",
   "execution_count": 581,
   "id": "2de8fb7d",
   "metadata": {},
   "outputs": [],
   "source": [
    "del model  "
   ]
  },
  {
   "cell_type": "code",
   "execution_count": 64,
   "id": "b55b9015",
   "metadata": {},
   "outputs": [],
   "source": [
    "butchSize = 20\n",
    "N = 100"
   ]
  },
  {
   "cell_type": "code",
   "execution_count": 74,
   "id": "e96c0632",
   "metadata": {},
   "outputs": [
    {
     "ename": "NotImplementedError",
     "evalue": "Cannot convert a symbolic Tensor (lstm_4/strided_slice:0) to a numpy array. This error may indicate that you're trying to pass a Tensor to a NumPy call, which is not supported",
     "output_type": "error",
     "traceback": [
      "\u001b[1;31m---------------------------------------------------------------------------\u001b[0m",
      "\u001b[1;31mNotImplementedError\u001b[0m                       Traceback (most recent call last)",
      "\u001b[1;32m<ipython-input-74-a72b8c566410>\u001b[0m in \u001b[0;36m<module>\u001b[1;34m\u001b[0m\n\u001b[0;32m      5\u001b[0m \u001b[1;31m# units=10 -> The cell and hidden states will be of dimension 10.\u001b[0m\u001b[1;33m\u001b[0m\u001b[1;33m\u001b[0m\u001b[1;33m\u001b[0m\u001b[0m\n\u001b[0;32m      6\u001b[0m \u001b[1;31m#             The number of parameters that need to be trained = 4*units*(units+2)\u001b[0m\u001b[1;33m\u001b[0m\u001b[1;33m\u001b[0m\u001b[1;33m\u001b[0m\u001b[0m\n\u001b[1;32m----> 7\u001b[1;33m \u001b[0mx\u001b[0m \u001b[1;33m=\u001b[0m \u001b[0mLSTM\u001b[0m\u001b[1;33m(\u001b[0m\u001b[0munits\u001b[0m\u001b[1;33m=\u001b[0m\u001b[1;36m50\u001b[0m\u001b[1;33m)\u001b[0m\u001b[1;33m(\u001b[0m\u001b[0mts_inputs\u001b[0m\u001b[1;33m)\u001b[0m\u001b[1;33m\u001b[0m\u001b[1;33m\u001b[0m\u001b[0m\n\u001b[0m\u001b[0;32m      8\u001b[0m \u001b[0mx\u001b[0m \u001b[1;33m=\u001b[0m \u001b[0mDropout\u001b[0m\u001b[1;33m(\u001b[0m\u001b[1;36m0.2\u001b[0m\u001b[1;33m)\u001b[0m\u001b[1;33m(\u001b[0m\u001b[0mx\u001b[0m\u001b[1;33m)\u001b[0m\u001b[1;33m\u001b[0m\u001b[1;33m\u001b[0m\u001b[0m\n\u001b[0;32m      9\u001b[0m \u001b[0moutputs\u001b[0m \u001b[1;33m=\u001b[0m \u001b[0mDense\u001b[0m\u001b[1;33m(\u001b[0m\u001b[1;36m1\u001b[0m\u001b[1;33m,\u001b[0m \u001b[0mactivation\u001b[0m\u001b[1;33m=\u001b[0m\u001b[1;34m'linear'\u001b[0m\u001b[1;33m)\u001b[0m\u001b[1;33m(\u001b[0m\u001b[0mx\u001b[0m\u001b[1;33m)\u001b[0m\u001b[1;33m\u001b[0m\u001b[1;33m\u001b[0m\u001b[0m\n",
      "\u001b[1;32m~\\AppData\\Roaming\\Python\\Python38\\site-packages\\tensorflow\\python\\keras\\layers\\recurrent.py\u001b[0m in \u001b[0;36m__call__\u001b[1;34m(self, inputs, initial_state, constants, **kwargs)\u001b[0m\n\u001b[0;32m    666\u001b[0m \u001b[1;33m\u001b[0m\u001b[0m\n\u001b[0;32m    667\u001b[0m     \u001b[1;32mif\u001b[0m \u001b[0minitial_state\u001b[0m \u001b[1;32mis\u001b[0m \u001b[1;32mNone\u001b[0m \u001b[1;32mand\u001b[0m \u001b[0mconstants\u001b[0m \u001b[1;32mis\u001b[0m \u001b[1;32mNone\u001b[0m\u001b[1;33m:\u001b[0m\u001b[1;33m\u001b[0m\u001b[1;33m\u001b[0m\u001b[0m\n\u001b[1;32m--> 668\u001b[1;33m       \u001b[1;32mreturn\u001b[0m \u001b[0msuper\u001b[0m\u001b[1;33m(\u001b[0m\u001b[0mRNN\u001b[0m\u001b[1;33m,\u001b[0m \u001b[0mself\u001b[0m\u001b[1;33m)\u001b[0m\u001b[1;33m.\u001b[0m\u001b[0m__call__\u001b[0m\u001b[1;33m(\u001b[0m\u001b[0minputs\u001b[0m\u001b[1;33m,\u001b[0m \u001b[1;33m**\u001b[0m\u001b[0mkwargs\u001b[0m\u001b[1;33m)\u001b[0m\u001b[1;33m\u001b[0m\u001b[1;33m\u001b[0m\u001b[0m\n\u001b[0m\u001b[0;32m    669\u001b[0m \u001b[1;33m\u001b[0m\u001b[0m\n\u001b[0;32m    670\u001b[0m     \u001b[1;31m# If any of `initial_state` or `constants` are specified and are Keras\u001b[0m\u001b[1;33m\u001b[0m\u001b[1;33m\u001b[0m\u001b[1;33m\u001b[0m\u001b[0m\n",
      "\u001b[1;32m~\\AppData\\Roaming\\Python\\Python38\\site-packages\\tensorflow\\python\\keras\\engine\\base_layer.py\u001b[0m in \u001b[0;36m__call__\u001b[1;34m(self, *args, **kwargs)\u001b[0m\n\u001b[0;32m    967\u001b[0m     \u001b[1;31m# >> model = tf.keras.Model(inputs, outputs)\u001b[0m\u001b[1;33m\u001b[0m\u001b[1;33m\u001b[0m\u001b[1;33m\u001b[0m\u001b[0m\n\u001b[0;32m    968\u001b[0m     \u001b[1;32mif\u001b[0m \u001b[0m_in_functional_construction_mode\u001b[0m\u001b[1;33m(\u001b[0m\u001b[0mself\u001b[0m\u001b[1;33m,\u001b[0m \u001b[0minputs\u001b[0m\u001b[1;33m,\u001b[0m \u001b[0margs\u001b[0m\u001b[1;33m,\u001b[0m \u001b[0mkwargs\u001b[0m\u001b[1;33m,\u001b[0m \u001b[0minput_list\u001b[0m\u001b[1;33m)\u001b[0m\u001b[1;33m:\u001b[0m\u001b[1;33m\u001b[0m\u001b[1;33m\u001b[0m\u001b[0m\n\u001b[1;32m--> 969\u001b[1;33m       return self._functional_construction_call(inputs, args, kwargs,\n\u001b[0m\u001b[0;32m    970\u001b[0m                                                 input_list)\n\u001b[0;32m    971\u001b[0m \u001b[1;33m\u001b[0m\u001b[0m\n",
      "\u001b[1;32m~\\AppData\\Roaming\\Python\\Python38\\site-packages\\tensorflow\\python\\keras\\engine\\base_layer.py\u001b[0m in \u001b[0;36m_functional_construction_call\u001b[1;34m(self, inputs, args, kwargs, input_list)\u001b[0m\n\u001b[0;32m   1105\u001b[0m         layer=self, inputs=inputs, build_graph=True, training=training_value):\n\u001b[0;32m   1106\u001b[0m       \u001b[1;31m# Check input assumptions set after layer building, e.g. input shape.\u001b[0m\u001b[1;33m\u001b[0m\u001b[1;33m\u001b[0m\u001b[1;33m\u001b[0m\u001b[0m\n\u001b[1;32m-> 1107\u001b[1;33m       outputs = self._keras_tensor_symbolic_call(\n\u001b[0m\u001b[0;32m   1108\u001b[0m           inputs, input_masks, args, kwargs)\n\u001b[0;32m   1109\u001b[0m \u001b[1;33m\u001b[0m\u001b[0m\n",
      "\u001b[1;32m~\\AppData\\Roaming\\Python\\Python38\\site-packages\\tensorflow\\python\\keras\\engine\\base_layer.py\u001b[0m in \u001b[0;36m_keras_tensor_symbolic_call\u001b[1;34m(self, inputs, input_masks, args, kwargs)\u001b[0m\n\u001b[0;32m    838\u001b[0m       \u001b[1;32mreturn\u001b[0m \u001b[0mnest\u001b[0m\u001b[1;33m.\u001b[0m\u001b[0mmap_structure\u001b[0m\u001b[1;33m(\u001b[0m\u001b[0mkeras_tensor\u001b[0m\u001b[1;33m.\u001b[0m\u001b[0mKerasTensor\u001b[0m\u001b[1;33m,\u001b[0m \u001b[0moutput_signature\u001b[0m\u001b[1;33m)\u001b[0m\u001b[1;33m\u001b[0m\u001b[1;33m\u001b[0m\u001b[0m\n\u001b[0;32m    839\u001b[0m     \u001b[1;32melse\u001b[0m\u001b[1;33m:\u001b[0m\u001b[1;33m\u001b[0m\u001b[1;33m\u001b[0m\u001b[0m\n\u001b[1;32m--> 840\u001b[1;33m       \u001b[1;32mreturn\u001b[0m \u001b[0mself\u001b[0m\u001b[1;33m.\u001b[0m\u001b[0m_infer_output_signature\u001b[0m\u001b[1;33m(\u001b[0m\u001b[0minputs\u001b[0m\u001b[1;33m,\u001b[0m \u001b[0margs\u001b[0m\u001b[1;33m,\u001b[0m \u001b[0mkwargs\u001b[0m\u001b[1;33m,\u001b[0m \u001b[0minput_masks\u001b[0m\u001b[1;33m)\u001b[0m\u001b[1;33m\u001b[0m\u001b[1;33m\u001b[0m\u001b[0m\n\u001b[0m\u001b[0;32m    841\u001b[0m \u001b[1;33m\u001b[0m\u001b[0m\n\u001b[0;32m    842\u001b[0m   \u001b[1;32mdef\u001b[0m \u001b[0m_infer_output_signature\u001b[0m\u001b[1;33m(\u001b[0m\u001b[0mself\u001b[0m\u001b[1;33m,\u001b[0m \u001b[0minputs\u001b[0m\u001b[1;33m,\u001b[0m \u001b[0margs\u001b[0m\u001b[1;33m,\u001b[0m \u001b[0mkwargs\u001b[0m\u001b[1;33m,\u001b[0m \u001b[0minput_masks\u001b[0m\u001b[1;33m)\u001b[0m\u001b[1;33m:\u001b[0m\u001b[1;33m\u001b[0m\u001b[1;33m\u001b[0m\u001b[0m\n",
      "\u001b[1;32m~\\AppData\\Roaming\\Python\\Python38\\site-packages\\tensorflow\\python\\keras\\engine\\base_layer.py\u001b[0m in \u001b[0;36m_infer_output_signature\u001b[1;34m(self, inputs, args, kwargs, input_masks)\u001b[0m\n\u001b[0;32m    878\u001b[0m           \u001b[0mself\u001b[0m\u001b[1;33m.\u001b[0m\u001b[0m_maybe_build\u001b[0m\u001b[1;33m(\u001b[0m\u001b[0minputs\u001b[0m\u001b[1;33m)\u001b[0m\u001b[1;33m\u001b[0m\u001b[1;33m\u001b[0m\u001b[0m\n\u001b[0;32m    879\u001b[0m           \u001b[0minputs\u001b[0m \u001b[1;33m=\u001b[0m \u001b[0mself\u001b[0m\u001b[1;33m.\u001b[0m\u001b[0m_maybe_cast_inputs\u001b[0m\u001b[1;33m(\u001b[0m\u001b[0minputs\u001b[0m\u001b[1;33m)\u001b[0m\u001b[1;33m\u001b[0m\u001b[1;33m\u001b[0m\u001b[0m\n\u001b[1;32m--> 880\u001b[1;33m           \u001b[0moutputs\u001b[0m \u001b[1;33m=\u001b[0m \u001b[0mcall_fn\u001b[0m\u001b[1;33m(\u001b[0m\u001b[0minputs\u001b[0m\u001b[1;33m,\u001b[0m \u001b[1;33m*\u001b[0m\u001b[0margs\u001b[0m\u001b[1;33m,\u001b[0m \u001b[1;33m**\u001b[0m\u001b[0mkwargs\u001b[0m\u001b[1;33m)\u001b[0m\u001b[1;33m\u001b[0m\u001b[1;33m\u001b[0m\u001b[0m\n\u001b[0m\u001b[0;32m    881\u001b[0m \u001b[1;33m\u001b[0m\u001b[0m\n\u001b[0;32m    882\u001b[0m         \u001b[0mself\u001b[0m\u001b[1;33m.\u001b[0m\u001b[0m_handle_activity_regularization\u001b[0m\u001b[1;33m(\u001b[0m\u001b[0minputs\u001b[0m\u001b[1;33m,\u001b[0m \u001b[0moutputs\u001b[0m\u001b[1;33m)\u001b[0m\u001b[1;33m\u001b[0m\u001b[1;33m\u001b[0m\u001b[0m\n",
      "\u001b[1;32m~\\AppData\\Roaming\\Python\\Python38\\site-packages\\tensorflow\\python\\keras\\layers\\recurrent_v2.py\u001b[0m in \u001b[0;36mcall\u001b[1;34m(self, inputs, mask, training, initial_state)\u001b[0m\n\u001b[0;32m   1151\u001b[0m \u001b[1;33m\u001b[0m\u001b[0m\n\u001b[0;32m   1152\u001b[0m     \u001b[1;31m# LSTM does not support constants. Ignore it during process.\u001b[0m\u001b[1;33m\u001b[0m\u001b[1;33m\u001b[0m\u001b[1;33m\u001b[0m\u001b[0m\n\u001b[1;32m-> 1153\u001b[1;33m     \u001b[0minputs\u001b[0m\u001b[1;33m,\u001b[0m \u001b[0minitial_state\u001b[0m\u001b[1;33m,\u001b[0m \u001b[0m_\u001b[0m \u001b[1;33m=\u001b[0m \u001b[0mself\u001b[0m\u001b[1;33m.\u001b[0m\u001b[0m_process_inputs\u001b[0m\u001b[1;33m(\u001b[0m\u001b[0minputs\u001b[0m\u001b[1;33m,\u001b[0m \u001b[0minitial_state\u001b[0m\u001b[1;33m,\u001b[0m \u001b[1;32mNone\u001b[0m\u001b[1;33m)\u001b[0m\u001b[1;33m\u001b[0m\u001b[1;33m\u001b[0m\u001b[0m\n\u001b[0m\u001b[0;32m   1154\u001b[0m \u001b[1;33m\u001b[0m\u001b[0m\n\u001b[0;32m   1155\u001b[0m     \u001b[1;32mif\u001b[0m \u001b[0misinstance\u001b[0m\u001b[1;33m(\u001b[0m\u001b[0mmask\u001b[0m\u001b[1;33m,\u001b[0m \u001b[0mlist\u001b[0m\u001b[1;33m)\u001b[0m\u001b[1;33m:\u001b[0m\u001b[1;33m\u001b[0m\u001b[1;33m\u001b[0m\u001b[0m\n",
      "\u001b[1;32m~\\AppData\\Roaming\\Python\\Python38\\site-packages\\tensorflow\\python\\keras\\layers\\recurrent.py\u001b[0m in \u001b[0;36m_process_inputs\u001b[1;34m(self, inputs, initial_state, constants)\u001b[0m\n\u001b[0;32m    866\u001b[0m         \u001b[0minitial_state\u001b[0m \u001b[1;33m=\u001b[0m \u001b[0mself\u001b[0m\u001b[1;33m.\u001b[0m\u001b[0mstates\u001b[0m\u001b[1;33m\u001b[0m\u001b[1;33m\u001b[0m\u001b[0m\n\u001b[0;32m    867\u001b[0m     \u001b[1;32melif\u001b[0m \u001b[0minitial_state\u001b[0m \u001b[1;32mis\u001b[0m \u001b[1;32mNone\u001b[0m\u001b[1;33m:\u001b[0m\u001b[1;33m\u001b[0m\u001b[1;33m\u001b[0m\u001b[0m\n\u001b[1;32m--> 868\u001b[1;33m       \u001b[0minitial_state\u001b[0m \u001b[1;33m=\u001b[0m \u001b[0mself\u001b[0m\u001b[1;33m.\u001b[0m\u001b[0mget_initial_state\u001b[0m\u001b[1;33m(\u001b[0m\u001b[0minputs\u001b[0m\u001b[1;33m)\u001b[0m\u001b[1;33m\u001b[0m\u001b[1;33m\u001b[0m\u001b[0m\n\u001b[0m\u001b[0;32m    869\u001b[0m \u001b[1;33m\u001b[0m\u001b[0m\n\u001b[0;32m    870\u001b[0m     \u001b[1;32mif\u001b[0m \u001b[0mlen\u001b[0m\u001b[1;33m(\u001b[0m\u001b[0minitial_state\u001b[0m\u001b[1;33m)\u001b[0m \u001b[1;33m!=\u001b[0m \u001b[0mlen\u001b[0m\u001b[1;33m(\u001b[0m\u001b[0mself\u001b[0m\u001b[1;33m.\u001b[0m\u001b[0mstates\u001b[0m\u001b[1;33m)\u001b[0m\u001b[1;33m:\u001b[0m\u001b[1;33m\u001b[0m\u001b[1;33m\u001b[0m\u001b[0m\n",
      "\u001b[1;32m~\\AppData\\Roaming\\Python\\Python38\\site-packages\\tensorflow\\python\\keras\\layers\\recurrent.py\u001b[0m in \u001b[0;36mget_initial_state\u001b[1;34m(self, inputs)\u001b[0m\n\u001b[0;32m    648\u001b[0m     \u001b[0mdtype\u001b[0m \u001b[1;33m=\u001b[0m \u001b[0minputs\u001b[0m\u001b[1;33m.\u001b[0m\u001b[0mdtype\u001b[0m\u001b[1;33m\u001b[0m\u001b[1;33m\u001b[0m\u001b[0m\n\u001b[0;32m    649\u001b[0m     \u001b[1;32mif\u001b[0m \u001b[0mget_initial_state_fn\u001b[0m\u001b[1;33m:\u001b[0m\u001b[1;33m\u001b[0m\u001b[1;33m\u001b[0m\u001b[0m\n\u001b[1;32m--> 650\u001b[1;33m       init_state = get_initial_state_fn(\n\u001b[0m\u001b[0;32m    651\u001b[0m           inputs=None, batch_size=batch_size, dtype=dtype)\n\u001b[0;32m    652\u001b[0m     \u001b[1;32melse\u001b[0m\u001b[1;33m:\u001b[0m\u001b[1;33m\u001b[0m\u001b[1;33m\u001b[0m\u001b[0m\n",
      "\u001b[1;32m~\\AppData\\Roaming\\Python\\Python38\\site-packages\\tensorflow\\python\\keras\\layers\\recurrent.py\u001b[0m in \u001b[0;36mget_initial_state\u001b[1;34m(self, inputs, batch_size, dtype)\u001b[0m\n\u001b[0;32m   2514\u001b[0m \u001b[1;33m\u001b[0m\u001b[0m\n\u001b[0;32m   2515\u001b[0m   \u001b[1;32mdef\u001b[0m \u001b[0mget_initial_state\u001b[0m\u001b[1;33m(\u001b[0m\u001b[0mself\u001b[0m\u001b[1;33m,\u001b[0m \u001b[0minputs\u001b[0m\u001b[1;33m=\u001b[0m\u001b[1;32mNone\u001b[0m\u001b[1;33m,\u001b[0m \u001b[0mbatch_size\u001b[0m\u001b[1;33m=\u001b[0m\u001b[1;32mNone\u001b[0m\u001b[1;33m,\u001b[0m \u001b[0mdtype\u001b[0m\u001b[1;33m=\u001b[0m\u001b[1;32mNone\u001b[0m\u001b[1;33m)\u001b[0m\u001b[1;33m:\u001b[0m\u001b[1;33m\u001b[0m\u001b[1;33m\u001b[0m\u001b[0m\n\u001b[1;32m-> 2516\u001b[1;33m     return list(_generate_zero_filled_state_for_cell(\n\u001b[0m\u001b[0;32m   2517\u001b[0m         self, inputs, batch_size, dtype))\n\u001b[0;32m   2518\u001b[0m \u001b[1;33m\u001b[0m\u001b[0m\n",
      "\u001b[1;32m~\\AppData\\Roaming\\Python\\Python38\\site-packages\\tensorflow\\python\\keras\\layers\\recurrent.py\u001b[0m in \u001b[0;36m_generate_zero_filled_state_for_cell\u001b[1;34m(cell, inputs, batch_size, dtype)\u001b[0m\n\u001b[0;32m   2996\u001b[0m     \u001b[0mbatch_size\u001b[0m \u001b[1;33m=\u001b[0m \u001b[0marray_ops\u001b[0m\u001b[1;33m.\u001b[0m\u001b[0mshape\u001b[0m\u001b[1;33m(\u001b[0m\u001b[0minputs\u001b[0m\u001b[1;33m)\u001b[0m\u001b[1;33m[\u001b[0m\u001b[1;36m0\u001b[0m\u001b[1;33m]\u001b[0m\u001b[1;33m\u001b[0m\u001b[1;33m\u001b[0m\u001b[0m\n\u001b[0;32m   2997\u001b[0m     \u001b[0mdtype\u001b[0m \u001b[1;33m=\u001b[0m \u001b[0minputs\u001b[0m\u001b[1;33m.\u001b[0m\u001b[0mdtype\u001b[0m\u001b[1;33m\u001b[0m\u001b[1;33m\u001b[0m\u001b[0m\n\u001b[1;32m-> 2998\u001b[1;33m   \u001b[1;32mreturn\u001b[0m \u001b[0m_generate_zero_filled_state\u001b[0m\u001b[1;33m(\u001b[0m\u001b[0mbatch_size\u001b[0m\u001b[1;33m,\u001b[0m \u001b[0mcell\u001b[0m\u001b[1;33m.\u001b[0m\u001b[0mstate_size\u001b[0m\u001b[1;33m,\u001b[0m \u001b[0mdtype\u001b[0m\u001b[1;33m)\u001b[0m\u001b[1;33m\u001b[0m\u001b[1;33m\u001b[0m\u001b[0m\n\u001b[0m\u001b[0;32m   2999\u001b[0m \u001b[1;33m\u001b[0m\u001b[0m\n\u001b[0;32m   3000\u001b[0m \u001b[1;33m\u001b[0m\u001b[0m\n",
      "\u001b[1;32m~\\AppData\\Roaming\\Python\\Python38\\site-packages\\tensorflow\\python\\keras\\layers\\recurrent.py\u001b[0m in \u001b[0;36m_generate_zero_filled_state\u001b[1;34m(batch_size_tensor, state_size, dtype)\u001b[0m\n\u001b[0;32m   3012\u001b[0m \u001b[1;33m\u001b[0m\u001b[0m\n\u001b[0;32m   3013\u001b[0m   \u001b[1;32mif\u001b[0m \u001b[0mnest\u001b[0m\u001b[1;33m.\u001b[0m\u001b[0mis_nested\u001b[0m\u001b[1;33m(\u001b[0m\u001b[0mstate_size\u001b[0m\u001b[1;33m)\u001b[0m\u001b[1;33m:\u001b[0m\u001b[1;33m\u001b[0m\u001b[1;33m\u001b[0m\u001b[0m\n\u001b[1;32m-> 3014\u001b[1;33m     \u001b[1;32mreturn\u001b[0m \u001b[0mnest\u001b[0m\u001b[1;33m.\u001b[0m\u001b[0mmap_structure\u001b[0m\u001b[1;33m(\u001b[0m\u001b[0mcreate_zeros\u001b[0m\u001b[1;33m,\u001b[0m \u001b[0mstate_size\u001b[0m\u001b[1;33m)\u001b[0m\u001b[1;33m\u001b[0m\u001b[1;33m\u001b[0m\u001b[0m\n\u001b[0m\u001b[0;32m   3015\u001b[0m   \u001b[1;32melse\u001b[0m\u001b[1;33m:\u001b[0m\u001b[1;33m\u001b[0m\u001b[1;33m\u001b[0m\u001b[0m\n\u001b[0;32m   3016\u001b[0m     \u001b[1;32mreturn\u001b[0m \u001b[0mcreate_zeros\u001b[0m\u001b[1;33m(\u001b[0m\u001b[0mstate_size\u001b[0m\u001b[1;33m)\u001b[0m\u001b[1;33m\u001b[0m\u001b[1;33m\u001b[0m\u001b[0m\n",
      "\u001b[1;32m~\\AppData\\Roaming\\Python\\Python38\\site-packages\\tensorflow\\python\\util\\nest.py\u001b[0m in \u001b[0;36mmap_structure\u001b[1;34m(func, *structure, **kwargs)\u001b[0m\n\u001b[0;32m    865\u001b[0m \u001b[1;33m\u001b[0m\u001b[0m\n\u001b[0;32m    866\u001b[0m   return pack_sequence_as(\n\u001b[1;32m--> 867\u001b[1;33m       \u001b[0mstructure\u001b[0m\u001b[1;33m[\u001b[0m\u001b[1;36m0\u001b[0m\u001b[1;33m]\u001b[0m\u001b[1;33m,\u001b[0m \u001b[1;33m[\u001b[0m\u001b[0mfunc\u001b[0m\u001b[1;33m(\u001b[0m\u001b[1;33m*\u001b[0m\u001b[0mx\u001b[0m\u001b[1;33m)\u001b[0m \u001b[1;32mfor\u001b[0m \u001b[0mx\u001b[0m \u001b[1;32min\u001b[0m \u001b[0mentries\u001b[0m\u001b[1;33m]\u001b[0m\u001b[1;33m,\u001b[0m\u001b[1;33m\u001b[0m\u001b[1;33m\u001b[0m\u001b[0m\n\u001b[0m\u001b[0;32m    868\u001b[0m       expand_composites=expand_composites)\n\u001b[0;32m    869\u001b[0m \u001b[1;33m\u001b[0m\u001b[0m\n",
      "\u001b[1;32m~\\AppData\\Roaming\\Python\\Python38\\site-packages\\tensorflow\\python\\util\\nest.py\u001b[0m in \u001b[0;36m<listcomp>\u001b[1;34m(.0)\u001b[0m\n\u001b[0;32m    865\u001b[0m \u001b[1;33m\u001b[0m\u001b[0m\n\u001b[0;32m    866\u001b[0m   return pack_sequence_as(\n\u001b[1;32m--> 867\u001b[1;33m       \u001b[0mstructure\u001b[0m\u001b[1;33m[\u001b[0m\u001b[1;36m0\u001b[0m\u001b[1;33m]\u001b[0m\u001b[1;33m,\u001b[0m \u001b[1;33m[\u001b[0m\u001b[0mfunc\u001b[0m\u001b[1;33m(\u001b[0m\u001b[1;33m*\u001b[0m\u001b[0mx\u001b[0m\u001b[1;33m)\u001b[0m \u001b[1;32mfor\u001b[0m \u001b[0mx\u001b[0m \u001b[1;32min\u001b[0m \u001b[0mentries\u001b[0m\u001b[1;33m]\u001b[0m\u001b[1;33m,\u001b[0m\u001b[1;33m\u001b[0m\u001b[1;33m\u001b[0m\u001b[0m\n\u001b[0m\u001b[0;32m    868\u001b[0m       expand_composites=expand_composites)\n\u001b[0;32m    869\u001b[0m \u001b[1;33m\u001b[0m\u001b[0m\n",
      "\u001b[1;32m~\\AppData\\Roaming\\Python\\Python38\\site-packages\\tensorflow\\python\\keras\\layers\\recurrent.py\u001b[0m in \u001b[0;36mcreate_zeros\u001b[1;34m(unnested_state_size)\u001b[0m\n\u001b[0;32m   3009\u001b[0m     \u001b[0mflat_dims\u001b[0m \u001b[1;33m=\u001b[0m \u001b[0mtensor_shape\u001b[0m\u001b[1;33m.\u001b[0m\u001b[0mTensorShape\u001b[0m\u001b[1;33m(\u001b[0m\u001b[0munnested_state_size\u001b[0m\u001b[1;33m)\u001b[0m\u001b[1;33m.\u001b[0m\u001b[0mas_list\u001b[0m\u001b[1;33m(\u001b[0m\u001b[1;33m)\u001b[0m\u001b[1;33m\u001b[0m\u001b[1;33m\u001b[0m\u001b[0m\n\u001b[0;32m   3010\u001b[0m     \u001b[0minit_state_size\u001b[0m \u001b[1;33m=\u001b[0m \u001b[1;33m[\u001b[0m\u001b[0mbatch_size_tensor\u001b[0m\u001b[1;33m]\u001b[0m \u001b[1;33m+\u001b[0m \u001b[0mflat_dims\u001b[0m\u001b[1;33m\u001b[0m\u001b[1;33m\u001b[0m\u001b[0m\n\u001b[1;32m-> 3011\u001b[1;33m     \u001b[1;32mreturn\u001b[0m \u001b[0marray_ops\u001b[0m\u001b[1;33m.\u001b[0m\u001b[0mzeros\u001b[0m\u001b[1;33m(\u001b[0m\u001b[0minit_state_size\u001b[0m\u001b[1;33m,\u001b[0m \u001b[0mdtype\u001b[0m\u001b[1;33m=\u001b[0m\u001b[0mdtype\u001b[0m\u001b[1;33m)\u001b[0m\u001b[1;33m\u001b[0m\u001b[1;33m\u001b[0m\u001b[0m\n\u001b[0m\u001b[0;32m   3012\u001b[0m \u001b[1;33m\u001b[0m\u001b[0m\n\u001b[0;32m   3013\u001b[0m   \u001b[1;32mif\u001b[0m \u001b[0mnest\u001b[0m\u001b[1;33m.\u001b[0m\u001b[0mis_nested\u001b[0m\u001b[1;33m(\u001b[0m\u001b[0mstate_size\u001b[0m\u001b[1;33m)\u001b[0m\u001b[1;33m:\u001b[0m\u001b[1;33m\u001b[0m\u001b[1;33m\u001b[0m\u001b[0m\n",
      "\u001b[1;32m~\\AppData\\Roaming\\Python\\Python38\\site-packages\\tensorflow\\python\\util\\dispatch.py\u001b[0m in \u001b[0;36mwrapper\u001b[1;34m(*args, **kwargs)\u001b[0m\n\u001b[0;32m    204\u001b[0m     \u001b[1;34m\"\"\"Call target, and fall back on dispatchers if there is a TypeError.\"\"\"\u001b[0m\u001b[1;33m\u001b[0m\u001b[1;33m\u001b[0m\u001b[0m\n\u001b[0;32m    205\u001b[0m     \u001b[1;32mtry\u001b[0m\u001b[1;33m:\u001b[0m\u001b[1;33m\u001b[0m\u001b[1;33m\u001b[0m\u001b[0m\n\u001b[1;32m--> 206\u001b[1;33m       \u001b[1;32mreturn\u001b[0m \u001b[0mtarget\u001b[0m\u001b[1;33m(\u001b[0m\u001b[1;33m*\u001b[0m\u001b[0margs\u001b[0m\u001b[1;33m,\u001b[0m \u001b[1;33m**\u001b[0m\u001b[0mkwargs\u001b[0m\u001b[1;33m)\u001b[0m\u001b[1;33m\u001b[0m\u001b[1;33m\u001b[0m\u001b[0m\n\u001b[0m\u001b[0;32m    207\u001b[0m     \u001b[1;32mexcept\u001b[0m \u001b[1;33m(\u001b[0m\u001b[0mTypeError\u001b[0m\u001b[1;33m,\u001b[0m \u001b[0mValueError\u001b[0m\u001b[1;33m)\u001b[0m\u001b[1;33m:\u001b[0m\u001b[1;33m\u001b[0m\u001b[1;33m\u001b[0m\u001b[0m\n\u001b[0;32m    208\u001b[0m       \u001b[1;31m# Note: convert_to_eager_tensor currently raises a ValueError, not a\u001b[0m\u001b[1;33m\u001b[0m\u001b[1;33m\u001b[0m\u001b[1;33m\u001b[0m\u001b[0m\n",
      "\u001b[1;32m~\\AppData\\Roaming\\Python\\Python38\\site-packages\\tensorflow\\python\\ops\\array_ops.py\u001b[0m in \u001b[0;36mwrapped\u001b[1;34m(*args, **kwargs)\u001b[0m\n\u001b[0;32m   2909\u001b[0m \u001b[1;33m\u001b[0m\u001b[0m\n\u001b[0;32m   2910\u001b[0m   \u001b[1;32mdef\u001b[0m \u001b[0mwrapped\u001b[0m\u001b[1;33m(\u001b[0m\u001b[1;33m*\u001b[0m\u001b[0margs\u001b[0m\u001b[1;33m,\u001b[0m \u001b[1;33m**\u001b[0m\u001b[0mkwargs\u001b[0m\u001b[1;33m)\u001b[0m\u001b[1;33m:\u001b[0m\u001b[1;33m\u001b[0m\u001b[1;33m\u001b[0m\u001b[0m\n\u001b[1;32m-> 2911\u001b[1;33m     \u001b[0mtensor\u001b[0m \u001b[1;33m=\u001b[0m \u001b[0mfun\u001b[0m\u001b[1;33m(\u001b[0m\u001b[1;33m*\u001b[0m\u001b[0margs\u001b[0m\u001b[1;33m,\u001b[0m \u001b[1;33m**\u001b[0m\u001b[0mkwargs\u001b[0m\u001b[1;33m)\u001b[0m\u001b[1;33m\u001b[0m\u001b[1;33m\u001b[0m\u001b[0m\n\u001b[0m\u001b[0;32m   2912\u001b[0m     \u001b[0mtensor\u001b[0m\u001b[1;33m.\u001b[0m\u001b[0m_is_zeros_tensor\u001b[0m \u001b[1;33m=\u001b[0m \u001b[1;32mTrue\u001b[0m\u001b[1;33m\u001b[0m\u001b[1;33m\u001b[0m\u001b[0m\n\u001b[0;32m   2913\u001b[0m     \u001b[1;32mreturn\u001b[0m \u001b[0mtensor\u001b[0m\u001b[1;33m\u001b[0m\u001b[1;33m\u001b[0m\u001b[0m\n",
      "\u001b[1;32m~\\AppData\\Roaming\\Python\\Python38\\site-packages\\tensorflow\\python\\ops\\array_ops.py\u001b[0m in \u001b[0;36mzeros\u001b[1;34m(shape, dtype, name)\u001b[0m\n\u001b[0;32m   2958\u001b[0m           \u001b[1;31m# Create a constant if it won't be very big. Otherwise create a fill\u001b[0m\u001b[1;33m\u001b[0m\u001b[1;33m\u001b[0m\u001b[1;33m\u001b[0m\u001b[0m\n\u001b[0;32m   2959\u001b[0m           \u001b[1;31m# op to prevent serialized GraphDefs from becoming too large.\u001b[0m\u001b[1;33m\u001b[0m\u001b[1;33m\u001b[0m\u001b[1;33m\u001b[0m\u001b[0m\n\u001b[1;32m-> 2960\u001b[1;33m           \u001b[0moutput\u001b[0m \u001b[1;33m=\u001b[0m \u001b[0m_constant_if_small\u001b[0m\u001b[1;33m(\u001b[0m\u001b[0mzero\u001b[0m\u001b[1;33m,\u001b[0m \u001b[0mshape\u001b[0m\u001b[1;33m,\u001b[0m \u001b[0mdtype\u001b[0m\u001b[1;33m,\u001b[0m \u001b[0mname\u001b[0m\u001b[1;33m)\u001b[0m\u001b[1;33m\u001b[0m\u001b[1;33m\u001b[0m\u001b[0m\n\u001b[0m\u001b[0;32m   2961\u001b[0m           \u001b[1;32mif\u001b[0m \u001b[0moutput\u001b[0m \u001b[1;32mis\u001b[0m \u001b[1;32mnot\u001b[0m \u001b[1;32mNone\u001b[0m\u001b[1;33m:\u001b[0m\u001b[1;33m\u001b[0m\u001b[1;33m\u001b[0m\u001b[0m\n\u001b[0;32m   2962\u001b[0m             \u001b[1;32mreturn\u001b[0m \u001b[0moutput\u001b[0m\u001b[1;33m\u001b[0m\u001b[1;33m\u001b[0m\u001b[0m\n",
      "\u001b[1;32m~\\AppData\\Roaming\\Python\\Python38\\site-packages\\tensorflow\\python\\ops\\array_ops.py\u001b[0m in \u001b[0;36m_constant_if_small\u001b[1;34m(value, shape, dtype, name)\u001b[0m\n\u001b[0;32m   2894\u001b[0m \u001b[1;32mdef\u001b[0m \u001b[0m_constant_if_small\u001b[0m\u001b[1;33m(\u001b[0m\u001b[0mvalue\u001b[0m\u001b[1;33m,\u001b[0m \u001b[0mshape\u001b[0m\u001b[1;33m,\u001b[0m \u001b[0mdtype\u001b[0m\u001b[1;33m,\u001b[0m \u001b[0mname\u001b[0m\u001b[1;33m)\u001b[0m\u001b[1;33m:\u001b[0m\u001b[1;33m\u001b[0m\u001b[1;33m\u001b[0m\u001b[0m\n\u001b[0;32m   2895\u001b[0m   \u001b[1;32mtry\u001b[0m\u001b[1;33m:\u001b[0m\u001b[1;33m\u001b[0m\u001b[1;33m\u001b[0m\u001b[0m\n\u001b[1;32m-> 2896\u001b[1;33m     \u001b[1;32mif\u001b[0m \u001b[0mnp\u001b[0m\u001b[1;33m.\u001b[0m\u001b[0mprod\u001b[0m\u001b[1;33m(\u001b[0m\u001b[0mshape\u001b[0m\u001b[1;33m)\u001b[0m \u001b[1;33m<\u001b[0m \u001b[1;36m1000\u001b[0m\u001b[1;33m:\u001b[0m\u001b[1;33m\u001b[0m\u001b[1;33m\u001b[0m\u001b[0m\n\u001b[0m\u001b[0;32m   2897\u001b[0m       \u001b[1;32mreturn\u001b[0m \u001b[0mconstant\u001b[0m\u001b[1;33m(\u001b[0m\u001b[0mvalue\u001b[0m\u001b[1;33m,\u001b[0m \u001b[0mshape\u001b[0m\u001b[1;33m=\u001b[0m\u001b[0mshape\u001b[0m\u001b[1;33m,\u001b[0m \u001b[0mdtype\u001b[0m\u001b[1;33m=\u001b[0m\u001b[0mdtype\u001b[0m\u001b[1;33m,\u001b[0m \u001b[0mname\u001b[0m\u001b[1;33m=\u001b[0m\u001b[0mname\u001b[0m\u001b[1;33m)\u001b[0m\u001b[1;33m\u001b[0m\u001b[1;33m\u001b[0m\u001b[0m\n\u001b[0;32m   2898\u001b[0m   \u001b[1;32mexcept\u001b[0m \u001b[0mTypeError\u001b[0m\u001b[1;33m:\u001b[0m\u001b[1;33m\u001b[0m\u001b[1;33m\u001b[0m\u001b[0m\n",
      "\u001b[1;32m<__array_function__ internals>\u001b[0m in \u001b[0;36mprod\u001b[1;34m(*args, **kwargs)\u001b[0m\n",
      "\u001b[1;32m~\\Miniconda3\\envs\\deep_learning\\lib\\site-packages\\numpy\\core\\fromnumeric.py\u001b[0m in \u001b[0;36mprod\u001b[1;34m(a, axis, dtype, out, keepdims, initial, where)\u001b[0m\n\u001b[0;32m   3028\u001b[0m     \u001b[1;36m10\u001b[0m\u001b[1;33m\u001b[0m\u001b[1;33m\u001b[0m\u001b[0m\n\u001b[0;32m   3029\u001b[0m     \"\"\"\n\u001b[1;32m-> 3030\u001b[1;33m     return _wrapreduction(a, np.multiply, 'prod', axis, dtype, out,\n\u001b[0m\u001b[0;32m   3031\u001b[0m                           keepdims=keepdims, initial=initial, where=where)\n\u001b[0;32m   3032\u001b[0m \u001b[1;33m\u001b[0m\u001b[0m\n",
      "\u001b[1;32m~\\Miniconda3\\envs\\deep_learning\\lib\\site-packages\\numpy\\core\\fromnumeric.py\u001b[0m in \u001b[0;36m_wrapreduction\u001b[1;34m(obj, ufunc, method, axis, dtype, out, **kwargs)\u001b[0m\n\u001b[0;32m     85\u001b[0m                 \u001b[1;32mreturn\u001b[0m \u001b[0mreduction\u001b[0m\u001b[1;33m(\u001b[0m\u001b[0maxis\u001b[0m\u001b[1;33m=\u001b[0m\u001b[0maxis\u001b[0m\u001b[1;33m,\u001b[0m \u001b[0mout\u001b[0m\u001b[1;33m=\u001b[0m\u001b[0mout\u001b[0m\u001b[1;33m,\u001b[0m \u001b[1;33m**\u001b[0m\u001b[0mpasskwargs\u001b[0m\u001b[1;33m)\u001b[0m\u001b[1;33m\u001b[0m\u001b[1;33m\u001b[0m\u001b[0m\n\u001b[0;32m     86\u001b[0m \u001b[1;33m\u001b[0m\u001b[0m\n\u001b[1;32m---> 87\u001b[1;33m     \u001b[1;32mreturn\u001b[0m \u001b[0mufunc\u001b[0m\u001b[1;33m.\u001b[0m\u001b[0mreduce\u001b[0m\u001b[1;33m(\u001b[0m\u001b[0mobj\u001b[0m\u001b[1;33m,\u001b[0m \u001b[0maxis\u001b[0m\u001b[1;33m,\u001b[0m \u001b[0mdtype\u001b[0m\u001b[1;33m,\u001b[0m \u001b[0mout\u001b[0m\u001b[1;33m,\u001b[0m \u001b[1;33m**\u001b[0m\u001b[0mpasskwargs\u001b[0m\u001b[1;33m)\u001b[0m\u001b[1;33m\u001b[0m\u001b[1;33m\u001b[0m\u001b[0m\n\u001b[0m\u001b[0;32m     88\u001b[0m \u001b[1;33m\u001b[0m\u001b[0m\n\u001b[0;32m     89\u001b[0m \u001b[1;33m\u001b[0m\u001b[0m\n",
      "\u001b[1;32m~\\AppData\\Roaming\\Python\\Python38\\site-packages\\tensorflow\\python\\framework\\ops.py\u001b[0m in \u001b[0;36m__array__\u001b[1;34m(self)\u001b[0m\n\u001b[0;32m    865\u001b[0m \u001b[1;33m\u001b[0m\u001b[0m\n\u001b[0;32m    866\u001b[0m   \u001b[1;32mdef\u001b[0m \u001b[0m__array__\u001b[0m\u001b[1;33m(\u001b[0m\u001b[0mself\u001b[0m\u001b[1;33m)\u001b[0m\u001b[1;33m:\u001b[0m\u001b[1;33m\u001b[0m\u001b[1;33m\u001b[0m\u001b[0m\n\u001b[1;32m--> 867\u001b[1;33m     raise NotImplementedError(\n\u001b[0m\u001b[0;32m    868\u001b[0m         \u001b[1;34m\"Cannot convert a symbolic Tensor ({}) to a numpy array.\"\u001b[0m\u001b[1;33m\u001b[0m\u001b[1;33m\u001b[0m\u001b[0m\n\u001b[0;32m    869\u001b[0m         \u001b[1;34m\" This error may indicate that you're trying to pass a Tensor to\"\u001b[0m\u001b[1;33m\u001b[0m\u001b[1;33m\u001b[0m\u001b[0m\n",
      "\u001b[1;31mNotImplementedError\u001b[0m: Cannot convert a symbolic Tensor (lstm_4/strided_slice:0) to a numpy array. This error may indicate that you're trying to pass a Tensor to a NumPy call, which is not supported"
     ]
    }
   ],
   "source": [
    "# model for v4\n",
    "\n",
    "ts_inputs = tf.keras.Input(shape=(segN, N))\n",
    "\n",
    "# units=10 -> The cell and hidden states will be of dimension 10.\n",
    "#             The number of parameters that need to be trained = 4*units*(units+2)\n",
    "x = LSTM(units=50)(ts_inputs)\n",
    "x = Dropout(0.2)(x)\n",
    "outputs = Dense(1, activation='linear')(x)\n",
    "model = tf.keras.Model(inputs=ts_inputs, outputs=outputs)"
   ]
  },
  {
   "cell_type": "code",
   "execution_count": 72,
   "id": "8fb8411a",
   "metadata": {},
   "outputs": [
    {
     "ename": "ValueError",
     "evalue": "This model has not yet been built. Build the model first by calling `build()` or calling `fit()` with some data, or specify an `input_shape` argument in the first layer(s) for automatic build.",
     "output_type": "error",
     "traceback": [
      "\u001b[1;31m---------------------------------------------------------------------------\u001b[0m",
      "\u001b[1;31mValueError\u001b[0m                                Traceback (most recent call last)",
      "\u001b[1;32m<ipython-input-72-3caefa261807>\u001b[0m in \u001b[0;36m<module>\u001b[1;34m\u001b[0m\n\u001b[1;32m----> 1\u001b[1;33m \u001b[0mprint\u001b[0m\u001b[1;33m(\u001b[0m\u001b[0mmodel\u001b[0m\u001b[1;33m.\u001b[0m\u001b[0msummary\u001b[0m\u001b[1;33m(\u001b[0m\u001b[1;33m)\u001b[0m\u001b[1;33m)\u001b[0m\u001b[1;33m\u001b[0m\u001b[1;33m\u001b[0m\u001b[0m\n\u001b[0m",
      "\u001b[1;32m~\\AppData\\Roaming\\Python\\Python38\\site-packages\\tensorflow\\python\\keras\\engine\\training.py\u001b[0m in \u001b[0;36msummary\u001b[1;34m(self, line_length, positions, print_fn)\u001b[0m\n\u001b[0;32m   2475\u001b[0m     \"\"\"\n\u001b[0;32m   2476\u001b[0m     \u001b[1;32mif\u001b[0m \u001b[1;32mnot\u001b[0m \u001b[0mself\u001b[0m\u001b[1;33m.\u001b[0m\u001b[0mbuilt\u001b[0m\u001b[1;33m:\u001b[0m\u001b[1;33m\u001b[0m\u001b[1;33m\u001b[0m\u001b[0m\n\u001b[1;32m-> 2477\u001b[1;33m       raise ValueError('This model has not yet been built. '\n\u001b[0m\u001b[0;32m   2478\u001b[0m                        \u001b[1;34m'Build the model first by calling `build()` or calling '\u001b[0m\u001b[1;33m\u001b[0m\u001b[1;33m\u001b[0m\u001b[0m\n\u001b[0;32m   2479\u001b[0m                        \u001b[1;34m'`fit()` with some data, or specify '\u001b[0m\u001b[1;33m\u001b[0m\u001b[1;33m\u001b[0m\u001b[0m\n",
      "\u001b[1;31mValueError\u001b[0m: This model has not yet been built. Build the model first by calling `build()` or calling `fit()` with some data, or specify an `input_shape` argument in the first layer(s) for automatic build."
     ]
    }
   ],
   "source": [
    "print(model.summary())"
   ]
  },
  {
   "cell_type": "code",
   "execution_count": 498,
   "id": "4c905cf1",
   "metadata": {},
   "outputs": [],
   "source": [
    "import keras_tuner as kt\n",
    "from keras_tuner import HyperModel as hp\n",
    "from keras_tuner.tuners import RandomSearch\n"
   ]
  },
  {
   "cell_type": "code",
   "execution_count": 447,
   "id": "d4551229",
   "metadata": {},
   "outputs": [],
   "source": [
    "early_stopping = tf.keras.callbacks.EarlyStopping(\n",
    "    monitor='val_accuracy', \n",
    "    verbose=1,\n",
    "    patience=350,\n",
    "    mode='max',\n",
    "    restore_best_weights=True)"
   ]
  },
  {
   "cell_type": "code",
   "execution_count": null,
   "id": "50b307a4",
   "metadata": {
    "scrolled": true
   },
   "outputs": [],
   "source": [
    "modelName = 'rawLFP_v5n'\n",
    "\n",
    "model.compile(optimizer='sgd',\n",
    "              loss=tf.keras.losses.CategoricalCrossentropy(),\n",
    "              metrics=['accuracy'])\n",
    "\n",
    "stepTrain=len(trainData)//batchSize\n",
    "stepValidate=len(validate)//batchSize\n",
    "\n",
    "history = model.fit(loadTrain(trainData,sampleSize),\n",
    "                    steps_per_epoch=stepTrain,\n",
    "                    validation_data=loadTrain(validate,sampleSize),\n",
    "                    validation_steps=stepValidate,\n",
    "                    epochs=1200,callbacks=[early_stopping])#,\n"
   ]
  },
  {
   "cell_type": "code",
   "execution_count": 544,
   "id": "b1c73123",
   "metadata": {},
   "outputs": [
    {
     "name": "stdout",
     "output_type": "stream",
     "text": [
      "1\n"
     ]
    }
   ],
   "source": [
    "from keras import backend as K\n",
    "if K.image_data_format() != 'channels_first': \n",
    "    print(1)"
   ]
  },
  {
   "cell_type": "code",
   "execution_count": 582,
   "id": "5fa441a3",
   "metadata": {},
   "outputs": [],
   "source": [
    "def model_builder(hp):\n",
    "\n",
    "    model = Sequential()\n",
    "    model.add(Conv1D(filters = hp.Int('numFilters_1', min_value=4, max_value=64, step=4),\n",
    "                     kernel_size= hp.Int('kernalSize_1', min_value=3, max_value=89, step=2), \n",
    "                     input_shape=(segN,2), activation='relu'))\n",
    "#     model.add(Conv1D(filters = hp.Int('numFilters_2', min_value=4, max_value=64, step=4),\n",
    "#                      kernel_size= hp.Int('kernalSize_2', min_value=3, max_value=89, step=2),\n",
    "#                      activation='relu'))\n",
    "    model.add(MaxPooling1D(pool_size=(2)))\n",
    "    model.add(Dropout(rate=hp.Float(\n",
    "                'dropout_1',\n",
    "                min_value=0.0,\n",
    "                max_value=0.5,\n",
    "                default=0.20,\n",
    "                step=0.05,)))\n",
    "\n",
    "#     model.add(Conv1D(16, (5), activation='relu'))\n",
    "    model.add(Conv1D(filters = hp.Int('numFilters_2', min_value=4, max_value=64, step=4),\n",
    "                     kernel_size= hp.Int('kernalSize_2', min_value=3, max_value=89, step=2), activation='relu'))\n",
    "    model.add(MaxPooling1D(pool_size=(2)))\n",
    "    model.add(Dropout(rate=hp.Float(\n",
    "                'dropout_2',\n",
    "                min_value=0.0,\n",
    "                max_value=0.5,\n",
    "                default=0.20,\n",
    "                step=0.05,)))\n",
    "\n",
    "#     model.add(Conv1D(16, (9), activation='relu'))\n",
    "    model.add(Conv1D(filters = hp.Int('numFilters_3', min_value=8, max_value=64, step=4),\n",
    "                     kernel_size= hp.Int('kernalSize_3', min_value=3, max_value=89, step=2), activation='relu'))\n",
    "    model.add(MaxPooling1D(pool_size=(2)))\n",
    "    model.add(Dropout(rate=hp.Float(\n",
    "                'dropout_3',\n",
    "                min_value=0.0,\n",
    "                max_value=0.5,\n",
    "                default=0.20,\n",
    "                step=0.05,)))\n",
    "\n",
    "#     model.add(Conv1D(32, (21), activation='relu'))\n",
    "    model.add(Conv1D(filters = hp.Int('numFilters_4', min_value=16, max_value=64, step=4),\n",
    "                     kernel_size= hp.Int('kernalSize_4', min_value=3, max_value=59, step=2), activation='relu', padding='same'))\n",
    "    model.add(MaxPooling1D(pool_size=(2)))\n",
    "    model.add(Dropout(rate=hp.Float(\n",
    "                'dropout_4',\n",
    "                min_value=0.0,\n",
    "                max_value=0.5,\n",
    "                default=0.20,\n",
    "                step=0.05,)))\n",
    "\n",
    "#     model.add(Conv1D(32, (31), activation='relu'))\n",
    "    model.add(Conv1D(filters = hp.Int('numFilters_5', min_value=16, max_value=64, step=4),\n",
    "                     kernel_size= hp.Int('kernalSize_5', min_value=3, max_value=59, step=2), activation='relu', padding='same'))\n",
    "    model.add(MaxPooling1D(pool_size=(2)))\n",
    "    model.add(Dropout(rate=hp.Float(\n",
    "                'dropout_5',\n",
    "                min_value=0.0,\n",
    "                max_value=0.5,\n",
    "                default=0.20,\n",
    "                step=0.05,)))\n",
    "\n",
    "#     model.add(Conv1D(64, (41), activation='relu'))\n",
    "    model.add(Conv1D(filters = hp.Int('numFilters_6', min_value=16, max_value=64, step=4),\n",
    "                     kernel_size= hp.Int('kernalSize_6', min_value=3, max_value=59, step=2), activation='relu', padding='same'))\n",
    "    model.add(MaxPooling1D(pool_size=(2)))\n",
    "    model.add(Dropout(rate=hp.Float(\n",
    "                'dropout_6',\n",
    "                min_value=0.0,\n",
    "                max_value=0.5,\n",
    "                default=0.20,\n",
    "                step=0.05,)))\n",
    "\n",
    "\n",
    "    # model.add(Conv2D(64, kernel_size=(5,5), activation='relu'))#,kernel_initializer=initializer))\n",
    "    model.add(Flatten())\n",
    "    model.add(Dense(hp.Int(\n",
    "                    'units',\n",
    "                    min_value=5,\n",
    "                    max_value=30,\n",
    "                    step=5,\n",
    "                    default=10), activation='relu'))#,kernel_initializer=initializer))\n",
    "    model.add(Dense(2, activation='sigmoid'))\n",
    "    \n",
    "    model.compile(optimizer='sgd',\n",
    "              loss=tf.keras.losses.CategoricalCrossentropy(),\n",
    "              metrics=['accuracy'])\n",
    "    return model"
   ]
  },
  {
   "cell_type": "code",
   "execution_count": 548,
   "id": "79a7f022",
   "metadata": {},
   "outputs": [
    {
     "name": "stdout",
     "output_type": "stream",
     "text": [
      "Model: \"sequential\"\n",
      "_________________________________________________________________\n",
      "Layer (type)                 Output Shape              Param #   \n",
      "=================================================================\n",
      "conv1d (Conv1D)              (None, 4576, 64)          448       \n",
      "_________________________________________________________________\n",
      "max_pooling1d (MaxPooling1D) (None, 2288, 64)          0         \n",
      "_________________________________________________________________\n",
      "dropout (Dropout)            (None, 2288, 64)          0         \n",
      "_________________________________________________________________\n",
      "conv1d_1 (Conv1D)            (None, 2262, 64)          110656    \n",
      "_________________________________________________________________\n",
      "max_pooling1d_1 (MaxPooling1 (None, 1131, 64)          0         \n",
      "_________________________________________________________________\n",
      "dropout_1 (Dropout)          (None, 1131, 64)          0         \n",
      "_________________________________________________________________\n",
      "conv1d_2 (Conv1D)            (None, 1043, 64)          364608    \n",
      "_________________________________________________________________\n",
      "max_pooling1d_2 (MaxPooling1 (None, 521, 64)           0         \n",
      "_________________________________________________________________\n",
      "dropout_2 (Dropout)          (None, 521, 64)           0         \n",
      "_________________________________________________________________\n",
      "conv1d_3 (Conv1D)            (None, 519, 64)           12352     \n",
      "_________________________________________________________________\n",
      "max_pooling1d_3 (MaxPooling1 (None, 259, 64)           0         \n",
      "_________________________________________________________________\n",
      "dropout_3 (Dropout)          (None, 259, 64)           0         \n",
      "_________________________________________________________________\n",
      "conv1d_4 (Conv1D)            (None, 171, 16)           91152     \n",
      "_________________________________________________________________\n",
      "max_pooling1d_4 (MaxPooling1 (None, 85, 16)            0         \n",
      "_________________________________________________________________\n",
      "dropout_4 (Dropout)          (None, 85, 16)            0         \n",
      "_________________________________________________________________\n",
      "conv1d_5 (Conv1D)            (None, 35, 32)            26144     \n",
      "_________________________________________________________________\n",
      "max_pooling1d_5 (MaxPooling1 (None, 17, 32)            0         \n",
      "_________________________________________________________________\n",
      "dropout_5 (Dropout)          (None, 17, 32)            0         \n",
      "_________________________________________________________________\n",
      "flatten (Flatten)            (None, 544)               0         \n",
      "_________________________________________________________________\n",
      "dense (Dense)                (None, 30)                16350     \n",
      "_________________________________________________________________\n",
      "dense_1 (Dense)              (None, 3)                 93        \n",
      "=================================================================\n",
      "Total params: 621,803\n",
      "Trainable params: 621,803\n",
      "Non-trainable params: 0\n",
      "_________________________________________________________________\n"
     ]
    }
   ],
   "source": [
    "model.summary()"
   ]
  },
  {
   "cell_type": "code",
   "execution_count": 588,
   "id": "6375ae49",
   "metadata": {},
   "outputs": [
    {
     "data": {
      "text/html": [
       "<div>\n",
       "<style scoped>\n",
       "    .dataframe tbody tr th:only-of-type {\n",
       "        vertical-align: middle;\n",
       "    }\n",
       "\n",
       "    .dataframe tbody tr th {\n",
       "        vertical-align: top;\n",
       "    }\n",
       "\n",
       "    .dataframe thead th {\n",
       "        text-align: right;\n",
       "    }\n",
       "</style>\n",
       "<table border=\"1\" class=\"dataframe\">\n",
       "  <thead>\n",
       "    <tr style=\"text-align: right;\">\n",
       "      <th></th>\n",
       "      <th>Unnamed: 0</th>\n",
       "      <th>Mouse</th>\n",
       "      <th>Session</th>\n",
       "      <th>length</th>\n",
       "      <th>start</th>\n",
       "      <th>end</th>\n",
       "    </tr>\n",
       "    <tr>\n",
       "      <th>Period</th>\n",
       "      <th></th>\n",
       "      <th></th>\n",
       "      <th></th>\n",
       "      <th></th>\n",
       "      <th></th>\n",
       "      <th></th>\n",
       "    </tr>\n",
       "  </thead>\n",
       "  <tbody>\n",
       "    <tr>\n",
       "      <th>Acute</th>\n",
       "      <td>410</td>\n",
       "      <td>410</td>\n",
       "      <td>410</td>\n",
       "      <td>410</td>\n",
       "      <td>410</td>\n",
       "      <td>410</td>\n",
       "    </tr>\n",
       "    <tr>\n",
       "      <th>Chronic</th>\n",
       "      <td>286</td>\n",
       "      <td>286</td>\n",
       "      <td>286</td>\n",
       "      <td>286</td>\n",
       "      <td>286</td>\n",
       "      <td>286</td>\n",
       "    </tr>\n",
       "    <tr>\n",
       "      <th>Healthy</th>\n",
       "      <td>200</td>\n",
       "      <td>200</td>\n",
       "      <td>200</td>\n",
       "      <td>200</td>\n",
       "      <td>200</td>\n",
       "      <td>200</td>\n",
       "    </tr>\n",
       "  </tbody>\n",
       "</table>\n",
       "</div>"
      ],
      "text/plain": [
       "         Unnamed: 0  Mouse  Session  length  start  end\n",
       "Period                                                 \n",
       "Acute           410    410      410     410    410  410\n",
       "Chronic         286    286      286     286    286  286\n",
       "Healthy         200    200      200     200    200  200"
      ]
     },
     "execution_count": 588,
     "metadata": {},
     "output_type": "execute_result"
    }
   ],
   "source": [
    "newVal = testData.sample(len(validate))\n",
    "newVal.groupby('Period').count()\n"
   ]
  },
  {
   "cell_type": "code",
   "execution_count": 589,
   "id": "171d8892",
   "metadata": {
    "scrolled": true
   },
   "outputs": [
    {
     "name": "stdout",
     "output_type": "stream",
     "text": [
      "Trial 80 Complete [00h 19m 24s]\n",
      "val_accuracy: 0.681176483631134\n",
      "\n",
      "Best val_accuracy So Far: 0.8105882406234741\n",
      "Total elapsed time: 19h 09m 43s\n",
      "INFO:tensorflow:Oracle triggered exit\n"
     ]
    }
   ],
   "source": [
    "modelName = 'rawLFP_v5n_tunning_binary'\n",
    "cb = [tf.keras.callbacks.EarlyStopping(\n",
    "    monitor='val_accuracy', \n",
    "    verbose=1,\n",
    "    patience=100,\n",
    "    mode='max',\n",
    "    restore_best_weights=True)]\n",
    "\n",
    "EXECUTION_PER_TRIAL = 80\n",
    "SEED = 1\n",
    "\n",
    "tuner = kt.BayesianOptimization(model_builder,\n",
    "                     objective='val_accuracy',\n",
    "#                      max_epochs=800,\n",
    "                     seed=SEED,\n",
    "                     max_trials = EXECUTION_PER_TRIAL,           \n",
    "                     executions_per_trial=1,\n",
    "                     directory='tunning',\n",
    "                     project_name='sickOrNot')\n",
    "\n",
    "\n",
    "stepTrain=len(trainData)//batchSize\n",
    "stepValidate=len(validate)//batchSize\n",
    "\n",
    "tuner.search(loadTrain(trainData,sampleSize),steps_per_epoch=stepTrain,\n",
    "             validation_data=loadTrain(newVal,sampleSize),validation_steps=stepValidate,\n",
    "             epochs=400, callbacks=cb)\n",
    "# tuner.search_space_summary()"
   ]
  },
  {
   "cell_type": "code",
   "execution_count": 590,
   "id": "98db8d42",
   "metadata": {
    "scrolled": true
   },
   "outputs": [
    {
     "name": "stdout",
     "output_type": "stream",
     "text": [
      "Results summary\n",
      "Results in tunning\\sickOrNot\n",
      "Showing 10 best trials\n",
      "Objective(name='val_accuracy', direction='max')\n",
      "Trial summary\n",
      "Hyperparameters:\n",
      "numFilters_1: 16\n",
      "kernalSize_1: 53\n",
      "dropout_1: 0.15000000000000002\n",
      "numFilters_2: 4\n",
      "kernalSize_2: 11\n",
      "dropout_2: 0.0\n",
      "numFilters_3: 64\n",
      "kernalSize_3: 31\n",
      "dropout_3: 0.4\n",
      "numFilters_4: 64\n",
      "kernalSize_4: 27\n",
      "dropout_4: 0.0\n",
      "numFilters_5: 16\n",
      "kernalSize_5: 25\n",
      "dropout_5: 0.15000000000000002\n",
      "numFilters_6: 64\n",
      "kernalSize_6: 3\n",
      "dropout_6: 0.15000000000000002\n",
      "units: 10\n",
      "Score: 0.8105882406234741\n",
      "Trial summary\n",
      "Hyperparameters:\n",
      "numFilters_1: 64\n",
      "kernalSize_1: 89\n",
      "dropout_1: 0.5\n",
      "numFilters_2: 4\n",
      "kernalSize_2: 89\n",
      "dropout_2: 0.5\n",
      "numFilters_3: 64\n",
      "kernalSize_3: 47\n",
      "dropout_3: 0.0\n",
      "numFilters_4: 16\n",
      "kernalSize_4: 3\n",
      "dropout_4: 0.0\n",
      "numFilters_5: 64\n",
      "kernalSize_5: 25\n",
      "dropout_5: 0.15000000000000002\n",
      "numFilters_6: 64\n",
      "kernalSize_6: 59\n",
      "dropout_6: 0.0\n",
      "units: 30\n",
      "Score: 0.7952941060066223\n",
      "Trial summary\n",
      "Hyperparameters:\n",
      "numFilters_1: 20\n",
      "kernalSize_1: 55\n",
      "dropout_1: 0.15000000000000002\n",
      "numFilters_2: 12\n",
      "kernalSize_2: 3\n",
      "dropout_2: 0.0\n",
      "numFilters_3: 64\n",
      "kernalSize_3: 39\n",
      "dropout_3: 0.5\n",
      "numFilters_4: 40\n",
      "kernalSize_4: 25\n",
      "dropout_4: 0.25\n",
      "numFilters_5: 16\n",
      "kernalSize_5: 41\n",
      "dropout_5: 0.25\n",
      "numFilters_6: 64\n",
      "kernalSize_6: 3\n",
      "dropout_6: 0.1\n",
      "units: 10\n",
      "Score: 0.7941176295280457\n",
      "Trial summary\n",
      "Hyperparameters:\n",
      "numFilters_1: 4\n",
      "kernalSize_1: 89\n",
      "dropout_1: 0.15000000000000002\n",
      "numFilters_2: 12\n",
      "kernalSize_2: 27\n",
      "dropout_2: 0.0\n",
      "numFilters_3: 64\n",
      "kernalSize_3: 29\n",
      "dropout_3: 0.5\n",
      "numFilters_4: 64\n",
      "kernalSize_4: 21\n",
      "dropout_4: 0.0\n",
      "numFilters_5: 16\n",
      "kernalSize_5: 59\n",
      "dropout_5: 0.30000000000000004\n",
      "numFilters_6: 64\n",
      "kernalSize_6: 13\n",
      "dropout_6: 0.2\n",
      "units: 5\n",
      "Score: 0.792941153049469\n",
      "Trial summary\n",
      "Hyperparameters:\n",
      "numFilters_1: 64\n",
      "kernalSize_1: 89\n",
      "dropout_1: 0.5\n",
      "numFilters_2: 8\n",
      "kernalSize_2: 89\n",
      "dropout_2: 0.5\n",
      "numFilters_3: 64\n",
      "kernalSize_3: 3\n",
      "dropout_3: 0.0\n",
      "numFilters_4: 16\n",
      "kernalSize_4: 3\n",
      "dropout_4: 0.0\n",
      "numFilters_5: 64\n",
      "kernalSize_5: 17\n",
      "dropout_5: 0.5\n",
      "numFilters_6: 64\n",
      "kernalSize_6: 59\n",
      "dropout_6: 0.25\n",
      "units: 30\n",
      "Score: 0.7905882596969604\n",
      "Trial summary\n",
      "Hyperparameters:\n",
      "numFilters_1: 64\n",
      "kernalSize_1: 89\n",
      "dropout_1: 0.5\n",
      "numFilters_2: 4\n",
      "kernalSize_2: 89\n",
      "dropout_2: 0.5\n",
      "numFilters_3: 64\n",
      "kernalSize_3: 19\n",
      "dropout_3: 0.0\n",
      "numFilters_4: 44\n",
      "kernalSize_4: 3\n",
      "dropout_4: 0.0\n",
      "numFilters_5: 64\n",
      "kernalSize_5: 3\n",
      "dropout_5: 0.4\n",
      "numFilters_6: 64\n",
      "kernalSize_6: 59\n",
      "dropout_6: 0.0\n",
      "units: 30\n",
      "Score: 0.7905882596969604\n",
      "Trial summary\n",
      "Hyperparameters:\n",
      "numFilters_1: 64\n",
      "kernalSize_1: 89\n",
      "dropout_1: 0.5\n",
      "numFilters_2: 4\n",
      "kernalSize_2: 89\n",
      "dropout_2: 0.5\n",
      "numFilters_3: 28\n",
      "kernalSize_3: 25\n",
      "dropout_3: 0.0\n",
      "numFilters_4: 32\n",
      "kernalSize_4: 3\n",
      "dropout_4: 0.0\n",
      "numFilters_5: 64\n",
      "kernalSize_5: 11\n",
      "dropout_5: 0.2\n",
      "numFilters_6: 64\n",
      "kernalSize_6: 59\n",
      "dropout_6: 0.2\n",
      "units: 30\n",
      "Score: 0.7882353067398071\n",
      "Trial summary\n",
      "Hyperparameters:\n",
      "numFilters_1: 64\n",
      "kernalSize_1: 89\n",
      "dropout_1: 0.5\n",
      "numFilters_2: 4\n",
      "kernalSize_2: 89\n",
      "dropout_2: 0.5\n",
      "numFilters_3: 64\n",
      "kernalSize_3: 3\n",
      "dropout_3: 0.0\n",
      "numFilters_4: 16\n",
      "kernalSize_4: 3\n",
      "dropout_4: 0.0\n",
      "numFilters_5: 64\n",
      "kernalSize_5: 45\n",
      "dropout_5: 0.05\n",
      "numFilters_6: 64\n",
      "kernalSize_6: 59\n",
      "dropout_6: 0.4\n",
      "units: 30\n",
      "Score: 0.7870588302612305\n",
      "Trial summary\n",
      "Hyperparameters:\n",
      "numFilters_1: 64\n",
      "kernalSize_1: 89\n",
      "dropout_1: 0.5\n",
      "numFilters_2: 4\n",
      "kernalSize_2: 89\n",
      "dropout_2: 0.5\n",
      "numFilters_3: 64\n",
      "kernalSize_3: 25\n",
      "dropout_3: 0.0\n",
      "numFilters_4: 52\n",
      "kernalSize_4: 3\n",
      "dropout_4: 0.0\n",
      "numFilters_5: 64\n",
      "kernalSize_5: 11\n",
      "dropout_5: 0.0\n",
      "numFilters_6: 64\n",
      "kernalSize_6: 59\n",
      "dropout_6: 0.35000000000000003\n",
      "units: 30\n",
      "Score: 0.7835294008255005\n",
      "Trial summary\n",
      "Hyperparameters:\n",
      "numFilters_1: 12\n",
      "kernalSize_1: 51\n",
      "dropout_1: 0.15000000000000002\n",
      "numFilters_2: 4\n",
      "kernalSize_2: 3\n",
      "dropout_2: 0.0\n",
      "numFilters_3: 64\n",
      "kernalSize_3: 25\n",
      "dropout_3: 0.5\n",
      "numFilters_4: 60\n",
      "kernalSize_4: 27\n",
      "dropout_4: 0.05\n",
      "numFilters_5: 16\n",
      "kernalSize_5: 39\n",
      "dropout_5: 0.25\n",
      "numFilters_6: 64\n",
      "kernalSize_6: 23\n",
      "dropout_6: 0.05\n",
      "units: 10\n",
      "Score: 0.7729411721229553\n"
     ]
    }
   ],
   "source": [
    "tuner.results_summary()"
   ]
  },
  {
   "cell_type": "code",
   "execution_count": 591,
   "id": "4c657ebb",
   "metadata": {},
   "outputs": [],
   "source": [
    "model = tuner.get_best_models(num_models=1)[0]"
   ]
  },
  {
   "cell_type": "code",
   "execution_count": 569,
   "id": "db65e8f1",
   "metadata": {},
   "outputs": [],
   "source": [
    "modelName = 'rawLFP_v5n_tunning_2nd'"
   ]
  },
  {
   "cell_type": "code",
   "execution_count": 600,
   "id": "50173b9c",
   "metadata": {
    "scrolled": true
   },
   "outputs": [
    {
     "name": "stdout",
     "output_type": "stream",
     "text": [
      "Epoch 1/400\n",
      "161/161 [==============================] - 6s 30ms/step - loss: 0.6301 - accuracy: 0.6207 - val_loss: 0.5996 - val_accuracy: 0.7600\n",
      "Epoch 2/400\n",
      "161/161 [==============================] - 5s 29ms/step - loss: 0.6301 - accuracy: 0.6252 - val_loss: 0.6330 - val_accuracy: 0.4976\n",
      "Epoch 3/400\n",
      "161/161 [==============================] - 5s 29ms/step - loss: 0.6253 - accuracy: 0.6344 - val_loss: 0.5906 - val_accuracy: 0.7329\n",
      "Epoch 4/400\n",
      "161/161 [==============================] - 5s 29ms/step - loss: 0.6254 - accuracy: 0.6318 - val_loss: 0.5617 - val_accuracy: 0.7682\n",
      "Epoch 5/400\n",
      "161/161 [==============================] - 5s 29ms/step - loss: 0.6267 - accuracy: 0.6280 - val_loss: 0.6253 - val_accuracy: 0.6459\n",
      "Epoch 6/400\n",
      "161/161 [==============================] - 5s 30ms/step - loss: 0.6231 - accuracy: 0.6335 - val_loss: 0.6625 - val_accuracy: 0.6871\n",
      "Epoch 7/400\n",
      "161/161 [==============================] - 5s 29ms/step - loss: 0.6225 - accuracy: 0.6303 - val_loss: 0.6302 - val_accuracy: 0.5741\n",
      "Epoch 8/400\n",
      "161/161 [==============================] - 5s 30ms/step - loss: 0.6247 - accuracy: 0.6320 - val_loss: 0.7551 - val_accuracy: 0.6447\n",
      "Epoch 9/400\n",
      "161/161 [==============================] - 5s 29ms/step - loss: 0.6120 - accuracy: 0.6511 - val_loss: 0.6437 - val_accuracy: 0.6894\n",
      "Epoch 10/400\n",
      "161/161 [==============================] - 5s 30ms/step - loss: 0.6167 - accuracy: 0.6422 - val_loss: 0.6640 - val_accuracy: 0.7106\n",
      "Epoch 11/400\n",
      "161/161 [==============================] - 5s 29ms/step - loss: 0.6160 - accuracy: 0.6411 - val_loss: 0.6356 - val_accuracy: 0.5718\n",
      "Epoch 12/400\n",
      "161/161 [==============================] - 5s 29ms/step - loss: 0.6192 - accuracy: 0.6406 - val_loss: 0.6120 - val_accuracy: 0.6188\n",
      "Epoch 13/400\n",
      "161/161 [==============================] - 5s 29ms/step - loss: 0.6101 - accuracy: 0.6508 - val_loss: 0.6296 - val_accuracy: 0.5753\n",
      "Epoch 14/400\n",
      "161/161 [==============================] - 5s 30ms/step - loss: 0.6170 - accuracy: 0.6307 - val_loss: 0.5969 - val_accuracy: 0.6929\n",
      "Epoch 15/400\n",
      "161/161 [==============================] - 5s 29ms/step - loss: 0.6090 - accuracy: 0.6482 - val_loss: 0.7234 - val_accuracy: 0.6388\n",
      "Epoch 16/400\n",
      "161/161 [==============================] - 5s 29ms/step - loss: 0.6087 - accuracy: 0.6511 - val_loss: 0.6439 - val_accuracy: 0.5800\n",
      "Epoch 17/400\n",
      "161/161 [==============================] - 5s 29ms/step - loss: 0.6068 - accuracy: 0.6496 - val_loss: 0.6405 - val_accuracy: 0.6471\n",
      "Epoch 18/400\n",
      "161/161 [==============================] - 5s 29ms/step - loss: 0.6046 - accuracy: 0.6573 - val_loss: 0.6788 - val_accuracy: 0.6859\n",
      "Epoch 19/400\n",
      "161/161 [==============================] - 5s 29ms/step - loss: 0.6071 - accuracy: 0.6488 - val_loss: 0.8036 - val_accuracy: 0.6212\n",
      "Epoch 20/400\n",
      "161/161 [==============================] - 5s 29ms/step - loss: 0.5988 - accuracy: 0.6550 - val_loss: 0.6529 - val_accuracy: 0.5494\n",
      "Epoch 21/400\n",
      "161/161 [==============================] - 5s 30ms/step - loss: 0.6029 - accuracy: 0.6502 - val_loss: 0.7069 - val_accuracy: 0.6718\n",
      "Epoch 22/400\n",
      "161/161 [==============================] - 5s 29ms/step - loss: 0.6051 - accuracy: 0.6455 - val_loss: 0.6791 - val_accuracy: 0.5906\n",
      "Epoch 23/400\n",
      "161/161 [==============================] - 5s 29ms/step - loss: 0.5970 - accuracy: 0.6558 - val_loss: 0.6763 - val_accuracy: 0.5541\n",
      "Epoch 24/400\n",
      "161/161 [==============================] - 5s 29ms/step - loss: 0.6008 - accuracy: 0.6473 - val_loss: 0.7222 - val_accuracy: 0.6518\n",
      "Epoch 25/400\n",
      "161/161 [==============================] - 5s 29ms/step - loss: 0.5924 - accuracy: 0.6590 - val_loss: 0.6235 - val_accuracy: 0.6494\n",
      "Epoch 26/400\n",
      "161/161 [==============================] - 5s 29ms/step - loss: 0.5908 - accuracy: 0.6626 - val_loss: 0.7437 - val_accuracy: 0.5682\n",
      "Epoch 27/400\n",
      "161/161 [==============================] - 5s 29ms/step - loss: 0.5972 - accuracy: 0.6537 - val_loss: 0.6681 - val_accuracy: 0.5718\n",
      "Epoch 28/400\n",
      "161/161 [==============================] - 5s 29ms/step - loss: 0.5928 - accuracy: 0.6616 - val_loss: 0.8294 - val_accuracy: 0.6541\n",
      "Epoch 29/400\n",
      "161/161 [==============================] - 5s 29ms/step - loss: 0.5896 - accuracy: 0.6630 - val_loss: 0.6665 - val_accuracy: 0.5000\n",
      "Epoch 30/400\n",
      "161/161 [==============================] - 5s 29ms/step - loss: 0.5893 - accuracy: 0.6681 - val_loss: 0.7011 - val_accuracy: 0.5341\n",
      "Epoch 31/400\n",
      "161/161 [==============================] - 5s 30ms/step - loss: 0.5975 - accuracy: 0.6601 - val_loss: 0.7726 - val_accuracy: 0.6106\n",
      "Epoch 32/400\n",
      "161/161 [==============================] - 5s 30ms/step - loss: 0.5870 - accuracy: 0.6653 - val_loss: 0.7123 - val_accuracy: 0.6776\n",
      "Epoch 33/400\n",
      "161/161 [==============================] - 5s 29ms/step - loss: 0.5866 - accuracy: 0.6614 - val_loss: 0.6127 - val_accuracy: 0.6306\n",
      "Epoch 34/400\n",
      "161/161 [==============================] - 5s 29ms/step - loss: 0.5810 - accuracy: 0.6692 - val_loss: 0.7105 - val_accuracy: 0.5835\n",
      "Epoch 35/400\n",
      "161/161 [==============================] - 5s 30ms/step - loss: 0.5936 - accuracy: 0.6629 - val_loss: 0.6612 - val_accuracy: 0.6435\n",
      "Epoch 36/400\n",
      "161/161 [==============================] - 5s 29ms/step - loss: 0.5842 - accuracy: 0.6658 - val_loss: 0.7046 - val_accuracy: 0.5882\n",
      "Epoch 37/400\n",
      "161/161 [==============================] - 5s 29ms/step - loss: 0.5782 - accuracy: 0.6708 - val_loss: 0.9419 - val_accuracy: 0.5706\n",
      "Epoch 38/400\n",
      "161/161 [==============================] - 5s 29ms/step - loss: 0.5840 - accuracy: 0.6717 - val_loss: 0.7044 - val_accuracy: 0.4918\n",
      "Epoch 39/400\n",
      "161/161 [==============================] - 5s 30ms/step - loss: 0.5842 - accuracy: 0.6639 - val_loss: 0.6952 - val_accuracy: 0.6494\n",
      "Epoch 40/400\n",
      "161/161 [==============================] - 5s 30ms/step - loss: 0.5750 - accuracy: 0.6770 - val_loss: 0.7193 - val_accuracy: 0.5624\n",
      "Epoch 41/400\n",
      "161/161 [==============================] - 5s 29ms/step - loss: 0.5743 - accuracy: 0.6744 - val_loss: 0.7209 - val_accuracy: 0.5094\n",
      "Epoch 42/400\n",
      "161/161 [==============================] - 5s 29ms/step - loss: 0.5743 - accuracy: 0.6789 - val_loss: 0.7338 - val_accuracy: 0.5188\n",
      "Epoch 43/400\n",
      "161/161 [==============================] - 5s 30ms/step - loss: 0.5744 - accuracy: 0.6740 - val_loss: 0.6693 - val_accuracy: 0.5894\n",
      "Epoch 44/400\n",
      "161/161 [==============================] - 5s 29ms/step - loss: 0.5670 - accuracy: 0.6831 - val_loss: 0.7967 - val_accuracy: 0.5506\n",
      "Epoch 45/400\n",
      "161/161 [==============================] - 5s 30ms/step - loss: 0.5742 - accuracy: 0.6699 - val_loss: 0.8221 - val_accuracy: 0.4553\n",
      "Epoch 46/400\n",
      "161/161 [==============================] - 5s 30ms/step - loss: 0.5687 - accuracy: 0.6809 - val_loss: 0.8031 - val_accuracy: 0.5376\n",
      "Epoch 47/400\n",
      "161/161 [==============================] - 5s 30ms/step - loss: 0.5750 - accuracy: 0.6742 - val_loss: 0.7605 - val_accuracy: 0.5882\n",
      "Epoch 48/400\n",
      "161/161 [==============================] - 5s 29ms/step - loss: 0.5721 - accuracy: 0.6786 - val_loss: 0.8017 - val_accuracy: 0.5000\n",
      "Epoch 49/400\n",
      "161/161 [==============================] - 5s 29ms/step - loss: 0.5685 - accuracy: 0.6817 - val_loss: 0.7783 - val_accuracy: 0.5894\n",
      "Epoch 50/400\n",
      "161/161 [==============================] - 5s 30ms/step - loss: 0.5672 - accuracy: 0.6848 - val_loss: 0.7295 - val_accuracy: 0.5318\n",
      "Epoch 51/400\n",
      "161/161 [==============================] - 5s 30ms/step - loss: 0.5545 - accuracy: 0.6942 - val_loss: 0.7389 - val_accuracy: 0.5565\n",
      "Epoch 52/400\n",
      "161/161 [==============================] - 5s 30ms/step - loss: 0.5573 - accuracy: 0.6837 - val_loss: 0.8609 - val_accuracy: 0.4965\n",
      "Epoch 53/400\n",
      "161/161 [==============================] - 5s 29ms/step - loss: 0.5547 - accuracy: 0.6839 - val_loss: 0.8451 - val_accuracy: 0.5176\n",
      "Epoch 54/400\n",
      "161/161 [==============================] - 5s 29ms/step - loss: 0.5528 - accuracy: 0.6898 - val_loss: 0.6883 - val_accuracy: 0.6400\n",
      "Epoch 55/400\n",
      "161/161 [==============================] - 5s 30ms/step - loss: 0.5592 - accuracy: 0.6785 - val_loss: 0.8543 - val_accuracy: 0.5494\n",
      "Epoch 56/400\n",
      "161/161 [==============================] - 5s 29ms/step - loss: 0.5620 - accuracy: 0.6839 - val_loss: 0.6914 - val_accuracy: 0.4600\n",
      "Epoch 57/400\n",
      "161/161 [==============================] - 5s 29ms/step - loss: 0.5831 - accuracy: 0.6595 - val_loss: 0.6733 - val_accuracy: 0.5247\n",
      "Epoch 58/400\n",
      "161/161 [==============================] - 5s 29ms/step - loss: 0.5602 - accuracy: 0.6774 - val_loss: 0.8431 - val_accuracy: 0.4929\n",
      "Epoch 59/400\n",
      "161/161 [==============================] - 5s 29ms/step - loss: 0.5689 - accuracy: 0.6735 - val_loss: 0.8187 - val_accuracy: 0.5494\n",
      "Epoch 60/400\n",
      "161/161 [==============================] - 5s 29ms/step - loss: 0.5560 - accuracy: 0.6796 - val_loss: 0.7710 - val_accuracy: 0.5412\n",
      "Epoch 61/400\n",
      "161/161 [==============================] - 5s 30ms/step - loss: 0.5606 - accuracy: 0.6774 - val_loss: 0.8079 - val_accuracy: 0.5553\n",
      "Epoch 62/400\n",
      "161/161 [==============================] - 5s 30ms/step - loss: 0.5563 - accuracy: 0.6788 - val_loss: 0.8389 - val_accuracy: 0.4565\n",
      "Epoch 63/400\n",
      "161/161 [==============================] - 5s 29ms/step - loss: 0.5403 - accuracy: 0.6916 - val_loss: 0.8919 - val_accuracy: 0.4953\n",
      "Epoch 64/400\n",
      "161/161 [==============================] - 5s 30ms/step - loss: 0.5482 - accuracy: 0.6840 - val_loss: 0.8960 - val_accuracy: 0.5871\n",
      "Epoch 65/400\n",
      "161/161 [==============================] - 5s 29ms/step - loss: 0.5517 - accuracy: 0.6914 - val_loss: 0.7651 - val_accuracy: 0.5741\n",
      "Epoch 66/400\n",
      "161/161 [==============================] - 5s 29ms/step - loss: 0.5401 - accuracy: 0.6934 - val_loss: 1.0543 - val_accuracy: 0.5059\n",
      "Epoch 67/400\n",
      "161/161 [==============================] - 5s 29ms/step - loss: 0.5485 - accuracy: 0.6959 - val_loss: 0.9063 - val_accuracy: 0.4388\n",
      "Epoch 68/400\n",
      "161/161 [==============================] - 5s 29ms/step - loss: 0.5348 - accuracy: 0.6994 - val_loss: 0.8867 - val_accuracy: 0.5612\n",
      "Epoch 69/400\n",
      "161/161 [==============================] - 5s 30ms/step - loss: 0.5360 - accuracy: 0.7036 - val_loss: 0.8822 - val_accuracy: 0.5224\n",
      "Epoch 70/400\n",
      "161/161 [==============================] - 5s 29ms/step - loss: 0.5414 - accuracy: 0.6934 - val_loss: 0.9675 - val_accuracy: 0.4271\n",
      "Epoch 71/400\n",
      "161/161 [==============================] - 5s 30ms/step - loss: 0.5360 - accuracy: 0.7000 - val_loss: 0.9214 - val_accuracy: 0.4824\n",
      "Epoch 72/400\n",
      "161/161 [==============================] - 5s 30ms/step - loss: 0.5353 - accuracy: 0.7081 - val_loss: 0.8038 - val_accuracy: 0.4906\n",
      "Epoch 73/400\n",
      "161/161 [==============================] - 5s 30ms/step - loss: 0.5310 - accuracy: 0.7077 - val_loss: 0.9800 - val_accuracy: 0.4365\n",
      "Epoch 74/400\n",
      "161/161 [==============================] - 5s 29ms/step - loss: 0.5330 - accuracy: 0.7067 - val_loss: 0.8793 - val_accuracy: 0.5812\n",
      "Epoch 75/400\n",
      "161/161 [==============================] - 5s 30ms/step - loss: 0.5318 - accuracy: 0.7019 - val_loss: 0.8828 - val_accuracy: 0.5247\n",
      "Epoch 76/400\n",
      "161/161 [==============================] - 5s 29ms/step - loss: 0.5268 - accuracy: 0.7075 - val_loss: 0.8629 - val_accuracy: 0.4847\n",
      "Epoch 77/400\n",
      "161/161 [==============================] - 5s 29ms/step - loss: 0.5258 - accuracy: 0.7133 - val_loss: 0.8593 - val_accuracy: 0.5188\n",
      "Epoch 78/400\n",
      "161/161 [==============================] - 5s 30ms/step - loss: 0.5277 - accuracy: 0.7087 - val_loss: 0.9725 - val_accuracy: 0.4694\n",
      "Epoch 79/400\n",
      "161/161 [==============================] - 5s 29ms/step - loss: 0.5158 - accuracy: 0.7196 - val_loss: 0.9546 - val_accuracy: 0.4859\n",
      "Epoch 80/400\n",
      "161/161 [==============================] - 5s 29ms/step - loss: 0.5205 - accuracy: 0.7155 - val_loss: 1.0193 - val_accuracy: 0.4365\n",
      "Epoch 81/400\n",
      "161/161 [==============================] - 5s 29ms/step - loss: 0.5194 - accuracy: 0.7138 - val_loss: 0.9167 - val_accuracy: 0.4824\n",
      "Epoch 82/400\n",
      "161/161 [==============================] - 5s 30ms/step - loss: 0.5130 - accuracy: 0.7118 - val_loss: 0.8323 - val_accuracy: 0.4988\n",
      "Epoch 83/400\n",
      "161/161 [==============================] - 5s 30ms/step - loss: 0.5042 - accuracy: 0.7179 - val_loss: 1.1227 - val_accuracy: 0.4612\n",
      "Epoch 84/400\n",
      "161/161 [==============================] - 5s 30ms/step - loss: 0.5166 - accuracy: 0.7179 - val_loss: 0.9415 - val_accuracy: 0.5141\n",
      "Epoch 85/400\n",
      "161/161 [==============================] - 5s 29ms/step - loss: 0.5083 - accuracy: 0.7169 - val_loss: 0.9417 - val_accuracy: 0.5059\n",
      "Epoch 86/400\n",
      "161/161 [==============================] - 5s 29ms/step - loss: 0.5064 - accuracy: 0.7207 - val_loss: 0.8685 - val_accuracy: 0.5882\n",
      "Epoch 87/400\n",
      "161/161 [==============================] - 5s 29ms/step - loss: 0.5080 - accuracy: 0.7217 - val_loss: 1.0296 - val_accuracy: 0.4671\n",
      "Epoch 88/400\n",
      "161/161 [==============================] - 5s 30ms/step - loss: 0.4958 - accuracy: 0.7266 - val_loss: 1.0997 - val_accuracy: 0.5424\n",
      "Epoch 89/400\n",
      "161/161 [==============================] - 5s 29ms/step - loss: 0.5083 - accuracy: 0.7260 - val_loss: 0.9828 - val_accuracy: 0.4988\n",
      "Epoch 90/400\n",
      "161/161 [==============================] - 5s 30ms/step - loss: 0.5079 - accuracy: 0.7164 - val_loss: 0.9483 - val_accuracy: 0.5271\n",
      "Epoch 91/400\n",
      "161/161 [==============================] - 5s 30ms/step - loss: 0.4940 - accuracy: 0.7256 - val_loss: 0.9760 - val_accuracy: 0.5059\n",
      "Epoch 92/400\n",
      "161/161 [==============================] - 5s 29ms/step - loss: 0.4906 - accuracy: 0.7369 - val_loss: 0.9352 - val_accuracy: 0.5518\n",
      "Epoch 93/400\n",
      "161/161 [==============================] - 5s 30ms/step - loss: 0.4903 - accuracy: 0.7379 - val_loss: 1.0639 - val_accuracy: 0.4953\n",
      "Epoch 94/400\n",
      "161/161 [==============================] - 5s 30ms/step - loss: 0.4980 - accuracy: 0.7374 - val_loss: 0.9707 - val_accuracy: 0.5059\n",
      "Epoch 95/400\n",
      "161/161 [==============================] - 5s 30ms/step - loss: 0.4788 - accuracy: 0.7437 - val_loss: 1.0984 - val_accuracy: 0.4718\n",
      "Epoch 96/400\n",
      "161/161 [==============================] - 5s 30ms/step - loss: 0.4822 - accuracy: 0.7330 - val_loss: 0.9851 - val_accuracy: 0.5176\n",
      "Epoch 97/400\n",
      "161/161 [==============================] - 5s 29ms/step - loss: 0.4890 - accuracy: 0.7324 - val_loss: 1.1123 - val_accuracy: 0.5400\n",
      "Epoch 98/400\n",
      "161/161 [==============================] - 5s 29ms/step - loss: 0.4793 - accuracy: 0.7383 - val_loss: 1.0906 - val_accuracy: 0.5047\n",
      "Epoch 99/400\n",
      "161/161 [==============================] - 5s 29ms/step - loss: 0.4752 - accuracy: 0.7434 - val_loss: 1.0656 - val_accuracy: 0.5165\n",
      "Epoch 100/400\n",
      "161/161 [==============================] - 5s 29ms/step - loss: 0.4776 - accuracy: 0.7448 - val_loss: 1.0731 - val_accuracy: 0.5059\n",
      "Epoch 101/400\n",
      "161/161 [==============================] - 5s 30ms/step - loss: 0.4641 - accuracy: 0.7489 - val_loss: 1.0956 - val_accuracy: 0.5047\n",
      "Epoch 102/400\n",
      "161/161 [==============================] - 5s 29ms/step - loss: 0.4747 - accuracy: 0.7419 - val_loss: 1.1311 - val_accuracy: 0.5165\n",
      "Epoch 103/400\n",
      "161/161 [==============================] - 5s 29ms/step - loss: 0.4609 - accuracy: 0.7504 - val_loss: 1.2208 - val_accuracy: 0.4765\n",
      "Epoch 104/400\n",
      "161/161 [==============================] - 5s 30ms/step - loss: 0.4641 - accuracy: 0.7478 - val_loss: 1.1255 - val_accuracy: 0.5565\n",
      "Restoring model weights from the end of the best epoch.\n",
      "Epoch 00104: early stopping\n"
     ]
    }
   ],
   "source": [
    "history = model.fit(loadTrain(trainData,sampleSize),steps_per_epoch=stepTrain,\n",
    "             validation_data=loadTrain(newVal,sampleSize),validation_steps=stepValidate,\n",
    "             epochs=400, callbacks=cb)"
   ]
  },
  {
   "cell_type": "code",
   "execution_count": 592,
   "id": "b8471574",
   "metadata": {},
   "outputs": [
    {
     "name": "stdout",
     "output_type": "stream",
     "text": [
      "INFO:tensorflow:Assets written to: E:\\rawLFP_v5n_tunning_binary\\assets\n"
     ]
    }
   ],
   "source": [
    "## Saving the model\n",
    "##\n",
    "model.save('E:\\\\'+modelName)\n",
    "model.save_weights('E:\\\\'+modelName+'_weights.h5')"
   ]
  },
  {
   "cell_type": "code",
   "execution_count": 489,
   "id": "3b370f98",
   "metadata": {},
   "outputs": [
    {
     "data": {
      "image/png": "[encoded data removed]",
      "text/plain": [
       "<Figure size 432x288 with 1 Axes>"
      ]
     },
     "metadata": {
      "needs_background": "light"
     },
     "output_type": "display_data"
    }
   ],
   "source": [
    "plt.plot(history.history['accuracy'])\n",
    "\n",
    "plt.plot(history.history['val_accuracy'])# history.history\n",
    "plt.savefig(\"E:\\\\NN\\\\\"+modelName+\"_history.png\")"
   ]
  },
  {
   "cell_type": "code",
   "execution_count": 479,
   "id": "7bb68a21",
   "metadata": {},
   "outputs": [
    {
     "data": {
      "image/png": "[encoded data removed]",
      "text/plain": [
       "<Figure size 432x288 with 1 Axes>"
      ]
     },
     "metadata": {
      "needs_background": "light"
     },
     "output_type": "display_data"
    }
   ],
   "source": [
    "plt.plot(history.history['loss'])\n",
    "\n",
    "plt.plot(history.history['val_loss'])# history.history\n",
    "plt.savefig(\"E:\\\\NN\\\\\"+modelName+\"_loss.png\")"
   ]
  },
  {
   "cell_type": "code",
   "execution_count": 593,
   "id": "808e9d88",
   "metadata": {},
   "outputs": [
    {
     "name": "stdout",
     "output_type": "stream",
     "text": [
      "\r",
      "      1/Unknown - 0s 156ms/step"
     ]
    },
    {
     "name": "stderr",
     "output_type": "stream",
     "text": [
      "C:\\Users\\dzemel\\AppData\\Roaming\\Python\\Python38\\site-packages\\tensorflow\\python\\keras\\engine\\training.py:2001: UserWarning: `Model.predict_generator` is deprecated and will be removed in a future version. Please use `Model.predict`, which supports generators.\n",
      "  warnings.warn('`Model.predict_generator` is deprecated and '\n"
     ]
    },
    {
     "name": "stdout",
     "output_type": "stream",
     "text": [
      "153/153 [==============================] - 1s 5ms/step\n",
      "[0 1]\n"
     ]
    }
   ],
   "source": [
    "# model =  tf.keras.models.load_model('E:\\\\caOnly_v1')\n",
    "# model.compile(optimizer='adam',\n",
    "#               loss=tf.keras.losses.SparseCategoricalCrossentropy(from_logits=True),\n",
    "#               metrics=['accuracy'])\n",
    "# model.load_weights(\"E:\\\\caOnly_v1_weights.h5\")\n",
    "\n",
    "# labels = (train_generator.class_indices)\n",
    "pred = model.predict_generator(loadTest(testData),verbose=1)\n",
    "pred = np.argmax(pred,axis=1)\n",
    "print(np.unique(pred))\n",
    "\n",
    "y = []\n",
    "for ind,(dataP,label) in enumerate(loadTest(testData)):\n",
    "    y = y+list(np.argmax(label,axis=1))\n",
    "# print(pred[1:100],y[1:100])"
   ]
  },
  {
   "cell_type": "code",
   "execution_count": 595,
   "id": "0ca3f6c2",
   "metadata": {},
   "outputs": [
    {
     "name": "stdout",
     "output_type": "stream",
     "text": [
      "0.7702407002188184\n"
     ]
    },
    {
     "data": {
      "image/png": "[encoded data removed]",
      "text/plain": [
       "<Figure size 576x576 with 2 Axes>"
      ]
     },
     "metadata": {
      "needs_background": "light"
     },
     "output_type": "display_data"
    }
   ],
   "source": [
    "classes=['Healthy','sick']\n",
    "con_mat = tf.math.confusion_matrix(labels=y, predictions=pred).numpy()\n",
    "con_mat_norm = np.around(con_mat.astype('float') / con_mat.sum(axis=1)[:, np.newaxis], decimals=2)\n",
    "\n",
    "con_mat_df = pd.DataFrame(con_mat_norm,\n",
    "                     index = classes, \n",
    "                     columns = classes)\n",
    "figure = plt.figure(figsize=(8, 8))\n",
    "sns.heatmap(con_mat_df, annot=True,cmap=plt.cm.Blues)\n",
    "plt.tight_layout()\n",
    "plt.title(modelName +\"- on test dataset. Accuracy: {acc:f}\".format(acc=np.sum(y==pred)/len(y)))\n",
    "plt.ylabel('True label')\n",
    "plt.xlabel('Predicted label')\n",
    "plt.savefig(\"E:\\\\NN\\\\\"+modelName+\"_confusionOnTest_Test.png\")\n",
    "print(np.sum(y==pred)/len(y))"
   ]
  },
  {
   "cell_type": "code",
   "execution_count": 596,
   "id": "4a6afb32",
   "metadata": {},
   "outputs": [
    {
     "name": "stdout",
     "output_type": "stream",
     "text": [
      "100/100 [==============================] - 1s 6ms/step\n",
      "[0 1]\n"
     ]
    }
   ],
   "source": [
    "# model =  tf.keras.models.load_model('E:\\\\caOnly_v1')\n",
    "# model.compile(optimizer='adam',\n",
    "#               loss=tf.keras.losses.SparseCategoricalCrossentropy(from_logits=True),\n",
    "#               metrics=['accuracy'])\n",
    "# model.load_weights(\"E:\\\\caOnly_v1_weights.h5\")\n",
    "\n",
    "# labels = (train_generator.class_indices)\n",
    "pred = model.predict_generator(loadTest(validate),verbose=1)\n",
    "pred = np.argmax(pred,axis=1)\n",
    "print(np.unique(pred))\n",
    "\n",
    "y = []\n",
    "for ind,(dataP,label) in enumerate(loadTest(validate)):\n",
    "    y = y+list(np.argmax(label,axis=1))\n",
    "# print(pred[1:100],y[1:100])"
   ]
  },
  {
   "cell_type": "code",
   "execution_count": 597,
   "id": "989f0ba2",
   "metadata": {},
   "outputs": [
    {
     "name": "stdout",
     "output_type": "stream",
     "text": [
      "0.46763392857142855\n"
     ]
    },
    {
     "data": {
      "image/png": "[encoded data removed]",
      "text/plain": [
       "<Figure size 576x576 with 2 Axes>"
      ]
     },
     "metadata": {
      "needs_background": "light"
     },
     "output_type": "display_data"
    }
   ],
   "source": [
    "classes=['Healthy','sick']\n",
    "con_mat = tf.math.confusion_matrix(labels=y, predictions=pred).numpy()\n",
    "con_mat_norm = np.around(con_mat.astype('float') / con_mat.sum(axis=1)[:, np.newaxis], decimals=2)\n",
    "\n",
    "con_mat_df = pd.DataFrame(con_mat_norm,\n",
    "                     index = classes, \n",
    "                     columns = classes)\n",
    "figure = plt.figure(figsize=(8, 8))\n",
    "sns.heatmap(con_mat_df, annot=True,cmap=plt.cm.Blues)\n",
    "plt.tight_layout()\n",
    "plt.title(modelName +\"- on test dataset. Accuracy: {acc:f}\".format(acc=np.sum(y==pred)/len(y)))\n",
    "plt.ylabel('True label')\n",
    "plt.xlabel('Predicted label')\n",
    "plt.savefig(\"E:\\\\NN\\\\\"+modelName+\"_confusionOnTest_val.png\")\n",
    "print(np.sum(y==pred)/len(y))"
   ]
  },
  {
   "cell_type": "code",
   "execution_count": 598,
   "id": "b973f259",
   "metadata": {},
   "outputs": [
    {
     "name": "stdout",
     "output_type": "stream",
     "text": [
      "896/896 [==============================] - 4s 5ms/step\n",
      "[0 1]\n"
     ]
    }
   ],
   "source": [
    "# model =  tf.keras.models.load_model('E:\\\\caOnly_v1')\n",
    "# model.compile(optimizer='adam',\n",
    "#               loss=tf.keras.losses.SparseCategoricalCrossentropy(from_logits=True),\n",
    "#               metrics=['accuracy'])\n",
    "# model.load_weights(\"E:\\\\caOnly_v1_weights.h5\")\n",
    "\n",
    "# labels = (train_generator.class_indices)\n",
    "pred = model.predict_generator(loadTest(trainData),verbose=1)\n",
    "pred = np.argmax(pred,axis=1)\n",
    "print(np.unique(pred))\n",
    "\n",
    "y = []\n",
    "for ind,(dataP,label) in enumerate(loadTest(trainData)):\n",
    "    y = y+list(np.argmax(label,axis=1))\n",
    "# print(pred[1:100],y[1:100])"
   ]
  },
  {
   "cell_type": "code",
   "execution_count": 599,
   "id": "3d34afb3",
   "metadata": {},
   "outputs": [
    {
     "name": "stdout",
     "output_type": "stream",
     "text": [
      "0.4740566037735849\n"
     ]
    },
    {
     "data": {
      "image/png": "[encoded data removed]",
      "text/plain": [
       "<Figure size 576x576 with 2 Axes>"
      ]
     },
     "metadata": {
      "needs_background": "light"
     },
     "output_type": "display_data"
    }
   ],
   "source": [
    "classes=['Healthy','sick']\n",
    "con_mat = tf.math.confusion_matrix(labels=y, predictions=pred).numpy()\n",
    "con_mat_norm = np.around(con_mat.astype('float') / con_mat.sum(axis=1)[:, np.newaxis], decimals=2)\n",
    "\n",
    "con_mat_df = pd.DataFrame(con_mat_norm,\n",
    "                     index = classes, \n",
    "                     columns = classes)\n",
    "figure = plt.figure(figsize=(8, 8))\n",
    "sns.heatmap(con_mat_df, annot=True,cmap=plt.cm.Blues)\n",
    "plt.tight_layout()\n",
    "plt.title(modelName +\"- on train dataset. Accuracy: {acc:f}\".format(acc=np.sum(y==pred)/len(y)))\n",
    "plt.ylabel('True label')\n",
    "plt.xlabel('Predicted label')\n",
    "plt.savefig(\"E:\\\\NN\\\\\"+modelName+\"_confusionOnTest_Train.png\")\n",
    "print(np.sum(y==pred)/len(y))"
   ]
  },
  {
   "cell_type": "code",
   "execution_count": 71,
   "id": "6b67399e",
   "metadata": {},
   "outputs": [
    {
     "name": "stdout",
     "output_type": "stream",
     "text": [
      "567/567 [==============================] - 89s 157ms/step\n",
      "[0 1 2]\n"
     ]
    }
   ],
   "source": [
    "# model =  tf.keras.models.load_model('E:\\\\caOnly_v1')\n",
    "# model.compile(optimizer='adam',\n",
    "#               loss=tf.keras.losses.SparseCategoricalCrossentropy(from_logits=True),\n",
    "#               metrics=['accuracy'])\n",
    "# model.load_weights(\"E:\\\\caOnly_v1_weights.h5\")\n",
    "\n",
    "# train_datagenT = tf.keras.preprocessing.image.ImageDataGenerator(rescale=1./255)\n",
    "# train_generatorT = train_datagenT.flow_from_directory(\n",
    "#     directory=\"E:\\\\data\\\\Train\\\\\",#'E:\\\\data\\\\imageTest\\\\training_set\\\\',#\n",
    "#     target_size=(300, 300),\n",
    "#     color_mode=\"grayscale\",\n",
    "#     batch_size=32,\n",
    "#     class_mode=\"categorical\",\n",
    "#     shuffle=False,\n",
    "#     seed=36\n",
    "# )\n",
    "\n",
    "\n",
    "labels = (train_generator.class_indices)\n",
    "pred = model.predict_generator(train_generatorT,verbose=1)\n",
    "pred = np.argmax(pred,axis=1)\n",
    "print(np.unique(pred))\n",
    "\n",
    "y = []\n",
    "for f in train_generatorT.filenames:\n",
    "    sess = f.split(\"_\")[1]\n",
    "    if sess[0] == 'B':\n",
    "        day = 0\n",
    "    else:\n",
    "        day = int(re.findall(r'\\d+',sess)[0])\n",
    "\n",
    "    # get data\n",
    "    period = periodCalc(day) \n",
    "    y.append(labels[period])"
   ]
  },
  {
   "cell_type": "code",
   "execution_count": 73,
   "id": "71a07908",
   "metadata": {},
   "outputs": [
    {
     "data": {
      "image/png": "[encoded data removed]",
      "text/plain": [
       "<Figure size 576x576 with 2 Axes>"
      ]
     },
     "metadata": {
      "needs_background": "light"
     },
     "output_type": "display_data"
    }
   ],
   "source": [
    "classes=labels.keys()\n",
    "con_mat = tf.math.confusion_matrix(labels=y, predictions=pred).numpy()\n",
    "con_mat_norm = np.around(con_mat.astype('float') / con_mat.sum(axis=1)[:, np.newaxis], decimals=2)\n",
    "\n",
    "con_mat_df = pd.DataFrame(con_mat_norm,\n",
    "                     index = classes, \n",
    "                     columns = classes)\n",
    "figure = plt.figure(figsize=(8, 8))\n",
    "sns.heatmap(con_mat_df, annot=True,cmap=plt.cm.Blues)\n",
    "plt.tight_layout()\n",
    "plt.title(modelName +\"- on train dataset. Accuracy: {acc:f}\".format(acc=np.sum(y==pred)/len(y)))\n",
    "plt.ylabel('True label')\n",
    "plt.xlabel('Predicted label')\n",
    "plt.savefig(\"E:\\\\NN\\\\\"+modelName+\"_confusionOnTest_Train.png\")\n"
   ]
  },
  {
   "cell_type": "code",
   "execution_count": 61,
   "id": "4f88aa37",
   "metadata": {},
   "outputs": [
    {
     "name": "stdout",
     "output_type": "stream",
     "text": [
      "567/567 [==============================] - 89s 157ms/step - loss: 3.5345e-04 - accuracy: 1.0000\n",
      "[0.00035344576463103294, 1.0]\n"
     ]
    }
   ],
   "source": [
    "score = model.evaluate(train_generatorT)\n",
    "print(score)"
   ]
  },
  {
   "cell_type": "code",
   "execution_count": 56,
   "id": "823d27a5",
   "metadata": {},
   "outputs": [
    {
     "name": "stdout",
     "output_type": "stream",
     "text": [
      "567/567 [==============================] - 89s 157ms/step\n"
     ]
    },
    {
     "data": {
      "text/plain": [
       "(18130, 3)"
      ]
     },
     "execution_count": 56,
     "metadata": {},
     "output_type": "execute_result"
    }
   ],
   "source": [
    "pred = model.predict_generator(train_generator,verbose=1)\n",
    "pred.shape"
   ]
  },
  {
   "cell_type": "code",
   "execution_count": 57,
   "id": "f72b53ca",
   "metadata": {},
   "outputs": [
    {
     "data": {
      "text/plain": [
       "array([[9.9993336e-01, 6.6623645e-05, 2.0047966e-09],\n",
       "       [1.0000000e+00, 1.3673330e-08, 4.0443326e-10],\n",
       "       [3.7493074e-08, 1.0000000e+00, 1.9402356e-11],\n",
       "       [3.0466440e-04, 9.9913293e-01, 5.6242698e-04]], dtype=float32)"
      ]
     },
     "execution_count": 57,
     "metadata": {},
     "output_type": "execute_result"
    }
   ],
   "source": [
    "train_generatorT = train_datagen.flow_from_directory(\n",
    "    directory=\"E:\\\\data\\\\Train\\\\\",#'E:\\\\data\\\\imageTest\\\\training_set\\\\',#\n",
    "    target_size=(300, 300),\n",
    "    color_mode=\"grayscale\",\n",
    "    batch_size=32,\n",
    "    class_mode=\"categorical\",\n",
    "    shuffle=False,\n",
    "    seed=36\n",
    ")\n"
   ]
  },
  {
   "cell_type": "code",
   "execution_count": 85,
   "id": "5ec9f784",
   "metadata": {},
   "outputs": [
    {
     "data": {
      "image/png": "[encoded data removed]",
      "text/plain": [
       "<Figure size 432x288 with 1 Axes>"
      ]
     },
     "metadata": {
      "needs_background": "light"
     },
     "output_type": "display_data"
    }
   ],
   "source": [
    "%matplotlib inline\n",
    "for d,l in train_generator:\n",
    "    plt.imshow(d[16,:,:,0])\n",
    "    break"
   ]
  }
 ],
 "metadata": {
  "kernelspec": {
   "display_name": "Python 3",
   "language": "python",
   "name": "python3"
  },
  "language_info": {
   "codemirror_mode": {
    "name": "ipython",
    "version": 3
   },
   "file_extension": ".py",
   "mimetype": "text/x-python",
   "name": "python",
   "nbconvert_exporter": "python",
   "pygments_lexer": "ipython3",
   "version": "3.8.10"
  }
 },
 "nbformat": 4,
 "nbformat_minor": 5
}
