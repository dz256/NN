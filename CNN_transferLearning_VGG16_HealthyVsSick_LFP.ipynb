{
 "cells": [
  {
   "cell_type": "code",
   "execution_count": 1,
   "id": "929a0299",
   "metadata": {},
   "outputs": [],
   "source": [
    "#since noteboke doesn't work in jupiterlabs    %matplotlib notebook \n",
    "%matplotlib inline \n",
    "%load_ext autoreload\n",
    "%autoreload 2"
   ]
  },
  {
   "cell_type": "code",
   "execution_count": 2,
   "id": "2904af6b",
   "metadata": {
    "scrolled": true
   },
   "outputs": [],
   "source": [
    "import tensorflow as tf\n",
    "import os\n",
    "# os.environ['PATH'] += os.pathsep + 'D:\\\\6OHDA\\\\'\n",
    "import numpy as np\n",
    "import scipy as sci\n",
    "from IO import *\n",
    "from utils import *\n",
    "import re\n",
    "from tqdm import tqdm\n",
    "\n",
    "from tensorflow.keras.models import Sequential, load_model\n",
    "from tensorflow.keras.layers import Input\n",
    "from tensorflow.keras.layers import Dense, Dropout, Activation, Flatten, Concatenate\n",
    "from tensorflow.keras.layers import Convolution2D, MaxPooling2D,Conv2D, Conv1D,MaxPooling1D\n",
    "# from tensorflow.keras.layers.core import Lambda\n",
    "import tensorflow.keras.optimizers as optimizers\n",
    "from tensorflow.keras import regularizers\n",
    "from tensorflow.keras import backend as K\n",
    "from tensorflow.keras.models import Model\n",
    "\n",
    "from matplotlib import pyplot as plt\n",
    "from matplotlib import gridspec\n",
    "import seaborn as sns\n",
    "\n",
    "import pickle\n",
    "import random\n",
    "\n",
    "import PIL\n",
    "from PIL import Image \n",
    "\n",
    "# import png"
   ]
  },
  {
   "cell_type": "code",
   "execution_count": 3,
   "id": "651e941a",
   "metadata": {
    "scrolled": false
   },
   "outputs": [
    {
     "name": "stdout",
     "output_type": "stream",
     "text": [
      "[name: \"/device:CPU:0\"\n",
      "device_type: \"CPU\"\n",
      "memory_limit: 268435456\n",
      "locality {\n",
      "}\n",
      "incarnation: 8572020547609250095\n",
      ", name: \"/device:GPU:0\"\n",
      "device_type: \"GPU\"\n",
      "memory_limit: 10091102208\n",
      "locality {\n",
      "  bus_id: 1\n",
      "  links {\n",
      "  }\n",
      "}\n",
      "incarnation: 10540119401043995362\n",
      "physical_device_desc: \"device: 0, name: GeForce GTX 1080 Ti, pci bus id: 0000:17:00.0, compute capability: 6.1\"\n",
      ", name: \"/device:GPU:1\"\n",
      "device_type: \"GPU\"\n",
      "memory_limit: 10091102208\n",
      "locality {\n",
      "  bus_id: 1\n",
      "  links {\n",
      "  }\n",
      "}\n",
      "incarnation: 868534930029282134\n",
      "physical_device_desc: \"device: 1, name: GeForce GTX 1080 Ti, pci bus id: 0000:65:00.0, compute capability: 6.1\"\n",
      "]\n"
     ]
    },
    {
     "data": {
      "text/plain": [
       "[PhysicalDevice(name='/physical_device:CPU:0', device_type='CPU'),\n",
       " PhysicalDevice(name='/physical_device:GPU:0', device_type='GPU'),\n",
       " PhysicalDevice(name='/physical_device:GPU:1', device_type='GPU')]"
      ]
     },
     "execution_count": 3,
     "metadata": {},
     "output_type": "execute_result"
    }
   ],
   "source": [
    "from tensorflow.python.client import device_lib\n",
    "print(device_lib.list_local_devices())\n",
    "tf.config.list_physical_devices()"
   ]
  },
  {
   "cell_type": "code",
   "execution_count": 4,
   "id": "dabf073e",
   "metadata": {},
   "outputs": [],
   "source": [
    "Files = ['FinalData_6OHDA.h5','FinalData_6OHDA_H.h5']\n",
    "#miceList.remove('1253')\n",
    "#miceList.remove('1231')\n",
    "def periodCalc(day):\n",
    "    if day== 0:\n",
    "        return 'Healthy'\n",
    "    elif day<13:\n",
    "        return 'Acute' #day 1-13\n",
    "    else:\n",
    "        return 'Chronic' #day 14-35"
   ]
  },
  {
   "cell_type": "code",
   "execution_count": null,
   "id": "e76c9b92",
   "metadata": {},
   "outputs": [],
   "source": [
    "def center(x):\n",
    "    return (x-np.min(x))/(np.max(x)-np.min(x))\n",
    "\n",
    "f = h5py.File('D:\\\\6OHDA\\\\Spectograms.hdf5','r') \n",
    "df = pd.DataFrame(columns= [\"Mouse\",\"Session\",\"Period\",\"length\"])\n",
    "for m in getMiceList(Files[0]):\n",
    "    data =  getData(Files[0],['speed','trace'],period ='Pre', mice=m)\n",
    "    for sess in data.keys():\n",
    "        if sess[5] == 'B':\n",
    "            day = 0\n",
    "        else:\n",
    "            day = int(re.findall(r'\\d+',sess[5:])[0])\n",
    "        freq = f[m][sess]['Pre']['freq'][:]\n",
    "        coeff = f[m][sess]['Pre']['coeff'][:].shape\n",
    "        \n",
    "        df = df.append({\"Mouse\":m,\"Session\":sess,'Period':periodCalc(day),\"length\":np.max(coeff),\"freq\":freq},ignore_index=True)\n",
    "        \n",
    "df.to_csv('availableData_LFPwavelet.csv')  \n",
    "f.close()"
   ]
  },
  {
   "cell_type": "code",
   "execution_count": 5,
   "id": "dcf311f9",
   "metadata": {},
   "outputs": [],
   "source": [
    "def prepData(segN,overlap,df):\n",
    "    df2 = df\n",
    "    df2['start'] = pd.Series([[]] * len(df2), index=df2.index)\n",
    "    df2['end'] = pd.Series([[]] * len(df2), index=df2.index)\n",
    "    for l in df.length.unique():\n",
    "        a = np.asarray([[i,i + segN] for i in range(0, l-(segN-overlap),int(segN-overlap))])\n",
    "        df2.loc[df2.length==l,'start'] = pd.Series([a[:,0]] * len(df2), index=df2.index)\n",
    "        df2.loc[df2.length==l,'end'] =  pd.Series([a[:,1]] * len(df2), index=df2.index)\n",
    "    lst_col = 'start'\n",
    "\n",
    "    lst_col = 'start'\n",
    "    lst_col2 = 'end'\n",
    "    df3 = pd.DataFrame({\n",
    "        col:np.repeat(df2[col].values, df2['start'].str.len())\n",
    "        for col in df2.columns.difference(['start','end'])\n",
    "    }).assign(**{'start':np.concatenate(df2['start'].values)}).assign(**{'end':np.concatenate(df2['end'].values)})[df2.columns.tolist()]\n",
    "    return df3"
   ]
  },
  {
   "cell_type": "code",
   "execution_count": 6,
   "id": "b4874a6b",
   "metadata": {},
   "outputs": [
    {
     "name": "stdout",
     "output_type": "stream",
     "text": [
      "[1231, 1253, 7909, 2981, 1236, 7584, 8803, 761, 2976, 1208, 1793, 8815, 1222] [2980, 4539]\n"
     ]
    }
   ],
   "source": [
    "miceList = getMiceList(Files[0])\n",
    "miceList.remove('1253') # only healthy data - must be in training\n",
    "miceList.remove('1231') # only healthy data - must be in training\n",
    "miceList.remove('8430') # very abnormal running behavour\n",
    "mOrder = np.random.permutation(len(miceList))\n",
    "\n",
    "mTrain = [1231, 1253]\n",
    "mTest =[int(miceList[i]) for i in mOrder[:2]]\n",
    "mTrain = mTrain+ [int(miceList[i]) for i in mOrder[2:]]\n",
    "\n",
    "print(mTrain,mTest)"
   ]
  },
  {
   "cell_type": "code",
   "execution_count": 6,
   "id": "e45ca3bb",
   "metadata": {},
   "outputs": [],
   "source": [
    "mTrain = [1231, 1253, 7909, 1236, 761, 1793, 1222, 2980, 7584, 8803, 1208, 2981, 4539] \n",
    "mTest = [8815, 2976]"
   ]
  },
  {
   "cell_type": "code",
   "execution_count": 204,
   "id": "f18a8e72",
   "metadata": {},
   "outputs": [],
   "source": [
    "import gc\n",
    "for obj in gc.get_objects():   # Browse through ALL objects\n",
    "    if isinstance(obj, h5py.File):   # Just HDF5 files\n",
    "        try:\n",
    "            obj.close()\n",
    "        except:\n",
    "            pass # Was already closed"
   ]
  },
  {
   "cell_type": "code",
   "execution_count": 205,
   "id": "a82a4256",
   "metadata": {
    "scrolled": false
   },
   "outputs": [
    {
     "name": "stdout",
     "output_type": "stream",
     "text": [
      "1208_day12\n",
      "2976_day4\n"
     ]
    }
   ],
   "source": [
    "with h5py.File('E:\\\\Spectograms_norm.hdf5','a') as f:\n",
    "    for i in f.keys():\n",
    "        try:\n",
    "            dp = f[i]['data2'][:]\n",
    "            mi = np.min(dp[:,:,0])\n",
    "            ma = np.max(dp[:,:,0])\n",
    "            dp = 255*(dp-mi)/(ma-mi)\n",
    "            del f[i]['data2'] \n",
    "            f[i]['data2'] = dp\n",
    "        except:\n",
    "            print(i)\n",
    "            continue\n"
   ]
  },
  {
   "cell_type": "code",
   "execution_count": 18,
   "id": "b4b46370",
   "metadata": {},
   "outputs": [],
   "source": [
    "df = pd.read_csv('availableData_LFPwavelet.csv')  \n",
    "# # try 30s with 20s overlab\n",
    "dtL =  0.00032768\n",
    "segN = int(np.ceil(5/dtL))\n",
    "# overlap = int(np.ceil(1/dtL))\n",
    "# # dataSamples = prepData(segN,overlap,df)\n",
    "\n",
    "# df = prepData(segN,overlap,df)\n",
    "# print(len(df))\n",
    "# drop = []\n",
    "# with h5py.File('E:\\\\Spectograms_norm.hdf5','r') as f:\n",
    "#     dictData = df.to_dict('records')\n",
    "#     for i in range(len(dictData)):\n",
    "#         dp = f[dictData[i]['Session']]['data'][dictData[i]['start']:dictData[i]['end'],0:87]\n",
    "#         if dp.shape != (segN,87):\n",
    "#             drop.append(i)\n",
    "# df = df.drop(drop)\n",
    "# print(len(df))\n",
    "# # df.to_csv('availableData_LFPwavelet_5s3overlap.csv')  \n",
    "\n",
    "df = pd.read_csv('availableData_LFPwavelet_5s3overlap.csv')\n",
    "def Clabel(x):\n",
    "    if x=='Healthy':\n",
    "        return [1,0,0]\n",
    "    elif x=='Acute':\n",
    "        return [0,1,0]\n",
    "    else:\n",
    "        return [0,0,1]\n",
    "\n",
    "\n",
    "df['label'] = df.apply(lambda x: Clabel(x.Period), axis=1 )\n",
    "\n",
    "testData = df[df.Mouse.isin(mTest)]\n",
    "trainData = df[df.Mouse.isin(mTrain)]\n",
    "validate = trainData.sample(frac=.1)\n",
    "trainData = trainData.drop(validate.index)"
   ]
  },
  {
   "cell_type": "code",
   "execution_count": 19,
   "id": "a2d8f838",
   "metadata": {},
   "outputs": [
    {
     "name": "stdout",
     "output_type": "stream",
     "text": [
      "22053 2450 4884\n"
     ]
    }
   ],
   "source": [
    "print(len(trainData),len(validate),len(testData))"
   ]
  },
  {
   "cell_type": "code",
   "execution_count": 16,
   "id": "d1c45ff6",
   "metadata": {},
   "outputs": [
    {
     "data": {
      "text/html": [
       "<div>\n",
       "<style scoped>\n",
       "    .dataframe tbody tr th:only-of-type {\n",
       "        vertical-align: middle;\n",
       "    }\n",
       "\n",
       "    .dataframe tbody tr th {\n",
       "        vertical-align: top;\n",
       "    }\n",
       "\n",
       "    .dataframe thead th {\n",
       "        text-align: right;\n",
       "    }\n",
       "</style>\n",
       "<table border=\"1\" class=\"dataframe\">\n",
       "  <thead>\n",
       "    <tr style=\"text-align: right;\">\n",
       "      <th></th>\n",
       "      <th>Unnamed: 0</th>\n",
       "      <th>Unnamed: 0.1</th>\n",
       "      <th>Mouse</th>\n",
       "      <th>Session</th>\n",
       "      <th>Period</th>\n",
       "      <th>length</th>\n",
       "      <th>freq</th>\n",
       "      <th>start</th>\n",
       "      <th>end</th>\n",
       "      <th>label</th>\n",
       "    </tr>\n",
       "  </thead>\n",
       "  <tbody>\n",
       "    <tr>\n",
       "      <th>0</th>\n",
       "      <td>0</td>\n",
       "      <td>0</td>\n",
       "      <td>761</td>\n",
       "      <td>0761_BaselineA</td>\n",
       "      <td>Healthy</td>\n",
       "      <td>1815677</td>\n",
       "      <td>[  4.99742      5.99952388   6.99944452   7.98...</td>\n",
       "      <td>0</td>\n",
       "      <td>15259</td>\n",
       "      <td>[1, 0, 0]</td>\n",
       "    </tr>\n",
       "    <tr>\n",
       "      <th>1</th>\n",
       "      <td>1</td>\n",
       "      <td>0</td>\n",
       "      <td>761</td>\n",
       "      <td>0761_BaselineA</td>\n",
       "      <td>Healthy</td>\n",
       "      <td>1815677</td>\n",
       "      <td>[  4.99742      5.99952388   6.99944452   7.98...</td>\n",
       "      <td>12207</td>\n",
       "      <td>27466</td>\n",
       "      <td>[1, 0, 0]</td>\n",
       "    </tr>\n",
       "    <tr>\n",
       "      <th>2</th>\n",
       "      <td>2</td>\n",
       "      <td>0</td>\n",
       "      <td>761</td>\n",
       "      <td>0761_BaselineA</td>\n",
       "      <td>Healthy</td>\n",
       "      <td>1815677</td>\n",
       "      <td>[  4.99742      5.99952388   6.99944452   7.98...</td>\n",
       "      <td>24414</td>\n",
       "      <td>39673</td>\n",
       "      <td>[1, 0, 0]</td>\n",
       "    </tr>\n",
       "    <tr>\n",
       "      <th>3</th>\n",
       "      <td>3</td>\n",
       "      <td>0</td>\n",
       "      <td>761</td>\n",
       "      <td>0761_BaselineA</td>\n",
       "      <td>Healthy</td>\n",
       "      <td>1815677</td>\n",
       "      <td>[  4.99742      5.99952388   6.99944452   7.98...</td>\n",
       "      <td>36621</td>\n",
       "      <td>51880</td>\n",
       "      <td>[1, 0, 0]</td>\n",
       "    </tr>\n",
       "    <tr>\n",
       "      <th>4</th>\n",
       "      <td>4</td>\n",
       "      <td>0</td>\n",
       "      <td>761</td>\n",
       "      <td>0761_BaselineA</td>\n",
       "      <td>Healthy</td>\n",
       "      <td>1815677</td>\n",
       "      <td>[  4.99742      5.99952388   6.99944452   7.98...</td>\n",
       "      <td>48828</td>\n",
       "      <td>64087</td>\n",
       "      <td>[1, 0, 0]</td>\n",
       "    </tr>\n",
       "    <tr>\n",
       "      <th>...</th>\n",
       "      <td>...</td>\n",
       "      <td>...</td>\n",
       "      <td>...</td>\n",
       "      <td>...</td>\n",
       "      <td>...</td>\n",
       "      <td>...</td>\n",
       "      <td>...</td>\n",
       "      <td>...</td>\n",
       "      <td>...</td>\n",
       "      <td>...</td>\n",
       "    </tr>\n",
       "    <tr>\n",
       "      <th>31306</th>\n",
       "      <td>31307</td>\n",
       "      <td>211</td>\n",
       "      <td>8815</td>\n",
       "      <td>8815_day8</td>\n",
       "      <td>Acute</td>\n",
       "      <td>1815793</td>\n",
       "      <td>[  4.99742      5.99952388   6.99944452   7.98...</td>\n",
       "      <td>1745601</td>\n",
       "      <td>1760860</td>\n",
       "      <td>[0, 1, 0]</td>\n",
       "    </tr>\n",
       "    <tr>\n",
       "      <th>31307</th>\n",
       "      <td>31308</td>\n",
       "      <td>211</td>\n",
       "      <td>8815</td>\n",
       "      <td>8815_day8</td>\n",
       "      <td>Acute</td>\n",
       "      <td>1815793</td>\n",
       "      <td>[  4.99742      5.99952388   6.99944452   7.98...</td>\n",
       "      <td>1757808</td>\n",
       "      <td>1773067</td>\n",
       "      <td>[0, 1, 0]</td>\n",
       "    </tr>\n",
       "    <tr>\n",
       "      <th>31308</th>\n",
       "      <td>31309</td>\n",
       "      <td>211</td>\n",
       "      <td>8815</td>\n",
       "      <td>8815_day8</td>\n",
       "      <td>Acute</td>\n",
       "      <td>1815793</td>\n",
       "      <td>[  4.99742      5.99952388   6.99944452   7.98...</td>\n",
       "      <td>1770015</td>\n",
       "      <td>1785274</td>\n",
       "      <td>[0, 1, 0]</td>\n",
       "    </tr>\n",
       "    <tr>\n",
       "      <th>31309</th>\n",
       "      <td>31310</td>\n",
       "      <td>211</td>\n",
       "      <td>8815</td>\n",
       "      <td>8815_day8</td>\n",
       "      <td>Acute</td>\n",
       "      <td>1815793</td>\n",
       "      <td>[  4.99742      5.99952388   6.99944452   7.98...</td>\n",
       "      <td>1782222</td>\n",
       "      <td>1797481</td>\n",
       "      <td>[0, 1, 0]</td>\n",
       "    </tr>\n",
       "    <tr>\n",
       "      <th>31310</th>\n",
       "      <td>31311</td>\n",
       "      <td>211</td>\n",
       "      <td>8815</td>\n",
       "      <td>8815_day8</td>\n",
       "      <td>Acute</td>\n",
       "      <td>1815793</td>\n",
       "      <td>[  4.99742      5.99952388   6.99944452   7.98...</td>\n",
       "      <td>1794429</td>\n",
       "      <td>1809688</td>\n",
       "      <td>[0, 1, 0]</td>\n",
       "    </tr>\n",
       "  </tbody>\n",
       "</table>\n",
       "<p>22053 rows × 10 columns</p>\n",
       "</div>"
      ],
      "text/plain": [
       "       Unnamed: 0  Unnamed: 0.1  Mouse         Session   Period   length  \\\n",
       "0               0             0    761  0761_BaselineA  Healthy  1815677   \n",
       "1               1             0    761  0761_BaselineA  Healthy  1815677   \n",
       "2               2             0    761  0761_BaselineA  Healthy  1815677   \n",
       "3               3             0    761  0761_BaselineA  Healthy  1815677   \n",
       "4               4             0    761  0761_BaselineA  Healthy  1815677   \n",
       "...           ...           ...    ...             ...      ...      ...   \n",
       "31306       31307           211   8815       8815_day8    Acute  1815793   \n",
       "31307       31308           211   8815       8815_day8    Acute  1815793   \n",
       "31308       31309           211   8815       8815_day8    Acute  1815793   \n",
       "31309       31310           211   8815       8815_day8    Acute  1815793   \n",
       "31310       31311           211   8815       8815_day8    Acute  1815793   \n",
       "\n",
       "                                                    freq    start      end  \\\n",
       "0      [  4.99742      5.99952388   6.99944452   7.98...        0    15259   \n",
       "1      [  4.99742      5.99952388   6.99944452   7.98...    12207    27466   \n",
       "2      [  4.99742      5.99952388   6.99944452   7.98...    24414    39673   \n",
       "3      [  4.99742      5.99952388   6.99944452   7.98...    36621    51880   \n",
       "4      [  4.99742      5.99952388   6.99944452   7.98...    48828    64087   \n",
       "...                                                  ...      ...      ...   \n",
       "31306  [  4.99742      5.99952388   6.99944452   7.98...  1745601  1760860   \n",
       "31307  [  4.99742      5.99952388   6.99944452   7.98...  1757808  1773067   \n",
       "31308  [  4.99742      5.99952388   6.99944452   7.98...  1770015  1785274   \n",
       "31309  [  4.99742      5.99952388   6.99944452   7.98...  1782222  1797481   \n",
       "31310  [  4.99742      5.99952388   6.99944452   7.98...  1794429  1809688   \n",
       "\n",
       "           label  \n",
       "0      [1, 0, 0]  \n",
       "1      [1, 0, 0]  \n",
       "2      [1, 0, 0]  \n",
       "3      [1, 0, 0]  \n",
       "4      [1, 0, 0]  \n",
       "...          ...  \n",
       "31306  [0, 1, 0]  \n",
       "31307  [0, 1, 0]  \n",
       "31308  [0, 1, 0]  \n",
       "31309  [0, 1, 0]  \n",
       "31310  [0, 1, 0]  \n",
       "\n",
       "[22053 rows x 10 columns]"
      ]
     },
     "execution_count": 16,
     "metadata": {},
     "output_type": "execute_result"
    }
   ],
   "source": [
    "trainData"
   ]
  },
  {
   "cell_type": "code",
   "execution_count": 396,
   "id": "3f7a8eb8",
   "metadata": {},
   "outputs": [],
   "source": [
    "dataVersion = 'v1_n_wavelet'\n",
    "#save data partition: \n",
    "trainData.to_csv('dataPartition_'+dataVersion+'_train.csv')\n",
    "validate.to_csv('dataPartition_'+dataVersion+'_val.csv')\n",
    "testData.to_csv('dataPartition_'+dataVersion+'_test.csv')"
   ]
  },
  {
   "cell_type": "code",
   "execution_count": 9,
   "id": "86256562",
   "metadata": {},
   "outputs": [],
   "source": [
    "def loadTrain(data,butchSize):\n",
    "    with h5py.File('E:\\\\Spectograms_norm.hdf5','r') as f:\n",
    "    # sampleSize = batchSize/3\n",
    "        while True: \n",
    "            data = data.sample(frac=1)\n",
    "            dictData = data.to_dict('records')\n",
    "            for i in range(0,len(dictData)-butchSize,butchSize):\n",
    "                labels = [dictData[i]['label'] for i in range(i,i+butchSize)]\n",
    "                dp = [f[dictData[i]['Session']]['data2'][dictData[i]['start']:dictData[i]['end']:10,0:87] for i in range(i,i+butchSize)]\n",
    "                dp = [np.array(Image.fromarray(i.astype(np.uint8)).resize((224, 224), PIL.Image.BICUBIC)) for i in dp]\n",
    "                labels = np.stack(labels)\n",
    "                dataPoint = np.stack(dp)\n",
    "                yield (dataPoint,labels)\n",
    "                labels = []\n",
    "                dataPoint = []\n",
    "            \n"
   ]
  },
  {
   "cell_type": "code",
   "execution_count": 10,
   "id": "6e956b82",
   "metadata": {},
   "outputs": [],
   "source": [
    "def loadTest(data,butchSize):\n",
    "    with h5py.File('E:\\\\Spectograms_norm.hdf5','r') as f:\n",
    "    # sampleSize = batchSize/3\n",
    "        dictData = data.to_dict('records')\n",
    "        for i in range(0,len(dictData)-butchSize,butchSize):\n",
    "            labels = [dictData[i]['label'] for i in range(i,i+butchSize)]\n",
    "            dp = [f[dictData[i]['Session']]['data2'][dictData[i]['start']:dictData[i]['end']:10,0:87] for i in range(i,i+butchSize)]\n",
    "            dp = [np.array(Image.fromarray(i.astype(np.uint8)).resize((224, 224), PIL.Image.BICUBIC)) for i in dp]\n",
    "            labels = np.stack(labels)\n",
    "            dataPoint = np.stack(dp)\n",
    "            yield (dataPoint,labels)\n",
    "            labels = []\n",
    "            dataPoint = []\n"
   ]
  },
  {
   "cell_type": "code",
   "execution_count": 61,
   "id": "62024f86",
   "metadata": {},
   "outputs": [
    {
     "name": "stderr",
     "output_type": "stream",
     "text": [
      "8it [01:46, 13.32s/it]\n",
      "8it [01:39, 12.45s/it]\n"
     ]
    }
   ],
   "source": [
    "def loadTest(data,butchSize):\n",
    "    with h5py.File('E:\\\\Spectograms_norm.hdf5','r') as f:\n",
    "    # sampleSize = batchSize/3\n",
    "        dictData = data.to_dict('records')\n",
    "        for i in range(0,len(dictData)-butchSize,butchSize):\n",
    "            labels = [dictData[i]['Period'] for i in range(i,i+butchSize)]\n",
    "            dp = [f[dictData[i]['Session']]['data'][dictData[i]['start']:dictData[i]['end'],0:87] for i in range(i,i+butchSize)]\n",
    "            labels = np.stack(labels)\n",
    "            dataPoint =np.repeat(np.stack(dp)[:,:,:,np.newaxis], 3, -1) \n",
    "            yield (dataPoint,labels)\n",
    "            labels = []\n",
    "            dataPoint = []\n",
    "\n",
    "def loadTest2(data,butchSize):\n",
    "    with h5py.File('E:\\\\Spectograms_norm.hdf5','r') as f:\n",
    "    # sampleSize = batchSize/3\n",
    "        dictData = data.to_dict('records')\n",
    "        for i in range(0,len(dictData)-butchSize,butchSize):\n",
    "            labels = [dictData[i]['Period'] for i in range(i,i+butchSize)].\n",
    "            dp = [f[dictData[i]['Session']]['data2'][dictData[i]['start']:dictData[i]['end'],0:87] for i in range(i,i+butchSize)]\n",
    "            labels = np.stack(labels)\n",
    "            dataPoint = np.stack(dp)\n",
    "            yield (dataPoint,labels)\n",
    "            labels = []\n",
    "            dataPoint = []\n",
    "\n",
    "# y = []\n",
    "# for ind,(dataP,label) in tqdm(enumerate(loadTest(testData,butchSize))):\n",
    "#     y = y+list(label)\n",
    "\n",
    "y = []\n",
    "for ind,(dataP,label) in tqdm(enumerate(loadTest2(testData.loc[:600],butchSize))):\n",
    "    y = y+list(label)\n"
   ]
  },
  {
   "cell_type": "code",
   "execution_count": 11,
   "id": "b492a969",
   "metadata": {},
   "outputs": [
    {
     "name": "stdout",
     "output_type": "stream",
     "text": [
      "(25, 3) (25, 224, 224, 3)\n",
      "(25, 3) (25, 224, 224, 3)\n"
     ]
    }
   ],
   "source": [
    "butchSize = 25\n",
    "for ind,(dataP,label) in enumerate(loadTest(testData,butchSize)):\n",
    "    print(label.shape,dataP.shape)#,np.max(dataP),np.min(dataP))\n",
    "    if ind == 1:\n",
    "        break"
   ]
  },
  {
   "cell_type": "code",
   "execution_count": 12,
   "id": "4b253be0",
   "metadata": {},
   "outputs": [
    {
     "name": "stdout",
     "output_type": "stream",
     "text": [
      "(25, 3) (25, 224, 224, 3)\n",
      "(25, 3) (25, 224, 224, 3)\n",
      "(25, 3) (25, 224, 224, 3)\n"
     ]
    }
   ],
   "source": [
    "for ind,(dataP,label) in enumerate(loadTrain(validate,butchSize)):\n",
    "    print(label.shape,dataP.shape)#,sci.stats.pearsonr(np.mean(dataP[:,:,0],axis=1), label))\n",
    "#     plt.scatter(np.mean(dataP[:,:,0],axis=1), label)\n",
    "    if ind == 2:\n",
    "        break        "
   ]
  },
  {
   "cell_type": "code",
   "execution_count": 31,
   "id": "2de8fb7d",
   "metadata": {},
   "outputs": [],
   "source": [
    "del model  "
   ]
  },
  {
   "cell_type": "code",
   "execution_count": 12,
   "id": "7d14483e",
   "metadata": {},
   "outputs": [],
   "source": [
    "inputs = tf.keras.Input(shape=(segN//10+1, 87, 3))\n",
    "base_model = tf.keras.applications.VGG16(\n",
    "    include_top=True,\n",
    "    weights=\"imagenet\",\n",
    "    input_tensor=None,\n",
    "#     input_shape=(segN//10+1, 87, 3),\n",
    "#     pooling=None,\n",
    "#     classes=3,\n",
    "    classifier_activation=\"softmax\",\n",
    ")#(inputs)\n",
    "base_model.trainable = False\n",
    "\n",
    "x= base_model.layers[-3].output\n",
    "# x = base_model(inputs, training=False)\n",
    "# x = tf.keras.layers.Flatten(name='newFlat')(x)\n",
    "# x = tf.keras.layers.Dense(120, activation='relu')(x) \n",
    "# x = tf.keras.layers.Dense(120, activation='relu')(x) \n",
    "outputs = tf.keras.layers.Dense(2, activation='softmax')(x)\n",
    "model = tf.keras.Model(base_model.input, outputs)\n"
   ]
  },
  {
   "cell_type": "code",
   "execution_count": 13,
   "id": "8fb8411a",
   "metadata": {},
   "outputs": [
    {
     "name": "stdout",
     "output_type": "stream",
     "text": [
      "Model: \"model\"\n",
      "_________________________________________________________________\n",
      "Layer (type)                 Output Shape              Param #   \n",
      "=================================================================\n",
      "input_2 (InputLayer)         [(None, 224, 224, 3)]     0         \n",
      "_________________________________________________________________\n",
      "block1_conv1 (Conv2D)        (None, 224, 224, 64)      1792      \n",
      "_________________________________________________________________\n",
      "block1_conv2 (Conv2D)        (None, 224, 224, 64)      36928     \n",
      "_________________________________________________________________\n",
      "block1_pool (MaxPooling2D)   (None, 112, 112, 64)      0         \n",
      "_________________________________________________________________\n",
      "block2_conv1 (Conv2D)        (None, 112, 112, 128)     73856     \n",
      "_________________________________________________________________\n",
      "block2_conv2 (Conv2D)        (None, 112, 112, 128)     147584    \n",
      "_________________________________________________________________\n",
      "block2_pool (MaxPooling2D)   (None, 56, 56, 128)       0         \n",
      "_________________________________________________________________\n",
      "block3_conv1 (Conv2D)        (None, 56, 56, 256)       295168    \n",
      "_________________________________________________________________\n",
      "block3_conv2 (Conv2D)        (None, 56, 56, 256)       590080    \n",
      "_________________________________________________________________\n",
      "block3_conv3 (Conv2D)        (None, 56, 56, 256)       590080    \n",
      "_________________________________________________________________\n",
      "block3_pool (MaxPooling2D)   (None, 28, 28, 256)       0         \n",
      "_________________________________________________________________\n",
      "block4_conv1 (Conv2D)        (None, 28, 28, 512)       1180160   \n",
      "_________________________________________________________________\n",
      "block4_conv2 (Conv2D)        (None, 28, 28, 512)       2359808   \n",
      "_________________________________________________________________\n",
      "block4_conv3 (Conv2D)        (None, 28, 28, 512)       2359808   \n",
      "_________________________________________________________________\n",
      "block4_pool (MaxPooling2D)   (None, 14, 14, 512)       0         \n",
      "_________________________________________________________________\n",
      "block5_conv1 (Conv2D)        (None, 14, 14, 512)       2359808   \n",
      "_________________________________________________________________\n",
      "block5_conv2 (Conv2D)        (None, 14, 14, 512)       2359808   \n",
      "_________________________________________________________________\n",
      "block5_conv3 (Conv2D)        (None, 14, 14, 512)       2359808   \n",
      "_________________________________________________________________\n",
      "block5_pool (MaxPooling2D)   (None, 7, 7, 512)         0         \n",
      "_________________________________________________________________\n",
      "flatten (Flatten)            (None, 25088)             0         \n",
      "_________________________________________________________________\n",
      "fc1 (Dense)                  (None, 4096)              102764544 \n",
      "_________________________________________________________________\n",
      "dense (Dense)                (None, 2)                 8194      \n",
      "=================================================================\n",
      "Total params: 117,487,426\n",
      "Trainable params: 8,194\n",
      "Non-trainable params: 117,479,232\n",
      "_________________________________________________________________\n",
      "None\n"
     ]
    }
   ],
   "source": [
    "print(model.summary())\n",
    "# outputs"
   ]
  },
  {
   "cell_type": "code",
   "execution_count": 498,
   "id": "c1198833",
   "metadata": {},
   "outputs": [],
   "source": [
    "import keras_tuner as kt\n",
    "from keras_tuner import HyperModel as hp\n",
    "from keras_tuner.tuners import RandomSearch\n"
   ]
  },
  {
   "cell_type": "code",
   "execution_count": 14,
   "id": "d4551229",
   "metadata": {},
   "outputs": [],
   "source": [
    "modelName = 'wavelet_VGG16_n2_AcuteVsHealthy'\n",
    "early_stopping = tf.keras.callbacks.EarlyStopping(\n",
    "    monitor='val_accuracy', \n",
    "    verbose=1,\n",
    "    patience=50,\n",
    "    mode='max',\n",
    "    restore_best_weights=False)\n",
    "\n",
    "check_point = tf.keras.callbacks.ModelCheckpoint(\n",
    "    'E:\\\\'+modelName+'_bestWeights.h5',\n",
    "    monitor=\"val_accuracy\",\n",
    "    verbose=1,\n",
    "    save_best_only=True,\n",
    "    save_weights_only=False,\n",
    "    mode=\"auto\",\n",
    "    save_freq=\"epoch\"\n",
    ")"
   ]
  },
  {
   "cell_type": "code",
   "execution_count": 23,
   "id": "741472b6",
   "metadata": {},
   "outputs": [],
   "source": [
    "trainData2 = trainData[trainData.Period!='Chronic']\n",
    "trainData2 = trainData2.groupby('Period').sample(10332,replace=True)\n",
    "\n",
    "validate2 = validate[validate.Period!='Chronic']\n",
    "validate2 = validate2.groupby('Period').sample(1147,replace=True)\n",
    "\n",
    "def Clabel(x):\n",
    "    if x=='Healthy':\n",
    "        return [1,0]\n",
    "    else:\n",
    "        return [0,1]\n",
    "\n",
    "\n",
    "\n",
    "validate2['label'] = validate2.apply(lambda x: Clabel(x.Period), axis=1 )\n",
    "trainData2['label'] = trainData2.apply(lambda x: Clabel(x.Period), axis=1 )"
   ]
  },
  {
   "cell_type": "code",
   "execution_count": 24,
   "id": "50b307a4",
   "metadata": {
    "scrolled": true
   },
   "outputs": [
    {
     "name": "stdout",
     "output_type": "stream",
     "text": [
      "Epoch 1/3000\n",
      "826/826 [==============================] - 2088s 3s/step - loss: 0.8280 - accuracy: 0.5764 - val_loss: 1.0369 - val_accuracy: 0.5451\n",
      "\n",
      "Epoch 00001: val_accuracy improved from -inf to 0.54505, saving model to E:\\wavelet_VGG16_n2_AcuteVsHealthy_bestWeights.h5\n",
      "Epoch 2/3000\n",
      "826/826 [==============================] - 1052s 1s/step - loss: 0.7194 - accuracy: 0.6230 - val_loss: 0.6802 - val_accuracy: 0.6000\n",
      "\n",
      "Epoch 00002: val_accuracy improved from 0.54505 to 0.60000, saving model to E:\\wavelet_VGG16_n2_AcuteVsHealthy_bestWeights.h5\n",
      "Epoch 3/3000\n",
      "826/826 [==============================] - 1046s 1s/step - loss: 0.6484 - accuracy: 0.6530 - val_loss: 0.7776 - val_accuracy: 0.5864\n",
      "\n",
      "Epoch 00003: val_accuracy did not improve from 0.60000\n",
      "Epoch 4/3000\n",
      "826/826 [==============================] - 1043s 1s/step - loss: 0.6442 - accuracy: 0.6678 - val_loss: 1.0930 - val_accuracy: 0.5609\n",
      "\n",
      "Epoch 00004: val_accuracy did not improve from 0.60000\n",
      "Epoch 5/3000\n",
      "826/826 [==============================] - 1041s 1s/step - loss: 0.6379 - accuracy: 0.6771 - val_loss: 0.6902 - val_accuracy: 0.6193\n",
      "\n",
      "Epoch 00005: val_accuracy improved from 0.60000 to 0.61934, saving model to E:\\wavelet_VGG16_n2_AcuteVsHealthy_bestWeights.h5\n",
      "Epoch 6/3000\n",
      "826/826 [==============================] - 1055s 1s/step - loss: 0.6076 - accuracy: 0.6919 - val_loss: 0.7269 - val_accuracy: 0.6084\n",
      "\n",
      "Epoch 00006: val_accuracy did not improve from 0.61934\n",
      "Epoch 7/3000\n",
      "826/826 [==============================] - 1052s 1s/step - loss: 0.6032 - accuracy: 0.6968 - val_loss: 0.7413 - val_accuracy: 0.6031\n",
      "\n",
      "Epoch 00007: val_accuracy did not improve from 0.61934\n",
      "Epoch 8/3000\n",
      "826/826 [==============================] - 1051s 1s/step - loss: 0.6171 - accuracy: 0.7010 - val_loss: 0.9409 - val_accuracy: 0.5745\n",
      "\n",
      "Epoch 00008: val_accuracy did not improve from 0.61934\n",
      "Epoch 9/3000\n",
      "826/826 [==============================] - 1061s 1s/step - loss: 0.5962 - accuracy: 0.7099 - val_loss: 0.8326 - val_accuracy: 0.5802\n",
      "\n",
      "Epoch 00009: val_accuracy did not improve from 0.61934\n",
      "Epoch 10/3000\n",
      "826/826 [==============================] - 1065s 1s/step - loss: 0.6021 - accuracy: 0.7108 - val_loss: 1.0030 - val_accuracy: 0.5653\n",
      "\n",
      "Epoch 00010: val_accuracy did not improve from 0.61934\n",
      "Epoch 11/3000\n",
      "826/826 [==============================] - 1067s 1s/step - loss: 0.5727 - accuracy: 0.7168 - val_loss: 0.9116 - val_accuracy: 0.5903\n",
      "\n",
      "Epoch 00011: val_accuracy did not improve from 0.61934\n",
      "Epoch 12/3000\n",
      "826/826 [==============================] - 1058s 1s/step - loss: 0.5741 - accuracy: 0.7227 - val_loss: 0.8156 - val_accuracy: 0.6079\n",
      "\n",
      "Epoch 00012: val_accuracy did not improve from 0.61934\n",
      "Epoch 13/3000\n",
      "826/826 [==============================] - 1054s 1s/step - loss: 0.5769 - accuracy: 0.7210 - val_loss: 1.0169 - val_accuracy: 0.5833\n",
      "\n",
      "Epoch 00013: val_accuracy did not improve from 0.61934\n",
      "Epoch 14/3000\n",
      "826/826 [==============================] - 1054s 1s/step - loss: 0.5885 - accuracy: 0.7211 - val_loss: 0.9497 - val_accuracy: 0.5609\n",
      "\n",
      "Epoch 00014: val_accuracy did not improve from 0.61934\n",
      "Epoch 15/3000\n",
      "826/826 [==============================] - 1028s 1s/step - loss: 0.5835 - accuracy: 0.7283 - val_loss: 0.8452 - val_accuracy: 0.6180\n",
      "\n",
      "Epoch 00015: val_accuracy did not improve from 0.61934\n",
      "Epoch 16/3000\n",
      "826/826 [==============================] - 1047s 1s/step - loss: 0.5474 - accuracy: 0.7397 - val_loss: 1.0033 - val_accuracy: 0.5701\n",
      "\n",
      "Epoch 00016: val_accuracy did not improve from 0.61934\n",
      "Epoch 17/3000\n",
      "826/826 [==============================] - 1032s 1s/step - loss: 0.5563 - accuracy: 0.7379 - val_loss: 1.0983 - val_accuracy: 0.5578\n",
      "\n",
      "Epoch 00017: val_accuracy did not improve from 0.61934\n",
      "Epoch 18/3000\n",
      "826/826 [==============================] - 1041s 1s/step - loss: 0.5368 - accuracy: 0.7447 - val_loss: 0.8321 - val_accuracy: 0.6119\n",
      "\n",
      "Epoch 00018: val_accuracy did not improve from 0.61934\n",
      "Epoch 19/3000\n",
      "826/826 [==============================] - 1034s 1s/step - loss: 0.5692 - accuracy: 0.7341 - val_loss: 0.8319 - val_accuracy: 0.6198\n",
      "\n",
      "Epoch 00019: val_accuracy improved from 0.61934 to 0.61978, saving model to E:\\wavelet_VGG16_n2_AcuteVsHealthy_bestWeights.h5\n",
      "Epoch 20/3000\n",
      "826/826 [==============================] - 1043s 1s/step - loss: 0.5397 - accuracy: 0.7471 - val_loss: 0.8559 - val_accuracy: 0.5978\n",
      "\n",
      "Epoch 00020: val_accuracy did not improve from 0.61978\n",
      "Epoch 21/3000\n",
      "826/826 [==============================] - 1034s 1s/step - loss: 0.5428 - accuracy: 0.7429 - val_loss: 1.1847 - val_accuracy: 0.5495\n",
      "\n",
      "Epoch 00021: val_accuracy did not improve from 0.61978\n",
      "Epoch 22/3000\n",
      "826/826 [==============================] - 1027s 1s/step - loss: 0.5416 - accuracy: 0.7470 - val_loss: 0.9288 - val_accuracy: 0.6026\n",
      "\n",
      "Epoch 00022: val_accuracy did not improve from 0.61978\n",
      "Epoch 23/3000\n",
      "826/826 [==============================] - 1028s 1s/step - loss: 0.5353 - accuracy: 0.7486 - val_loss: 1.0188 - val_accuracy: 0.5789\n",
      "\n",
      "Epoch 00023: val_accuracy did not improve from 0.61978\n",
      "Epoch 24/3000\n",
      "826/826 [==============================] - 1029s 1s/step - loss: 0.5488 - accuracy: 0.7458 - val_loss: 0.9244 - val_accuracy: 0.5943\n",
      "\n",
      "Epoch 00024: val_accuracy did not improve from 0.61978\n",
      "Epoch 25/3000\n",
      "826/826 [==============================] - 1037s 1s/step - loss: 0.5349 - accuracy: 0.7480 - val_loss: 1.0013 - val_accuracy: 0.5807\n",
      "\n",
      "Epoch 00025: val_accuracy did not improve from 0.61978\n",
      "Epoch 26/3000\n",
      "826/826 [==============================] - 1021s 1s/step - loss: 0.5203 - accuracy: 0.7577 - val_loss: 1.1448 - val_accuracy: 0.5591\n",
      "\n",
      "Epoch 00026: val_accuracy did not improve from 0.61978\n",
      "Epoch 27/3000\n",
      "826/826 [==============================] - 1019s 1s/step - loss: 0.5381 - accuracy: 0.7519 - val_loss: 0.9473 - val_accuracy: 0.5982\n",
      "\n",
      "Epoch 00027: val_accuracy did not improve from 0.61978\n",
      "Epoch 28/3000\n",
      "826/826 [==============================] - 1012s 1s/step - loss: 0.5585 - accuracy: 0.7436 - val_loss: 0.8998 - val_accuracy: 0.6018\n",
      "\n",
      "Epoch 00028: val_accuracy did not improve from 0.61978\n",
      "Epoch 29/3000\n",
      "826/826 [==============================] - 1015s 1s/step - loss: 0.5327 - accuracy: 0.7582 - val_loss: 1.0705 - val_accuracy: 0.5587\n",
      "\n",
      "Epoch 00029: val_accuracy did not improve from 0.61978\n",
      "Epoch 30/3000\n",
      "826/826 [==============================] - 1014s 1s/step - loss: 0.5314 - accuracy: 0.7555 - val_loss: 0.8905 - val_accuracy: 0.6040\n",
      "\n",
      "Epoch 00030: val_accuracy did not improve from 0.61978\n",
      "Epoch 31/3000\n",
      "826/826 [==============================] - 1021s 1s/step - loss: 0.5175 - accuracy: 0.7598 - val_loss: 1.0376 - val_accuracy: 0.5908\n",
      "\n",
      "Epoch 00031: val_accuracy did not improve from 0.61978\n",
      "Epoch 32/3000\n",
      "826/826 [==============================] - 1018s 1s/step - loss: 0.5137 - accuracy: 0.7646 - val_loss: 0.9658 - val_accuracy: 0.5921\n",
      "\n",
      "Epoch 00032: val_accuracy did not improve from 0.61978\n",
      "Epoch 33/3000\n",
      "826/826 [==============================] - 1023s 1s/step - loss: 0.5207 - accuracy: 0.7592 - val_loss: 0.9780 - val_accuracy: 0.5881\n",
      "\n",
      "Epoch 00033: val_accuracy did not improve from 0.61978\n",
      "Epoch 34/3000\n",
      "826/826 [==============================] - 1016s 1s/step - loss: 0.5259 - accuracy: 0.7618 - val_loss: 1.0659 - val_accuracy: 0.5719\n",
      "\n",
      "Epoch 00034: val_accuracy did not improve from 0.61978\n",
      "Epoch 35/3000\n",
      "826/826 [==============================] - 1019s 1s/step - loss: 0.5335 - accuracy: 0.7594 - val_loss: 0.9804 - val_accuracy: 0.5912\n",
      "\n",
      "Epoch 00035: val_accuracy did not improve from 0.61978\n",
      "Epoch 36/3000\n",
      "826/826 [==============================] - 1026s 1s/step - loss: 0.5045 - accuracy: 0.7709 - val_loss: 0.9605 - val_accuracy: 0.5815\n",
      "\n",
      "Epoch 00036: val_accuracy did not improve from 0.61978\n",
      "Epoch 37/3000\n",
      "826/826 [==============================] - 1004s 1s/step - loss: 0.5263 - accuracy: 0.7595 - val_loss: 0.9399 - val_accuracy: 0.6000\n",
      "\n",
      "Epoch 00037: val_accuracy did not improve from 0.61978\n",
      "Epoch 38/3000\n",
      "826/826 [==============================] - 1011s 1s/step - loss: 0.5145 - accuracy: 0.7650 - val_loss: 1.1449 - val_accuracy: 0.5749\n",
      "\n",
      "Epoch 00038: val_accuracy did not improve from 0.61978\n",
      "Epoch 39/3000\n",
      "826/826 [==============================] - 1014s 1s/step - loss: 0.5204 - accuracy: 0.7630 - val_loss: 1.4196 - val_accuracy: 0.5587\n",
      "\n",
      "Epoch 00039: val_accuracy did not improve from 0.61978\n",
      "Epoch 40/3000\n"
     ]
    },
    {
     "name": "stdout",
     "output_type": "stream",
     "text": [
      "826/826 [==============================] - 1011s 1s/step - loss: 0.5180 - accuracy: 0.7644 - val_loss: 1.0913 - val_accuracy: 0.6180\n",
      "\n",
      "Epoch 00040: val_accuracy did not improve from 0.61978\n",
      "Epoch 41/3000\n",
      "826/826 [==============================] - 1011s 1s/step - loss: 0.5218 - accuracy: 0.7664 - val_loss: 1.1621 - val_accuracy: 0.5675\n",
      "\n",
      "Epoch 00041: val_accuracy did not improve from 0.61978\n",
      "Epoch 42/3000\n",
      "826/826 [==============================] - 1012s 1s/step - loss: 0.5482 - accuracy: 0.7570 - val_loss: 0.9947 - val_accuracy: 0.6026\n",
      "\n",
      "Epoch 00042: val_accuracy did not improve from 0.61978\n",
      "Epoch 43/3000\n",
      "826/826 [==============================] - 1003s 1s/step - loss: 0.5123 - accuracy: 0.7692 - val_loss: 1.0169 - val_accuracy: 0.6022\n",
      "\n",
      "Epoch 00043: val_accuracy did not improve from 0.61978\n",
      "Epoch 44/3000\n",
      "826/826 [==============================] - 1003s 1s/step - loss: 0.5082 - accuracy: 0.7716 - val_loss: 1.0576 - val_accuracy: 0.5815\n",
      "\n",
      "Epoch 00044: val_accuracy did not improve from 0.61978\n",
      "Epoch 45/3000\n",
      "826/826 [==============================] - 1020s 1s/step - loss: 0.5023 - accuracy: 0.7719 - val_loss: 1.0664 - val_accuracy: 0.5789\n",
      "\n",
      "Epoch 00045: val_accuracy did not improve from 0.61978\n",
      "Epoch 46/3000\n",
      "826/826 [==============================] - 1006s 1s/step - loss: 0.4942 - accuracy: 0.7763 - val_loss: 1.0175 - val_accuracy: 0.6022\n",
      "\n",
      "Epoch 00046: val_accuracy did not improve from 0.61978\n",
      "Epoch 47/3000\n",
      "826/826 [==============================] - 1010s 1s/step - loss: 0.5091 - accuracy: 0.7709 - val_loss: 1.0610 - val_accuracy: 0.6066\n",
      "\n",
      "Epoch 00047: val_accuracy did not improve from 0.61978\n",
      "Epoch 48/3000\n",
      "826/826 [==============================] - 1017s 1s/step - loss: 0.5178 - accuracy: 0.7666 - val_loss: 1.0335 - val_accuracy: 0.5916\n",
      "\n",
      "Epoch 00048: val_accuracy did not improve from 0.61978\n",
      "Epoch 49/3000\n",
      "826/826 [==============================] - 1009s 1s/step - loss: 0.5089 - accuracy: 0.7721 - val_loss: 1.1398 - val_accuracy: 0.5745\n",
      "\n",
      "Epoch 00049: val_accuracy did not improve from 0.61978\n",
      "Epoch 50/3000\n",
      "826/826 [==============================] - 1006s 1s/step - loss: 0.5023 - accuracy: 0.7736 - val_loss: 1.0908 - val_accuracy: 0.6022\n",
      "\n",
      "Epoch 00050: val_accuracy did not improve from 0.61978\n",
      "Epoch 51/3000\n",
      "826/826 [==============================] - 1013s 1s/step - loss: 0.4986 - accuracy: 0.7744 - val_loss: 1.0440 - val_accuracy: 0.6031\n",
      "\n",
      "Epoch 00051: val_accuracy did not improve from 0.61978\n",
      "Epoch 52/3000\n",
      "826/826 [==============================] - 1016s 1s/step - loss: 0.4967 - accuracy: 0.7759 - val_loss: 1.0500 - val_accuracy: 0.5956\n",
      "\n",
      "Epoch 00052: val_accuracy did not improve from 0.61978\n",
      "Epoch 53/3000\n",
      "826/826 [==============================] - 1017s 1s/step - loss: 0.4968 - accuracy: 0.7768 - val_loss: 1.1288 - val_accuracy: 0.5921\n",
      "\n",
      "Epoch 00053: val_accuracy did not improve from 0.61978\n",
      "Epoch 54/3000\n",
      "826/826 [==============================] - 1007s 1s/step - loss: 0.5026 - accuracy: 0.7758 - val_loss: 0.9990 - val_accuracy: 0.6004\n",
      "\n",
      "Epoch 00054: val_accuracy did not improve from 0.61978\n",
      "Epoch 55/3000\n",
      "826/826 [==============================] - 1008s 1s/step - loss: 0.5265 - accuracy: 0.7669 - val_loss: 1.0278 - val_accuracy: 0.5956\n",
      "\n",
      "Epoch 00055: val_accuracy did not improve from 0.61978\n",
      "Epoch 56/3000\n",
      "826/826 [==============================] - 1021s 1s/step - loss: 0.4969 - accuracy: 0.7752 - val_loss: 1.5084 - val_accuracy: 0.5455\n",
      "\n",
      "Epoch 00056: val_accuracy did not improve from 0.61978\n",
      "Epoch 57/3000\n",
      "826/826 [==============================] - 1009s 1s/step - loss: 0.4949 - accuracy: 0.7779 - val_loss: 1.1560 - val_accuracy: 0.5741\n",
      "\n",
      "Epoch 00057: val_accuracy did not improve from 0.61978\n",
      "Epoch 58/3000\n",
      "826/826 [==============================] - 1018s 1s/step - loss: 0.5005 - accuracy: 0.7773 - val_loss: 1.0337 - val_accuracy: 0.5982\n",
      "\n",
      "Epoch 00058: val_accuracy did not improve from 0.61978\n",
      "Epoch 59/3000\n",
      "826/826 [==============================] - 1022s 1s/step - loss: 0.5013 - accuracy: 0.7792 - val_loss: 1.0697 - val_accuracy: 0.5974\n",
      "\n",
      "Epoch 00059: val_accuracy did not improve from 0.61978\n",
      "Epoch 60/3000\n",
      "826/826 [==============================] - 1013s 1s/step - loss: 0.4851 - accuracy: 0.7835 - val_loss: 1.0316 - val_accuracy: 0.6004\n",
      "\n",
      "Epoch 00060: val_accuracy did not improve from 0.61978\n",
      "Epoch 61/3000\n",
      "826/826 [==============================] - 1044s 1s/step - loss: 0.5083 - accuracy: 0.7742 - val_loss: 1.0746 - val_accuracy: 0.5815\n",
      "\n",
      "Epoch 00061: val_accuracy did not improve from 0.61978\n",
      "Epoch 62/3000\n",
      "826/826 [==============================] - 1031s 1s/step - loss: 0.5036 - accuracy: 0.7781 - val_loss: 1.1759 - val_accuracy: 0.5679\n",
      "\n",
      "Epoch 00062: val_accuracy did not improve from 0.61978\n",
      "Epoch 63/3000\n",
      "826/826 [==============================] - 1038s 1s/step - loss: 0.4818 - accuracy: 0.7858 - val_loss: 1.1655 - val_accuracy: 0.5732\n",
      "\n",
      "Epoch 00063: val_accuracy did not improve from 0.61978\n",
      "Epoch 64/3000\n",
      "826/826 [==============================] - 1033s 1s/step - loss: 0.4860 - accuracy: 0.7852 - val_loss: 1.1541 - val_accuracy: 0.5644\n",
      "\n",
      "Epoch 00064: val_accuracy did not improve from 0.61978\n",
      "Epoch 65/3000\n",
      "826/826 [==============================] - 1027s 1s/step - loss: 0.4810 - accuracy: 0.7879 - val_loss: 1.0775 - val_accuracy: 0.5921\n",
      "\n",
      "Epoch 00065: val_accuracy did not improve from 0.61978\n",
      "Epoch 66/3000\n",
      "826/826 [==============================] - 1015s 1s/step - loss: 0.4890 - accuracy: 0.7803 - val_loss: 1.1443 - val_accuracy: 0.5912\n",
      "\n",
      "Epoch 00066: val_accuracy did not improve from 0.61978\n",
      "Epoch 67/3000\n",
      "826/826 [==============================] - 1041s 1s/step - loss: 0.4799 - accuracy: 0.7883 - val_loss: 1.0970 - val_accuracy: 0.5771\n",
      "\n",
      "Epoch 00067: val_accuracy did not improve from 0.61978\n",
      "Epoch 68/3000\n",
      "826/826 [==============================] - 1032s 1s/step - loss: 0.5362 - accuracy: 0.7692 - val_loss: 1.1271 - val_accuracy: 0.5837\n",
      "\n",
      "Epoch 00068: val_accuracy did not improve from 0.61978\n",
      "Epoch 69/3000\n",
      "826/826 [==============================] - 1034s 1s/step - loss: 0.5025 - accuracy: 0.7824 - val_loss: 1.1483 - val_accuracy: 0.5613\n",
      "\n",
      "Epoch 00069: val_accuracy did not improve from 0.61978\n",
      "Epoch 00069: early stopping\n"
     ]
    }
   ],
   "source": [
    "batchSize = 25\n",
    "modelName = 'wavelet_VGG16_n2_AcuteVsHealthy2'\n",
    "\n",
    "model.compile(optimizer='adam',\n",
    "              loss=tf.keras.losses.CategoricalCrossentropy(),\n",
    "              metrics=['accuracy'])\n",
    "\n",
    "# model.load_weights('E:\\\\'+modelName+'_bestWeights.h5')\n",
    "\n",
    "stepTrain=len(trainData2)//batchSize\n",
    "stepValidate=len(validate2)//batchSize\n",
    "\n",
    "history = model.fit(loadTrain(trainData2,batchSize),\n",
    "                    steps_per_epoch=stepTrain,\n",
    "                    validation_data=loadTrain(validate2,batchSize),\n",
    "                    validation_steps=stepValidate,\n",
    "                    epochs=3000,callbacks=[early_stopping,check_point],verbose=1)#,\n"
   ]
  },
  {
   "cell_type": "code",
   "execution_count": 592,
   "id": "b8471574",
   "metadata": {},
   "outputs": [
    {
     "name": "stdout",
     "output_type": "stream",
     "text": [
      "INFO:tensorflow:Assets written to: E:\\rawLFP_v5n_tunning_binary\\assets\n"
     ]
    }
   ],
   "source": [
    "## Saving the model\n",
    "##\n",
    "model.save('E:\\\\'+modelName)\n",
    "model.save_weights('E:\\\\'+modelName+'_weights.h5')"
   ]
  },
  {
   "cell_type": "code",
   "execution_count": 25,
   "id": "3b370f98",
   "metadata": {},
   "outputs": [
    {
     "data": {
      "image/png": "[encoded data removed]",
      "text/plain": [
       "<Figure size 432x288 with 1 Axes>"
      ]
     },
     "metadata": {
      "needs_background": "light"
     },
     "output_type": "display_data"
    }
   ],
   "source": [
    "plt.plot(history.history['accuracy'])\n",
    "\n",
    "plt.plot(history.history['val_accuracy'])# history.history\n",
    "plt.savefig(\"E:\\\\NN\\\\\"+modelName+\"_history.png\")"
   ]
  },
  {
   "cell_type": "code",
   "execution_count": 26,
   "id": "910c795e",
   "metadata": {},
   "outputs": [
    {
     "data": {
      "image/png": "[encoded data removed]",
      "text/plain": [
       "<Figure size 432x288 with 1 Axes>"
      ]
     },
     "metadata": {
      "needs_background": "light"
     },
     "output_type": "display_data"
    }
   ],
   "source": [
    "plt.plot(history.history['loss'])\n",
    "\n",
    "plt.plot(history.history['val_loss'])# history.history\n",
    "plt.savefig(\"E:\\\\NN\\\\\"+modelName+\"_loss.png\")"
   ]
  },
  {
   "cell_type": "code",
   "execution_count": 593,
   "id": "808e9d88",
   "metadata": {},
   "outputs": [
    {
     "name": "stdout",
     "output_type": "stream",
     "text": [
      "\r",
      "      1/Unknown - 0s 156ms/step"
     ]
    },
    {
     "name": "stderr",
     "output_type": "stream",
     "text": [
      "C:\\Users\\dzemel\\AppData\\Roaming\\Python\\Python38\\site-packages\\tensorflow\\python\\keras\\engine\\training.py:2001: UserWarning: `Model.predict_generator` is deprecated and will be removed in a future version. Please use `Model.predict`, which supports generators.\n",
      "  warnings.warn('`Model.predict_generator` is deprecated and '\n"
     ]
    },
    {
     "name": "stdout",
     "output_type": "stream",
     "text": [
      "153/153 [==============================] - 1s 5ms/step\n",
      "[0 1]\n"
     ]
    }
   ],
   "source": [
    "# model =  tf.keras.models.load_model('E:\\\\caOnly_v1')\n",
    "# model.compile(optimizer='adam',\n",
    "#               loss=tf.keras.losses.SparseCategoricalCrossentropy(from_logits=True),\n",
    "#               metrics=['accuracy'])\n",
    "# model.load_weights(\"E:\\\\caOnly_v1_weights.h5\")\n",
    "\n",
    "# labels = (train_generator.class_indices)\n",
    "pred = model.predict_generator(loadTest(testData),verbose=1)\n",
    "pred = np.argmax(pred,axis=1)\n",
    "print(np.unique(pred))\n",
    "\n",
    "y = []\n",
    "for ind,(dataP,label) in enumerate(loadTest(testData)):\n",
    "    y = y+list(np.argmax(label,axis=1))\n",
    "# print(pred[1:100],y[1:100])"
   ]
  },
  {
   "cell_type": "code",
   "execution_count": 595,
   "id": "0ca3f6c2",
   "metadata": {},
   "outputs": [
    {
     "name": "stdout",
     "output_type": "stream",
     "text": [
      "0.7702407002188184\n"
     ]
    },
    {
     "data": {
      "image/png": "[encoded data removed]",
      "text/plain": [
       "<Figure size 576x576 with 2 Axes>"
      ]
     },
     "metadata": {
      "needs_background": "light"
     },
     "output_type": "display_data"
    }
   ],
   "source": [
    "classes=['Healthy','sick']\n",
    "con_mat = tf.math.confusion_matrix(labels=y, predictions=pred).numpy()\n",
    "con_mat_norm = np.around(con_mat.astype('float') / con_mat.sum(axis=1)[:, np.newaxis], decimals=2)\n",
    "\n",
    "con_mat_df = pd.DataFrame(con_mat_norm,\n",
    "                     index = classes, \n",
    "                     columns = classes)\n",
    "figure = plt.figure(figsize=(8, 8))\n",
    "sns.heatmap(con_mat_df, annot=True,cmap=plt.cm.Blues)\n",
    "plt.tight_layout()\n",
    "plt.title(modelName +\"- on test dataset. Accuracy: {acc:f}\".format(acc=np.sum(y==pred)/len(y)))\n",
    "plt.ylabel('True label')\n",
    "plt.xlabel('Predicted label')\n",
    "plt.savefig(\"E:\\\\NN\\\\\"+modelName+\"_confusionOnTest_Test.png\")\n",
    "print(np.sum(y==pred)/len(y))"
   ]
  },
  {
   "cell_type": "code",
   "execution_count": 28,
   "id": "7f130f4c",
   "metadata": {},
   "outputs": [
    {
     "name": "stderr",
     "output_type": "stream",
     "text": [
      "C:\\Users\\dzemel\\Miniconda3\\envs\\LSTM\\lib\\site-packages\\tensorflow\\python\\keras\\engine\\training.py:2001: UserWarning: `Model.predict_generator` is deprecated and will be removed in a future version. Please use `Model.predict`, which supports generators.\n",
      "  warnings.warn('`Model.predict_generator` is deprecated and '\n"
     ]
    },
    {
     "name": "stdout",
     "output_type": "stream",
     "text": [
      "101/101 [==============================] - 50s 496ms/step\n",
      "[0 1 2]\n"
     ]
    }
   ],
   "source": [
    "# model =  tf.keras.models.load_model('E:\\\\caOnly_v1')\n",
    "# model.compile(optimizer='adam',\n",
    "#               loss=tf.keras.losses.SparseCategoricalCrossentropy(from_logits=True),\n",
    "#               metrics=['accuracy'])\n",
    "# model.load_weights(\"E:\\\\caOnly_v1_weights.h5\")\n",
    "\n",
    "# labels = (train_generator.class_indices)\n",
    "pred = model.predict_generator(loadTest(validate,batchSize),verbose=1)\n",
    "pred = np.argmax(pred,axis=1)\n",
    "print(np.unique(pred))\n",
    "\n",
    "y = []\n",
    "for ind,(dataP,label) in enumerate(loadTest(validate,batchSize)):\n",
    "    y = y+list(np.argmax(label,axis=1))\n",
    "# print(pred[1:100],y[1:100])"
   ]
  },
  {
   "cell_type": "code",
   "execution_count": 29,
   "id": "132e7638",
   "metadata": {},
   "outputs": [
    {
     "name": "stdout",
     "output_type": "stream",
     "text": [
      "0.43564356435643564\n"
     ]
    },
    {
     "data": {
      "image/png": "[encoded data removed]",
      "text/plain": [
       "<Figure size 576x576 with 2 Axes>"
      ]
     },
     "metadata": {
      "needs_background": "light"
     },
     "output_type": "display_data"
    }
   ],
   "source": [
    "classes=['Healthy','Acute','Chronic']\n",
    "con_mat = tf.math.confusion_matrix(labels=y, predictions=pred).numpy()\n",
    "con_mat_norm = np.around(con_mat.astype('float') / con_mat.sum(axis=1)[:, np.newaxis], decimals=2)\n",
    "\n",
    "con_mat_df = pd.DataFrame(con_mat_norm,\n",
    "                     index = classes, \n",
    "                     columns = classes)\n",
    "figure = plt.figure(figsize=(8, 8))\n",
    "sns.heatmap(con_mat_df, annot=True,cmap=plt.cm.Blues)\n",
    "plt.tight_layout()\n",
    "plt.title(modelName +\"- on test dataset. Accuracy: {acc:f}\".format(acc=np.sum(y==pred)/len(y)))\n",
    "plt.ylabel('True label')\n",
    "plt.xlabel('Predicted label')\n",
    "plt.savefig(\"E:\\\\NN\\\\\"+modelName+\"_confusionOnTest_val.png\")\n",
    "print(np.sum(y==pred)/len(y))"
   ]
  },
  {
   "cell_type": "code",
   "execution_count": 161,
   "id": "bf7f90f0",
   "metadata": {},
   "outputs": [
    {
     "name": "stdout",
     "output_type": "stream",
     "text": [
      "24/24 [==============================] - 2s 100ms/step\n",
      "[0]\n"
     ]
    }
   ],
   "source": [
    "# model =  tf.keras.models.load_model('E:\\\\caOnly_v1')\n",
    "# model.compile(optimizer='adam',\n",
    "#               loss=tf.keras.losses.SparseCategoricalCrossentropy(from_logits=True),\n",
    "#               metrics=['accuracy'])\n",
    "# model.load_weights(\"E:\\\\caOnly_v1_weights.h5\")\n",
    "\n",
    "# labels = (train_generator.class_indices)\n",
    "pred = model.predict_generator(loadTest(trainData2,batchSize),verbose=1)\n",
    "pred = np.argmax(pred,axis=1)\n",
    "print(np.unique(pred))\n",
    "\n",
    "y = []\n",
    "for ind,(dataP,label) in enumerate(loadTest(trainData2,batchSize)):\n",
    "    y = y+list(np.argmax(label,axis=1))\n",
    "# print(pred[1:100],y[1:100])"
   ]
  },
  {
   "cell_type": "code",
   "execution_count": 162,
   "id": "5a7d0afe",
   "metadata": {},
   "outputs": [
    {
     "name": "stdout",
     "output_type": "stream",
     "text": [
      "0.21354166666666666\n"
     ]
    },
    {
     "data": {
      "image/png": "[encoded data removed]",
      "text/plain": [
       "<Figure size 576x576 with 2 Axes>"
      ]
     },
     "metadata": {
      "needs_background": "light"
     },
     "output_type": "display_data"
    }
   ],
   "source": [
    "classes=['Healthy','Acute','Chronic']\n",
    "con_mat = tf.math.confusion_matrix(labels=y, predictions=pred).numpy()\n",
    "con_mat_norm = np.around(con_mat.astype('float') / con_mat.sum(axis=1)[:, np.newaxis], decimals=2)\n",
    "\n",
    "con_mat_df = pd.DataFrame(con_mat_norm,\n",
    "                     index = classes, \n",
    "                     columns = classes)\n",
    "figure = plt.figure(figsize=(8, 8))\n",
    "sns.heatmap(con_mat_df, annot=True,cmap=plt.cm.Blues)\n",
    "plt.tight_layout()\n",
    "plt.title(modelName +\"- on train dataset. Accuracy: {acc:f}\".format(acc=np.sum(y==pred)/len(y)))\n",
    "plt.ylabel('True label')\n",
    "plt.xlabel('Predicted label')\n",
    "plt.savefig(\"E:\\\\NN\\\\\"+modelName+\"_confusionOnTest_Train.png\")\n",
    "print(np.sum(y==pred)/len(y))"
   ]
  },
  {
   "cell_type": "code",
   "execution_count": 71,
   "id": "6b67399e",
   "metadata": {},
   "outputs": [
    {
     "name": "stdout",
     "output_type": "stream",
     "text": [
      "567/567 [==============================] - 89s 157ms/step\n",
      "[0 1 2]\n"
     ]
    }
   ],
   "source": [
    "# model =  tf.keras.models.load_model('E:\\\\caOnly_v1')\n",
    "# model.compile(optimizer='adam',\n",
    "#               loss=tf.keras.losses.SparseCategoricalCrossentropy(from_logits=True),\n",
    "#               metrics=['accuracy'])\n",
    "# model.load_weights(\"E:\\\\caOnly_v1_weights.h5\")\n",
    "\n",
    "# train_datagenT = tf.keras.preprocessing.image.ImageDataGenerator(rescale=1./255)\n",
    "# train_generatorT = train_datagenT.flow_from_directory(\n",
    "#     directory=\"E:\\\\data\\\\Train\\\\\",#'E:\\\\data\\\\imageTest\\\\training_set\\\\',#\n",
    "#     target_size=(300, 300),\n",
    "#     color_mode=\"grayscale\",\n",
    "#     batch_size=32,\n",
    "#     class_mode=\"categorical\",\n",
    "#     shuffle=False,\n",
    "#     seed=36\n",
    "# )\n",
    "\n",
    "\n",
    "labels = (train_generator.class_indices)\n",
    "pred = model.predict_generator(train_generatorT,verbose=1)\n",
    "pred = np.argmax(pred,axis=1)\n",
    "print(np.unique(pred))\n",
    "\n",
    "y = []\n",
    "for f in train_generatorT.filenames:\n",
    "    sess = f.split(\"_\")[1]\n",
    "    if sess[0] == 'B':\n",
    "        day = 0\n",
    "    else:\n",
    "        day = int(re.findall(r'\\d+',sess)[0])\n",
    "\n",
    "    # get data\n",
    "    period = periodCalc(day) \n",
    "    y.append(labels[period])"
   ]
  },
  {
   "cell_type": "code",
   "execution_count": 73,
   "id": "71a07908",
   "metadata": {},
   "outputs": [
    {
     "data": {
      "image/png": "[encoded data removed]",
      "text/plain": [
       "<Figure size 576x576 with 2 Axes>"
      ]
     },
     "metadata": {
      "needs_background": "light"
     },
     "output_type": "display_data"
    }
   ],
   "source": [
    "classes=labels.keys()\n",
    "con_mat = tf.math.confusion_matrix(labels=y, predictions=pred).numpy()\n",
    "con_mat_norm = np.around(con_mat.astype('float') / con_mat.sum(axis=1)[:, np.newaxis], decimals=2)\n",
    "\n",
    "con_mat_df = pd.DataFrame(con_mat_norm,\n",
    "                     index = classes, \n",
    "                     columns = classes)\n",
    "figure = plt.figure(figsize=(8, 8))\n",
    "sns.heatmap(con_mat_df, annot=True,cmap=plt.cm.Blues)\n",
    "plt.tight_layout()\n",
    "plt.title(modelName +\"- on train dataset. Accuracy: {acc:f}\".format(acc=np.sum(y==pred)/len(y)))\n",
    "plt.ylabel('True label')\n",
    "plt.xlabel('Predicted label')\n",
    "plt.savefig(\"E:\\\\NN\\\\\"+modelName+\"_confusionOnTest_Train.png\")\n"
   ]
  },
  {
   "cell_type": "code",
   "execution_count": 61,
   "id": "4f88aa37",
   "metadata": {},
   "outputs": [
    {
     "name": "stdout",
     "output_type": "stream",
     "text": [
      "567/567 [==============================] - 89s 157ms/step - loss: 3.5345e-04 - accuracy: 1.0000\n",
      "[0.00035344576463103294, 1.0]\n"
     ]
    }
   ],
   "source": [
    "score = model.evaluate(train_generatorT)\n",
    "print(score)"
   ]
  },
  {
   "cell_type": "code",
   "execution_count": 56,
   "id": "823d27a5",
   "metadata": {},
   "outputs": [
    {
     "name": "stdout",
     "output_type": "stream",
     "text": [
      "567/567 [==============================] - 89s 157ms/step\n"
     ]
    },
    {
     "data": {
      "text/plain": [
       "(18130, 3)"
      ]
     },
     "execution_count": 56,
     "metadata": {},
     "output_type": "execute_result"
    }
   ],
   "source": [
    "pred = model.predict_generator(train_generator,verbose=1)\n",
    "pred.shape"
   ]
  },
  {
   "cell_type": "code",
   "execution_count": 57,
   "id": "f72b53ca",
   "metadata": {},
   "outputs": [
    {
     "data": {
      "text/plain": [
       "array([[9.9993336e-01, 6.6623645e-05, 2.0047966e-09],\n",
       "       [1.0000000e+00, 1.3673330e-08, 4.0443326e-10],\n",
       "       [3.7493074e-08, 1.0000000e+00, 1.9402356e-11],\n",
       "       [3.0466440e-04, 9.9913293e-01, 5.6242698e-04]], dtype=float32)"
      ]
     },
     "execution_count": 57,
     "metadata": {},
     "output_type": "execute_result"
    }
   ],
   "source": [
    "train_generatorT = train_datagen.flow_from_directory(\n",
    "    directory=\"E:\\\\data\\\\Train\\\\\",#'E:\\\\data\\\\imageTest\\\\training_set\\\\',#\n",
    "    target_size=(300, 300),\n",
    "    color_mode=\"grayscale\",\n",
    "    batch_size=32,\n",
    "    class_mode=\"categorical\",\n",
    "    shuffle=False,\n",
    "    seed=36\n",
    ")\n"
   ]
  },
  {
   "cell_type": "code",
   "execution_count": 85,
   "id": "5ec9f784",
   "metadata": {},
   "outputs": [
    {
     "data": {
      "image/png": "[encoded data removed]",
      "text/plain": [
       "<Figure size 432x288 with 1 Axes>"
      ]
     },
     "metadata": {
      "needs_background": "light"
     },
     "output_type": "display_data"
    }
   ],
   "source": [
    "%matplotlib inline\n",
    "for d,l in train_generator:\n",
    "    plt.imshow(d[16,:,:,0])\n",
    "    break"
   ]
  }
 ],
 "metadata": {
  "kernelspec": {
   "display_name": "Python 3 (ipykernel)",
   "language": "python",
   "name": "python3"
  },
  "language_info": {
   "codemirror_mode": {
    "name": "ipython",
    "version": 3
   },
   "file_extension": ".py",
   "mimetype": "text/x-python",
   "name": "python",
   "nbconvert_exporter": "python",
   "pygments_lexer": "ipython3",
   "version": "3.7.9"
  }
 },
 "nbformat": 4,
 "nbformat_minor": 5
}
