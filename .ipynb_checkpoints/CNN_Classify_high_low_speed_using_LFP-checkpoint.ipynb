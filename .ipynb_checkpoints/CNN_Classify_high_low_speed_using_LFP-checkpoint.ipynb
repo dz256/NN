{
 "cells": [
  {
   "cell_type": "code",
   "execution_count": 1,
   "id": "929a0299",
   "metadata": {},
   "outputs": [],
   "source": [
    "#since noteboke doesn't work in jupiterlabs    %matplotlib notebook \n",
    "%matplotlib inline \n",
    "%load_ext autoreload\n",
    "%autoreload 2"
   ]
  },
  {
   "cell_type": "code",
   "execution_count": 2,
   "id": "2904af6b",
   "metadata": {
    "scrolled": true
   },
   "outputs": [],
   "source": [
    "import tensorflow as tf\n",
    "import os\n",
    "# os.environ['PATH'] += os.pathsep + 'D:\\\\6OHDA\\\\'\n",
    "import numpy as np\n",
    "import scipy as sci\n",
    "from IO import *\n",
    "from utils import *\n",
    "import re\n",
    "from tqdm import tqdm\n",
    "\n",
    "from tensorflow.keras.models import Sequential, load_model\n",
    "from tensorflow.keras.layers import Input\n",
    "from tensorflow.keras.layers import Dense, Dropout, Activation, Flatten, Concatenate\n",
    "from tensorflow.keras.layers import Convolution2D, MaxPooling2D,Conv2D, Conv1D,MaxPooling1D\n",
    "# from tensorflow.keras.layers.core import Lambda\n",
    "import tensorflow.keras.optimizers as optimizers\n",
    "from tensorflow.keras import regularizers\n",
    "from tensorflow.keras import backend as K\n",
    "from tensorflow.keras.models import Model\n",
    "\n",
    "from matplotlib import pyplot as plt\n",
    "from matplotlib import gridspec\n",
    "import seaborn as sns\n",
    "\n",
    "import pickle\n",
    "import random\n",
    "# import png"
   ]
  },
  {
   "cell_type": "code",
   "execution_count": 3,
   "id": "651e941a",
   "metadata": {},
   "outputs": [
    {
     "name": "stdout",
     "output_type": "stream",
     "text": [
      "[name: \"/device:CPU:0\"\n",
      "device_type: \"CPU\"\n",
      "memory_limit: 268435456\n",
      "locality {\n",
      "}\n",
      "incarnation: 1583381928552426010\n",
      ", name: \"/device:GPU:0\"\n",
      "device_type: \"GPU\"\n",
      "memory_limit: 10091102208\n",
      "locality {\n",
      "  bus_id: 1\n",
      "  links {\n",
      "  }\n",
      "}\n",
      "incarnation: 2365309020018283368\n",
      "physical_device_desc: \"device: 0, name: GeForce GTX 1080 Ti, pci bus id: 0000:17:00.0, compute capability: 6.1\"\n",
      ", name: \"/device:GPU:1\"\n",
      "device_type: \"GPU\"\n",
      "memory_limit: 10091102208\n",
      "locality {\n",
      "  bus_id: 1\n",
      "  links {\n",
      "  }\n",
      "}\n",
      "incarnation: 12580944936777772010\n",
      "physical_device_desc: \"device: 1, name: GeForce GTX 1080 Ti, pci bus id: 0000:65:00.0, compute capability: 6.1\"\n",
      "]\n"
     ]
    },
    {
     "data": {
      "text/plain": [
       "[PhysicalDevice(name='/physical_device:CPU:0', device_type='CPU'),\n",
       " PhysicalDevice(name='/physical_device:GPU:0', device_type='GPU'),\n",
       " PhysicalDevice(name='/physical_device:GPU:1', device_type='GPU')]"
      ]
     },
     "execution_count": 3,
     "metadata": {},
     "output_type": "execute_result"
    }
   ],
   "source": [
    "from tensorflow.python.client import device_lib\n",
    "print(device_lib.list_local_devices())\n",
    "tf.config.list_physical_devices()"
   ]
  },
  {
   "cell_type": "code",
   "execution_count": 119,
   "id": "dabf073e",
   "metadata": {},
   "outputs": [],
   "source": [
    "Files = ['FinalData_6OHDA.h5','FinalData_6OHDA_H.h5']\n",
    "miceList = getMiceList(Files[0])\n",
    "#miceList.remove('1253')\n",
    "#miceList.remove('1231')\n",
    "def periodCalc(day):\n",
    "    if day== 0:\n",
    "        return 'Healthy'\n",
    "    elif day<13:\n",
    "        return 'Acute' #day 1-13\n",
    "    else:\n",
    "        return 'Chronic' #day 14-35"
   ]
  },
  {
   "cell_type": "code",
   "execution_count": 120,
   "id": "2e69ab06",
   "metadata": {},
   "outputs": [],
   "source": [
    "mTrain = ['0761', '1208', '1222', '1231', '1236', '7909' , '1793','4539',  '8430','1253']\n",
    "mValidate = ['2976', '2980', '2981', '7584']\n",
    "mTest = ['8803', '8815']"
   ]
  },
  {
   "cell_type": "code",
   "execution_count": 117,
   "id": "1ed1fb32",
   "metadata": {},
   "outputs": [],
   "source": [
    "# create and save the LFP images so can do flow from directory\n",
    "savePath = \"E:\\\\data\\\\HighLow\\\\\"\n",
    "for g in ['Healthy','Acute','Chronic']:\n",
    "    if not os.path.isdir(savePath+g):\n",
    "            os.mkdir(savePath+g)\n",
    "    sPath = savePath+g+\"\\\\\"\n",
    "    for cond in ['Train','Validate','Test']:\n",
    "        if not os.path.isdir(sPath+cond):\n",
    "            os.mkdir(sPath+cond)\n",
    "            for cond2 in ['high','low']:\n",
    "                if not os.path.isdir(sPath+cond+'\\\\'+cond2):\n",
    "                    os.mkdir(sPath+cond+'\\\\'+cond2)\n"
   ]
  },
  {
   "cell_type": "code",
   "execution_count": 122,
   "id": "b72ca33a",
   "metadata": {
    "scrolled": true
   },
   "outputs": [
    {
     "name": "stderr",
     "output_type": "stream",
     "text": [
      "\r",
      "  0%|                                                                                           | 0/14 [00:00<?, ?it/s]"
     ]
    },
    {
     "name": "stdout",
     "output_type": "stream",
     "text": [
      "cleaning up lfp data\n",
      "cleaning up speed data\n"
     ]
    },
    {
     "name": "stderr",
     "output_type": "stream",
     "text": [
      "100%|██████████████████████████████████████████████████████████████████████████████████| 14/14 [01:10<00:00,  5.07s/it]\n",
      "  0%|                                                                                           | 0/14 [00:00<?, ?it/s]"
     ]
    },
    {
     "name": "stdout",
     "output_type": "stream",
     "text": [
      "cleaning up lfp data\n",
      "cleaning up speed data\n"
     ]
    },
    {
     "name": "stderr",
     "output_type": "stream",
     "text": [
      "100%|██████████████████████████████████████████████████████████████████████████████████| 14/14 [02:11<00:00,  9.39s/it]\n"
     ]
    }
   ],
   "source": [
    "from matplotlib import image as pltI\n",
    "savePath = \"E:\\\\data\\\\HighLow\\\\Healthy\\\\\"\n",
    "dtLp = 0.0032768\n",
    "tPlot = np.linspace(-1,1,int(2/dtLp-1))\n",
    "f = h5py.File('D:\\\\6OHDA\\\\Spectograms.hdf5','r') \n",
    "for g in ['Test']:#['Train','Validate','Test']:\n",
    "    mList = eval(\"m\"+g)\n",
    "    sPath = savePath+g+\"\\\\\"\n",
    "    for m in mList:\n",
    "        data =  getData(Files[0],['lfp','speed'],period ='Pre', mice=m)\n",
    "        for sess in tqdm(data.keys()):\n",
    "            if sess[5] == 'B':\n",
    "                day = 0\n",
    "            else:\n",
    "                day = int(re.findall(r'\\d+',sess[5:])[0])\n",
    "\n",
    "            # get data\n",
    "            period = periodCalc(day)\n",
    "            if period != 'Healthy':\n",
    "                continue\n",
    "            freq = f[m][sess]['Pre']['freq'][:]\n",
    "            coeff = np.abs(f[m][sess]['Pre']['coeff'][:])\n",
    "            lfpOutliers = removeLFPOutliers(data[sess]['lfp']['lfp'], sess)\n",
    "            coeff[:,(lfpOutliers[:,0]==1)] = np.nan\n",
    "            Hs = np.nansum(coeff, axis=1)\n",
    "            coeff = coeff.T/Hs.T\n",
    "            \n",
    "            low = getOnsetOrPeriod(m,sess,'Pre','LowMvmtPeriods_vector')\n",
    "            high = getOnsetOrPeriod(m,sess,'Pre','HighMvmtPeriods_vector')\n",
    "           \n",
    "            dtS = 1/data[sess]['speed']['Fs']\n",
    "            dtL = 1/data[sess]['lfp']['FS']\n",
    "            ts = np.arange(0, np.max(data[sess]['speed']['speed'].shape)) * dtS \n",
    "            tl = np.arange(0, np.max(data[sess]['lfp']['lfp'].shape)) * dtL\n",
    "            \n",
    "            for mv in ['low','high']:\n",
    "                Himvmt = np.full_like(tl,False)\n",
    "                mVector = eval(mv)\n",
    "                if np.sum(mVector) == 0:\n",
    "                    continue\n",
    "                V = np.append(mVector[1:]*1-mVector[:-1]*1,0)\n",
    "                HpStart = ts[V==1]\n",
    "                HpEnd = ts[V==-1]\n",
    "                if mVector[0] == 1:\n",
    "                    HpStart = np.insert(HpStart,0,0)\n",
    "                for segI, seg in enumerate(HpStart):\n",
    "                    si = np.argmin(np.abs(tl-seg))\n",
    "                    se = np.argmin(np.abs(tl-HpEnd[segI])\n",
    "                                  )\n",
    "                    a = coeff[si:se] \n",
    "                    a = sci.signal.decimate(a,10,axis=0)\n",
    "                    if a.shape[0] < 2436:\n",
    "                        A = [a]\n",
    "                    else:\n",
    "                        A = [a[i : i + 2436,:] for i in range(0, a.shape[0],int(np.ceil(1/dtLp)))] \n",
    "                    if g == 'Test':\n",
    "                        sPathSess = sPath + 'all\\\\'\n",
    "                    else:\n",
    "                        sPathSess = sPath +mv+'\\\\'\n",
    "                    for ind,img in enumerate(A):\n",
    "                        z = (65535*((img - img.min())/img.ptp())).astype(np.uint16)\n",
    "#                         if z.shape[0] != len(tPlot):\n",
    "#                             continue\n",
    "                        pltI.imsave(sPathSess+'{m:s}_{mv:s}_{seg:d}_{ind:d}.png'.format(mv=mv,m=sess,seg=segI,ind=ind), z)\n",
    "#                         with open(sPathSess+'{m:s}_{seg:d}_{ind:d}.png'.format(m=sess,seg=segI,ind=ind), 'wb') as f2:\n",
    "#                             f2.write(z)\n",
    "#                             writer = png.Writer(width=z.shape[1], height=z.shape[0], bitdepth=16, greyscale=True)\n",
    "#                             zgray2list = z.tolist()\n",
    "#                             writer.write(f2, zgray2list)\n",
    "                \n",
    "\n",
    "                \n",
    "\n",
    "                \n"
   ]
  },
  {
   "cell_type": "code",
   "execution_count": 55,
   "id": "b35b5742",
   "metadata": {},
   "outputs": [
    {
     "name": "stdout",
     "output_type": "stream",
     "text": [
      "E:\\data\\Test\\1208_0.png\n",
      "E:\\data\\Test\\1208_1.png\n",
      "E:\\data\\Test\\1208_2.png\n",
      "E:\\data\\Test\\1208_3.png\n"
     ]
    }
   ],
   "source": [
    "# f = h5py.File('D:\\\\6OHDA\\\\Spectograms.hdf5','r') \n",
    "# fig, ax = plt.subplots(1,2)\n",
    "# # m = '1208'\n",
    "# sess = '1208_BaselineA'\n",
    "# data =  getData(Files[0],['lfp','speed'],period ='Pre', mice=m)\n",
    "# freq = f[m][sess]['Pre']['freq'][:]\n",
    "# coeff = np.abs(f[m][sess]['Pre']['coeff'][:])\n",
    "# lfpOutliers = removeLFPOutliers(data[sess]['lfp']['lfp'], sess)\n",
    "# coeff[:,(lfpOutliers[:,0]==1)] = np.nan\n",
    "# coeff = coeff.T\n",
    "\n",
    "# ax[0].pcolormesh(np.arange(3000),freq,coeff[3000:6000,:].T)\n",
    "# a = sci.signal.decimate(coeff,10,axis=0)\n",
    "# ax[1].pcolormesh(np.arange(300),freq,a[300:600,:].T)\n",
    "# dtL = 0.0032768\n",
    "# tPlot = np.linspace(-2,2,int(4/dtL-1))\n",
    "# f.close()\n",
    "# from PIL import Image\n",
    "sPath = savePath+g+\"\\\\\"\n",
    "for ind,img in enumerate(A):\n",
    "    z = (65535*((img - img.min())/img.ptp())).astype(np.uint16)\n",
    "    print(sPath+'{m:s}_{ind:d}.png'.format(m=m,ind=ind))\n",
    "    if ind>2:\n",
    "        break"
   ]
  },
  {
   "cell_type": "code",
   "execution_count": 54,
   "id": "c1d971a5",
   "metadata": {},
   "outputs": [
    {
     "name": "stdout",
     "output_type": "stream",
     "text": [
      "(1219, 87) (1219, 87)\n"
     ]
    },
    {
     "data": {
      "text/plain": [
       "0"
      ]
     },
     "execution_count": 54,
     "metadata": {},
     "output_type": "execute_result"
    }
   ],
   "source": [
    "\n",
    "\n",
    "# fig, ax = plt.subplots(1,1)\n",
    "# ax.pcolormesh(np.arange(A[0].shape[0]),np.arange(A[0].shape[1]),A[0].T,\n",
    "#                                 rasterized = True)\n",
    "# ax.set_aspect('equal', adjustable='box')\n",
    "# ind=0\n",
    "\n",
    "with open('E:\\\\{m:s}_{ind:d}.png'.format(m=m,ind=ind), 'wb') as f:\n",
    "    writer = png.Writer(width=z.shape[1], height=z.shape[0], bitdepth=16, greyscale=True)\n",
    "    zgray2list = z.tolist()\n",
    "    writer.write(f, zgray2list)\n",
    "# from PIL import Image\n",
    "# image =  np.array(Image.open('E:\\\\{m:s}_{ind:d}.png'.format(m=m,ind=ind)))\n",
    "\n",
    "print(image.shape,z.shape)\n",
    "np.sum(image!=z)"
   ]
  },
  {
   "cell_type": "code",
   "execution_count": 422,
   "id": "e0b410c4",
   "metadata": {},
   "outputs": [
    {
     "name": "stdout",
     "output_type": "stream",
     "text": [
      "Found 7486 images belonging to 2 classes.\n",
      "Found 1078 images belonging to 2 classes.\n",
      "Found 2091 images belonging to 1 classes.\n"
     ]
    }
   ],
   "source": [
    "train_datagen = tf.keras.preprocessing.image.ImageDataGenerator(rescale=1./255)\n",
    "valid_datagen = tf.keras.preprocessing.image.ImageDataGenerator()\n",
    "test_datagen = tf.keras.preprocessing.image.ImageDataGenerator(rescale=1./255)\n",
    "train_generator = train_datagen.flow_from_directory(\n",
    "    directory=\"E:\\\\data\\\\HighLow\\\\\\Healthy\\\\Train\\\\\",#'E:\\\\data\\\\imageTest\\\\training_set\\\\',#\n",
    "    target_size=(300, 300),\n",
    "    color_mode=\"grayscale\",\n",
    "    batch_size=32,\n",
    "    class_mode=\"categorical\",\n",
    "    shuffle=True,\n",
    "    seed=36\n",
    ")\n",
    "validate_generator = valid_datagen.flow_from_directory(\n",
    "    directory=\"E:\\\\data\\\\HighLow\\\\\\Healthy\\\\Validate\\\\\",#'E:\\\\data\\\\imageTest\\\\test_set\\\\',#\n",
    "    target_size=(300, 300),\n",
    "    color_mode=\"grayscale\",\n",
    "    batch_size=32,\n",
    "    class_mode=\"categorical\",\n",
    "    shuffle=True,\n",
    "    seed=42\n",
    ")\n",
    "test_generator = test_datagen.flow_from_directory(\n",
    "    directory=\"E:\\\\data\\\\HighLow\\\\\\Healthy\\\\Test\\\\\",#'E:\\\\data\\\\imageTest\\\\test_set\\\\',#\n",
    "    target_size=(300, 300),\n",
    "    color_mode=\"grayscale\",\n",
    "    batch_size=32,\n",
    "    class_mode=None,\n",
    "    shuffle=False\n",
    ")"
   ]
  },
  {
   "cell_type": "code",
   "execution_count": 423,
   "id": "5ed5d815",
   "metadata": {},
   "outputs": [],
   "source": [
    "early_stopping = tf.keras.callbacks.EarlyStopping(\n",
    "    monitor='val_accuracy', \n",
    "    verbose=1,\n",
    "    patience=40,\n",
    "    mode='max',\n",
    "    restore_best_weights=True)"
   ]
  },
  {
   "cell_type": "code",
   "execution_count": 431,
   "id": "a239118b",
   "metadata": {},
   "outputs": [
    {
     "name": "stdout",
     "output_type": "stream",
     "text": [
      "{0: 0.5084157093240715, 1: 0.49158429067592835}\n"
     ]
    }
   ],
   "source": [
    "# calculate the class weight: - flow from directory goes alphabetically so Acute, Chroniq, Healthy\n",
    "files_per_class = []\n",
    "for folder in ['high','low']:\n",
    "    if not os.path.isfile(\"E:\\\\data\\\\HighLow\\\\\\Healthy\\\\\"+folder):\n",
    "            files_per_class.append(len(os.listdir(\"E:\\\\data\\\\HighLow\\\\\\Healthy\\\\Train\\\\\"+folder)))\n",
    "total_files = sum(files_per_class)\n",
    "class_weights = {}\n",
    "for i in range(len(files_per_class)):\n",
    "    class_weights[i] = 1 - (float(files_per_class[i]) / total_files)\n",
    "print (class_weights)"
   ]
  },
  {
   "cell_type": "code",
   "execution_count": 432,
   "id": "250abf08",
   "metadata": {},
   "outputs": [
    {
     "name": "stdout",
     "output_type": "stream",
     "text": [
      "[3680, 3806]\n",
      "{0: 1.0171195652173912, 1: 0.9834471886495008}\n"
     ]
    }
   ],
   "source": [
    "print(files_per_class)\n",
    "for i in range(len(files_per_class)):\n",
    "    class_weights[i] = (1 /(float(files_per_class[i]))) *( total_files/2)\n",
    "\n",
    "print(class_weights)"
   ]
  },
  {
   "cell_type": "code",
   "execution_count": 427,
   "id": "2de8fb7d",
   "metadata": {},
   "outputs": [],
   "source": [
    "del model"
   ]
  },
  {
   "cell_type": "code",
   "execution_count": 428,
   "id": "2d3432ba",
   "metadata": {},
   "outputs": [],
   "source": [
    "# initializer = tf.keras.initializers.RandomNormal(mean=0., stddev=1.)\n",
    "model = Sequential()\n",
    "model.add(Conv2D(16, kernel_size=(20,20), activation='relu', input_shape=(300,300,1)))#,kernel_initializer=initializer))\n",
    "model.add(Conv2D(32, kernel_size=(5,5), activation='relu'))\n",
    "model.add(MaxPooling2D(pool_size=(2,2)))\n",
    "model.add(Dropout(0.25))\n",
    "model.add(Conv2D(54, kernel_size=(3,3), activation='relu'))\n",
    "\n",
    "# model.add(Conv2D(64, kernel_size=(5,5), activation='relu'))#,kernel_initializer=initializer))\n",
    "model.add(Flatten())\n",
    "# model.add(Dense(50, activation='relu'))#,kernel_initializer=initializer))\n",
    "model.add(Dense(2, activation='sigmoid'))"
   ]
  },
  {
   "cell_type": "code",
   "execution_count": 429,
   "id": "8fb8411a",
   "metadata": {},
   "outputs": [
    {
     "name": "stdout",
     "output_type": "stream",
     "text": [
      "Model: \"sequential_29\"\n",
      "_________________________________________________________________\n",
      "Layer (type)                 Output Shape              Param #   \n",
      "=================================================================\n",
      "conv2d_31 (Conv2D)           (None, 281, 281, 16)      6416      \n",
      "_________________________________________________________________\n",
      "conv2d_32 (Conv2D)           (None, 277, 277, 32)      12832     \n",
      "_________________________________________________________________\n",
      "max_pooling2d_1 (MaxPooling2 (None, 138, 138, 32)      0         \n",
      "_________________________________________________________________\n",
      "dropout_1 (Dropout)          (None, 138, 138, 32)      0         \n",
      "_________________________________________________________________\n",
      "conv2d_33 (Conv2D)           (None, 136, 136, 54)      15606     \n",
      "_________________________________________________________________\n",
      "flatten_29 (Flatten)         (None, 998784)            0         \n",
      "_________________________________________________________________\n",
      "dense_37 (Dense)             (None, 2)                 1997570   \n",
      "=================================================================\n",
      "Total params: 2,032,424\n",
      "Trainable params: 2,032,424\n",
      "Non-trainable params: 0\n",
      "_________________________________________________________________\n",
      "None\n"
     ]
    }
   ],
   "source": [
    "print(model.summary())"
   ]
  },
  {
   "cell_type": "code",
   "execution_count": 199,
   "id": "822b4e56",
   "metadata": {},
   "outputs": [
    {
     "name": "stdout",
     "output_type": "stream",
     "text": [
      "float64 int32\n"
     ]
    }
   ],
   "source": [
    "for a,b in dataGen(train_generator, butchSize = 32):\n",
    "    print(a.dtype,b.dtype)\n",
    "    break"
   ]
  },
  {
   "cell_type": "code",
   "execution_count": 433,
   "id": "50b307a4",
   "metadata": {
    "scrolled": true
   },
   "outputs": [
    {
     "name": "stdout",
     "output_type": "stream",
     "text": [
      "Epoch 1/500\n",
      "233/233 [==============================] - 45s 186ms/step - loss: 0.6897 - accuracy: 0.5735 - val_loss: 8.9464 - val_accuracy: 0.6373\n",
      "Epoch 2/500\n",
      "233/233 [==============================] - 44s 189ms/step - loss: 0.5901 - accuracy: 0.7008 - val_loss: 9.9508 - val_accuracy: 0.9602\n",
      "Epoch 3/500\n",
      "233/233 [==============================] - 43s 184ms/step - loss: 0.4814 - accuracy: 0.7565 - val_loss: 2.4338 - val_accuracy: 0.9470\n",
      "Epoch 4/500\n",
      "233/233 [==============================] - 43s 185ms/step - loss: 0.4602 - accuracy: 0.7715 - val_loss: 5.0001 - val_accuracy: 0.9688\n",
      "Epoch 5/500\n",
      "233/233 [==============================] - 43s 185ms/step - loss: 0.4408 - accuracy: 0.7823 - val_loss: 6.2140 - val_accuracy: 0.9384\n",
      "Epoch 6/500\n",
      "233/233 [==============================] - 43s 185ms/step - loss: 0.4141 - accuracy: 0.8021 - val_loss: 282.3025 - val_accuracy: 0.4148\n",
      "Epoch 7/500\n",
      "233/233 [==============================] - 43s 183ms/step - loss: 0.3982 - accuracy: 0.8114 - val_loss: 272.1980 - val_accuracy: 0.4100\n",
      "Epoch 8/500\n",
      "233/233 [==============================] - 43s 183ms/step - loss: 0.3672 - accuracy: 0.8322 - val_loss: 253.9608 - val_accuracy: 0.4375\n",
      "Epoch 9/500\n",
      "233/233 [==============================] - 43s 183ms/step - loss: 0.3568 - accuracy: 0.8363 - val_loss: 232.4102 - val_accuracy: 0.4811\n",
      "Epoch 10/500\n",
      "233/233 [==============================] - 42s 181ms/step - loss: 0.3349 - accuracy: 0.8485 - val_loss: 130.2632 - val_accuracy: 0.5265\n",
      "Epoch 11/500\n",
      "233/233 [==============================] - 42s 181ms/step - loss: 0.3139 - accuracy: 0.8601 - val_loss: 333.4738 - val_accuracy: 0.3788\n",
      "Epoch 12/500\n",
      "233/233 [==============================] - 42s 181ms/step - loss: 0.2932 - accuracy: 0.8660 - val_loss: 268.3751 - val_accuracy: 0.3589\n",
      "Epoch 13/500\n",
      "233/233 [==============================] - 43s 182ms/step - loss: 0.2631 - accuracy: 0.8862 - val_loss: 301.8586 - val_accuracy: 0.3447\n",
      "Epoch 14/500\n",
      "233/233 [==============================] - 42s 181ms/step - loss: 0.2531 - accuracy: 0.8877 - val_loss: 217.3906 - val_accuracy: 0.4905\n",
      "Epoch 15/500\n",
      "233/233 [==============================] - 42s 181ms/step - loss: 0.2172 - accuracy: 0.9066 - val_loss: 270.8837 - val_accuracy: 0.4100\n",
      "Epoch 16/500\n",
      "233/233 [==============================] - 42s 181ms/step - loss: 0.1944 - accuracy: 0.9199 - val_loss: 247.0759 - val_accuracy: 0.5170\n",
      "Epoch 17/500\n",
      "233/233 [==============================] - 42s 180ms/step - loss: 0.1660 - accuracy: 0.9353 - val_loss: 338.8024 - val_accuracy: 0.4242\n",
      "Epoch 18/500\n",
      "233/233 [==============================] - 42s 181ms/step - loss: 0.1466 - accuracy: 0.9423 - val_loss: 375.9498 - val_accuracy: 0.3939\n",
      "Epoch 19/500\n",
      "233/233 [==============================] - 42s 182ms/step - loss: 0.1146 - accuracy: 0.9572 - val_loss: 321.7408 - val_accuracy: 0.4688\n",
      "Epoch 20/500\n",
      "233/233 [==============================] - 43s 182ms/step - loss: 0.1082 - accuracy: 0.9643 - val_loss: 960.9604 - val_accuracy: 0.3968\n",
      "Epoch 21/500\n",
      "233/233 [==============================] - 42s 181ms/step - loss: 0.0881 - accuracy: 0.9720 - val_loss: 1019.3557 - val_accuracy: 0.3930\n",
      "Epoch 22/500\n",
      "233/233 [==============================] - 42s 181ms/step - loss: 0.0779 - accuracy: 0.9761 - val_loss: 419.9773 - val_accuracy: 0.3920\n",
      "Epoch 23/500\n",
      "233/233 [==============================] - 42s 180ms/step - loss: 0.0473 - accuracy: 0.9886 - val_loss: 1064.8053 - val_accuracy: 0.3958\n",
      "Epoch 24/500\n",
      "233/233 [==============================] - 42s 181ms/step - loss: 0.0560 - accuracy: 0.9838 - val_loss: 929.6509 - val_accuracy: 0.4081\n",
      "Epoch 25/500\n",
      "233/233 [==============================] - 42s 180ms/step - loss: 0.4122 - accuracy: 0.9642 - val_loss: 7.3335 - val_accuracy: 0.5881\n",
      "Epoch 26/500\n",
      "233/233 [==============================] - 42s 181ms/step - loss: 0.6963 - accuracy: 0.5039 - val_loss: 3.6651 - val_accuracy: 0.5871\n",
      "Epoch 27/500\n",
      "233/233 [==============================] - 43s 183ms/step - loss: 0.6940 - accuracy: 0.5107 - val_loss: 2.3241 - val_accuracy: 0.5890\n",
      "Epoch 28/500\n",
      "233/233 [==============================] - 42s 182ms/step - loss: 0.6944 - accuracy: 0.4989 - val_loss: 2.0079 - val_accuracy: 0.5890\n",
      "Epoch 29/500\n",
      "233/233 [==============================] - 42s 180ms/step - loss: 0.6935 - accuracy: 0.5064 - val_loss: 1.7535 - val_accuracy: 0.7206\n",
      "Epoch 30/500\n",
      "233/233 [==============================] - 42s 180ms/step - loss: 0.6937 - accuracy: 0.4995 - val_loss: 1.5859 - val_accuracy: 0.5871\n",
      "Epoch 31/500\n",
      "233/233 [==============================] - 42s 180ms/step - loss: 0.6934 - accuracy: 0.5058 - val_loss: 1.4565 - val_accuracy: 0.5881\n",
      "Epoch 32/500\n",
      "233/233 [==============================] - 42s 181ms/step - loss: 0.6932 - accuracy: 0.5056 - val_loss: 1.3831 - val_accuracy: 0.7008\n",
      "Epoch 33/500\n",
      "233/233 [==============================] - 42s 180ms/step - loss: 0.6933 - accuracy: 0.4846 - val_loss: 1.3212 - val_accuracy: 0.5862\n",
      "Epoch 34/500\n",
      "233/233 [==============================] - 43s 182ms/step - loss: 0.6932 - accuracy: 0.4979 - val_loss: 1.2727 - val_accuracy: 0.5900\n",
      "Epoch 35/500\n",
      "233/233 [==============================] - 43s 182ms/step - loss: 0.6932 - accuracy: 0.5099 - val_loss: 1.2423 - val_accuracy: 0.7064\n",
      "Epoch 36/500\n",
      "233/233 [==============================] - 42s 180ms/step - loss: 0.6932 - accuracy: 0.4930 - val_loss: 1.2130 - val_accuracy: 0.7093\n",
      "Epoch 37/500\n",
      "233/233 [==============================] - 42s 180ms/step - loss: 0.6932 - accuracy: 0.4921 - val_loss: 1.1867 - val_accuracy: 0.6960\n",
      "Epoch 38/500\n",
      "233/233 [==============================] - 42s 181ms/step - loss: 0.6932 - accuracy: 0.4950 - val_loss: 1.1705 - val_accuracy: 0.5881\n",
      "Epoch 39/500\n",
      "233/233 [==============================] - 42s 180ms/step - loss: 0.6932 - accuracy: 0.4921 - val_loss: 1.1181 - val_accuracy: 0.6979\n",
      "Epoch 40/500\n",
      "233/233 [==============================] - 42s 181ms/step - loss: 0.6932 - accuracy: 0.4952 - val_loss: 1.1132 - val_accuracy: 0.6960\n",
      "Epoch 41/500\n",
      "233/233 [==============================] - 43s 183ms/step - loss: 0.6932 - accuracy: 0.4862 - val_loss: 1.0972 - val_accuracy: 0.5881\n",
      "Epoch 42/500\n",
      "233/233 [==============================] - 43s 183ms/step - loss: 0.6932 - accuracy: 0.4942 - val_loss: 1.0121 - val_accuracy: 0.5881\n",
      "Epoch 43/500\n",
      "233/233 [==============================] - 42s 180ms/step - loss: 0.6932 - accuracy: 0.4944 - val_loss: 1.0258 - val_accuracy: 0.5890\n",
      "Epoch 44/500\n",
      "233/233 [==============================] - 42s 180ms/step - loss: 0.6932 - accuracy: 0.4881 - val_loss: 1.0394 - val_accuracy: 0.5890\n",
      "Restoring model weights from the end of the best epoch.\n",
      "Epoch 00044: early stopping\n"
     ]
    }
   ],
   "source": [
    "model.compile(optimizer='sgd',\n",
    "              loss=tf.keras.losses.CategoricalCrossentropy(),\n",
    "              metrics=['accuracy'])\n",
    "\n",
    "stepTrain=train_generator.n//train_generator.batch_size\n",
    "stepValidate=validate_generator.n//validate_generator.batch_size\n",
    "\n",
    "history = model.fit(train_generator,\n",
    "                    steps_per_epoch=stepTrain,\n",
    "                    validation_data=validate_generator,\n",
    "                    validation_steps=stepValidate,\n",
    "                    epochs=500,class_weight=class_weights,callbacks=[early_stopping])#,\n",
    "# history = model.fit(train_generator,class_weight=class_weights,\n",
    "#                     epochs=4)#,\n",
    "\n",
    "\n",
    "# print(dataP.shape)\n",
    "# model.fit(loadData(data))\n"
   ]
  },
  {
   "cell_type": "code",
   "execution_count": 46,
   "id": "19a3b3b4",
   "metadata": {},
   "outputs": [
    {
     "data": {
      "text/plain": [
       "<tensorflow.python.keras.preprocessing.image.DirectoryIterator at 0x2368bf234f0>"
      ]
     },
     "execution_count": 46,
     "metadata": {},
     "output_type": "execute_result"
    }
   ],
   "source": [
    "a = trainTest(validate_generator)\n",
    "validate_generator"
   ]
  },
  {
   "cell_type": "code",
   "execution_count": 284,
   "id": "b8471574",
   "metadata": {},
   "outputs": [
    {
     "name": "stdout",
     "output_type": "stream",
     "text": [
      "INFO:tensorflow:Assets written to: E:\\caOnly_v1\\assets\n"
     ]
    }
   ],
   "source": [
    "## Saving the model\n",
    "# model.save('E:\\\\caLFP_v1')\n",
    "# model.save_weights(\"E:\\\\caOnly_v1_weights.h5\")"
   ]
  },
  {
   "cell_type": "code",
   "execution_count": 69,
   "id": "3b370f98",
   "metadata": {},
   "outputs": [
    {
     "data": {
      "text/plain": [
       "<matplotlib.legend.Legend at 0x23944fcbb20>"
      ]
     },
     "execution_count": 69,
     "metadata": {},
     "output_type": "execute_result"
    },
    {
     "data": {
      "image/png": "[encoded data removed]",
      "text/plain": [
       "<Figure size 432x288 with 1 Axes>"
      ]
     },
     "metadata": {
      "needs_background": "light"
     },
     "output_type": "display_data"
    }
   ],
   "source": [
    "plt.plot(history.history['loss'],label='train')\n",
    "plt.plot(history.history['val_loss'],label='validate')\n",
    "plt.legend()"
   ]
  },
  {
   "cell_type": "code",
   "execution_count": 65,
   "id": "19bdfe93",
   "metadata": {},
   "outputs": [
    {
     "data": {
      "text/plain": [
       "<matplotlib.legend.Legend at 0x2395b318b50>"
      ]
     },
     "execution_count": 65,
     "metadata": {},
     "output_type": "execute_result"
    },
    {
     "data": {
      "image/png": "[encoded data removed]",
      "text/plain": [
       "<Figure size 432x288 with 1 Axes>"
      ]
     },
     "metadata": {
      "needs_background": "light"
     },
     "output_type": "display_data"
    }
   ],
   "source": [
    "plt.plot(history.history['accuracy'],label='train')\n",
    "plt.plot(history.history['val_accuracy'],label='validate')\n",
    "plt.legend()"
   ]
  },
  {
   "cell_type": "code",
   "execution_count": 224,
   "id": "3ed66872",
   "metadata": {
    "scrolled": true
   },
   "outputs": [
    {
     "name": "stdout",
     "output_type": "stream",
     "text": [
      "8000/8000 [==============================] - 26s 3ms/step - loss: 0.6932 - accuracy: 1.0000\n",
      "Test loss: 0.6931594014167786\n",
      "Test accuracy: 1.0\n"
     ]
    }
   ],
   "source": [
    "# x,y = loadTest(data)\n",
    "score = model.evaluate(train_generator) \n",
    "\n",
    "print('Test loss:', score[0]) \n",
    "print('Test accuracy:', score[1])\n"
   ]
  },
  {
   "cell_type": "code",
   "execution_count": 289,
   "id": "c4fa35d5",
   "metadata": {},
   "outputs": [],
   "source": [
    "del model \n",
    "# initializer = tf.keras.initializers.RandomNormal(mean=0., stddev=1.)\n",
    "model = Sequential()\n",
    "model.add(Conv2D(16, kernel_size=(20,20), activation='relu', input_shape=(300,300,1)))#,kernel_initializer=initializer))\n",
    "# model.add(Conv2D(32, kernel_size=(300,1), activation='relu'))#,kernel_initializer=initializer))\n",
    "# model.add(Conv2D(64, kernel_size=(5,5), activation='relu'))#,kernel_initializer=initializer))\n",
    "model.add(Flatten())\n",
    "# model.add(Dense(50, activation='relu'))#,kernel_initializer=initializer))\n",
    "model.add(Dense(2, activation='sigmoid'))"
   ]
  },
  {
   "cell_type": "code",
   "execution_count": 330,
   "id": "2f27a15f",
   "metadata": {
    "scrolled": true
   },
   "outputs": [
    {
     "name": "stdout",
     "output_type": "stream",
     "text": [
      "Epoch 1/40\n",
      "100/100 [==============================] - 8s 73ms/step - loss: 0.2482 - accuracy: 0.8734\n",
      "Epoch 2/40\n",
      "100/100 [==============================] - 7s 74ms/step - loss: 0.3959 - accuracy: 0.8666\n",
      "Epoch 3/40\n",
      "100/100 [==============================] - 7s 74ms/step - loss: 0.2400 - accuracy: 0.8753\n",
      "Epoch 4/40\n",
      "100/100 [==============================] - 7s 73ms/step - loss: 0.2293 - accuracy: 0.8913\n",
      "Epoch 5/40\n",
      "100/100 [==============================] - 7s 73ms/step - loss: 0.2095 - accuracy: 0.8978\n",
      "Epoch 6/40\n",
      "100/100 [==============================] - 7s 73ms/step - loss: 0.2014 - accuracy: 0.8988\n",
      "Epoch 7/40\n",
      "100/100 [==============================] - 7s 74ms/step - loss: 0.2004 - accuracy: 0.9053\n",
      "Epoch 8/40\n",
      "100/100 [==============================] - 7s 74ms/step - loss: 0.1875 - accuracy: 0.9106\n",
      "Epoch 9/40\n",
      "100/100 [==============================] - 7s 74ms/step - loss: 0.1987 - accuracy: 0.9078\n",
      "Epoch 10/40\n",
      "100/100 [==============================] - 7s 74ms/step - loss: 0.1703 - accuracy: 0.9219\n",
      "Epoch 11/40\n",
      "100/100 [==============================] - 7s 74ms/step - loss: 0.1699 - accuracy: 0.9209\n",
      "Epoch 12/40\n",
      "100/100 [==============================] - 7s 73ms/step - loss: 0.1627 - accuracy: 0.9197\n",
      "Epoch 13/40\n",
      "100/100 [==============================] - 7s 73ms/step - loss: 0.1579 - accuracy: 0.9284\n",
      "Epoch 14/40\n",
      "100/100 [==============================] - 7s 74ms/step - loss: 0.1611 - accuracy: 0.9266\n",
      "Epoch 15/40\n",
      "100/100 [==============================] - 7s 74ms/step - loss: 0.1469 - accuracy: 0.9337\n",
      "Epoch 16/40\n",
      "100/100 [==============================] - 7s 74ms/step - loss: 0.1448 - accuracy: 0.9394\n",
      "Epoch 17/40\n",
      "100/100 [==============================] - 7s 74ms/step - loss: 0.1412 - accuracy: 0.9419\n",
      "Epoch 18/40\n",
      "100/100 [==============================] - 7s 73ms/step - loss: 0.1428 - accuracy: 0.9362\n",
      "Epoch 19/40\n",
      "100/100 [==============================] - 7s 74ms/step - loss: 0.1527 - accuracy: 0.9369\n",
      "Epoch 20/40\n",
      "100/100 [==============================] - 7s 73ms/step - loss: 0.1452 - accuracy: 0.9438\n",
      "Epoch 21/40\n",
      "100/100 [==============================] - 7s 74ms/step - loss: 0.1521 - accuracy: 0.9419\n",
      "Epoch 22/40\n",
      "100/100 [==============================] - 8s 75ms/step - loss: 0.1281 - accuracy: 0.9466\n",
      "Epoch 23/40\n",
      "100/100 [==============================] - 7s 73ms/step - loss: 0.1217 - accuracy: 0.9525\n",
      "Epoch 24/40\n",
      "100/100 [==============================] - 7s 72ms/step - loss: 0.1084 - accuracy: 0.9575\n",
      "Epoch 25/40\n",
      "100/100 [==============================] - 7s 72ms/step - loss: 0.0994 - accuracy: 0.9606\n",
      "Epoch 26/40\n",
      "100/100 [==============================] - 7s 73ms/step - loss: 0.0971 - accuracy: 0.9616\n",
      "Epoch 27/40\n",
      "100/100 [==============================] - 7s 72ms/step - loss: 0.0984 - accuracy: 0.9638\n",
      "Epoch 28/40\n",
      "100/100 [==============================] - 7s 72ms/step - loss: 0.1032 - accuracy: 0.9594\n",
      "Epoch 29/40\n",
      "100/100 [==============================] - 7s 72ms/step - loss: 0.1012 - accuracy: 0.9631\n",
      "Epoch 30/40\n",
      "100/100 [==============================] - 7s 74ms/step - loss: 0.0978 - accuracy: 0.9641\n",
      "Epoch 31/40\n",
      "100/100 [==============================] - 7s 73ms/step - loss: 0.0954 - accuracy: 0.9653\n",
      "Epoch 32/40\n",
      "100/100 [==============================] - 7s 73ms/step - loss: 0.1023 - accuracy: 0.9650\n",
      "Epoch 33/40\n",
      "100/100 [==============================] - 7s 74ms/step - loss: 0.0930 - accuracy: 0.9666\n",
      "Epoch 34/40\n",
      "100/100 [==============================] - 7s 73ms/step - loss: 0.0872 - accuracy: 0.9681\n",
      "Epoch 35/40\n",
      "100/100 [==============================] - 7s 74ms/step - loss: 0.0814 - accuracy: 0.9694\n",
      "Epoch 36/40\n",
      "100/100 [==============================] - 7s 74ms/step - loss: 0.0768 - accuracy: 0.9716\n",
      "Epoch 37/40\n",
      "100/100 [==============================] - 7s 73ms/step - loss: 0.0671 - accuracy: 0.9775\n",
      "Epoch 38/40\n",
      "100/100 [==============================] - 7s 73ms/step - loss: 0.0638 - accuracy: 0.9756\n",
      "Epoch 39/40\n",
      "100/100 [==============================] - 7s 73ms/step - loss: 0.0672 - accuracy: 0.9725\n",
      "Epoch 40/40\n",
      "100/100 [==============================] - 7s 74ms/step - loss: 0.0623 - accuracy: 0.9766\n"
     ]
    }
   ],
   "source": [
    "model.compile(optimizer='adam',\n",
    "              loss=tf.keras.losses.CategoricalCrossentropy(),\n",
    "              metrics=['accuracy'])\n",
    "history = model.fit(train_generator, epochs=40,steps_per_epoch=100)"
   ]
  },
  {
   "cell_type": "code",
   "execution_count": 434,
   "id": "dae02b46",
   "metadata": {
    "scrolled": false
   },
   "outputs": [
    {
     "name": "stdout",
     "output_type": "stream",
     "text": [
      "(32, 281, 281, 16)\n",
      "[0.0000000e+00 1.2665987e-07 2.5480986e-06 ... 1.3967493e+00 1.3975583e+00\n",
      " 1.3986504e+00] 2265205\n"
     ]
    },
    {
     "data": {
      "image/png": "[encoded data removed]",
      "text/plain": [
       "<Figure size 288x288 with 1 Axes>"
      ]
     },
     "metadata": {
      "needs_background": "light"
     },
     "output_type": "display_data"
    },
    {
     "data": {
      "image/png": "[encoded data removed]",
      "text/plain": [
       "<Figure size 288x288 with 1 Axes>"
      ]
     },
     "metadata": {
      "needs_background": "light"
     },
     "output_type": "display_data"
    },
    {
     "data": {
      "image/png": "[encoded data removed]",
      "text/plain": [
       "<Figure size 1090.8x1090.8 with 16 Axes>"
      ]
     },
     "metadata": {
      "needs_background": "light"
     },
     "output_type": "display_data"
    }
   ],
   "source": [
    "a = test_generator.next()\n",
    "plt.matshow(a[0,:,:,0], cmap ='viridis')\n",
    "layer_outputs = [layer.output for layer in model.layers]\n",
    "activation_model = tf.keras.models.Model(inputs = model.input, outputs = layer_outputs)\n",
    "# with tf.device('/cpu:0'):\n",
    "activations = activation_model.predict(a.astype('float32'))\n",
    "plt.matshow(a[0,:,:,0].astype('float32'), cmap ='viridis')\n",
    "  \n",
    "# Getting Activations of first layer\n",
    "first_layer_activation = activations[0]\n",
    "  \n",
    "# shape of first layer activation\n",
    "print(first_layer_activation.shape)\n",
    "  \n",
    "# 6th channel of the image after first layer of convolution is applied\n",
    "fig, ax = plt.subplots(4,4,figsize=(15.15,15.15))\n",
    "for c in range(first_layer_activation.shape[3]):\n",
    "    ax[c//4,c%4].matshow(first_layer_activation[0, :, :, c], cmap ='viridis')\n",
    "  \n",
    "# 15th channel of the image after first layer of convolution is applied\n",
    "# plt.matshow(first_layer_activation[0, :, :, 15], cmap ='viridis')\n",
    "\n",
    "# # print(inp,a.dtype,a.shape)\n",
    "print(np.unique(first_layer_activation),len(np.unique(first_layer_activation)))"
   ]
  },
  {
   "cell_type": "code",
   "execution_count": 402,
   "id": "c000135e",
   "metadata": {},
   "outputs": [
    {
     "data": {
      "text/plain": [
       "array([[[[0.43529415],\n",
       "         [0.34901962],\n",
       "         [0.45882356],\n",
       "         ...,\n",
       "         [0.40784317],\n",
       "         [0.42352945],\n",
       "         [0.45882356]],\n",
       "\n",
       "        [[0.454902  ],\n",
       "         [0.37254903],\n",
       "         [0.47450984],\n",
       "         ...,\n",
       "         [0.43921572],\n",
       "         [0.44705886],\n",
       "         [0.45882356]],\n",
       "\n",
       "        [[0.3921569 ],\n",
       "         [0.36862746],\n",
       "         [0.4666667 ],\n",
       "         ...,\n",
       "         [0.45882356],\n",
       "         [0.46274513],\n",
       "         [0.4431373 ]],\n",
       "\n",
       "        ...,\n",
       "\n",
       "        [[0.70980394],\n",
       "         [0.7176471 ],\n",
       "         [0.74509805],\n",
       "         ...,\n",
       "         [0.16862746],\n",
       "         [0.16862746],\n",
       "         [0.15294118]],\n",
       "\n",
       "        [[0.7137255 ],\n",
       "         [0.7254902 ],\n",
       "         [0.75294125],\n",
       "         ...,\n",
       "         [0.6862745 ],\n",
       "         [0.6745098 ],\n",
       "         [0.6431373 ]],\n",
       "\n",
       "        [[0.7137255 ],\n",
       "         [0.7294118 ],\n",
       "         [0.7568628 ],\n",
       "         ...,\n",
       "         [0.6509804 ],\n",
       "         [0.65882355],\n",
       "         [0.6392157 ]]],\n",
       "\n",
       "\n",
       "       [[[0.16862746],\n",
       "         [0.14509805],\n",
       "         [0.14117648],\n",
       "         ...,\n",
       "         [0.13333334],\n",
       "         [0.13725491],\n",
       "         [0.14509805]],\n",
       "\n",
       "        [[0.21568629],\n",
       "         [0.16470589],\n",
       "         [0.12941177],\n",
       "         ...,\n",
       "         [0.14901961],\n",
       "         [0.15294118],\n",
       "         [0.16078432]],\n",
       "\n",
       "        [[0.21568629],\n",
       "         [0.20784315],\n",
       "         [0.19607845],\n",
       "         ...,\n",
       "         [0.14901961],\n",
       "         [0.15294118],\n",
       "         [0.16078432]],\n",
       "\n",
       "        ...,\n",
       "\n",
       "        [[0.454902  ],\n",
       "         [0.47450984],\n",
       "         [0.49411768],\n",
       "         ...,\n",
       "         [0.2784314 ],\n",
       "         [0.29411766],\n",
       "         [0.30588236]],\n",
       "\n",
       "        [[0.4901961 ],\n",
       "         [0.4784314 ],\n",
       "         [0.48627454],\n",
       "         ...,\n",
       "         [0.27058825],\n",
       "         [0.26666668],\n",
       "         [0.27058825]],\n",
       "\n",
       "        [[0.52156866],\n",
       "         [0.5058824 ],\n",
       "         [0.5019608 ],\n",
       "         ...,\n",
       "         [0.27058825],\n",
       "         [0.26666668],\n",
       "         [0.27058825]]],\n",
       "\n",
       "\n",
       "       [[[0.5254902 ],\n",
       "         [0.5254902 ],\n",
       "         [0.5254902 ],\n",
       "         ...,\n",
       "         [0.9490197 ],\n",
       "         [0.79215693],\n",
       "         [0.6431373 ]],\n",
       "\n",
       "        [[0.5254902 ],\n",
       "         [0.5254902 ],\n",
       "         [0.5254902 ],\n",
       "         ...,\n",
       "         [0.9450981 ],\n",
       "         [0.78823537],\n",
       "         [0.63529414]],\n",
       "\n",
       "        [[0.5254902 ],\n",
       "         [0.5254902 ],\n",
       "         [0.5254902 ],\n",
       "         ...,\n",
       "         [0.9450981 ],\n",
       "         [0.78823537],\n",
       "         [0.63529414]],\n",
       "\n",
       "        ...,\n",
       "\n",
       "        [[0.28235295],\n",
       "         [0.2901961 ],\n",
       "         [0.3137255 ],\n",
       "         ...,\n",
       "         [0.46274513],\n",
       "         [0.4666667 ],\n",
       "         [0.44705886]],\n",
       "\n",
       "        [[0.28235295],\n",
       "         [0.2901961 ],\n",
       "         [0.3137255 ],\n",
       "         ...,\n",
       "         [0.46274513],\n",
       "         [0.4666667 ],\n",
       "         [0.44705886]],\n",
       "\n",
       "        [[0.30588236],\n",
       "         [0.3254902 ],\n",
       "         [0.33333334],\n",
       "         ...,\n",
       "         [0.47058827],\n",
       "         [0.4666667 ],\n",
       "         [0.4666667 ]]],\n",
       "\n",
       "\n",
       "       ...,\n",
       "\n",
       "\n",
       "       [[[0.5294118 ],\n",
       "         [0.60784316],\n",
       "         [0.6117647 ],\n",
       "         ...,\n",
       "         [0.25490198],\n",
       "         [0.2509804 ],\n",
       "         [0.24313727]],\n",
       "\n",
       "        [[0.56078434],\n",
       "         [0.6       ],\n",
       "         [0.627451  ],\n",
       "         ...,\n",
       "         [0.25490198],\n",
       "         [0.2509804 ],\n",
       "         [0.24313727]],\n",
       "\n",
       "        [[0.5882353 ],\n",
       "         [0.6039216 ],\n",
       "         [0.6313726 ],\n",
       "         ...,\n",
       "         [0.25490198],\n",
       "         [0.2509804 ],\n",
       "         [0.24313727]],\n",
       "\n",
       "        ...,\n",
       "\n",
       "        [[0.85098046],\n",
       "         [0.85098046],\n",
       "         [0.8431373 ],\n",
       "         ...,\n",
       "         [0.8588236 ],\n",
       "         [0.854902  ],\n",
       "         [0.85098046]],\n",
       "\n",
       "        [[0.8470589 ],\n",
       "         [0.8470589 ],\n",
       "         [0.83921576],\n",
       "         ...,\n",
       "         [0.8588236 ],\n",
       "         [0.854902  ],\n",
       "         [0.8588236 ]],\n",
       "\n",
       "        [[0.82745105],\n",
       "         [0.8313726 ],\n",
       "         [0.8313726 ],\n",
       "         ...,\n",
       "         [0.8470589 ],\n",
       "         [0.85098046],\n",
       "         [0.86274517]]],\n",
       "\n",
       "\n",
       "       [[[0.41960788],\n",
       "         [0.42352945],\n",
       "         [0.42352945],\n",
       "         ...,\n",
       "         [0.37647063],\n",
       "         [0.3647059 ],\n",
       "         [0.34509805]],\n",
       "\n",
       "        [[0.41960788],\n",
       "         [0.42352945],\n",
       "         [0.4156863 ],\n",
       "         ...,\n",
       "         [0.3529412 ],\n",
       "         [0.34901962],\n",
       "         [0.3529412 ]],\n",
       "\n",
       "        [[0.41960788],\n",
       "         [0.42352945],\n",
       "         [0.4156863 ],\n",
       "         ...,\n",
       "         [0.34117648],\n",
       "         [0.33333334],\n",
       "         [0.32941177]],\n",
       "\n",
       "        ...,\n",
       "\n",
       "        [[0.13725491],\n",
       "         [0.15294118],\n",
       "         [0.13333334],\n",
       "         ...,\n",
       "         [0.3254902 ],\n",
       "         [0.31764707],\n",
       "         [0.3137255 ]],\n",
       "\n",
       "        [[0.12941177],\n",
       "         [0.1254902 ],\n",
       "         [0.14509805],\n",
       "         ...,\n",
       "         [0.29803923],\n",
       "         [0.29803923],\n",
       "         [0.29803923]],\n",
       "\n",
       "        [[0.1137255 ],\n",
       "         [0.11764707],\n",
       "         [0.14509805],\n",
       "         ...,\n",
       "         [0.29803923],\n",
       "         [0.29803923],\n",
       "         [0.29803923]]],\n",
       "\n",
       "\n",
       "       [[[0.18823531],\n",
       "         [0.1764706 ],\n",
       "         [0.20000002],\n",
       "         ...,\n",
       "         [0.12156864],\n",
       "         [0.1254902 ],\n",
       "         [0.12156864]],\n",
       "\n",
       "        [[0.15686275],\n",
       "         [0.16862746],\n",
       "         [0.19607845],\n",
       "         ...,\n",
       "         [0.10980393],\n",
       "         [0.1254902 ],\n",
       "         [0.12941177]],\n",
       "\n",
       "        [[0.13725491],\n",
       "         [0.11764707],\n",
       "         [0.15294118],\n",
       "         ...,\n",
       "         [0.0627451 ],\n",
       "         [0.1254902 ],\n",
       "         [0.13333334]],\n",
       "\n",
       "        ...,\n",
       "\n",
       "        [[0.2627451 ],\n",
       "         [0.25490198],\n",
       "         [0.26666668],\n",
       "         ...,\n",
       "         [0.24313727],\n",
       "         [0.24705884],\n",
       "         [0.23529413]],\n",
       "\n",
       "        [[0.2627451 ],\n",
       "         [0.25882354],\n",
       "         [0.2784314 ],\n",
       "         ...,\n",
       "         [0.2392157 ],\n",
       "         [0.2509804 ],\n",
       "         [0.25490198]],\n",
       "\n",
       "        [[0.27058825],\n",
       "         [0.26666668],\n",
       "         [0.28235295],\n",
       "         ...,\n",
       "         [0.21568629],\n",
       "         [0.23137257],\n",
       "         [0.24705884]]]], dtype=float32)"
      ]
     },
     "execution_count": 402,
     "metadata": {},
     "output_type": "execute_result"
    }
   ],
   "source": [
    "a"
   ]
  },
  {
   "cell_type": "code",
   "execution_count": 394,
   "id": "d038720c",
   "metadata": {
    "scrolled": true
   },
   "outputs": [
    {
     "name": "stdout",
     "output_type": "stream",
     "text": [
      "{'cats': 0, 'dogs': 1}\n",
      "66/66 [==============================] - 9s 144ms/step\n",
      "[0 1]\n",
      "1338 753\n"
     ]
    },
    {
     "ename": "KeyError",
     "evalue": "'all'",
     "output_type": "error",
     "traceback": [
      "\u001b[1;31m---------------------------------------------------------------------------\u001b[0m",
      "\u001b[1;31mKeyError\u001b[0m                                  Traceback (most recent call last)",
      "\u001b[1;32m<ipython-input-394-67271c5676c0>\u001b[0m in \u001b[0;36m<module>\u001b[1;34m\u001b[0m\n\u001b[0;32m     13\u001b[0m \u001b[0my\u001b[0m \u001b[1;33m=\u001b[0m \u001b[1;33m[\u001b[0m\u001b[1;33m]\u001b[0m\u001b[1;33m\u001b[0m\u001b[1;33m\u001b[0m\u001b[0m\n\u001b[0;32m     14\u001b[0m \u001b[1;32mfor\u001b[0m \u001b[0mf\u001b[0m \u001b[1;32min\u001b[0m \u001b[0mtest_generator\u001b[0m\u001b[1;33m.\u001b[0m\u001b[0mfilenames\u001b[0m\u001b[1;33m:\u001b[0m\u001b[1;33m\u001b[0m\u001b[1;33m\u001b[0m\u001b[0m\n\u001b[1;32m---> 15\u001b[1;33m     \u001b[0my\u001b[0m\u001b[1;33m.\u001b[0m\u001b[0mappend\u001b[0m\u001b[1;33m(\u001b[0m \u001b[0mlabels\u001b[0m\u001b[1;33m[\u001b[0m\u001b[0mf\u001b[0m\u001b[1;33m.\u001b[0m\u001b[0msplit\u001b[0m\u001b[1;33m(\u001b[0m\u001b[1;34m\"\\\\\"\u001b[0m\u001b[1;33m)\u001b[0m\u001b[1;33m[\u001b[0m\u001b[1;36m0\u001b[0m\u001b[1;33m]\u001b[0m\u001b[1;33m]\u001b[0m\u001b[1;33m)\u001b[0m\u001b[1;31m#     print('batch1')\u001b[0m\u001b[1;33m\u001b[0m\u001b[1;33m\u001b[0m\u001b[0m\n\u001b[0m",
      "\u001b[1;31mKeyError\u001b[0m: 'all'"
     ]
    }
   ],
   "source": [
    "# model =  tf.keras.models.load_model('E:\\\\caOnly_v1')\n",
    "# model.compile(optimizer='adam',\n",
    "#               loss=tf.keras.losses.SparseCategoricalCrossentropy(from_logits=True),\n",
    "#               metrics=['accuracy'])\n",
    "# model.load_weights(\"E:\\\\caOnly_v1_weights.h5\")\n",
    "\n",
    "labels = (train_generator.class_indices)\n",
    "print(labels)\n",
    "pred = model.predict(test_generator,verbose=1)\n",
    "pred2 = np.argmax(pred,axis=1)\n",
    "print(np.unique(pred2))\n",
    "print(np.sum(pred2==0),np.sum(pred2==1))\n",
    "y = []\n",
    "for f in test_generator.filenames:\n",
    "    y.append( labels[f.split(\"\\\\\")[0]])#     print('batch1')"
   ]
  },
  {
   "cell_type": "code",
   "execution_count": 411,
   "id": "a574cf1c",
   "metadata": {},
   "outputs": [
    {
     "data": {
      "text/plain": [
       "'cats\\\\cat.4001.jpg'"
      ]
     },
     "execution_count": 411,
     "metadata": {},
     "output_type": "execute_result"
    }
   ],
   "source": [
    "f"
   ]
  },
  {
   "cell_type": "code",
   "execution_count": 439,
   "id": "808e9d88",
   "metadata": {},
   "outputs": [
    {
     "name": "stdout",
     "output_type": "stream",
     "text": [
      "66/66 [==============================] - 10s 151ms/step\n",
      "[0 1]\n"
     ]
    }
   ],
   "source": [
    "# model =  tf.keras.models.load_model('E:\\\\caOnly_v1')\n",
    "# model.compile(optimizer='adam',\n",
    "#               loss=tf.keras.losses.SparseCategoricalCrossentropy(from_logits=True),\n",
    "#               metrics=['accuracy'])\n",
    "# model.load_weights(\"E:\\\\caOnly_v1_weights.h5\")\n",
    "\n",
    "labels = (train_generator.class_indices)\n",
    "pred = model.predict(test_generator,verbose=1)\n",
    "pred = np.argmax(pred,axis=1)\n",
    "print(np.unique(pred))\n",
    "\n",
    "y = []\n",
    "for f in test_generator.filenames:\n",
    "    y.append( labels[f.split(\"_\")[2]])"
   ]
  },
  {
   "cell_type": "code",
   "execution_count": 85,
   "id": "67492b95",
   "metadata": {},
   "outputs": [
    {
     "name": "stdout",
     "output_type": "stream",
     "text": [
      "<generator object trainTest2 at 0x000002395BCAB350>\n"
     ]
    }
   ],
   "source": [
    "print(trainTest2(test_generator))"
   ]
  },
  {
   "cell_type": "code",
   "execution_count": 131,
   "id": "402455df",
   "metadata": {},
   "outputs": [
    {
     "name": "stdout",
     "output_type": "stream",
     "text": [
      "2459\n"
     ]
    },
    {
     "data": {
      "image/png": "[encoded data removed]",
      "text/plain": [
       "<Figure size 432x288 with 1 Axes>"
      ]
     },
     "metadata": {
      "needs_background": "light"
     },
     "output_type": "display_data"
    }
   ],
   "source": [
    "y = []\n",
    "for ind,(label,dataP) in enumerate(loadTest(dataValidate)):\n",
    "    y.append(dataP[0])\n",
    "plt.hist(y,bins=[0,1,2,3],density=True)\n",
    "print(ind)"
   ]
  },
  {
   "cell_type": "code",
   "execution_count": 50,
   "id": "737ae5fa",
   "metadata": {},
   "outputs": [
    {
     "name": "stdout",
     "output_type": "stream",
     "text": [
      "2087 4\n"
     ]
    }
   ],
   "source": [
    "print(np.sum(pred==0),np.sum(pred==1))"
   ]
  },
  {
   "cell_type": "code",
   "execution_count": 440,
   "id": "0ca3f6c2",
   "metadata": {},
   "outputs": [
    {
     "data": {
      "image/png": "[encoded data removed]",
      "text/plain": [
       "<Figure size 576x576 with 2 Axes>"
      ]
     },
     "metadata": {
      "needs_background": "light"
     },
     "output_type": "display_data"
    }
   ],
   "source": [
    "classes=labels.keys()\n",
    "con_mat = tf.math.confusion_matrix(labels=y, predictions=pred).numpy()\n",
    "con_mat_norm = np.around(con_mat.astype('float') / con_mat.sum(axis=1)[:, np.newaxis], decimals=2)\n",
    "\n",
    "con_mat_df = pd.DataFrame(con_mat_norm,\n",
    "                     index = classes, \n",
    "                     columns = classes)\n",
    "figure = plt.figure(figsize=(8, 8))\n",
    "sns.heatmap(con_mat_df, annot=True,cmap=plt.cm.Blues)\n",
    "plt.tight_layout()\n",
    "plt.ylabel('True label')\n",
    "plt.xlabel('Predicted label')\n",
    "plt.show()"
   ]
  },
  {
   "cell_type": "code",
   "execution_count": 290,
   "id": "28f86be1",
   "metadata": {},
   "outputs": [
    {
     "data": {
      "image/png": "[encoded data removed]",
      "text/plain": [
       "<Figure size 576x576 with 2 Axes>"
      ]
     },
     "metadata": {
      "needs_background": "light"
     },
     "output_type": "display_data"
    }
   ],
   "source": [
    "classes=['Healthy','Acute','Chronic']\n",
    "con_mat = tf.math.confusion_matrix(labels=y, predictions=pred).numpy()\n",
    "con_mat_norm = np.around(con_mat.astype('float') / con_mat.sum(axis=1)[:, np.newaxis], decimals=2)\n",
    "\n",
    "con_mat_df = pd.DataFrame(con_mat_norm,\n",
    "                     index = classes, \n",
    "                     columns = classes)\n",
    "figure = plt.figure(figsize=(8, 8))\n",
    "sns.heatmap(con_mat_df, annot=True,cmap=plt.cm.Blues)\n",
    "plt.tight_layout()\n",
    "plt.ylabel('True label')\n",
    "plt.xlabel('Predicted label')\n",
    "plt.show()"
   ]
  },
  {
   "cell_type": "code",
   "execution_count": 249,
   "id": "15234db8",
   "metadata": {},
   "outputs": [
    {
     "data": {
      "text/plain": [
       "['1793_day8',\n",
       " '1222_day7',\n",
       " '4539_day15A',\n",
       " '1222_BaselineL',\n",
       " '1793_BaselineS',\n",
       " '7909_day8',\n",
       " '1208_day2',\n",
       " '8430_day35L',\n",
       " '0761_day19L',\n",
       " '7909_day10',\n",
       " '1236_day30A',\n",
       " '1208_BaselineS',\n",
       " '1236_day3',\n",
       " '1236_day1',\n",
       " '4539_day8',\n",
       " '1793_day6',\n",
       " '1231_BaselineL',\n",
       " '0761_day2',\n",
       " '8430_day3',\n",
       " '1208_BaselineL',\n",
       " '0761_day12',\n",
       " '4539_day6',\n",
       " '7909_day12',\n",
       " '1222_day15A',\n",
       " '1222_day9',\n",
       " '7909_day14',\n",
       " '1793_BaselineA',\n",
       " '1208_day14',\n",
       " '4539_day0',\n",
       " '1793_day15A',\n",
       " '7909_Baseline2A',\n",
       " '0761_BaselineS',\n",
       " '0761_day6',\n",
       " '1222_day5',\n",
       " '1793_day34L',\n",
       " '1222_day20L',\n",
       " '1208_day30A',\n",
       " '0761_day4',\n",
       " '1222_day3',\n",
       " '0761_day1',\n",
       " '1222_day32A',\n",
       " '1253_BaselineS',\n",
       " '1793_day12',\n",
       " '8430_day9',\n",
       " '4539_day14',\n",
       " '7909_day13',\n",
       " '1231_BaselineA',\n",
       " '1222_day2',\n",
       " '1793_day2',\n",
       " '0761_day31A',\n",
       " '4539_day12',\n",
       " '1793_day14',\n",
       " '8430_day19L',\n",
       " '7909_day0',\n",
       " '8430_day11',\n",
       " '1236_day35L',\n",
       " '1236_day9',\n",
       " '1208_day15A',\n",
       " '8430_BaselineS',\n",
       " '8430_BaselineL',\n",
       " '0761_day8',\n",
       " '1208_day12',\n",
       " '1236_day13',\n",
       " '8430_day5',\n",
       " '1236_BaselineA',\n",
       " '1793_day30A',\n",
       " '1222_BaselineA',\n",
       " '1208_day8',\n",
       " '1208_day4',\n",
       " '1236_day5',\n",
       " '4539_day4',\n",
       " '1208_BaselineA',\n",
       " '1222_day13',\n",
       " '1253_BaselineL',\n",
       " '1236_day15A',\n",
       " '1231_BaselineS',\n",
       " '1236_BaselineL',\n",
       " '0761_BaselineL',\n",
       " '4539_day13',\n",
       " '1222_BaselineS',\n",
       " '4539_Baseline2A',\n",
       " '1793_BaselineL',\n",
       " '1208_day10',\n",
       " '4539_day30A',\n",
       " '1793_day19L',\n",
       " '0761_day35L',\n",
       " '7909_day4',\n",
       " '7909_day2',\n",
       " '8430_day15A',\n",
       " '1793_day4',\n",
       " '0761_day14A',\n",
       " '7909_BaselineA',\n",
       " '1208_day19L',\n",
       " '1236_day19L',\n",
       " '7909_day6',\n",
       " '8430_day7',\n",
       " '1793_day10',\n",
       " '7909_day30A',\n",
       " '0761_day10',\n",
       " '1236_day11',\n",
       " '1253_BaselineA',\n",
       " '1208_day34L',\n",
       " '8430_day1',\n",
       " '1222_day36L',\n",
       " '0761_BaselineA',\n",
       " '8430_BaselineA',\n",
       " '8430_day30A',\n",
       " '1236_BaselineS',\n",
       " '4539_BaselineA',\n",
       " '1236_day7',\n",
       " '4539_day2',\n",
       " '4539_day10',\n",
       " '1208_day6',\n",
       " '7909_day15A',\n",
       " '1222_day11']"
      ]
     },
     "execution_count": 249,
     "metadata": {},
     "output_type": "execute_result"
    }
   ],
   "source": [
    "# pred = model.predict(loadTest(dataTrain)) \n",
    "# print(pred,(sci.special.softmax(pred,axis=1)) )\n",
    "l"
   ]
  }
 ],
 "metadata": {
  "kernelspec": {
   "display_name": "Python 3 (ipykernel)",
   "language": "python",
   "name": "python3"
  },
  "language_info": {
   "codemirror_mode": {
    "name": "ipython",
    "version": 3
   },
   "file_extension": ".py",
   "mimetype": "text/x-python",
   "name": "python",
   "nbconvert_exporter": "python",
   "pygments_lexer": "ipython3",
   "version": "3.7.9"
  }
 },
 "nbformat": 4,
 "nbformat_minor": 5
}
