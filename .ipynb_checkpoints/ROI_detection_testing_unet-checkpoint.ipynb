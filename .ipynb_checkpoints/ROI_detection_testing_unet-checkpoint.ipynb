{
 "cells": [
  {
   "cell_type": "code",
   "execution_count": 4,
   "metadata": {},
   "outputs": [],
   "source": [
    "%matplotlib inline\n",
    "#matplotlib notebook\n",
    "#%pdb\n",
    "\n",
    "import tensorflow as tf\n",
    "import sys\n",
    "import scipy.io as sio\n",
    "import scipy.stats as stats\n",
    "import scipy.signal as signal\n",
    "from scipy import ndimage\n",
    "import numpy as np\n",
    "import matplotlib.pyplot as plt\n",
    "#import tensorflow as tf\n",
    "import time\n",
    "import math\n",
    "import ipywidgets\n",
    "import PIL\n",
    "#import itertools\n",
    "import os\n",
    "from numpy.lib.format import open_memmap\n",
    "from tqdm import tqdm\n",
    "from tqdm import tqdm_notebook as tqdm_notebook\n",
    "#from numba import jit\n",
    "\n",
    "#import cv2\n",
    "\n",
    "#from ipywidgets import FloatProgress\n",
    "from IPython.display import display"
   ]
  },
  {
   "cell_type": "code",
   "execution_count": null,
   "metadata": {},
   "outputs": [],
   "source": [
    "from keras.models import Sequential, load_model\n",
    "from keras.layers import Input\n",
    "from keras.layers import Dense, Dropout, Activation, Flatten, Concatenate\n",
    "from keras.layers import Convolution2D, MaxPooling2D\n",
    "from keras.layers.core import Lambda\n",
    "import keras.optimizers as optimizers\n",
    "from keras import regularizers\n",
    "from keras import backend as K\n",
    "from keras.models import Model"
   ]
  },
  {
   "cell_type": "code",
   "execution_count": null,
   "metadata": {},
   "outputs": [],
   "source": [
    "#from build_dataset import roi_unet_test as dataset\n",
    "from build_dataset import test_data_generator\n",
    "from build_model import load_model_weights, load_saved_model"
   ]
  },
  {
   "cell_type": "code",
   "execution_count": null,
   "metadata": {},
   "outputs": [],
   "source": [
    "os.environ['CUDA_VISIBLE_DEVICES'] = '2'\n",
    "config = tf.ConfigProto()\n",
    "config.gpu_options.allow_growth = True\n",
    "#config.log_device_placement = True\n",
    "sess = tf.Session(config=config)\n",
    "K.set_session(sess)"
   ]
  },
  {
   "cell_type": "code",
   "execution_count": null,
   "metadata": {},
   "outputs": [],
   "source": [
    "weights_filename = 'ROI_detection_unet_20190416-151650_best_weight.weight'\n",
    "model = load_saved_model(weights_filename)\n"
   ]
  },
  {
   "cell_type": "markdown",
   "metadata": {},
   "source": [
    "model_folder = 'ROI_detection_unet_20170808-185834'\n",
    "model_filename = 'ROI_detection_unet_20170808-185834_20170809_131239_99.keras'\n",
    "model = load_model('X:\\Hua-an\\Data\\Deep_Learning_Model\\%s\\%s.keras' % (model_folder,model_folder))"
   ]
  },
  {
   "cell_type": "code",
   "execution_count": null,
   "metadata": {
    "scrolled": true
   },
   "outputs": [],
   "source": [
    "print(model.summary())"
   ]
  },
  {
   "cell_type": "code",
   "execution_count": null,
   "metadata": {},
   "outputs": [],
   "source": [
    "#test_dataset_folder = [\"C:\\\\Users\\\\Hua-an\\\\Documents\\\\CloudStation\\\\Lab_Project\\\\Ultrasound\\\\Analysis\\\\max-min_image\\\\control_hippocampus\\\\New folder\"]"
   ]
  },
  {
   "cell_type": "code",
   "execution_count": null,
   "metadata": {},
   "outputs": [],
   "source": [
    "test_dataset_folder = [\"E:\\\\temp\\\\Munib\"]"
   ]
  },
  {
   "cell_type": "code",
   "execution_count": null,
   "metadata": {},
   "outputs": [],
   "source": [
    "params = {'model': model,\n",
    "          'stride_ratio': 0.5,\n",
    "          'flip': False,\n",
    "          'rotate': False,\n",
    "          'std_normalization': True,\n",
    "         }\n",
    "test_generator = test_data_generator(test_dataset_folder, **params)\n",
    "\n"
   ]
  },
  {
   "cell_type": "code",
   "execution_count": null,
   "metadata": {},
   "outputs": [],
   "source": [
    "test_generator.predict()"
   ]
  },
  {
   "cell_type": "code",
   "execution_count": null,
   "metadata": {},
   "outputs": [],
   "source": [
    "test_generator.create_roi(roi_threshold=0.5, roi_size_limit=[50, 500], erosion_iter=1, watershed=True)"
   ]
  },
  {
   "cell_type": "code",
   "execution_count": null,
   "metadata": {},
   "outputs": [],
   "source": [
    "test_generator.save_predict_roi()"
   ]
  },
  {
   "cell_type": "code",
   "execution_count": null,
   "metadata": {},
   "outputs": [],
   "source": [
    "test_generator.show_predict_roi(file_idx=0,area_idx=None, colors='red',linewidths=0.5)"
   ]
  },
  {
   "cell_type": "code",
   "execution_count": null,
   "metadata": {},
   "outputs": [],
   "source": [
    "test_generator.show_predict_roi(file_idx=1,area_idx=None, colors='red',linewidths=0.5)"
   ]
  },
  {
   "cell_type": "code",
   "execution_count": null,
   "metadata": {},
   "outputs": [],
   "source": [
    "test_generator.show_predict_roi(file_idx=1,area_idx=[[600,800],[400,600]], colors='red',linewidths=0.5)"
   ]
  },
  {
   "cell_type": "code",
   "execution_count": null,
   "metadata": {},
   "outputs": [],
   "source": [
    "test_generator.show_predict_roi(file_idx=1,area_idx=[[600,800],[900,1100]], colors='red',linewidths=0.5)"
   ]
  },
  {
   "cell_type": "code",
   "execution_count": null,
   "metadata": {},
   "outputs": [],
   "source": [
    "test_generator.show_predict_roi(file_idx=2,area_idx=[[600,800],[200,400]], colors='red',linewidths=0.5)"
   ]
  },
  {
   "cell_type": "code",
   "execution_count": null,
   "metadata": {},
   "outputs": [],
   "source": [
    "test_generator.show_predict_roi(file_idx=3,area_idx=None, colors='red',linewidths=0.5)"
   ]
  },
  {
   "cell_type": "code",
   "execution_count": null,
   "metadata": {},
   "outputs": [],
   "source": [
    "test_generator.show_predict_roi(file_idx=4,area_idx=None, colors='red',linewidths=0.5)"
   ]
  },
  {
   "cell_type": "code",
   "execution_count": null,
   "metadata": {},
   "outputs": [],
   "source": [
    "test_generator.show_predict_roi(file_idx=5,area_idx=None, colors='red',linewidths=0.5)"
   ]
  }
 ],
 "metadata": {
  "kernelspec": {
   "display_name": "Python 3",
   "language": "python",
   "name": "python3"
  },
  "language_info": {
   "codemirror_mode": {
    "name": "ipython",
    "version": 3
   },
   "file_extension": ".py",
   "mimetype": "text/x-python",
   "name": "python",
   "nbconvert_exporter": "python",
   "pygments_lexer": "ipython3",
   "version": "3.6.10"
  },
  "widgets": {
   "state": {
    "03a1347efa0142498c8dd40e631aef81": {
     "views": [
      {
       "cell_index": 20
      }
     ]
    },
    "045ce54cc21047778fd5eee035e191b4": {
     "views": [
      {
       "cell_index": 20
      }
     ]
    },
    "05c6fb4cdf5f463b81065256c5ef9490": {
     "views": [
      {
       "cell_index": 20
      }
     ]
    },
    "32abaada40fc4d3f8ffd5a2e902ee8de": {
     "views": [
      {
       "cell_index": 20
      }
     ]
    },
    "575b668817b74563ad5d090eee9b351d": {
     "views": [
      {
       "cell_index": 20
      }
     ]
    },
    "b46e68e1fcc743c190e7bbf8ed1e8fb0": {
     "views": [
      {
       "cell_index": 20
      }
     ]
    },
    "b7132ba22d84477c9b3992db60b4e9ac": {
     "views": [
      {
       "cell_index": 20
      }
     ]
    },
    "ba03016fd895439686402d5f01dce2d2": {
     "views": [
      {
       "cell_index": 20
      }
     ]
    },
    "c1043d87371d4a71a482f5e1feaa46ef": {
     "views": [
      {
       "cell_index": 20
      }
     ]
    },
    "dd4bf9b5a4db4ba4b349f0841699178e": {
     "views": [
      {
       "cell_index": 20
      }
     ]
    }
   },
   "version": "1.2.0"
  }
 },
 "nbformat": 4,
 "nbformat_minor": 1
}
