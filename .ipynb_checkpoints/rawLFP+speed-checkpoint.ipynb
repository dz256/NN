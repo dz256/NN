{
 "cells": [
  {
   "cell_type": "code",
   "execution_count": 1,
   "id": "929a0299",
   "metadata": {},
   "outputs": [],
   "source": [
    "#since noteboke doesn't work in jupiterlabs    %matplotlib notebook \n",
    "%matplotlib inline \n",
    "%load_ext autoreload\n",
    "%autoreload 2"
   ]
  },
  {
   "cell_type": "code",
   "execution_count": 2,
   "id": "2904af6b",
   "metadata": {
    "scrolled": true
   },
   "outputs": [],
   "source": [
    "import tensorflow as tf\n",
    "import os\n",
    "# os.environ['PATH'] += os.pathsep + 'D:\\\\6OHDA\\\\'\n",
    "import numpy as np\n",
    "import scipy as sci\n",
    "from IO import *\n",
    "from utils import *\n",
    "import re\n",
    "from tqdm import tqdm\n",
    "\n",
    "from tensorflow.keras.models import Sequential, load_model\n",
    "from tensorflow.keras.layers import Input\n",
    "from tensorflow.keras.layers import Dense, Dropout, Activation, Flatten, Concatenate\n",
    "from tensorflow.keras.layers import Convolution2D, MaxPooling2D,Conv2D, Conv1D,MaxPooling1D\n",
    "# from tensorflow.keras.layers.core import Lambda\n",
    "import tensorflow.keras.optimizers as optimizers\n",
    "from tensorflow.keras import regularizers\n",
    "from tensorflow.keras import backend as K\n",
    "from tensorflow.keras.models import Model\n",
    "\n",
    "from matplotlib import pyplot as plt\n",
    "from matplotlib import gridspec\n",
    "import seaborn as sns\n",
    "\n",
    "import pickle\n",
    "import random\n",
    "# import png"
   ]
  },
  {
   "cell_type": "code",
   "execution_count": 3,
   "id": "651e941a",
   "metadata": {
    "scrolled": false
   },
   "outputs": [
    {
     "name": "stdout",
     "output_type": "stream",
     "text": [
      "[name: \"/device:CPU:0\"\n",
      "device_type: \"CPU\"\n",
      "memory_limit: 268435456\n",
      "locality {\n",
      "}\n",
      "incarnation: 6383503252124536469\n",
      ", name: \"/device:GPU:0\"\n",
      "device_type: \"GPU\"\n",
      "memory_limit: 10091102208\n",
      "locality {\n",
      "  bus_id: 1\n",
      "  links {\n",
      "  }\n",
      "}\n",
      "incarnation: 6018894237779460099\n",
      "physical_device_desc: \"device: 0, name: GeForce GTX 1080 Ti, pci bus id: 0000:17:00.0, compute capability: 6.1\"\n",
      ", name: \"/device:GPU:1\"\n",
      "device_type: \"GPU\"\n",
      "memory_limit: 10091102208\n",
      "locality {\n",
      "  bus_id: 1\n",
      "  links {\n",
      "  }\n",
      "}\n",
      "incarnation: 6436897108621986155\n",
      "physical_device_desc: \"device: 1, name: GeForce GTX 1080 Ti, pci bus id: 0000:65:00.0, compute capability: 6.1\"\n",
      "]\n"
     ]
    },
    {
     "data": {
      "text/plain": [
       "[PhysicalDevice(name='/physical_device:CPU:0', device_type='CPU'),\n",
       " PhysicalDevice(name='/physical_device:GPU:0', device_type='GPU'),\n",
       " PhysicalDevice(name='/physical_device:GPU:1', device_type='GPU')]"
      ]
     },
     "execution_count": 3,
     "metadata": {},
     "output_type": "execute_result"
    }
   ],
   "source": [
    "from tensorflow.python.client import device_lib\n",
    "print(device_lib.list_local_devices())\n",
    "tf.config.list_physical_devices()"
   ]
  },
  {
   "cell_type": "code",
   "execution_count": 4,
   "id": "dabf073e",
   "metadata": {},
   "outputs": [],
   "source": [
    "Files = ['FinalData_6OHDA.h5','FinalData_6OHDA_H.h5']\n",
    "#miceList.remove('1253')\n",
    "#miceList.remove('1231')\n",
    "def periodCalc(day):\n",
    "    if day== 0:\n",
    "        return 'Healthy'\n",
    "    elif day<13:\n",
    "        return 'Acute' #day 1-13\n",
    "    else:\n",
    "        return 'Chronic' #day 14-35"
   ]
  },
  {
   "cell_type": "code",
   "execution_count": 6,
   "id": "b4874a6b",
   "metadata": {},
   "outputs": [
    {
     "name": "stdout",
     "output_type": "stream",
     "text": [
      "cleaning up lfp data\n",
      "I deleted session: 1208_day12\n",
      "I deleted session: 2976_day4\n",
      "cleaning up speed data\n",
      "cleaning up lfp data\n",
      "cleaning up speed data\n",
      "cleaning up lfp data\n",
      "cleaning up speed data\n"
     ]
    }
   ],
   "source": [
    "data_train = getData(Files[0],['lfp','speed'],period ='Pre', mice=mTrain)\n",
    "data_validate = getData(Files[0],['lfp','speed'],period ='Pre', mice=mValidate)\n",
    "data_test = getData(Files[0],['lfp','speed'],period ='Pre', mice=mTest)"
   ]
  },
  {
   "cell_type": "code",
   "execution_count": 27,
   "id": "5f5a8141",
   "metadata": {
    "scrolled": true
   },
   "outputs": [
    {
     "name": "stdout",
     "output_type": "stream",
     "text": [
      "cleaning up lfp data\n",
      "cleaning up speed data\n",
      "cleaning up lfp data\n",
      "I deleted session: 1208_day12\n",
      "cleaning up speed data\n",
      "found  17.0  outlier points\n",
      "cleaning up lfp data\n",
      "cleaning up speed data\n",
      "cleaning up lfp data\n",
      "cleaning up speed data\n",
      "cleaning up lfp data\n",
      "cleaning up speed data\n",
      "found  1.0  outlier points\n",
      "found  888231.0  outlier points\n",
      "found  481139.0  outlier points\n",
      "cleaning up lfp data\n",
      "cleaning up speed data\n",
      "cleaning up lfp data\n",
      "cleaning up speed data\n",
      "cleaning up lfp data\n",
      "I deleted session: 2976_day4\n",
      "cleaning up speed data\n",
      "found  1.0  outlier points\n",
      "found  3.0  outlier points\n",
      "cleaning up lfp data\n",
      "cleaning up speed data\n",
      "cleaning up lfp data\n",
      "cleaning up speed data\n",
      "found  50.0  outlier points\n",
      "cleaning up lfp data\n",
      "cleaning up speed data\n",
      "found  29.0  outlier points\n",
      "cleaning up lfp data\n",
      "cleaning up speed data\n",
      "cleaning up lfp data\n",
      "cleaning up speed data\n",
      "cleaning up lfp data\n",
      "cleaning up speed data\n",
      "cleaning up lfp data\n",
      "cleaning up speed data\n",
      "cleaning up lfp data\n",
      "cleaning up speed data\n"
     ]
    }
   ],
   "source": [
    "f = h5py.File('E:\\\\rawLFPData.hdf5','a')\n",
    "df = pd.DataFrame(columns= [\"Mouse\",\"Session\",\"Period\",\"length\"])\n",
    "dtL = 0.00032768\n",
    "for m in getMiceList(Files[0]):\n",
    "    data =  getData(Files[0],['lfp','speed'],period ='Pre', mice=m)\n",
    "    for sess in data.keys():\n",
    "        lfp = data[sess]['lfp']['lfp']\n",
    "        speed = data[sess]['speed']['speed']\n",
    "\n",
    "        if sess[5] == 'B':\n",
    "            day = 0\n",
    "        else:\n",
    "            day = int(re.findall(r'\\d+',sess[5:])[0])\n",
    "        \n",
    "       \n",
    "        # get data\n",
    "        caT = np.arange(max(speed.shape))*0.05\n",
    "        speedF = sci.interpolate.interp1d(caT, speed,kind='linear')\n",
    "        lfpOutliers = removeLFPOutliers(lfp, sess)\n",
    "        \n",
    "        lfpT = np.arange(max(lfp.shape))*dtL\n",
    "        \n",
    "        \n",
    "        if max(caT)< max(lfpT):\n",
    "            endInd = np.argmin(np.abs(max(caT)-lfpT))\n",
    "            while lfpT[endInd]>max(caT):\n",
    "                endInd = endInd-1\n",
    "\n",
    "        speedNew = speedF(lfpT[:endInd]).T\n",
    "        lfpOutliers = lfpOutliers[:endInd,0]\n",
    "        lfp = lfp[:endInd]\n",
    "        lfp = lfp[(lfpOutliers[:]==0),0] \n",
    "        speedNew = speedNew[(lfpOutliers[:]==0),0]\n",
    "        \n",
    "        lfp = sci.signal.decimate(lfp,10,axis=0)\n",
    "        speedNew = sci.signal.decimate(speedNew,10,axis=0)\n",
    "        \n",
    "        a = np.vstack((lfp,speedNew))\n",
    "        try:\n",
    "            f.create_dataset(sess, data=a)\n",
    "        except:\n",
    "            del f[sess]\n",
    "            f.create_dataset(sess, data=a)\n",
    "        df = df.append({\"Mouse\":m,\"Session\":sess,'Period':periodCalc(day),\"length\":np.max(a.shape)},ignore_index=True)\n",
    "        \n",
    "df.to_csv('availableData.csv')       "
   ]
  },
  {
   "cell_type": "code",
   "execution_count": 392,
   "id": "57f78dbe",
   "metadata": {},
   "outputs": [
    {
     "name": "stdout",
     "output_type": "stream",
     "text": [
      "0.018569921716620478 0.9609278601300294\n"
     ]
    }
   ],
   "source": [
    "# lfp = data[sess]['lfp']['lfp']\n",
    "# lfp = (lfp-np.min(lfp))/(np.max(lfp)-np.min(lfp))\n",
    "# lfp = lfp[:endInd]\n",
    "# lfp = lfp[(lfpOutliers[:]==0),0] \n",
    "print(np.min(lfp),np.max(lfp))"
   ]
  },
  {
   "cell_type": "code",
   "execution_count": 378,
   "id": "482a855a",
   "metadata": {
    "scrolled": true
   },
   "outputs": [
    {
     "name": "stderr",
     "output_type": "stream",
     "text": [
      "\r",
      "  0%|                                                                                           | 0/16 [00:00<?, ?it/s]"
     ]
    },
    {
     "name": "stdout",
     "output_type": "stream",
     "text": [
      "cleaning up lfp data\n",
      "cleaning up speed data\n",
      "cleaning up lfp data\n",
      "cleaning up speed data\n"
     ]
    },
    {
     "name": "stderr",
     "output_type": "stream",
     "text": [
      "\r",
      "  6%|█████▏                                                                             | 1/16 [00:06<01:36,  6.41s/it]"
     ]
    },
    {
     "name": "stdout",
     "output_type": "stream",
     "text": [
      "cleaning up lfp data\n",
      "cleaning up speed data\n",
      "cleaning up lfp data\n",
      "I deleted session: 1208_day12\n",
      "cleaning up speed data\n",
      "found  17.0  outlier points\n"
     ]
    },
    {
     "name": "stderr",
     "output_type": "stream",
     "text": [
      "\r",
      " 12%|██████████▍                                                                        | 2/16 [00:12<01:26,  6.15s/it]"
     ]
    },
    {
     "name": "stdout",
     "output_type": "stream",
     "text": [
      "cleaning up lfp data\n",
      "cleaning up speed data\n",
      "cleaning up lfp data\n",
      "cleaning up speed data\n"
     ]
    },
    {
     "name": "stderr",
     "output_type": "stream",
     "text": [
      "\r",
      " 19%|███████████████▌                                                                   | 3/16 [00:18<01:20,  6.20s/it]"
     ]
    },
    {
     "name": "stdout",
     "output_type": "stream",
     "text": [
      "cleaning up lfp data\n",
      "cleaning up speed data\n",
      "cleaning up lfp data\n",
      "cleaning up speed data\n"
     ]
    },
    {
     "name": "stderr",
     "output_type": "stream",
     "text": [
      "\r",
      " 25%|████████████████████▊                                                              | 4/16 [00:20<00:53,  4.43s/it]"
     ]
    },
    {
     "name": "stdout",
     "output_type": "stream",
     "text": [
      "cleaning up lfp data\n",
      "cleaning up speed data\n",
      "cleaning up lfp data\n",
      "cleaning up speed data\n",
      "found  1.0  outlier points\n",
      "found  888231.0  outlier points\n",
      "found  481139.0  outlier points\n"
     ]
    },
    {
     "name": "stderr",
     "output_type": "stream",
     "text": [
      "\r",
      " 31%|█████████████████████████▉                                                         | 5/16 [00:26<00:55,  5.07s/it]"
     ]
    },
    {
     "name": "stdout",
     "output_type": "stream",
     "text": [
      "cleaning up lfp data\n",
      "cleaning up speed data\n",
      "cleaning up lfp data\n",
      "cleaning up speed data\n"
     ]
    },
    {
     "name": "stderr",
     "output_type": "stream",
     "text": [
      "\r",
      " 38%|███████████████████████████████▏                                                   | 6/16 [00:28<00:39,  3.93s/it]"
     ]
    },
    {
     "name": "stdout",
     "output_type": "stream",
     "text": [
      "cleaning up lfp data\n",
      "cleaning up speed data\n",
      "cleaning up lfp data\n",
      "cleaning up speed data\n"
     ]
    },
    {
     "name": "stderr",
     "output_type": "stream",
     "text": [
      "\r",
      " 44%|████████████████████████████████████▎                                              | 7/16 [00:34<00:42,  4.75s/it]"
     ]
    },
    {
     "name": "stdout",
     "output_type": "stream",
     "text": [
      "cleaning up lfp data\n",
      "cleaning up speed data\n",
      "cleaning up lfp data\n",
      "I deleted session: 2976_day4\n",
      "cleaning up speed data\n",
      "found  1.0  outlier points\n",
      "found  3.0  outlier points\n"
     ]
    },
    {
     "name": "stderr",
     "output_type": "stream",
     "text": [
      "\r",
      " 50%|█████████████████████████████████████████▌                                         | 8/16 [00:40<00:41,  5.17s/it]"
     ]
    },
    {
     "name": "stdout",
     "output_type": "stream",
     "text": [
      "cleaning up lfp data\n",
      "cleaning up speed data\n",
      "cleaning up lfp data\n",
      "cleaning up speed data\n"
     ]
    },
    {
     "name": "stderr",
     "output_type": "stream",
     "text": [
      "\r",
      " 56%|██████████████████████████████████████████████▋                                    | 9/16 [00:47<00:39,  5.58s/it]"
     ]
    },
    {
     "name": "stdout",
     "output_type": "stream",
     "text": [
      "cleaning up lfp data\n",
      "cleaning up speed data\n",
      "cleaning up lfp data\n",
      "cleaning up speed data\n",
      "found  50.0  outlier points\n"
     ]
    },
    {
     "name": "stderr",
     "output_type": "stream",
     "text": [
      "\r",
      " 62%|███████████████████████████████████████████████████▎                              | 10/16 [00:53<00:34,  5.81s/it]"
     ]
    },
    {
     "name": "stdout",
     "output_type": "stream",
     "text": [
      "cleaning up lfp data\n",
      "cleaning up speed data\n",
      "cleaning up lfp data\n",
      "cleaning up speed data\n",
      "found  29.0  outlier points\n"
     ]
    },
    {
     "name": "stderr",
     "output_type": "stream",
     "text": [
      "\r",
      " 69%|████████████████████████████████████████████████████████▍                         | 11/16 [01:01<00:32,  6.49s/it]"
     ]
    },
    {
     "name": "stdout",
     "output_type": "stream",
     "text": [
      "cleaning up lfp data\n",
      "cleaning up speed data\n",
      "cleaning up lfp data\n",
      "cleaning up speed data\n"
     ]
    },
    {
     "name": "stderr",
     "output_type": "stream",
     "text": [
      "\r",
      " 75%|█████████████████████████████████████████████████████████████▌                    | 12/16 [01:08<00:26,  6.71s/it]"
     ]
    },
    {
     "name": "stdout",
     "output_type": "stream",
     "text": [
      "cleaning up lfp data\n",
      "cleaning up speed data\n",
      "cleaning up lfp data\n",
      "cleaning up speed data\n"
     ]
    },
    {
     "name": "stderr",
     "output_type": "stream",
     "text": [
      "\r",
      " 81%|██████████████████████████████████████████████████████████████████▋               | 13/16 [01:16<00:21,  7.13s/it]"
     ]
    },
    {
     "name": "stdout",
     "output_type": "stream",
     "text": [
      "cleaning up lfp data\n",
      "cleaning up speed data\n",
      "cleaning up lfp data\n",
      "cleaning up speed data\n"
     ]
    },
    {
     "name": "stderr",
     "output_type": "stream",
     "text": [
      "\r",
      " 88%|███████████████████████████████████████████████████████████████████████▊          | 14/16 [01:22<00:13,  6.79s/it]"
     ]
    },
    {
     "name": "stdout",
     "output_type": "stream",
     "text": [
      "cleaning up lfp data\n",
      "cleaning up speed data\n",
      "cleaning up lfp data\n",
      "cleaning up speed data\n"
     ]
    },
    {
     "name": "stderr",
     "output_type": "stream",
     "text": [
      "\r",
      " 94%|████████████████████████████████████████████████████████████████████████████▉     | 15/16 [01:29<00:06,  6.67s/it]"
     ]
    },
    {
     "name": "stdout",
     "output_type": "stream",
     "text": [
      "cleaning up lfp data\n",
      "cleaning up speed data\n",
      "cleaning up lfp data\n",
      "cleaning up speed data\n"
     ]
    },
    {
     "name": "stderr",
     "output_type": "stream",
     "text": [
      "100%|██████████████████████████████████████████████████████████████████████████████████| 16/16 [01:35<00:00,  5.98s/it]\n"
     ]
    }
   ],
   "source": [
    "# add normalized speed\n",
    "f = h5py.File('E:\\\\rawLFPData2.hdf5','a')\n",
    "df = pd.DataFrame(columns= [\"Mouse\",\"Session\",\"Period\",\"length\"])\n",
    "dtL = 0.00032768\n",
    "for m in tqdm(getMiceList(Files[0])):\n",
    "    data =  getData(Files[0],['lfp','speed'],period ='Pre', mice=m, day = lambda x: x== 0)\n",
    "    maxSpeed = []\n",
    "    for sess in data:\n",
    "        speed = smooth(data[sess]['speed']['speed'],20)\n",
    "        maxSpeed.append(np.max(speed))\n",
    "    maxSpeed = np.mean(maxSpeed)\n",
    "    data =  getData(Files[0],['lfp','speed'],period ='Pre', mice=m)\n",
    "    for sess in data.keys():\n",
    "        lfp = data[sess]['lfp']['lfp']\n",
    "        speed = data[sess]['speed']['speed']\n",
    "        speed = speed/maxSpeed\n",
    "\n",
    "        if sess[5] == 'B':\n",
    "            day = 0\n",
    "        else:\n",
    "            day = int(re.findall(r'\\d+',sess[5:])[0])\n",
    "        \n",
    "       \n",
    "        # get data\n",
    "        caT = np.arange(max(speed.shape))*0.05\n",
    "        speedF = sci.interpolate.interp1d(caT, speed,kind='linear')\n",
    "        lfpOutliers = removeLFPOutliers(lfp, sess)\n",
    "        \n",
    "        lfpT = np.arange(max(lfp.shape))*dtL\n",
    "        \n",
    "        \n",
    "        if max(caT)< max(lfpT):\n",
    "            endInd = np.argmin(np.abs(max(caT)-lfpT))\n",
    "            while lfpT[endInd]>max(caT):\n",
    "                endInd = endInd-1\n",
    "\n",
    "        speedNew = speedF(lfpT[:endInd]).T\n",
    "        lfpOutliers = lfpOutliers[:endInd,0]\n",
    "        lfp = lfp[:endInd]\n",
    "        lfp = lfp[(lfpOutliers[:]==0),0] \n",
    "        lfp = (lfp-np.min(lfp))/(np.max(lfp)-np.min(lfp))\n",
    "        speedNew = speedNew[(lfpOutliers[:]==0),0]\n",
    "        \n",
    "        lfp = sci.signal.decimate(lfp,10,axis=0)\n",
    "        speedNew = sci.signal.decimate(speedNew,10,axis=0)\n",
    "        \n",
    "        a = np.vstack((lfp,speedNew))\n",
    "        try:\n",
    "            f.create_dataset(sess, data=a)\n",
    "        except:\n",
    "            del f[sess]\n",
    "            f.create_dataset(sess, data=a)\n",
    "        df = df.append({\"Mouse\":m,\"Session\":sess,'Period':periodCalc(day),\"length\":np.max(a.shape)},ignore_index=True)\n",
    "        \n",
    "df.to_csv('availableData2.csv')       "
   ]
  },
  {
   "cell_type": "code",
   "execution_count": 361,
   "id": "2e69ab06",
   "metadata": {},
   "outputs": [
    {
     "name": "stdout",
     "output_type": "stream",
     "text": [
      "[1231, 1253, 7584, 4539, 1208, 8430, 2980, 7909, 1236, 1793, 8815, 2976, 761, 8803] [1222, 2981]\n"
     ]
    }
   ],
   "source": [
    "miceList = getMiceList(Files[0])\n",
    "miceList.remove('1253')\n",
    "miceList.remove('1231')\n",
    "mOrder = np.random.permutation(len(miceList))\n",
    "\n",
    "mTrain = [1231, 1253]\n",
    "mTest =[int(miceList[i]) for i in mOrder[:2]]\n",
    "mTrain = mTrain+ [int(miceList[i]) for i in mOrder[2:]]\n",
    "\n",
    "print(mTrain,mTest)\n",
    "# print(miceList[mOrder[:2]])"
   ]
  },
  {
   "cell_type": "code",
   "execution_count": 87,
   "id": "3b7b5e56",
   "metadata": {},
   "outputs": [],
   "source": [
    "def prepData(segN,overlap,df):\n",
    "    df2 = df\n",
    "    df2['start'] = pd.Series([[]] * len(df2), index=df2.index)\n",
    "    df2['end'] = pd.Series([[]] * len(df2), index=df2.index)\n",
    "    for l in df.length.unique():\n",
    "        a = np.asarray([[i,i + segN] for i in range(0, l-(segN-overlap),int(segN-overlap))])\n",
    "        df2.loc[df2.length==l,'start'] = pd.Series([a[:,0]] * len(df2), index=df2.index)\n",
    "        df2.loc[df2.length==l,'end'] =  pd.Series([a[:,1]] * len(df2), index=df2.index)\n",
    "    lst_col = 'start'\n",
    "\n",
    "    lst_col = 'start'\n",
    "    lst_col2 = 'end'\n",
    "    df3 = pd.DataFrame({\n",
    "        col:np.repeat(df2[col].values, df2['start'].str.len())\n",
    "        for col in df2.columns.difference(['start','end'])\n",
    "    }).assign(**{'start':np.concatenate(df2['start'].values)}).assign(**{'end':np.concatenate(df2['end'].values)})[df2.columns.tolist()]\n",
    "    return df3"
   ]
  },
  {
   "cell_type": "code",
   "execution_count": 437,
   "id": "1622ff21",
   "metadata": {},
   "outputs": [],
   "source": [
    "df = pd.read_csv('availableData2.csv')  \n",
    "# try 30s with 20s overlab\n",
    "dtL = 0.0032768\n",
    "segN = int(np.ceil(15/dtL))\n",
    "overlap = int(np.ceil(3/dtL))\n",
    "dataSamples = prepData(segN,overlap,df)\n",
    "\n",
    "df = prepData(segN,overlap,df)\n",
    "testData = df[df.Mouse.isin(mTest)]\n",
    "trainData = df[df.Mouse.isin(mTrain)]\n",
    "validate = trainData.sample(frac=.1)\n",
    "trainData = trainData.drop(validate.index)"
   ]
  },
  {
   "cell_type": "code",
   "execution_count": 396,
   "id": "fedfa577",
   "metadata": {},
   "outputs": [],
   "source": [
    "dataVersion = 'v1_n'\n",
    "#save data partition: \n",
    "trainData.to_csv('dataPartition_'+dataVersion+'_train.csv')\n",
    "validate.to_csv('dataPartition_'+dataVersion+'_val.csv')\n",
    "testData.to_csv('dataPartition_'+dataVersion+'_test.csv')"
   ]
  },
  {
   "cell_type": "code",
   "execution_count": 407,
   "id": "9cc260ad",
   "metadata": {},
   "outputs": [],
   "source": [
    "def loadTrain(data,sampleSize):\n",
    "    f = h5py.File('E:\\\\rawLFPData2.hdf5','r')\n",
    "    # sampleSize = batchSize/3\n",
    "    while True: \n",
    "        batch = data.groupby('Period').apply(lambda x: x.sample(sampleSize))\n",
    "        batch = batch.sample(frac=1)\n",
    "        labels = batch.Period.apply(lambda x: [1,0,0] if x=='Healthy' else  ([0,1,0] if x=='Acute' else [0,0,1]) )\n",
    "        labels = np.stack(labels.values)\n",
    "        dataPoint = batch.apply(lambda row: f[row.Session][:,row.start:row.end].T, axis=1).values\n",
    "        try:\n",
    "            dataPoint = np.stack(dataPoint)\n",
    "        except:\n",
    "            continue\n",
    "        yield (dataPoint,labels)\n",
    "    f.close()\n"
   ]
  },
  {
   "cell_type": "code",
   "execution_count": 196,
   "id": "a399171e",
   "metadata": {},
   "outputs": [
    {
     "data": {
      "text/plain": [
       "Unnamed: 0                 0\n",
       "Mouse                    761\n",
       "Session       0761_BaselineA\n",
       "Period               Healthy\n",
       "length                181549\n",
       "start                  15260\n",
       "end                    24416\n",
       "Name: 5, dtype: object"
      ]
     },
     "execution_count": 196,
     "metadata": {},
     "output_type": "execute_result"
    }
   ],
   "source": [
    "df.loc[5]"
   ]
  },
  {
   "cell_type": "code",
   "execution_count": 408,
   "id": "24f1399a",
   "metadata": {},
   "outputs": [],
   "source": [
    "def loadTest(data):\n",
    "    f = h5py.File('E:\\\\rawLFPData2.hdf5','r')\n",
    "    # sampleSize = batchSize/3 \n",
    "    for i, g in data.groupby(np.arange(len(data)) // 9):\n",
    "        batch = g\n",
    "        labels = batch.Period.apply(lambda x: [1,0,0] if x=='Healthy' else  ([0,1,0] if x=='Acute' else [0,0,1]) )\n",
    "        labels = np.stack(labels.values)\n",
    "        dataPoint = batch.apply(lambda row: f[row.Session][:,row.start:row.end].T, axis=1).values\n",
    "        try:\n",
    "            dataPoint = np.stack(dataPoint)\n",
    "        except:\n",
    "            continue\n",
    "        yield (dataPoint,labels)\n",
    "    f.close()\n"
   ]
  },
  {
   "cell_type": "code",
   "execution_count": 394,
   "id": "348e892e",
   "metadata": {},
   "outputs": [
    {
     "name": "stdout",
     "output_type": "stream",
     "text": [
      "[2.86416717e-04 1.82222573e+01]\n",
      "[1.96826389e-04 1.42866774e+01]\n"
     ]
    }
   ],
   "source": [
    "for ind,(dataP,label) in enumerate(loadTest(testData)):\n",
    "    print(np.max(dataP[3,:,:],axis=0))\n",
    "    if ind == 1:\n",
    "        break"
   ]
  },
  {
   "cell_type": "code",
   "execution_count": 181,
   "id": "96aa0367",
   "metadata": {},
   "outputs": [
    {
     "name": "stdout",
     "output_type": "stream",
     "text": [
      "(9, 3) (9, 9156, 2)\n",
      "(9, 3) (9, 9156, 2)\n",
      "(9, 3) (9, 9156, 2)\n",
      "(9, 3) (9, 9156, 2)\n"
     ]
    }
   ],
   "source": [
    "for ind,(dataP,label) in enumerate(loadTrain(trainData,3)):\n",
    "    print(label.shape,dataP.shape)\n",
    "    if ind == 3:\n",
    "        break"
   ]
  },
  {
   "cell_type": "code",
   "execution_count": 486,
   "id": "2de8fb7d",
   "metadata": {},
   "outputs": [],
   "source": [
    "del model  "
   ]
  },
  {
   "cell_type": "code",
   "execution_count": 160,
   "id": "a180fbd8",
   "metadata": {},
   "outputs": [],
   "source": [
    "sampleSize = 20\n",
    "batchSize = sampleSize*3"
   ]
  },
  {
   "cell_type": "code",
   "execution_count": 487,
   "id": "e96c0632",
   "metadata": {},
   "outputs": [],
   "source": [
    "# model for v4\n",
    "\n",
    "model = Sequential()\n",
    "model.add(Conv1D(8, (3), input_shape=(segN,2), activation='relu'))\n",
    "model.add(Conv1D(8, (3), activation='relu'))\n",
    "model.add(MaxPooling1D(pool_size=(2)))\n",
    "model.add(Dropout(0.20))\n",
    "\n",
    "model.add(Conv1D(16, (5), activation='relu'))\n",
    "model.add(Conv1D(16, (5), activation='relu'))\n",
    "model.add(MaxPooling1D(pool_size=(2)))\n",
    "model.add(Dropout(0.20))\n",
    "\n",
    "model.add(Conv1D(16, (9), activation='relu'))\n",
    "model.add(Conv1D(16, (9), activation='relu'))\n",
    "model.add(MaxPooling1D(pool_size=(2)))\n",
    "model.add(Dropout(0.30))\n",
    "\n",
    "model.add(Conv1D(32, (21), activation='relu'))\n",
    "model.add(Conv1D(32, (21), activation='relu'))\n",
    "model.add(MaxPooling1D(pool_size=(2)))\n",
    "model.add(Dropout(0.30))\n",
    "\n",
    "model.add(Conv1D(32, (31), activation='relu'))\n",
    "model.add(Conv1D(32, (31), activation='relu'))\n",
    "model.add(MaxPooling1D(pool_size=(2)))\n",
    "model.add(Dropout(0.40))\n",
    "\n",
    "model.add(Conv1D(64, (41), activation='relu'))\n",
    "model.add(Conv1D(64, (41), activation='relu'))\n",
    "model.add(MaxPooling1D(pool_size=(2)))\n",
    "model.add(Dropout(0.40))\n",
    "\n",
    "\n",
    "# model.add(Conv2D(64, kernel_size=(5,5), activation='relu'))#,kernel_initializer=initializer))\n",
    "model.add(Flatten())\n",
    "model.add(Dense(10, activation='relu'))#,kernel_initializer=initializer))\n",
    "model.add(Dense(3, activation='softmax'))"
   ]
  },
  {
   "cell_type": "code",
   "execution_count": 475,
   "id": "8fb8411a",
   "metadata": {},
   "outputs": [
    {
     "name": "stdout",
     "output_type": "stream",
     "text": [
      "Model: \"sequential_33\"\n",
      "_________________________________________________________________\n",
      "Layer (type)                 Output Shape              Param #   \n",
      "=================================================================\n",
      "conv1d_112 (Conv1D)          (None, 4538, 8)           664       \n",
      "_________________________________________________________________\n",
      "conv1d_113 (Conv1D)          (None, 4498, 8)           2632      \n",
      "_________________________________________________________________\n",
      "max_pooling1d_97 (MaxPooling (None, 2249, 8)           0         \n",
      "_________________________________________________________________\n",
      "dropout_93 (Dropout)         (None, 2249, 8)           0         \n",
      "_________________________________________________________________\n",
      "conv1d_114 (Conv1D)          (None, 2219, 16)          3984      \n",
      "_________________________________________________________________\n",
      "conv1d_115 (Conv1D)          (None, 2189, 16)          7952      \n",
      "_________________________________________________________________\n",
      "max_pooling1d_98 (MaxPooling (None, 1094, 16)          0         \n",
      "_________________________________________________________________\n",
      "dropout_94 (Dropout)         (None, 1094, 16)          0         \n",
      "_________________________________________________________________\n",
      "conv1d_116 (Conv1D)          (None, 1074, 16)          5392      \n",
      "_________________________________________________________________\n",
      "conv1d_117 (Conv1D)          (None, 1054, 16)          5392      \n",
      "_________________________________________________________________\n",
      "max_pooling1d_99 (MaxPooling (None, 527, 16)           0         \n",
      "_________________________________________________________________\n",
      "dropout_95 (Dropout)         (None, 527, 16)           0         \n",
      "_________________________________________________________________\n",
      "conv1d_118 (Conv1D)          (None, 519, 32)           4640      \n",
      "_________________________________________________________________\n",
      "conv1d_119 (Conv1D)          (None, 511, 32)           9248      \n",
      "_________________________________________________________________\n",
      "max_pooling1d_100 (MaxPoolin (None, 255, 32)           0         \n",
      "_________________________________________________________________\n",
      "dropout_96 (Dropout)         (None, 255, 32)           0         \n",
      "_________________________________________________________________\n",
      "conv1d_120 (Conv1D)          (None, 251, 32)           5152      \n",
      "_________________________________________________________________\n",
      "conv1d_121 (Conv1D)          (None, 247, 32)           5152      \n",
      "_________________________________________________________________\n",
      "max_pooling1d_101 (MaxPoolin (None, 123, 32)           0         \n",
      "_________________________________________________________________\n",
      "dropout_97 (Dropout)         (None, 123, 32)           0         \n",
      "_________________________________________________________________\n",
      "conv1d_122 (Conv1D)          (None, 121, 64)           6208      \n",
      "_________________________________________________________________\n",
      "conv1d_123 (Conv1D)          (None, 119, 64)           12352     \n",
      "_________________________________________________________________\n",
      "max_pooling1d_102 (MaxPoolin (None, 59, 64)            0         \n",
      "_________________________________________________________________\n",
      "dropout_98 (Dropout)         (None, 59, 64)            0         \n",
      "_________________________________________________________________\n",
      "flatten_28 (Flatten)         (None, 3776)              0         \n",
      "_________________________________________________________________\n",
      "dense_51 (Dense)             (None, 10)                37770     \n",
      "_________________________________________________________________\n",
      "dense_52 (Dense)             (None, 3)                 33        \n",
      "=================================================================\n",
      "Total params: 106,571\n",
      "Trainable params: 106,571\n",
      "Non-trainable params: 0\n",
      "_________________________________________________________________\n",
      "None\n"
     ]
    }
   ],
   "source": [
    "print(model.summary())"
   ]
  },
  {
   "cell_type": "code",
   "execution_count": 498,
   "id": "87a5f5fc",
   "metadata": {},
   "outputs": [],
   "source": [
    "import keras_tuner as kt\n",
    "from keras_tuner import HyperModel as hp\n",
    "from keras_tuner.tuners import RandomSearch\n"
   ]
  },
  {
   "cell_type": "code",
   "execution_count": 447,
   "id": "d4551229",
   "metadata": {},
   "outputs": [],
   "source": [
    "early_stopping = tf.keras.callbacks.EarlyStopping(\n",
    "    monitor='val_accuracy', \n",
    "    verbose=1,\n",
    "    patience=350,\n",
    "    mode='max',\n",
    "    restore_best_weights=True)"
   ]
  },
  {
   "cell_type": "code",
   "execution_count": 504,
   "id": "50b307a4",
   "metadata": {
    "scrolled": true
   },
   "outputs": [
    {
     "name": "stdout",
     "output_type": "stream",
     "text": [
      "Epoch 1/1200\n",
      "134/134 [==============================] - 6s 36ms/step - loss: 0.1465 - accuracy: 0.9469 - val_loss: 2.1077 - val_accuracy: 0.5798\n",
      "Epoch 2/1200\n",
      "133/134 [============================>.] - ETA: 0s - loss: 0.1480 - accuracy: 0.9444"
     ]
    },
    {
     "ename": "KeyboardInterrupt",
     "evalue": "",
     "output_type": "error",
     "traceback": [
      "\u001b[1;31m---------------------------------------------------------------------------\u001b[0m",
      "\u001b[1;31mKeyboardInterrupt\u001b[0m                         Traceback (most recent call last)",
      "\u001b[1;32m<ipython-input-504-a181660e1468>\u001b[0m in \u001b[0;36m<module>\u001b[1;34m\u001b[0m\n\u001b[0;32m      8\u001b[0m \u001b[0mstepValidate\u001b[0m\u001b[1;33m=\u001b[0m\u001b[0mlen\u001b[0m\u001b[1;33m(\u001b[0m\u001b[0mvalidate\u001b[0m\u001b[1;33m)\u001b[0m\u001b[1;33m//\u001b[0m\u001b[0mbatchSize\u001b[0m\u001b[1;33m\u001b[0m\u001b[1;33m\u001b[0m\u001b[0m\n\u001b[0;32m      9\u001b[0m \u001b[1;33m\u001b[0m\u001b[0m\n\u001b[1;32m---> 10\u001b[1;33m history = model.fit(loadTrain(trainData,sampleSize),\n\u001b[0m\u001b[0;32m     11\u001b[0m                     \u001b[0msteps_per_epoch\u001b[0m\u001b[1;33m=\u001b[0m\u001b[0mstepTrain\u001b[0m\u001b[1;33m,\u001b[0m\u001b[1;33m\u001b[0m\u001b[1;33m\u001b[0m\u001b[0m\n\u001b[0;32m     12\u001b[0m                     \u001b[0mvalidation_data\u001b[0m\u001b[1;33m=\u001b[0m\u001b[0mloadTrain\u001b[0m\u001b[1;33m(\u001b[0m\u001b[0mvalidate\u001b[0m\u001b[1;33m,\u001b[0m\u001b[0msampleSize\u001b[0m\u001b[1;33m)\u001b[0m\u001b[1;33m,\u001b[0m\u001b[1;33m\u001b[0m\u001b[1;33m\u001b[0m\u001b[0m\n",
      "\u001b[1;32m~\\AppData\\Roaming\\Python\\Python38\\site-packages\\tensorflow\\python\\keras\\engine\\training.py\u001b[0m in \u001b[0;36mfit\u001b[1;34m(self, x, y, batch_size, epochs, verbose, callbacks, validation_split, validation_data, shuffle, class_weight, sample_weight, initial_epoch, steps_per_epoch, validation_steps, validation_batch_size, validation_freq, max_queue_size, workers, use_multiprocessing)\u001b[0m\n\u001b[0;32m   1212\u001b[0m                 \u001b[0mmodel\u001b[0m\u001b[1;33m=\u001b[0m\u001b[0mself\u001b[0m\u001b[1;33m,\u001b[0m\u001b[1;33m\u001b[0m\u001b[1;33m\u001b[0m\u001b[0m\n\u001b[0;32m   1213\u001b[0m                 steps_per_execution=self._steps_per_execution)\n\u001b[1;32m-> 1214\u001b[1;33m           val_logs = self.evaluate(\n\u001b[0m\u001b[0;32m   1215\u001b[0m               \u001b[0mx\u001b[0m\u001b[1;33m=\u001b[0m\u001b[0mval_x\u001b[0m\u001b[1;33m,\u001b[0m\u001b[1;33m\u001b[0m\u001b[1;33m\u001b[0m\u001b[0m\n\u001b[0;32m   1216\u001b[0m               \u001b[0my\u001b[0m\u001b[1;33m=\u001b[0m\u001b[0mval_y\u001b[0m\u001b[1;33m,\u001b[0m\u001b[1;33m\u001b[0m\u001b[1;33m\u001b[0m\u001b[0m\n",
      "\u001b[1;32m~\\AppData\\Roaming\\Python\\Python38\\site-packages\\tensorflow\\python\\keras\\engine\\training.py\u001b[0m in \u001b[0;36mevaluate\u001b[1;34m(self, x, y, batch_size, verbose, sample_weight, steps, callbacks, max_queue_size, workers, use_multiprocessing, return_dict, **kwargs)\u001b[0m\n\u001b[0;32m   1487\u001b[0m             \u001b[1;32mwith\u001b[0m \u001b[0mtrace\u001b[0m\u001b[1;33m.\u001b[0m\u001b[0mTrace\u001b[0m\u001b[1;33m(\u001b[0m\u001b[1;34m'test'\u001b[0m\u001b[1;33m,\u001b[0m \u001b[0mstep_num\u001b[0m\u001b[1;33m=\u001b[0m\u001b[0mstep\u001b[0m\u001b[1;33m,\u001b[0m \u001b[0m_r\u001b[0m\u001b[1;33m=\u001b[0m\u001b[1;36m1\u001b[0m\u001b[1;33m)\u001b[0m\u001b[1;33m:\u001b[0m\u001b[1;33m\u001b[0m\u001b[1;33m\u001b[0m\u001b[0m\n\u001b[0;32m   1488\u001b[0m               \u001b[0mcallbacks\u001b[0m\u001b[1;33m.\u001b[0m\u001b[0mon_test_batch_begin\u001b[0m\u001b[1;33m(\u001b[0m\u001b[0mstep\u001b[0m\u001b[1;33m)\u001b[0m\u001b[1;33m\u001b[0m\u001b[1;33m\u001b[0m\u001b[0m\n\u001b[1;32m-> 1489\u001b[1;33m               \u001b[0mtmp_logs\u001b[0m \u001b[1;33m=\u001b[0m \u001b[0mself\u001b[0m\u001b[1;33m.\u001b[0m\u001b[0mtest_function\u001b[0m\u001b[1;33m(\u001b[0m\u001b[0miterator\u001b[0m\u001b[1;33m)\u001b[0m\u001b[1;33m\u001b[0m\u001b[1;33m\u001b[0m\u001b[0m\n\u001b[0m\u001b[0;32m   1490\u001b[0m               \u001b[1;32mif\u001b[0m \u001b[0mdata_handler\u001b[0m\u001b[1;33m.\u001b[0m\u001b[0mshould_sync\u001b[0m\u001b[1;33m:\u001b[0m\u001b[1;33m\u001b[0m\u001b[1;33m\u001b[0m\u001b[0m\n\u001b[0;32m   1491\u001b[0m                 \u001b[0mcontext\u001b[0m\u001b[1;33m.\u001b[0m\u001b[0masync_wait\u001b[0m\u001b[1;33m(\u001b[0m\u001b[1;33m)\u001b[0m\u001b[1;33m\u001b[0m\u001b[1;33m\u001b[0m\u001b[0m\n",
      "\u001b[1;32m~\\AppData\\Roaming\\Python\\Python38\\site-packages\\tensorflow\\python\\eager\\def_function.py\u001b[0m in \u001b[0;36m__call__\u001b[1;34m(self, *args, **kwds)\u001b[0m\n\u001b[0;32m    887\u001b[0m \u001b[1;33m\u001b[0m\u001b[0m\n\u001b[0;32m    888\u001b[0m       \u001b[1;32mwith\u001b[0m \u001b[0mOptionalXlaContext\u001b[0m\u001b[1;33m(\u001b[0m\u001b[0mself\u001b[0m\u001b[1;33m.\u001b[0m\u001b[0m_jit_compile\u001b[0m\u001b[1;33m)\u001b[0m\u001b[1;33m:\u001b[0m\u001b[1;33m\u001b[0m\u001b[1;33m\u001b[0m\u001b[0m\n\u001b[1;32m--> 889\u001b[1;33m         \u001b[0mresult\u001b[0m \u001b[1;33m=\u001b[0m \u001b[0mself\u001b[0m\u001b[1;33m.\u001b[0m\u001b[0m_call\u001b[0m\u001b[1;33m(\u001b[0m\u001b[1;33m*\u001b[0m\u001b[0margs\u001b[0m\u001b[1;33m,\u001b[0m \u001b[1;33m**\u001b[0m\u001b[0mkwds\u001b[0m\u001b[1;33m)\u001b[0m\u001b[1;33m\u001b[0m\u001b[1;33m\u001b[0m\u001b[0m\n\u001b[0m\u001b[0;32m    890\u001b[0m \u001b[1;33m\u001b[0m\u001b[0m\n\u001b[0;32m    891\u001b[0m       \u001b[0mnew_tracing_count\u001b[0m \u001b[1;33m=\u001b[0m \u001b[0mself\u001b[0m\u001b[1;33m.\u001b[0m\u001b[0mexperimental_get_tracing_count\u001b[0m\u001b[1;33m(\u001b[0m\u001b[1;33m)\u001b[0m\u001b[1;33m\u001b[0m\u001b[1;33m\u001b[0m\u001b[0m\n",
      "\u001b[1;32m~\\AppData\\Roaming\\Python\\Python38\\site-packages\\tensorflow\\python\\eager\\def_function.py\u001b[0m in \u001b[0;36m_call\u001b[1;34m(self, *args, **kwds)\u001b[0m\n\u001b[0;32m    922\u001b[0m       \u001b[1;31m# In this case we have not created variables on the first call. So we can\u001b[0m\u001b[1;33m\u001b[0m\u001b[1;33m\u001b[0m\u001b[1;33m\u001b[0m\u001b[0m\n\u001b[0;32m    923\u001b[0m       \u001b[1;31m# run the first trace but we should fail if variables are created.\u001b[0m\u001b[1;33m\u001b[0m\u001b[1;33m\u001b[0m\u001b[1;33m\u001b[0m\u001b[0m\n\u001b[1;32m--> 924\u001b[1;33m       \u001b[0mresults\u001b[0m \u001b[1;33m=\u001b[0m \u001b[0mself\u001b[0m\u001b[1;33m.\u001b[0m\u001b[0m_stateful_fn\u001b[0m\u001b[1;33m(\u001b[0m\u001b[1;33m*\u001b[0m\u001b[0margs\u001b[0m\u001b[1;33m,\u001b[0m \u001b[1;33m**\u001b[0m\u001b[0mkwds\u001b[0m\u001b[1;33m)\u001b[0m\u001b[1;33m\u001b[0m\u001b[1;33m\u001b[0m\u001b[0m\n\u001b[0m\u001b[0;32m    925\u001b[0m       \u001b[1;32mif\u001b[0m \u001b[0mself\u001b[0m\u001b[1;33m.\u001b[0m\u001b[0m_created_variables\u001b[0m\u001b[1;33m:\u001b[0m\u001b[1;33m\u001b[0m\u001b[1;33m\u001b[0m\u001b[0m\n\u001b[0;32m    926\u001b[0m         raise ValueError(\"Creating variables on a non-first call to a function\"\n",
      "\u001b[1;32m~\\AppData\\Roaming\\Python\\Python38\\site-packages\\tensorflow\\python\\eager\\function.py\u001b[0m in \u001b[0;36m__call__\u001b[1;34m(self, *args, **kwargs)\u001b[0m\n\u001b[0;32m   3021\u001b[0m       (graph_function,\n\u001b[0;32m   3022\u001b[0m        filtered_flat_args) = self._maybe_define_function(args, kwargs)\n\u001b[1;32m-> 3023\u001b[1;33m     return graph_function._call_flat(\n\u001b[0m\u001b[0;32m   3024\u001b[0m         filtered_flat_args, captured_inputs=graph_function.captured_inputs)  # pylint: disable=protected-access\n\u001b[0;32m   3025\u001b[0m \u001b[1;33m\u001b[0m\u001b[0m\n",
      "\u001b[1;32m~\\AppData\\Roaming\\Python\\Python38\\site-packages\\tensorflow\\python\\eager\\function.py\u001b[0m in \u001b[0;36m_call_flat\u001b[1;34m(self, args, captured_inputs, cancellation_manager)\u001b[0m\n\u001b[0;32m   1958\u001b[0m         and executing_eagerly):\n\u001b[0;32m   1959\u001b[0m       \u001b[1;31m# No tape is watching; skip to running the function.\u001b[0m\u001b[1;33m\u001b[0m\u001b[1;33m\u001b[0m\u001b[1;33m\u001b[0m\u001b[0m\n\u001b[1;32m-> 1960\u001b[1;33m       return self._build_call_outputs(self._inference_function.call(\n\u001b[0m\u001b[0;32m   1961\u001b[0m           ctx, args, cancellation_manager=cancellation_manager))\n\u001b[0;32m   1962\u001b[0m     forward_backward = self._select_forward_and_backward_functions(\n",
      "\u001b[1;32m~\\AppData\\Roaming\\Python\\Python38\\site-packages\\tensorflow\\python\\eager\\function.py\u001b[0m in \u001b[0;36mcall\u001b[1;34m(self, ctx, args, cancellation_manager)\u001b[0m\n\u001b[0;32m    589\u001b[0m       \u001b[1;32mwith\u001b[0m \u001b[0m_InterpolateFunctionError\u001b[0m\u001b[1;33m(\u001b[0m\u001b[0mself\u001b[0m\u001b[1;33m)\u001b[0m\u001b[1;33m:\u001b[0m\u001b[1;33m\u001b[0m\u001b[1;33m\u001b[0m\u001b[0m\n\u001b[0;32m    590\u001b[0m         \u001b[1;32mif\u001b[0m \u001b[0mcancellation_manager\u001b[0m \u001b[1;32mis\u001b[0m \u001b[1;32mNone\u001b[0m\u001b[1;33m:\u001b[0m\u001b[1;33m\u001b[0m\u001b[1;33m\u001b[0m\u001b[0m\n\u001b[1;32m--> 591\u001b[1;33m           outputs = execute.execute(\n\u001b[0m\u001b[0;32m    592\u001b[0m               \u001b[0mstr\u001b[0m\u001b[1;33m(\u001b[0m\u001b[0mself\u001b[0m\u001b[1;33m.\u001b[0m\u001b[0msignature\u001b[0m\u001b[1;33m.\u001b[0m\u001b[0mname\u001b[0m\u001b[1;33m)\u001b[0m\u001b[1;33m,\u001b[0m\u001b[1;33m\u001b[0m\u001b[1;33m\u001b[0m\u001b[0m\n\u001b[0;32m    593\u001b[0m               \u001b[0mnum_outputs\u001b[0m\u001b[1;33m=\u001b[0m\u001b[0mself\u001b[0m\u001b[1;33m.\u001b[0m\u001b[0m_num_outputs\u001b[0m\u001b[1;33m,\u001b[0m\u001b[1;33m\u001b[0m\u001b[1;33m\u001b[0m\u001b[0m\n",
      "\u001b[1;32m~\\AppData\\Roaming\\Python\\Python38\\site-packages\\tensorflow\\python\\eager\\execute.py\u001b[0m in \u001b[0;36mquick_execute\u001b[1;34m(op_name, num_outputs, inputs, attrs, ctx, name)\u001b[0m\n\u001b[0;32m     57\u001b[0m   \u001b[1;32mtry\u001b[0m\u001b[1;33m:\u001b[0m\u001b[1;33m\u001b[0m\u001b[1;33m\u001b[0m\u001b[0m\n\u001b[0;32m     58\u001b[0m     \u001b[0mctx\u001b[0m\u001b[1;33m.\u001b[0m\u001b[0mensure_initialized\u001b[0m\u001b[1;33m(\u001b[0m\u001b[1;33m)\u001b[0m\u001b[1;33m\u001b[0m\u001b[1;33m\u001b[0m\u001b[0m\n\u001b[1;32m---> 59\u001b[1;33m     tensors = pywrap_tfe.TFE_Py_Execute(ctx._handle, device_name, op_name,\n\u001b[0m\u001b[0;32m     60\u001b[0m                                         inputs, attrs, num_outputs)\n\u001b[0;32m     61\u001b[0m   \u001b[1;32mexcept\u001b[0m \u001b[0mcore\u001b[0m\u001b[1;33m.\u001b[0m\u001b[0m_NotOkStatusException\u001b[0m \u001b[1;32mas\u001b[0m \u001b[0me\u001b[0m\u001b[1;33m:\u001b[0m\u001b[1;33m\u001b[0m\u001b[1;33m\u001b[0m\u001b[0m\n",
      "\u001b[1;31mKeyboardInterrupt\u001b[0m: "
     ]
    }
   ],
   "source": [
    "modelName = 'rawLFP_v5n'\n",
    "\n",
    "model.compile(optimizer='sgd',\n",
    "              loss=tf.keras.losses.CategoricalCrossentropy(),\n",
    "              metrics=['accuracy'])\n",
    "\n",
    "stepTrain=len(trainData)//batchSize\n",
    "stepValidate=len(validate)//batchSize\n",
    "\n",
    "history = model.fit(loadTrain(trainData,sampleSize),\n",
    "                    steps_per_epoch=stepTrain,\n",
    "                    validation_data=loadTrain(validate,sampleSize),\n",
    "                    validation_steps=stepValidate,\n",
    "                    epochs=1200,callbacks=[early_stopping])#,\n"
   ]
  },
  {
   "cell_type": "code",
   "execution_count": 544,
   "id": "cde50db4",
   "metadata": {},
   "outputs": [
    {
     "name": "stdout",
     "output_type": "stream",
     "text": [
      "1\n"
     ]
    }
   ],
   "source": [
    "from keras import backend as K\n",
    "if K.image_data_format() != 'channels_first': \n",
    "    print(1)"
   ]
  },
  {
   "cell_type": "code",
   "execution_count": 552,
   "id": "91c9c520",
   "metadata": {},
   "outputs": [],
   "source": [
    "def model_builder(hp):\n",
    "\n",
    "    model = Sequential()\n",
    "    model.add(Conv1D(filters = hp.Int('numFilters_1', min_value=4, max_value=64, step=4),\n",
    "                     kernel_size= hp.Int('kernalSize_1', min_value=3, max_value=89, step=2), \n",
    "                     input_shape=(segN,2), activation='relu'))\n",
    "#     model.add(Conv1D(filters = hp.Int('numFilters_2', min_value=4, max_value=64, step=4),\n",
    "#                      kernel_size= hp.Int('kernalSize_2', min_value=3, max_value=89, step=2),\n",
    "#                      activation='relu'))\n",
    "    model.add(MaxPooling1D(pool_size=(2)))\n",
    "    model.add(Dropout(rate=hp.Float(\n",
    "                'dropout_1',\n",
    "                min_value=0.0,\n",
    "                max_value=0.5,\n",
    "                default=0.20,\n",
    "                step=0.05,)))\n",
    "\n",
    "#     model.add(Conv1D(16, (5), activation='relu'))\n",
    "    model.add(Conv1D(filters = hp.Int('numFilters_2', min_value=4, max_value=64, step=4),\n",
    "                     kernel_size= hp.Int('kernalSize_2', min_value=3, max_value=89, step=2), activation='relu'))\n",
    "    model.add(MaxPooling1D(pool_size=(2)))\n",
    "    model.add(Dropout(rate=hp.Float(\n",
    "                'dropout_2',\n",
    "                min_value=0.0,\n",
    "                max_value=0.5,\n",
    "                default=0.20,\n",
    "                step=0.05,)))\n",
    "\n",
    "#     model.add(Conv1D(16, (9), activation='relu'))\n",
    "    model.add(Conv1D(filters = hp.Int('numFilters_3', min_value=8, max_value=64, step=4),\n",
    "                     kernel_size= hp.Int('kernalSize_3', min_value=3, max_value=89, step=2), activation='relu'))\n",
    "    model.add(MaxPooling1D(pool_size=(2)))\n",
    "    model.add(Dropout(rate=hp.Float(\n",
    "                'dropout_3',\n",
    "                min_value=0.0,\n",
    "                max_value=0.5,\n",
    "                default=0.20,\n",
    "                step=0.05,)))\n",
    "\n",
    "#     model.add(Conv1D(32, (21), activation='relu'))\n",
    "    model.add(Conv1D(filters = hp.Int('numFilters_4', min_value=16, max_value=64, step=4),\n",
    "                     kernel_size= hp.Int('kernalSize_4', min_value=3, max_value=59, step=2), activation='relu', padding='same'))\n",
    "    model.add(MaxPooling1D(pool_size=(2)))\n",
    "    model.add(Dropout(rate=hp.Float(\n",
    "                'dropout_4',\n",
    "                min_value=0.0,\n",
    "                max_value=0.5,\n",
    "                default=0.20,\n",
    "                step=0.05,)))\n",
    "\n",
    "#     model.add(Conv1D(32, (31), activation='relu'))\n",
    "    model.add(Conv1D(filters = hp.Int('numFilters_5', min_value=16, max_value=64, step=4),\n",
    "                     kernel_size= hp.Int('kernalSize_5', min_value=3, max_value=59, step=2), activation='relu', padding='same'))\n",
    "    model.add(MaxPooling1D(pool_size=(2)))\n",
    "    model.add(Dropout(rate=hp.Float(\n",
    "                'dropout_5',\n",
    "                min_value=0.0,\n",
    "                max_value=0.5,\n",
    "                default=0.20,\n",
    "                step=0.05,)))\n",
    "\n",
    "#     model.add(Conv1D(64, (41), activation='relu'))\n",
    "    model.add(Conv1D(filters = hp.Int('numFilters_6', min_value=16, max_value=64, step=4),\n",
    "                     kernel_size= hp.Int('kernalSize_6', min_value=3, max_value=59, step=2), activation='relu', padding='same'))\n",
    "    model.add(MaxPooling1D(pool_size=(2)))\n",
    "    model.add(Dropout(rate=hp.Float(\n",
    "                'dropout_6',\n",
    "                min_value=0.0,\n",
    "                max_value=0.5,\n",
    "                default=0.20,\n",
    "                step=0.05,)))\n",
    "\n",
    "\n",
    "    # model.add(Conv2D(64, kernel_size=(5,5), activation='relu'))#,kernel_initializer=initializer))\n",
    "    model.add(Flatten())\n",
    "    model.add(Dense(hp.Int(\n",
    "                    'units',\n",
    "                    min_value=5,\n",
    "                    max_value=30,\n",
    "                    step=5,\n",
    "                    default=10), activation='relu'))#,kernel_initializer=initializer))\n",
    "    model.add(Dense(3, activation='softmax'))\n",
    "    \n",
    "    model.compile(optimizer='sgd',\n",
    "              loss=tf.keras.losses.CategoricalCrossentropy(),\n",
    "              metrics=['accuracy'])\n",
    "    return model"
   ]
  },
  {
   "cell_type": "code",
   "execution_count": 548,
   "id": "16140b3f",
   "metadata": {},
   "outputs": [
    {
     "name": "stdout",
     "output_type": "stream",
     "text": [
      "Model: \"sequential\"\n",
      "_________________________________________________________________\n",
      "Layer (type)                 Output Shape              Param #   \n",
      "=================================================================\n",
      "conv1d (Conv1D)              (None, 4576, 64)          448       \n",
      "_________________________________________________________________\n",
      "max_pooling1d (MaxPooling1D) (None, 2288, 64)          0         \n",
      "_________________________________________________________________\n",
      "dropout (Dropout)            (None, 2288, 64)          0         \n",
      "_________________________________________________________________\n",
      "conv1d_1 (Conv1D)            (None, 2262, 64)          110656    \n",
      "_________________________________________________________________\n",
      "max_pooling1d_1 (MaxPooling1 (None, 1131, 64)          0         \n",
      "_________________________________________________________________\n",
      "dropout_1 (Dropout)          (None, 1131, 64)          0         \n",
      "_________________________________________________________________\n",
      "conv1d_2 (Conv1D)            (None, 1043, 64)          364608    \n",
      "_________________________________________________________________\n",
      "max_pooling1d_2 (MaxPooling1 (None, 521, 64)           0         \n",
      "_________________________________________________________________\n",
      "dropout_2 (Dropout)          (None, 521, 64)           0         \n",
      "_________________________________________________________________\n",
      "conv1d_3 (Conv1D)            (None, 519, 64)           12352     \n",
      "_________________________________________________________________\n",
      "max_pooling1d_3 (MaxPooling1 (None, 259, 64)           0         \n",
      "_________________________________________________________________\n",
      "dropout_3 (Dropout)          (None, 259, 64)           0         \n",
      "_________________________________________________________________\n",
      "conv1d_4 (Conv1D)            (None, 171, 16)           91152     \n",
      "_________________________________________________________________\n",
      "max_pooling1d_4 (MaxPooling1 (None, 85, 16)            0         \n",
      "_________________________________________________________________\n",
      "dropout_4 (Dropout)          (None, 85, 16)            0         \n",
      "_________________________________________________________________\n",
      "conv1d_5 (Conv1D)            (None, 35, 32)            26144     \n",
      "_________________________________________________________________\n",
      "max_pooling1d_5 (MaxPooling1 (None, 17, 32)            0         \n",
      "_________________________________________________________________\n",
      "dropout_5 (Dropout)          (None, 17, 32)            0         \n",
      "_________________________________________________________________\n",
      "flatten (Flatten)            (None, 544)               0         \n",
      "_________________________________________________________________\n",
      "dense (Dense)                (None, 30)                16350     \n",
      "_________________________________________________________________\n",
      "dense_1 (Dense)              (None, 3)                 93        \n",
      "=================================================================\n",
      "Total params: 621,803\n",
      "Trainable params: 621,803\n",
      "Non-trainable params: 0\n",
      "_________________________________________________________________\n"
     ]
    }
   ],
   "source": [
    "model.summary()"
   ]
  },
  {
   "cell_type": "code",
   "execution_count": 535,
   "id": "e223d3f6",
   "metadata": {},
   "outputs": [
    {
     "data": {
      "text/html": [
       "<div>\n",
       "<style scoped>\n",
       "    .dataframe tbody tr th:only-of-type {\n",
       "        vertical-align: middle;\n",
       "    }\n",
       "\n",
       "    .dataframe tbody tr th {\n",
       "        vertical-align: top;\n",
       "    }\n",
       "\n",
       "    .dataframe thead th {\n",
       "        text-align: right;\n",
       "    }\n",
       "</style>\n",
       "<table border=\"1\" class=\"dataframe\">\n",
       "  <thead>\n",
       "    <tr style=\"text-align: right;\">\n",
       "      <th></th>\n",
       "      <th>Unnamed: 0</th>\n",
       "      <th>Mouse</th>\n",
       "      <th>Session</th>\n",
       "      <th>length</th>\n",
       "      <th>start</th>\n",
       "      <th>end</th>\n",
       "    </tr>\n",
       "    <tr>\n",
       "      <th>Period</th>\n",
       "      <th></th>\n",
       "      <th></th>\n",
       "      <th></th>\n",
       "      <th></th>\n",
       "      <th></th>\n",
       "      <th></th>\n",
       "    </tr>\n",
       "  </thead>\n",
       "  <tbody>\n",
       "    <tr>\n",
       "      <th>Acute</th>\n",
       "      <td>358</td>\n",
       "      <td>358</td>\n",
       "      <td>358</td>\n",
       "      <td>358</td>\n",
       "      <td>358</td>\n",
       "      <td>358</td>\n",
       "    </tr>\n",
       "    <tr>\n",
       "      <th>Chronic</th>\n",
       "      <td>339</td>\n",
       "      <td>339</td>\n",
       "      <td>339</td>\n",
       "      <td>339</td>\n",
       "      <td>339</td>\n",
       "      <td>339</td>\n",
       "    </tr>\n",
       "    <tr>\n",
       "      <th>Healthy</th>\n",
       "      <td>200</td>\n",
       "      <td>200</td>\n",
       "      <td>200</td>\n",
       "      <td>200</td>\n",
       "      <td>200</td>\n",
       "      <td>200</td>\n",
       "    </tr>\n",
       "  </tbody>\n",
       "</table>\n",
       "</div>"
      ],
      "text/plain": [
       "         Unnamed: 0  Mouse  Session  length  start  end\n",
       "Period                                                 \n",
       "Acute           358    358      358     358    358  358\n",
       "Chronic         339    339      339     339    339  339\n",
       "Healthy         200    200      200     200    200  200"
      ]
     },
     "execution_count": 535,
     "metadata": {},
     "output_type": "execute_result"
    }
   ],
   "source": [
    "newVal = testData.sample(len(validate))\n",
    "newVal.groupby('Period').count()\n"
   ]
  },
  {
   "cell_type": "code",
   "execution_count": 565,
   "id": "c4fa26a0",
   "metadata": {
    "scrolled": true
   },
   "outputs": [
    {
     "name": "stdout",
     "output_type": "stream",
     "text": [
      "INFO:tensorflow:Reloading Oracle from existing project tunning\\hailMary_C\\oracle.json\n",
      "INFO:tensorflow:Reloading Tuner from tunning\\hailMary_C\\tuner0.json\n",
      "INFO:tensorflow:Oracle triggered exit\n"
     ]
    }
   ],
   "source": [
    "modelName = 'rawLFP_v5n_tunning_healthOrNot'\n",
    "cb = [tf.keras.callbacks.EarlyStopping(\n",
    "    monitor='val_accuracy', \n",
    "    verbose=1,\n",
    "    patience=100,\n",
    "    mode='max',\n",
    "    restore_best_weights=True)]\n",
    "\n",
    "EXECUTION_PER_TRIAL = 60\n",
    "SEED = 1\n",
    "\n",
    "tuner = kt.BayesianOptimization(model_builder,\n",
    "                     objective='val_accuracy',\n",
    "#                      max_epochs=800,\n",
    "                     seed=SEED,\n",
    "                     max_trials = EXECUTION_PER_TRIAL,           \n",
    "                     executions_per_trial=1,\n",
    "                     directory='tunning',\n",
    "                     project_name='hailMary_C')\n",
    "\n",
    "\n",
    "stepTrain=len(trainData)//batchSize\n",
    "stepValidate=len(validate)//batchSize\n",
    "\n",
    "tuner.search(loadTrain(trainData,sampleSize),steps_per_epoch=stepTrain,\n",
    "             validation_data=loadTrain(newVal,sampleSize),validation_steps=stepValidate,\n",
    "             epochs=400, callbacks=cb)\n",
    "# tuner.search_space_summary()"
   ]
  },
  {
   "cell_type": "code",
   "execution_count": 566,
   "id": "0ab33985",
   "metadata": {},
   "outputs": [
    {
     "name": "stdout",
     "output_type": "stream",
     "text": [
      "Results summary\n",
      "Results in tunning\\hailMary_C\n",
      "Showing 10 best trials\n",
      "Objective(name='val_accuracy', direction='max')\n",
      "Trial summary\n",
      "Hyperparameters:\n",
      "numFilters_1: 64\n",
      "kernalSize_1: 3\n",
      "dropout_1: 0.5\n",
      "numFilters_2: 64\n",
      "kernalSize_2: 3\n",
      "dropout_2: 0.0\n",
      "numFilters_3: 40\n",
      "kernalSize_3: 89\n",
      "dropout_3: 0.0\n",
      "numFilters_4: 16\n",
      "kernalSize_4: 3\n",
      "dropout_4: 0.0\n",
      "numFilters_5: 64\n",
      "kernalSize_5: 89\n",
      "dropout_5: 0.5\n",
      "numFilters_6: 56\n",
      "kernalSize_6: 3\n",
      "dropout_6: 0.5\n",
      "units: 15\n",
      "Score: 0.5738095045089722\n",
      "Trial summary\n",
      "Hyperparameters:\n",
      "numFilters_1: 64\n",
      "kernalSize_1: 3\n",
      "dropout_1: 0.5\n",
      "numFilters_2: 64\n",
      "kernalSize_2: 3\n",
      "dropout_2: 0.0\n",
      "numFilters_3: 64\n",
      "kernalSize_3: 89\n",
      "dropout_3: 0.0\n",
      "numFilters_4: 32\n",
      "kernalSize_4: 3\n",
      "dropout_4: 0.0\n",
      "numFilters_5: 64\n",
      "kernalSize_5: 89\n",
      "dropout_5: 0.5\n",
      "numFilters_6: 60\n",
      "kernalSize_6: 3\n",
      "dropout_6: 0.5\n",
      "units: 30\n",
      "Score: 0.5678571462631226\n",
      "Trial summary\n",
      "Hyperparameters:\n",
      "numFilters_1: 64\n",
      "kernalSize_1: 3\n",
      "dropout_1: 0.5\n",
      "numFilters_2: 64\n",
      "kernalSize_2: 3\n",
      "dropout_2: 0.0\n",
      "numFilters_3: 44\n",
      "kernalSize_3: 89\n",
      "dropout_3: 0.0\n",
      "numFilters_4: 20\n",
      "kernalSize_4: 3\n",
      "dropout_4: 0.0\n",
      "numFilters_5: 64\n",
      "kernalSize_5: 33\n",
      "dropout_5: 0.5\n",
      "numFilters_6: 48\n",
      "kernalSize_6: 3\n",
      "dropout_6: 0.5\n",
      "units: 25\n",
      "Score: 0.5666666626930237\n",
      "Trial summary\n",
      "Hyperparameters:\n",
      "numFilters_1: 64\n",
      "kernalSize_1: 3\n",
      "dropout_1: 0.5\n",
      "numFilters_2: 64\n",
      "kernalSize_2: 3\n",
      "dropout_2: 0.0\n",
      "numFilters_3: 20\n",
      "kernalSize_3: 57\n",
      "dropout_3: 0.0\n",
      "numFilters_4: 32\n",
      "kernalSize_4: 3\n",
      "dropout_4: 0.0\n",
      "numFilters_5: 64\n",
      "kernalSize_5: 89\n",
      "dropout_5: 0.5\n",
      "numFilters_6: 48\n",
      "kernalSize_6: 3\n",
      "dropout_6: 0.5\n",
      "units: 25\n",
      "Score: 0.5654761791229248\n",
      "Trial summary\n",
      "Hyperparameters:\n",
      "numFilters_1: 64\n",
      "kernalSize_1: 3\n",
      "dropout_1: 0.5\n",
      "numFilters_2: 64\n",
      "kernalSize_2: 3\n",
      "dropout_2: 0.45\n",
      "numFilters_3: 64\n",
      "kernalSize_3: 3\n",
      "dropout_3: 0.0\n",
      "numFilters_4: 64\n",
      "kernalSize_4: 3\n",
      "dropout_4: 0.0\n",
      "numFilters_5: 64\n",
      "kernalSize_5: 89\n",
      "dropout_5: 0.5\n",
      "numFilters_6: 48\n",
      "kernalSize_6: 49\n",
      "dropout_6: 0.5\n",
      "units: 5\n",
      "Score: 0.5571428537368774\n",
      "Trial summary\n",
      "Hyperparameters:\n",
      "numFilters_1: 64\n",
      "kernalSize_1: 3\n",
      "dropout_1: 0.5\n",
      "numFilters_2: 64\n",
      "kernalSize_2: 3\n",
      "dropout_2: 0.30000000000000004\n",
      "numFilters_3: 28\n",
      "kernalSize_3: 3\n",
      "dropout_3: 0.0\n",
      "numFilters_4: 64\n",
      "kernalSize_4: 3\n",
      "dropout_4: 0.0\n",
      "numFilters_5: 64\n",
      "kernalSize_5: 89\n",
      "dropout_5: 0.5\n",
      "numFilters_6: 40\n",
      "kernalSize_6: 59\n",
      "dropout_6: 0.5\n",
      "units: 10\n",
      "Score: 0.5511904954910278\n",
      "Trial summary\n",
      "Hyperparameters:\n",
      "numFilters_1: 64\n",
      "kernalSize_1: 3\n",
      "dropout_1: 0.5\n",
      "numFilters_2: 64\n",
      "kernalSize_2: 3\n",
      "dropout_2: 0.0\n",
      "numFilters_3: 8\n",
      "kernalSize_3: 89\n",
      "dropout_3: 0.0\n",
      "numFilters_4: 20\n",
      "kernalSize_4: 3\n",
      "dropout_4: 0.0\n",
      "numFilters_5: 64\n",
      "kernalSize_5: 89\n",
      "dropout_5: 0.5\n",
      "numFilters_6: 16\n",
      "kernalSize_6: 3\n",
      "dropout_6: 0.5\n",
      "units: 15\n",
      "Score: 0.550000011920929\n",
      "Trial summary\n",
      "Hyperparameters:\n",
      "numFilters_1: 64\n",
      "kernalSize_1: 3\n",
      "dropout_1: 0.5\n",
      "numFilters_2: 64\n",
      "kernalSize_2: 3\n",
      "dropout_2: 0.0\n",
      "numFilters_3: 40\n",
      "kernalSize_3: 89\n",
      "dropout_3: 0.30000000000000004\n",
      "numFilters_4: 16\n",
      "kernalSize_4: 3\n",
      "dropout_4: 0.0\n",
      "numFilters_5: 64\n",
      "kernalSize_5: 89\n",
      "dropout_5: 0.5\n",
      "numFilters_6: 52\n",
      "kernalSize_6: 3\n",
      "dropout_6: 0.5\n",
      "units: 25\n",
      "Score: 0.5476190447807312\n",
      "Trial summary\n",
      "Hyperparameters:\n",
      "numFilters_1: 64\n",
      "kernalSize_1: 3\n",
      "dropout_1: 0.5\n",
      "numFilters_2: 64\n",
      "kernalSize_2: 3\n",
      "dropout_2: 0.0\n",
      "numFilters_3: 56\n",
      "kernalSize_3: 63\n",
      "dropout_3: 0.0\n",
      "numFilters_4: 36\n",
      "kernalSize_4: 3\n",
      "dropout_4: 0.0\n",
      "numFilters_5: 64\n",
      "kernalSize_5: 89\n",
      "dropout_5: 0.5\n",
      "numFilters_6: 16\n",
      "kernalSize_6: 3\n",
      "dropout_6: 0.5\n",
      "units: 20\n",
      "Score: 0.5476190447807312\n",
      "Trial summary\n",
      "Hyperparameters:\n",
      "numFilters_1: 64\n",
      "kernalSize_1: 3\n",
      "dropout_1: 0.5\n",
      "numFilters_2: 64\n",
      "kernalSize_2: 3\n",
      "dropout_2: 0.0\n",
      "numFilters_3: 8\n",
      "kernalSize_3: 89\n",
      "dropout_3: 0.0\n",
      "numFilters_4: 20\n",
      "kernalSize_4: 3\n",
      "dropout_4: 0.0\n",
      "numFilters_5: 64\n",
      "kernalSize_5: 89\n",
      "dropout_5: 0.5\n",
      "numFilters_6: 16\n",
      "kernalSize_6: 89\n",
      "dropout_6: 0.5\n",
      "units: 5\n",
      "Score: 0.5428571701049805\n"
     ]
    }
   ],
   "source": [
    "tuner.results_summary()"
   ]
  },
  {
   "cell_type": "code",
   "execution_count": 567,
   "id": "44fa2406",
   "metadata": {},
   "outputs": [
    {
     "name": "stdout",
     "output_type": "stream",
     "text": [
      "WARNING:tensorflow:Unresolved object in checkpoint: (root).optimizer.iter\n",
      "WARNING:tensorflow:Unresolved object in checkpoint: (root).optimizer.decay\n",
      "WARNING:tensorflow:Unresolved object in checkpoint: (root).optimizer.learning_rate\n",
      "WARNING:tensorflow:Unresolved object in checkpoint: (root).optimizer.momentum\n",
      "WARNING:tensorflow:A checkpoint was restored (e.g. tf.train.Checkpoint.restore or tf.keras.Model.load_weights) but not all checkpointed values were used. See above for specific issues. Use expect_partial() on the load status object, e.g. tf.train.Checkpoint.restore(...).expect_partial(), to silence these warnings, or use assert_consumed() to make the check explicit. See https://www.tensorflow.org/guide/checkpoint#loading_mechanics for details.\n",
      "WARNING:tensorflow:Unresolved object in checkpoint: (root).optimizer.iter\n",
      "WARNING:tensorflow:Unresolved object in checkpoint: (root).optimizer.decay\n",
      "WARNING:tensorflow:Unresolved object in checkpoint: (root).optimizer.learning_rate\n",
      "WARNING:tensorflow:Unresolved object in checkpoint: (root).optimizer.momentum\n",
      "WARNING:tensorflow:A checkpoint was restored (e.g. tf.train.Checkpoint.restore or tf.keras.Model.load_weights) but not all checkpointed values were used. See above for specific issues. Use expect_partial() on the load status object, e.g. tf.train.Checkpoint.restore(...).expect_partial(), to silence these warnings, or use assert_consumed() to make the check explicit. See https://www.tensorflow.org/guide/checkpoint#loading_mechanics for details.\n"
     ]
    }
   ],
   "source": [
    "model = tuner.get_best_models(num_models=3)[1]"
   ]
  },
  {
   "cell_type": "code",
   "execution_count": 569,
   "id": "179b7abc",
   "metadata": {},
   "outputs": [],
   "source": [
    "modelName = 'rawLFP_v5n_tunning_2nd'"
   ]
  },
  {
   "cell_type": "code",
   "execution_count": 564,
   "id": "30bf4142",
   "metadata": {
    "scrolled": true
   },
   "outputs": [
    {
     "name": "stdout",
     "output_type": "stream",
     "text": [
      "Epoch 1/400\n",
      "134/134 [==============================] - 5s 37ms/step - loss: 0.9417 - accuracy: 0.5106 - val_loss: 1.1981 - val_accuracy: 0.4119\n",
      "Epoch 2/400\n",
      "134/134 [==============================] - 5s 36ms/step - loss: 0.9385 - accuracy: 0.5183 - val_loss: 1.1422 - val_accuracy: 0.4845\n",
      "Epoch 3/400\n",
      "134/134 [==============================] - 5s 36ms/step - loss: 0.9321 - accuracy: 0.5146 - val_loss: 1.2395 - val_accuracy: 0.4440\n",
      "Epoch 4/400\n",
      "134/134 [==============================] - 5s 36ms/step - loss: 0.9406 - accuracy: 0.5106 - val_loss: 1.1546 - val_accuracy: 0.4512\n",
      "Epoch 5/400\n",
      "134/134 [==============================] - 5s 36ms/step - loss: 0.9183 - accuracy: 0.5257 - val_loss: 1.1470 - val_accuracy: 0.4774\n",
      "Epoch 6/400\n",
      "134/134 [==============================] - 5s 36ms/step - loss: 0.9380 - accuracy: 0.5155 - val_loss: 1.3027 - val_accuracy: 0.3893\n",
      "Epoch 7/400\n",
      "134/134 [==============================] - 5s 36ms/step - loss: 0.9255 - accuracy: 0.5229 - val_loss: 1.1794 - val_accuracy: 0.4143\n",
      "Epoch 8/400\n",
      "134/134 [==============================] - 5s 37ms/step - loss: 0.9213 - accuracy: 0.5233 - val_loss: 1.1759 - val_accuracy: 0.4690\n",
      "Epoch 9/400\n",
      "134/134 [==============================] - 5s 37ms/step - loss: 0.9250 - accuracy: 0.5250 - val_loss: 1.3288 - val_accuracy: 0.4452\n",
      "Epoch 10/400\n",
      "134/134 [==============================] - 5s 37ms/step - loss: 0.9238 - accuracy: 0.5194 - val_loss: 1.1573 - val_accuracy: 0.5036\n",
      "Epoch 11/400\n",
      "134/134 [==============================] - 5s 36ms/step - loss: 0.9260 - accuracy: 0.5153 - val_loss: 1.3081 - val_accuracy: 0.4000\n",
      "Epoch 12/400\n",
      "134/134 [==============================] - 5s 36ms/step - loss: 0.9241 - accuracy: 0.5153 - val_loss: 1.2049 - val_accuracy: 0.4214\n",
      "Epoch 13/400\n",
      "134/134 [==============================] - 5s 36ms/step - loss: 0.9082 - accuracy: 0.5357 - val_loss: 1.3133 - val_accuracy: 0.3940\n",
      "Epoch 14/400\n",
      "134/134 [==============================] - 5s 37ms/step - loss: 0.9246 - accuracy: 0.5277 - val_loss: 1.3790 - val_accuracy: 0.3929\n",
      "Epoch 15/400\n",
      "134/134 [==============================] - 5s 36ms/step - loss: 0.9203 - accuracy: 0.5229 - val_loss: 1.2702 - val_accuracy: 0.4298\n",
      "Epoch 16/400\n",
      "134/134 [==============================] - 5s 36ms/step - loss: 0.9030 - accuracy: 0.5392 - val_loss: 1.2355 - val_accuracy: 0.4452\n",
      "Epoch 17/400\n",
      "134/134 [==============================] - 5s 36ms/step - loss: 0.9079 - accuracy: 0.5317 - val_loss: 1.2396 - val_accuracy: 0.4881\n",
      "Epoch 18/400\n",
      "134/134 [==============================] - 5s 36ms/step - loss: 0.9060 - accuracy: 0.5405 - val_loss: 1.2635 - val_accuracy: 0.4571\n",
      "Epoch 19/400\n",
      "134/134 [==============================] - 5s 37ms/step - loss: 0.8995 - accuracy: 0.5381 - val_loss: 1.2689 - val_accuracy: 0.4440\n",
      "Epoch 20/400\n",
      "134/134 [==============================] - 5s 37ms/step - loss: 0.9127 - accuracy: 0.5371 - val_loss: 1.1790 - val_accuracy: 0.4655\n",
      "Epoch 21/400\n",
      "134/134 [==============================] - 5s 37ms/step - loss: 0.8994 - accuracy: 0.5466 - val_loss: 1.1389 - val_accuracy: 0.5095\n",
      "Epoch 22/400\n",
      "134/134 [==============================] - 5s 36ms/step - loss: 0.8934 - accuracy: 0.5394 - val_loss: 1.2771 - val_accuracy: 0.4714\n",
      "Epoch 23/400\n",
      "134/134 [==============================] - 5s 37ms/step - loss: 0.9272 - accuracy: 0.5170 - val_loss: 1.2704 - val_accuracy: 0.4548\n",
      "Epoch 24/400\n",
      "134/134 [==============================] - 5s 37ms/step - loss: 0.8984 - accuracy: 0.5484 - val_loss: 1.1255 - val_accuracy: 0.4690\n",
      "Epoch 25/400\n",
      "134/134 [==============================] - 5s 37ms/step - loss: 0.8958 - accuracy: 0.5490 - val_loss: 1.1582 - val_accuracy: 0.5321\n",
      "Epoch 26/400\n",
      "134/134 [==============================] - 5s 36ms/step - loss: 0.8877 - accuracy: 0.5544 - val_loss: 1.2704 - val_accuracy: 0.4524\n",
      "Epoch 27/400\n",
      "134/134 [==============================] - 5s 37ms/step - loss: 0.8926 - accuracy: 0.5490 - val_loss: 1.1578 - val_accuracy: 0.5083\n",
      "Epoch 28/400\n",
      "134/134 [==============================] - 5s 37ms/step - loss: 0.8896 - accuracy: 0.5509 - val_loss: 1.2341 - val_accuracy: 0.4976\n",
      "Epoch 29/400\n",
      "134/134 [==============================] - 5s 37ms/step - loss: 0.8796 - accuracy: 0.5455 - val_loss: 1.1574 - val_accuracy: 0.5214\n",
      "Epoch 30/400\n",
      "134/134 [==============================] - 5s 37ms/step - loss: 0.8845 - accuracy: 0.5485 - val_loss: 1.3246 - val_accuracy: 0.4333\n",
      "Epoch 31/400\n",
      "134/134 [==============================] - 5s 36ms/step - loss: 0.8890 - accuracy: 0.5500 - val_loss: 1.1823 - val_accuracy: 0.4393\n",
      "Epoch 32/400\n",
      "134/134 [==============================] - 5s 36ms/step - loss: 0.8729 - accuracy: 0.5612 - val_loss: 1.2988 - val_accuracy: 0.4583\n",
      "Epoch 33/400\n",
      "134/134 [==============================] - 5s 37ms/step - loss: 0.8737 - accuracy: 0.5611 - val_loss: 1.3524 - val_accuracy: 0.4238\n",
      "Epoch 34/400\n",
      "134/134 [==============================] - 5s 36ms/step - loss: 0.8870 - accuracy: 0.5536 - val_loss: 1.2632 - val_accuracy: 0.4988\n",
      "Epoch 35/400\n",
      "134/134 [==============================] - 5s 37ms/step - loss: 0.8659 - accuracy: 0.5698 - val_loss: 1.2885 - val_accuracy: 0.4464\n",
      "Epoch 36/400\n",
      "134/134 [==============================] - 5s 36ms/step - loss: 0.8623 - accuracy: 0.5699 - val_loss: 1.4257 - val_accuracy: 0.3976\n",
      "Epoch 37/400\n",
      "134/134 [==============================] - 5s 37ms/step - loss: 0.8795 - accuracy: 0.5613 - val_loss: 1.2475 - val_accuracy: 0.4667\n",
      "Epoch 38/400\n",
      "134/134 [==============================] - 5s 36ms/step - loss: 0.8671 - accuracy: 0.5680 - val_loss: 1.2483 - val_accuracy: 0.5036\n",
      "Epoch 39/400\n",
      "134/134 [==============================] - 5s 36ms/step - loss: 0.8599 - accuracy: 0.5706 - val_loss: 1.2436 - val_accuracy: 0.5071\n",
      "Epoch 40/400\n",
      "134/134 [==============================] - 5s 36ms/step - loss: 0.8576 - accuracy: 0.5706 - val_loss: 1.1977 - val_accuracy: 0.4536\n",
      "Epoch 41/400\n",
      "134/134 [==============================] - 5s 36ms/step - loss: 0.8550 - accuracy: 0.5649 - val_loss: 1.3745 - val_accuracy: 0.4929\n",
      "Epoch 42/400\n",
      "134/134 [==============================] - 5s 37ms/step - loss: 0.8587 - accuracy: 0.5596 - val_loss: 1.1492 - val_accuracy: 0.5107\n",
      "Epoch 43/400\n",
      "134/134 [==============================] - 5s 37ms/step - loss: 0.8464 - accuracy: 0.5772 - val_loss: 1.3936 - val_accuracy: 0.4524\n",
      "Epoch 44/400\n",
      "134/134 [==============================] - 5s 36ms/step - loss: 0.8571 - accuracy: 0.5723 - val_loss: 1.4193 - val_accuracy: 0.4810\n",
      "Epoch 45/400\n",
      "134/134 [==============================] - 5s 36ms/step - loss: 0.8505 - accuracy: 0.5771 - val_loss: 1.2682 - val_accuracy: 0.4750\n",
      "Epoch 46/400\n",
      "134/134 [==============================] - 5s 37ms/step - loss: 0.8522 - accuracy: 0.5734 - val_loss: 1.2563 - val_accuracy: 0.4786\n",
      "Epoch 47/400\n",
      "134/134 [==============================] - 5s 36ms/step - loss: 0.8357 - accuracy: 0.5697 - val_loss: 1.7857 - val_accuracy: 0.4000\n",
      "Epoch 48/400\n",
      "134/134 [==============================] - 5s 36ms/step - loss: 0.8486 - accuracy: 0.5743 - val_loss: 1.6383 - val_accuracy: 0.4452\n",
      "Epoch 49/400\n",
      "134/134 [==============================] - 5s 36ms/step - loss: 0.8517 - accuracy: 0.5697 - val_loss: 1.3009 - val_accuracy: 0.4548\n",
      "Epoch 50/400\n",
      "134/134 [==============================] - 5s 36ms/step - loss: 0.8370 - accuracy: 0.5864 - val_loss: 1.4377 - val_accuracy: 0.4583\n",
      "Epoch 51/400\n",
      "134/134 [==============================] - 5s 36ms/step - loss: 0.8273 - accuracy: 0.5873 - val_loss: 1.5384 - val_accuracy: 0.4357\n",
      "Epoch 52/400\n",
      "134/134 [==============================] - 5s 36ms/step - loss: 0.8282 - accuracy: 0.5924 - val_loss: 1.4553 - val_accuracy: 0.4643\n",
      "Epoch 53/400\n",
      "134/134 [==============================] - 5s 36ms/step - loss: 0.8295 - accuracy: 0.5896 - val_loss: 1.2981 - val_accuracy: 0.5071\n",
      "Epoch 54/400\n",
      "134/134 [==============================] - 5s 37ms/step - loss: 0.8238 - accuracy: 0.5882 - val_loss: 1.5191 - val_accuracy: 0.4750\n",
      "Epoch 55/400\n",
      "134/134 [==============================] - 5s 37ms/step - loss: 0.8359 - accuracy: 0.5796 - val_loss: 1.3435 - val_accuracy: 0.4393\n",
      "Epoch 56/400\n",
      "134/134 [==============================] - 5s 37ms/step - loss: 0.8189 - accuracy: 0.5943 - val_loss: 1.3701 - val_accuracy: 0.4548\n",
      "Epoch 57/400\n"
     ]
    },
    {
     "name": "stdout",
     "output_type": "stream",
     "text": [
      "134/134 [==============================] - 5s 36ms/step - loss: 0.8210 - accuracy: 0.5928 - val_loss: 1.4907 - val_accuracy: 0.4810\n",
      "Epoch 58/400\n",
      "134/134 [==============================] - 5s 37ms/step - loss: 0.8209 - accuracy: 0.5966 - val_loss: 1.5189 - val_accuracy: 0.4643\n",
      "Epoch 59/400\n",
      "134/134 [==============================] - 5s 37ms/step - loss: 0.8218 - accuracy: 0.5974 - val_loss: 1.4232 - val_accuracy: 0.4726\n",
      "Epoch 60/400\n",
      "134/134 [==============================] - 5s 37ms/step - loss: 0.8219 - accuracy: 0.5979 - val_loss: 1.4127 - val_accuracy: 0.4048\n",
      "Epoch 61/400\n",
      "134/134 [==============================] - 5s 36ms/step - loss: 0.8224 - accuracy: 0.5925 - val_loss: 1.2994 - val_accuracy: 0.4821\n",
      "Epoch 62/400\n",
      "134/134 [==============================] - 5s 36ms/step - loss: 0.8097 - accuracy: 0.6012 - val_loss: 1.4709 - val_accuracy: 0.3964\n",
      "Epoch 63/400\n",
      "134/134 [==============================] - 5s 36ms/step - loss: 0.8153 - accuracy: 0.6044 - val_loss: 1.3646 - val_accuracy: 0.4012\n",
      "Epoch 64/400\n",
      "134/134 [==============================] - 5s 36ms/step - loss: 0.7958 - accuracy: 0.6179 - val_loss: 1.6884 - val_accuracy: 0.4226\n",
      "Epoch 65/400\n",
      "134/134 [==============================] - 5s 37ms/step - loss: 0.7994 - accuracy: 0.6092 - val_loss: 1.4193 - val_accuracy: 0.4036\n",
      "Epoch 66/400\n",
      "134/134 [==============================] - 5s 37ms/step - loss: 0.8003 - accuracy: 0.6095 - val_loss: 1.6405 - val_accuracy: 0.4357\n",
      "Epoch 67/400\n",
      "134/134 [==============================] - 5s 36ms/step - loss: 0.7888 - accuracy: 0.6139 - val_loss: 1.6359 - val_accuracy: 0.4321\n",
      "Epoch 68/400\n",
      "134/134 [==============================] - 5s 37ms/step - loss: 0.7930 - accuracy: 0.6117 - val_loss: 1.4036 - val_accuracy: 0.4929\n",
      "Epoch 69/400\n",
      "134/134 [==============================] - 5s 36ms/step - loss: 0.7880 - accuracy: 0.6195 - val_loss: 1.5120 - val_accuracy: 0.4238\n",
      "Epoch 70/400\n",
      "134/134 [==============================] - 5s 37ms/step - loss: 0.7940 - accuracy: 0.6148 - val_loss: 1.7108 - val_accuracy: 0.4393\n",
      "Epoch 71/400\n",
      "134/134 [==============================] - 5s 36ms/step - loss: 0.7834 - accuracy: 0.6257 - val_loss: 1.4277 - val_accuracy: 0.4786\n",
      "Epoch 72/400\n",
      "134/134 [==============================] - 5s 36ms/step - loss: 0.7933 - accuracy: 0.6127 - val_loss: 1.3796 - val_accuracy: 0.4690\n",
      "Epoch 73/400\n",
      "134/134 [==============================] - 5s 36ms/step - loss: 0.7740 - accuracy: 0.6243 - val_loss: 1.4121 - val_accuracy: 0.3655\n",
      "Epoch 74/400\n",
      "134/134 [==============================] - 5s 36ms/step - loss: 0.7752 - accuracy: 0.6225 - val_loss: 1.4966 - val_accuracy: 0.4167\n",
      "Epoch 75/400\n",
      "134/134 [==============================] - 5s 36ms/step - loss: 0.7858 - accuracy: 0.6112 - val_loss: 1.3425 - val_accuracy: 0.4940\n",
      "Epoch 76/400\n",
      "134/134 [==============================] - 5s 36ms/step - loss: 0.7729 - accuracy: 0.6238 - val_loss: 1.4710 - val_accuracy: 0.4060\n",
      "Epoch 77/400\n",
      "134/134 [==============================] - 5s 36ms/step - loss: 0.7675 - accuracy: 0.6343 - val_loss: 1.5315 - val_accuracy: 0.4036\n",
      "Epoch 78/400\n",
      "134/134 [==============================] - 5s 36ms/step - loss: 0.7677 - accuracy: 0.6310 - val_loss: 1.8372 - val_accuracy: 0.4012\n",
      "Epoch 79/400\n",
      "134/134 [==============================] - 5s 36ms/step - loss: 0.7630 - accuracy: 0.6286 - val_loss: 1.5463 - val_accuracy: 0.4690\n",
      "Epoch 80/400\n",
      "134/134 [==============================] - 5s 36ms/step - loss: 0.7744 - accuracy: 0.6277 - val_loss: 1.5617 - val_accuracy: 0.4643\n",
      "Epoch 81/400\n",
      "134/134 [==============================] - 5s 36ms/step - loss: 0.7638 - accuracy: 0.6317 - val_loss: 1.4915 - val_accuracy: 0.4012\n",
      "Epoch 82/400\n",
      "134/134 [==============================] - 5s 36ms/step - loss: 0.7696 - accuracy: 0.6301 - val_loss: 1.3637 - val_accuracy: 0.4345\n",
      "Epoch 83/400\n",
      "134/134 [==============================] - 5s 36ms/step - loss: 0.7673 - accuracy: 0.6353 - val_loss: 1.7087 - val_accuracy: 0.3393\n",
      "Epoch 84/400\n",
      "134/134 [==============================] - 5s 37ms/step - loss: 0.7395 - accuracy: 0.6434 - val_loss: 1.5585 - val_accuracy: 0.3512\n",
      "Epoch 85/400\n",
      "134/134 [==============================] - 5s 37ms/step - loss: 0.7516 - accuracy: 0.6328 - val_loss: 1.6987 - val_accuracy: 0.3714\n",
      "Epoch 86/400\n",
      "134/134 [==============================] - 5s 37ms/step - loss: 0.7586 - accuracy: 0.6294 - val_loss: 1.5004 - val_accuracy: 0.4310\n",
      "Epoch 87/400\n",
      "134/134 [==============================] - 5s 36ms/step - loss: 0.7389 - accuracy: 0.6450 - val_loss: 1.6745 - val_accuracy: 0.4369\n",
      "Epoch 88/400\n",
      "134/134 [==============================] - 5s 36ms/step - loss: 0.7364 - accuracy: 0.6498 - val_loss: 1.4515 - val_accuracy: 0.3976\n",
      "Epoch 89/400\n",
      "134/134 [==============================] - 5s 37ms/step - loss: 0.7230 - accuracy: 0.6547 - val_loss: 1.5976 - val_accuracy: 0.4690\n",
      "Epoch 90/400\n",
      "134/134 [==============================] - 5s 37ms/step - loss: 0.7383 - accuracy: 0.6414 - val_loss: 1.5732 - val_accuracy: 0.4321\n",
      "Epoch 91/400\n",
      "134/134 [==============================] - 5s 37ms/step - loss: 0.7451 - accuracy: 0.6384 - val_loss: 1.5735 - val_accuracy: 0.3417\n",
      "Epoch 92/400\n",
      "134/134 [==============================] - 5s 36ms/step - loss: 0.7422 - accuracy: 0.6445 - val_loss: 1.7326 - val_accuracy: 0.3190\n",
      "Epoch 93/400\n",
      " 99/134 [=====================>........] - ETA: 1s - loss: 0.7375 - accuracy: 0.6431"
     ]
    },
    {
     "ename": "KeyboardInterrupt",
     "evalue": "",
     "output_type": "error",
     "traceback": [
      "\u001b[1;31m---------------------------------------------------------------------------\u001b[0m",
      "\u001b[1;31mKeyboardInterrupt\u001b[0m                         Traceback (most recent call last)",
      "\u001b[1;32m<ipython-input-564-c2ccd9c59a42>\u001b[0m in \u001b[0;36m<module>\u001b[1;34m\u001b[0m\n\u001b[1;32m----> 1\u001b[1;33m history = model.fit(loadTrain(trainData,sampleSize),steps_per_epoch=stepTrain,\n\u001b[0m\u001b[0;32m      2\u001b[0m              \u001b[0mvalidation_data\u001b[0m\u001b[1;33m=\u001b[0m\u001b[0mloadTrain\u001b[0m\u001b[1;33m(\u001b[0m\u001b[0mnewVal\u001b[0m\u001b[1;33m,\u001b[0m\u001b[0msampleSize\u001b[0m\u001b[1;33m)\u001b[0m\u001b[1;33m,\u001b[0m\u001b[0mvalidation_steps\u001b[0m\u001b[1;33m=\u001b[0m\u001b[0mstepValidate\u001b[0m\u001b[1;33m,\u001b[0m\u001b[1;33m\u001b[0m\u001b[1;33m\u001b[0m\u001b[0m\n\u001b[0;32m      3\u001b[0m              epochs=400, callbacks=cb)\n",
      "\u001b[1;32m~\\AppData\\Roaming\\Python\\Python38\\site-packages\\tensorflow\\python\\keras\\engine\\training.py\u001b[0m in \u001b[0;36mfit\u001b[1;34m(self, x, y, batch_size, epochs, verbose, callbacks, validation_split, validation_data, shuffle, class_weight, sample_weight, initial_epoch, steps_per_epoch, validation_steps, validation_batch_size, validation_freq, max_queue_size, workers, use_multiprocessing)\u001b[0m\n\u001b[0;32m   1181\u001b[0m                 _r=1):\n\u001b[0;32m   1182\u001b[0m               \u001b[0mcallbacks\u001b[0m\u001b[1;33m.\u001b[0m\u001b[0mon_train_batch_begin\u001b[0m\u001b[1;33m(\u001b[0m\u001b[0mstep\u001b[0m\u001b[1;33m)\u001b[0m\u001b[1;33m\u001b[0m\u001b[1;33m\u001b[0m\u001b[0m\n\u001b[1;32m-> 1183\u001b[1;33m               \u001b[0mtmp_logs\u001b[0m \u001b[1;33m=\u001b[0m \u001b[0mself\u001b[0m\u001b[1;33m.\u001b[0m\u001b[0mtrain_function\u001b[0m\u001b[1;33m(\u001b[0m\u001b[0miterator\u001b[0m\u001b[1;33m)\u001b[0m\u001b[1;33m\u001b[0m\u001b[1;33m\u001b[0m\u001b[0m\n\u001b[0m\u001b[0;32m   1184\u001b[0m               \u001b[1;32mif\u001b[0m \u001b[0mdata_handler\u001b[0m\u001b[1;33m.\u001b[0m\u001b[0mshould_sync\u001b[0m\u001b[1;33m:\u001b[0m\u001b[1;33m\u001b[0m\u001b[1;33m\u001b[0m\u001b[0m\n\u001b[0;32m   1185\u001b[0m                 \u001b[0mcontext\u001b[0m\u001b[1;33m.\u001b[0m\u001b[0masync_wait\u001b[0m\u001b[1;33m(\u001b[0m\u001b[1;33m)\u001b[0m\u001b[1;33m\u001b[0m\u001b[1;33m\u001b[0m\u001b[0m\n",
      "\u001b[1;32m~\\AppData\\Roaming\\Python\\Python38\\site-packages\\tensorflow\\python\\eager\\def_function.py\u001b[0m in \u001b[0;36m__call__\u001b[1;34m(self, *args, **kwds)\u001b[0m\n\u001b[0;32m    887\u001b[0m \u001b[1;33m\u001b[0m\u001b[0m\n\u001b[0;32m    888\u001b[0m       \u001b[1;32mwith\u001b[0m \u001b[0mOptionalXlaContext\u001b[0m\u001b[1;33m(\u001b[0m\u001b[0mself\u001b[0m\u001b[1;33m.\u001b[0m\u001b[0m_jit_compile\u001b[0m\u001b[1;33m)\u001b[0m\u001b[1;33m:\u001b[0m\u001b[1;33m\u001b[0m\u001b[1;33m\u001b[0m\u001b[0m\n\u001b[1;32m--> 889\u001b[1;33m         \u001b[0mresult\u001b[0m \u001b[1;33m=\u001b[0m \u001b[0mself\u001b[0m\u001b[1;33m.\u001b[0m\u001b[0m_call\u001b[0m\u001b[1;33m(\u001b[0m\u001b[1;33m*\u001b[0m\u001b[0margs\u001b[0m\u001b[1;33m,\u001b[0m \u001b[1;33m**\u001b[0m\u001b[0mkwds\u001b[0m\u001b[1;33m)\u001b[0m\u001b[1;33m\u001b[0m\u001b[1;33m\u001b[0m\u001b[0m\n\u001b[0m\u001b[0;32m    890\u001b[0m \u001b[1;33m\u001b[0m\u001b[0m\n\u001b[0;32m    891\u001b[0m       \u001b[0mnew_tracing_count\u001b[0m \u001b[1;33m=\u001b[0m \u001b[0mself\u001b[0m\u001b[1;33m.\u001b[0m\u001b[0mexperimental_get_tracing_count\u001b[0m\u001b[1;33m(\u001b[0m\u001b[1;33m)\u001b[0m\u001b[1;33m\u001b[0m\u001b[1;33m\u001b[0m\u001b[0m\n",
      "\u001b[1;32m~\\AppData\\Roaming\\Python\\Python38\\site-packages\\tensorflow\\python\\eager\\def_function.py\u001b[0m in \u001b[0;36m_call\u001b[1;34m(self, *args, **kwds)\u001b[0m\n\u001b[0;32m    915\u001b[0m       \u001b[1;31m# In this case we have created variables on the first call, so we run the\u001b[0m\u001b[1;33m\u001b[0m\u001b[1;33m\u001b[0m\u001b[1;33m\u001b[0m\u001b[0m\n\u001b[0;32m    916\u001b[0m       \u001b[1;31m# defunned version which is guaranteed to never create variables.\u001b[0m\u001b[1;33m\u001b[0m\u001b[1;33m\u001b[0m\u001b[1;33m\u001b[0m\u001b[0m\n\u001b[1;32m--> 917\u001b[1;33m       \u001b[1;32mreturn\u001b[0m \u001b[0mself\u001b[0m\u001b[1;33m.\u001b[0m\u001b[0m_stateless_fn\u001b[0m\u001b[1;33m(\u001b[0m\u001b[1;33m*\u001b[0m\u001b[0margs\u001b[0m\u001b[1;33m,\u001b[0m \u001b[1;33m**\u001b[0m\u001b[0mkwds\u001b[0m\u001b[1;33m)\u001b[0m  \u001b[1;31m# pylint: disable=not-callable\u001b[0m\u001b[1;33m\u001b[0m\u001b[1;33m\u001b[0m\u001b[0m\n\u001b[0m\u001b[0;32m    918\u001b[0m     \u001b[1;32melif\u001b[0m \u001b[0mself\u001b[0m\u001b[1;33m.\u001b[0m\u001b[0m_stateful_fn\u001b[0m \u001b[1;32mis\u001b[0m \u001b[1;32mnot\u001b[0m \u001b[1;32mNone\u001b[0m\u001b[1;33m:\u001b[0m\u001b[1;33m\u001b[0m\u001b[1;33m\u001b[0m\u001b[0m\n\u001b[0;32m    919\u001b[0m       \u001b[1;31m# Release the lock early so that multiple threads can perform the call\u001b[0m\u001b[1;33m\u001b[0m\u001b[1;33m\u001b[0m\u001b[1;33m\u001b[0m\u001b[0m\n",
      "\u001b[1;32m~\\AppData\\Roaming\\Python\\Python38\\site-packages\\tensorflow\\python\\eager\\function.py\u001b[0m in \u001b[0;36m__call__\u001b[1;34m(self, *args, **kwargs)\u001b[0m\n\u001b[0;32m   3021\u001b[0m       (graph_function,\n\u001b[0;32m   3022\u001b[0m        filtered_flat_args) = self._maybe_define_function(args, kwargs)\n\u001b[1;32m-> 3023\u001b[1;33m     return graph_function._call_flat(\n\u001b[0m\u001b[0;32m   3024\u001b[0m         filtered_flat_args, captured_inputs=graph_function.captured_inputs)  # pylint: disable=protected-access\n\u001b[0;32m   3025\u001b[0m \u001b[1;33m\u001b[0m\u001b[0m\n",
      "\u001b[1;32m~\\AppData\\Roaming\\Python\\Python38\\site-packages\\tensorflow\\python\\eager\\function.py\u001b[0m in \u001b[0;36m_call_flat\u001b[1;34m(self, args, captured_inputs, cancellation_manager)\u001b[0m\n\u001b[0;32m   1958\u001b[0m         and executing_eagerly):\n\u001b[0;32m   1959\u001b[0m       \u001b[1;31m# No tape is watching; skip to running the function.\u001b[0m\u001b[1;33m\u001b[0m\u001b[1;33m\u001b[0m\u001b[1;33m\u001b[0m\u001b[0m\n\u001b[1;32m-> 1960\u001b[1;33m       return self._build_call_outputs(self._inference_function.call(\n\u001b[0m\u001b[0;32m   1961\u001b[0m           ctx, args, cancellation_manager=cancellation_manager))\n\u001b[0;32m   1962\u001b[0m     forward_backward = self._select_forward_and_backward_functions(\n",
      "\u001b[1;32m~\\AppData\\Roaming\\Python\\Python38\\site-packages\\tensorflow\\python\\eager\\function.py\u001b[0m in \u001b[0;36mcall\u001b[1;34m(self, ctx, args, cancellation_manager)\u001b[0m\n\u001b[0;32m    589\u001b[0m       \u001b[1;32mwith\u001b[0m \u001b[0m_InterpolateFunctionError\u001b[0m\u001b[1;33m(\u001b[0m\u001b[0mself\u001b[0m\u001b[1;33m)\u001b[0m\u001b[1;33m:\u001b[0m\u001b[1;33m\u001b[0m\u001b[1;33m\u001b[0m\u001b[0m\n\u001b[0;32m    590\u001b[0m         \u001b[1;32mif\u001b[0m \u001b[0mcancellation_manager\u001b[0m \u001b[1;32mis\u001b[0m \u001b[1;32mNone\u001b[0m\u001b[1;33m:\u001b[0m\u001b[1;33m\u001b[0m\u001b[1;33m\u001b[0m\u001b[0m\n\u001b[1;32m--> 591\u001b[1;33m           outputs = execute.execute(\n\u001b[0m\u001b[0;32m    592\u001b[0m               \u001b[0mstr\u001b[0m\u001b[1;33m(\u001b[0m\u001b[0mself\u001b[0m\u001b[1;33m.\u001b[0m\u001b[0msignature\u001b[0m\u001b[1;33m.\u001b[0m\u001b[0mname\u001b[0m\u001b[1;33m)\u001b[0m\u001b[1;33m,\u001b[0m\u001b[1;33m\u001b[0m\u001b[1;33m\u001b[0m\u001b[0m\n\u001b[0;32m    593\u001b[0m               \u001b[0mnum_outputs\u001b[0m\u001b[1;33m=\u001b[0m\u001b[0mself\u001b[0m\u001b[1;33m.\u001b[0m\u001b[0m_num_outputs\u001b[0m\u001b[1;33m,\u001b[0m\u001b[1;33m\u001b[0m\u001b[1;33m\u001b[0m\u001b[0m\n",
      "\u001b[1;32m~\\AppData\\Roaming\\Python\\Python38\\site-packages\\tensorflow\\python\\eager\\execute.py\u001b[0m in \u001b[0;36mquick_execute\u001b[1;34m(op_name, num_outputs, inputs, attrs, ctx, name)\u001b[0m\n\u001b[0;32m     57\u001b[0m   \u001b[1;32mtry\u001b[0m\u001b[1;33m:\u001b[0m\u001b[1;33m\u001b[0m\u001b[1;33m\u001b[0m\u001b[0m\n\u001b[0;32m     58\u001b[0m     \u001b[0mctx\u001b[0m\u001b[1;33m.\u001b[0m\u001b[0mensure_initialized\u001b[0m\u001b[1;33m(\u001b[0m\u001b[1;33m)\u001b[0m\u001b[1;33m\u001b[0m\u001b[1;33m\u001b[0m\u001b[0m\n\u001b[1;32m---> 59\u001b[1;33m     tensors = pywrap_tfe.TFE_Py_Execute(ctx._handle, device_name, op_name,\n\u001b[0m\u001b[0;32m     60\u001b[0m                                         inputs, attrs, num_outputs)\n\u001b[0;32m     61\u001b[0m   \u001b[1;32mexcept\u001b[0m \u001b[0mcore\u001b[0m\u001b[1;33m.\u001b[0m\u001b[0m_NotOkStatusException\u001b[0m \u001b[1;32mas\u001b[0m \u001b[0me\u001b[0m\u001b[1;33m:\u001b[0m\u001b[1;33m\u001b[0m\u001b[1;33m\u001b[0m\u001b[0m\n",
      "\u001b[1;31mKeyboardInterrupt\u001b[0m: "
     ]
    }
   ],
   "source": [
    "history = model.fit(loadTrain(trainData,sampleSize),steps_per_epoch=stepTrain,\n",
    "             validation_data=loadTrain(newVal,sampleSize),validation_steps=stepValidate,\n",
    "             epochs=400, callbacks=cb)"
   ]
  },
  {
   "cell_type": "code",
   "execution_count": 556,
   "id": "b8471574",
   "metadata": {},
   "outputs": [
    {
     "name": "stdout",
     "output_type": "stream",
     "text": [
      "WARNING:tensorflow:Unresolved object in checkpoint: (root).optimizer.iter\n",
      "WARNING:tensorflow:Unresolved object in checkpoint: (root).optimizer.decay\n",
      "WARNING:tensorflow:Unresolved object in checkpoint: (root).optimizer.learning_rate\n",
      "WARNING:tensorflow:Unresolved object in checkpoint: (root).optimizer.momentum\n",
      "WARNING:tensorflow:A checkpoint was restored (e.g. tf.train.Checkpoint.restore or tf.keras.Model.load_weights) but not all checkpointed values were used. See above for specific issues. Use expect_partial() on the load status object, e.g. tf.train.Checkpoint.restore(...).expect_partial(), to silence these warnings, or use assert_consumed() to make the check explicit. See https://www.tensorflow.org/guide/checkpoint#loading_mechanics for details.\n",
      "INFO:tensorflow:Assets written to: E:\\rawLFP_v5n_tunning\\assets\n"
     ]
    }
   ],
   "source": [
    "## Saving the model\n",
    "##\n",
    "model.save('E:\\\\'+modelName)\n",
    "model.save_weights('E:\\\\'+modelName+'_weights.h5')"
   ]
  },
  {
   "cell_type": "code",
   "execution_count": 489,
   "id": "3b370f98",
   "metadata": {},
   "outputs": [
    {
     "data": {
      "image/png": "[encoded data removed]",
      "text/plain": [
       "<Figure size 432x288 with 1 Axes>"
      ]
     },
     "metadata": {
      "needs_background": "light"
     },
     "output_type": "display_data"
    }
   ],
   "source": [
    "plt.plot(history.history['accuracy'])\n",
    "\n",
    "plt.plot(history.history['val_accuracy'])# history.history\n",
    "plt.savefig(\"E:\\\\NN\\\\\"+modelName+\"_history.png\")"
   ]
  },
  {
   "cell_type": "code",
   "execution_count": 479,
   "id": "9ab2ae00",
   "metadata": {},
   "outputs": [
    {
     "data": {
      "image/png": "[encoded data removed]",
      "text/plain": [
       "<Figure size 432x288 with 1 Axes>"
      ]
     },
     "metadata": {
      "needs_background": "light"
     },
     "output_type": "display_data"
    }
   ],
   "source": [
    "plt.plot(history.history['loss'])\n",
    "\n",
    "plt.plot(history.history['val_loss'])# history.history\n",
    "plt.savefig(\"E:\\\\NN\\\\\"+modelName+\"_loss.png\")"
   ]
  },
  {
   "cell_type": "code",
   "execution_count": 570,
   "id": "808e9d88",
   "metadata": {},
   "outputs": [
    {
     "name": "stdout",
     "output_type": "stream",
     "text": [
      "152/152 [==============================] - 1s 5ms/step\n",
      "[0 1 2]\n"
     ]
    }
   ],
   "source": [
    "# model =  tf.keras.models.load_model('E:\\\\caOnly_v1')\n",
    "# model.compile(optimizer='adam',\n",
    "#               loss=tf.keras.losses.SparseCategoricalCrossentropy(from_logits=True),\n",
    "#               metrics=['accuracy'])\n",
    "# model.load_weights(\"E:\\\\caOnly_v1_weights.h5\")\n",
    "\n",
    "# labels = (train_generator.class_indices)\n",
    "pred = model.predict_generator(loadTest(testData),verbose=1)\n",
    "pred = np.argmax(pred,axis=1)\n",
    "print(np.unique(pred))\n",
    "\n",
    "y = []\n",
    "for ind,(dataP,label) in enumerate(loadTest(testData)):\n",
    "    y = y+list(np.argmax(label,axis=1))\n",
    "# print(pred[1:100],y[1:100])"
   ]
  },
  {
   "cell_type": "code",
   "execution_count": 571,
   "id": "0ca3f6c2",
   "metadata": {},
   "outputs": [
    {
     "name": "stdout",
     "output_type": "stream",
     "text": [
      "0.4948604992657856\n"
     ]
    },
    {
     "data": {
      "image/png": "[encoded data removed]",
      "text/plain": [
       "<Figure size 576x576 with 2 Axes>"
      ]
     },
     "metadata": {
      "needs_background": "light"
     },
     "output_type": "display_data"
    }
   ],
   "source": [
    "classes=['Healthy','Acute','Chronic']\n",
    "con_mat = tf.math.confusion_matrix(labels=y, predictions=pred).numpy()\n",
    "con_mat_norm = np.around(con_mat.astype('float') / con_mat.sum(axis=1)[:, np.newaxis], decimals=2)\n",
    "\n",
    "con_mat_df = pd.DataFrame(con_mat_norm,\n",
    "                     index = classes, \n",
    "                     columns = classes)\n",
    "figure = plt.figure(figsize=(8, 8))\n",
    "sns.heatmap(con_mat_df, annot=True,cmap=plt.cm.Blues)\n",
    "plt.tight_layout()\n",
    "plt.title(modelName +\"- on test dataset. Accuracy: {acc:f}\".format(acc=np.sum(y==pred)/len(y)))\n",
    "plt.ylabel('True label')\n",
    "plt.xlabel('Predicted label')\n",
    "plt.savefig(\"E:\\\\NN\\\\\"+modelName+\"_confusionOnTest_Test.png\")\n",
    "print(np.sum(y==pred)/len(y))"
   ]
  },
  {
   "cell_type": "code",
   "execution_count": 572,
   "id": "ba8e946d",
   "metadata": {},
   "outputs": [
    {
     "name": "stdout",
     "output_type": "stream",
     "text": [
      "100/100 [==============================] - 1s 6ms/step\n",
      "[0 1 2]\n"
     ]
    }
   ],
   "source": [
    "# model =  tf.keras.models.load_model('E:\\\\caOnly_v1')\n",
    "# model.compile(optimizer='adam',\n",
    "#               loss=tf.keras.losses.SparseCategoricalCrossentropy(from_logits=True),\n",
    "#               metrics=['accuracy'])\n",
    "# model.load_weights(\"E:\\\\caOnly_v1_weights.h5\")\n",
    "\n",
    "# labels = (train_generator.class_indices)\n",
    "pred = model.predict_generator(loadTest(validate),verbose=1)\n",
    "pred = np.argmax(pred,axis=1)\n",
    "print(np.unique(pred))\n",
    "\n",
    "y = []\n",
    "for ind,(dataP,label) in enumerate(loadTest(validate)):\n",
    "    y = y+list(np.argmax(label,axis=1))\n",
    "# print(pred[1:100],y[1:100])"
   ]
  },
  {
   "cell_type": "code",
   "execution_count": 573,
   "id": "09899d47",
   "metadata": {},
   "outputs": [
    {
     "name": "stdout",
     "output_type": "stream",
     "text": [
      "0.4659977703455964\n"
     ]
    },
    {
     "data": {
      "image/png": "[encoded data removed]",
      "text/plain": [
       "<Figure size 576x576 with 2 Axes>"
      ]
     },
     "metadata": {
      "needs_background": "light"
     },
     "output_type": "display_data"
    }
   ],
   "source": [
    "classes=['Healthy','Acute','Chronic']\n",
    "con_mat = tf.math.confusion_matrix(labels=y, predictions=pred).numpy()\n",
    "con_mat_norm = np.around(con_mat.astype('float') / con_mat.sum(axis=1)[:, np.newaxis], decimals=2)\n",
    "\n",
    "con_mat_df = pd.DataFrame(con_mat_norm,\n",
    "                     index = classes, \n",
    "                     columns = classes)\n",
    "figure = plt.figure(figsize=(8, 8))\n",
    "sns.heatmap(con_mat_df, annot=True,cmap=plt.cm.Blues)\n",
    "plt.tight_layout()\n",
    "plt.title(modelName +\"- on test dataset. Accuracy: {acc:f}\".format(acc=np.sum(y==pred)/len(y)))\n",
    "plt.ylabel('True label')\n",
    "plt.xlabel('Predicted label')\n",
    "plt.savefig(\"E:\\\\NN\\\\\"+modelName+\"_confusionOnTest_val.png\")\n",
    "print(np.sum(y==pred)/len(y))"
   ]
  },
  {
   "cell_type": "code",
   "execution_count": 574,
   "id": "09f7159e",
   "metadata": {},
   "outputs": [
    {
     "name": "stdout",
     "output_type": "stream",
     "text": [
      "896/896 [==============================] - 4s 5ms/step\n",
      "[0 1 2]\n"
     ]
    }
   ],
   "source": [
    "# model =  tf.keras.models.load_model('E:\\\\caOnly_v1')\n",
    "# model.compile(optimizer='adam',\n",
    "#               loss=tf.keras.losses.SparseCategoricalCrossentropy(from_logits=True),\n",
    "#               metrics=['accuracy'])\n",
    "# model.load_weights(\"E:\\\\caOnly_v1_weights.h5\")\n",
    "\n",
    "# labels = (train_generator.class_indices)\n",
    "pred = model.predict_generator(loadTest(trainData),verbose=1)\n",
    "pred = np.argmax(pred,axis=1)\n",
    "print(np.unique(pred))\n",
    "\n",
    "y = []\n",
    "for ind,(dataP,label) in enumerate(loadTest(trainData)):\n",
    "    y = y+list(np.argmax(label,axis=1))\n",
    "# print(pred[1:100],y[1:100])"
   ]
  },
  {
   "cell_type": "code",
   "execution_count": 575,
   "id": "a22fa992",
   "metadata": {},
   "outputs": [
    {
     "name": "stdout",
     "output_type": "stream",
     "text": [
      "0.46986607142857145\n"
     ]
    },
    {
     "data": {
      "image/png": "[encoded data removed]",
      "text/plain": [
       "<Figure size 576x576 with 2 Axes>"
      ]
     },
     "metadata": {
      "needs_background": "light"
     },
     "output_type": "display_data"
    }
   ],
   "source": [
    "classes=['Healthy','Acute','Chronic']\n",
    "con_mat = tf.math.confusion_matrix(labels=y, predictions=pred).numpy()\n",
    "con_mat_norm = np.around(con_mat.astype('float') / con_mat.sum(axis=1)[:, np.newaxis], decimals=2)\n",
    "\n",
    "con_mat_df = pd.DataFrame(con_mat_norm,\n",
    "                     index = classes, \n",
    "                     columns = classes)\n",
    "figure = plt.figure(figsize=(8, 8))\n",
    "sns.heatmap(con_mat_df, annot=True,cmap=plt.cm.Blues)\n",
    "plt.tight_layout()\n",
    "plt.title(modelName +\"- on train dataset. Accuracy: {acc:f}\".format(acc=np.sum(y==pred)/len(y)))\n",
    "plt.ylabel('True label')\n",
    "plt.xlabel('Predicted label')\n",
    "plt.savefig(\"E:\\\\NN\\\\\"+modelName+\"_confusionOnTest_Train.png\")\n",
    "print(np.sum(y==pred)/len(y))"
   ]
  },
  {
   "cell_type": "code",
   "execution_count": 71,
   "id": "6b67399e",
   "metadata": {},
   "outputs": [
    {
     "name": "stdout",
     "output_type": "stream",
     "text": [
      "567/567 [==============================] - 89s 157ms/step\n",
      "[0 1 2]\n"
     ]
    }
   ],
   "source": [
    "# model =  tf.keras.models.load_model('E:\\\\caOnly_v1')\n",
    "# model.compile(optimizer='adam',\n",
    "#               loss=tf.keras.losses.SparseCategoricalCrossentropy(from_logits=True),\n",
    "#               metrics=['accuracy'])\n",
    "# model.load_weights(\"E:\\\\caOnly_v1_weights.h5\")\n",
    "\n",
    "# train_datagenT = tf.keras.preprocessing.image.ImageDataGenerator(rescale=1./255)\n",
    "# train_generatorT = train_datagenT.flow_from_directory(\n",
    "#     directory=\"E:\\\\data\\\\Train\\\\\",#'E:\\\\data\\\\imageTest\\\\training_set\\\\',#\n",
    "#     target_size=(300, 300),\n",
    "#     color_mode=\"grayscale\",\n",
    "#     batch_size=32,\n",
    "#     class_mode=\"categorical\",\n",
    "#     shuffle=False,\n",
    "#     seed=36\n",
    "# )\n",
    "\n",
    "\n",
    "labels = (train_generator.class_indices)\n",
    "pred = model.predict_generator(train_generatorT,verbose=1)\n",
    "pred = np.argmax(pred,axis=1)\n",
    "print(np.unique(pred))\n",
    "\n",
    "y = []\n",
    "for f in train_generatorT.filenames:\n",
    "    sess = f.split(\"_\")[1]\n",
    "    if sess[0] == 'B':\n",
    "        day = 0\n",
    "    else:\n",
    "        day = int(re.findall(r'\\d+',sess)[0])\n",
    "\n",
    "    # get data\n",
    "    period = periodCalc(day) \n",
    "    y.append(labels[period])"
   ]
  },
  {
   "cell_type": "code",
   "execution_count": 73,
   "id": "71a07908",
   "metadata": {},
   "outputs": [
    {
     "data": {
      "image/png": "[encoded data removed]",
      "text/plain": [
       "<Figure size 576x576 with 2 Axes>"
      ]
     },
     "metadata": {
      "needs_background": "light"
     },
     "output_type": "display_data"
    }
   ],
   "source": [
    "classes=labels.keys()\n",
    "con_mat = tf.math.confusion_matrix(labels=y, predictions=pred).numpy()\n",
    "con_mat_norm = np.around(con_mat.astype('float') / con_mat.sum(axis=1)[:, np.newaxis], decimals=2)\n",
    "\n",
    "con_mat_df = pd.DataFrame(con_mat_norm,\n",
    "                     index = classes, \n",
    "                     columns = classes)\n",
    "figure = plt.figure(figsize=(8, 8))\n",
    "sns.heatmap(con_mat_df, annot=True,cmap=plt.cm.Blues)\n",
    "plt.tight_layout()\n",
    "plt.title(modelName +\"- on train dataset. Accuracy: {acc:f}\".format(acc=np.sum(y==pred)/len(y)))\n",
    "plt.ylabel('True label')\n",
    "plt.xlabel('Predicted label')\n",
    "plt.savefig(\"E:\\\\NN\\\\\"+modelName+\"_confusionOnTest_Train.png\")\n"
   ]
  },
  {
   "cell_type": "code",
   "execution_count": 61,
   "id": "4f88aa37",
   "metadata": {},
   "outputs": [
    {
     "name": "stdout",
     "output_type": "stream",
     "text": [
      "567/567 [==============================] - 89s 157ms/step - loss: 3.5345e-04 - accuracy: 1.0000\n",
      "[0.00035344576463103294, 1.0]\n"
     ]
    }
   ],
   "source": [
    "score = model.evaluate(train_generatorT)\n",
    "print(score)"
   ]
  },
  {
   "cell_type": "code",
   "execution_count": 56,
   "id": "823d27a5",
   "metadata": {},
   "outputs": [
    {
     "name": "stdout",
     "output_type": "stream",
     "text": [
      "567/567 [==============================] - 89s 157ms/step\n"
     ]
    },
    {
     "data": {
      "text/plain": [
       "(18130, 3)"
      ]
     },
     "execution_count": 56,
     "metadata": {},
     "output_type": "execute_result"
    }
   ],
   "source": [
    "pred = model.predict_generator(train_generator,verbose=1)\n",
    "pred.shape"
   ]
  },
  {
   "cell_type": "code",
   "execution_count": 57,
   "id": "f72b53ca",
   "metadata": {},
   "outputs": [
    {
     "data": {
      "text/plain": [
       "array([[9.9993336e-01, 6.6623645e-05, 2.0047966e-09],\n",
       "       [1.0000000e+00, 1.3673330e-08, 4.0443326e-10],\n",
       "       [3.7493074e-08, 1.0000000e+00, 1.9402356e-11],\n",
       "       [3.0466440e-04, 9.9913293e-01, 5.6242698e-04]], dtype=float32)"
      ]
     },
     "execution_count": 57,
     "metadata": {},
     "output_type": "execute_result"
    }
   ],
   "source": [
    "train_generatorT = train_datagen.flow_from_directory(\n",
    "    directory=\"E:\\\\data\\\\Train\\\\\",#'E:\\\\data\\\\imageTest\\\\training_set\\\\',#\n",
    "    target_size=(300, 300),\n",
    "    color_mode=\"grayscale\",\n",
    "    batch_size=32,\n",
    "    class_mode=\"categorical\",\n",
    "    shuffle=False,\n",
    "    seed=36\n",
    ")\n"
   ]
  },
  {
   "cell_type": "code",
   "execution_count": 85,
   "id": "5ec9f784",
   "metadata": {},
   "outputs": [
    {
     "data": {
      "image/png": "[encoded data removed]",
      "text/plain": [
       "<Figure size 432x288 with 1 Axes>"
      ]
     },
     "metadata": {
      "needs_background": "light"
     },
     "output_type": "display_data"
    }
   ],
   "source": [
    "%matplotlib inline\n",
    "for d,l in train_generator:\n",
    "    plt.imshow(d[16,:,:,0])\n",
    "    break"
   ]
  }
 ],
 "metadata": {
  "kernelspec": {
   "display_name": "Python 3",
   "language": "python",
   "name": "python3"
  },
  "language_info": {
   "codemirror_mode": {
    "name": "ipython",
    "version": 3
   },
   "file_extension": ".py",
   "mimetype": "text/x-python",
   "name": "python",
   "nbconvert_exporter": "python",
   "pygments_lexer": "ipython3",
   "version": "3.8.10"
  }
 },
 "nbformat": 4,
 "nbformat_minor": 5
}
