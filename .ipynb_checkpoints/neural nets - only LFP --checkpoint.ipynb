{
 "cells": [
  {
   "cell_type": "code",
   "execution_count": 2,
   "id": "929a0299",
   "metadata": {},
   "outputs": [],
   "source": [
    "#since noteboke doesn't work in jupiterlabs    %matplotlib notebook \n",
    "%matplotlib inline \n",
    "%load_ext autoreload\n",
    "%autoreload 2"
   ]
  },
  {
   "cell_type": "code",
   "execution_count": 3,
   "id": "2904af6b",
   "metadata": {
    "scrolled": true
   },
   "outputs": [],
   "source": [
    "import tensorflow as tf\n",
    "import os\n",
    "# os.environ['PATH'] += os.pathsep + 'D:\\\\6OHDA\\\\'\n",
    "import numpy as np\n",
    "import scipy as sci\n",
    "from IO import *\n",
    "from utils import *\n",
    "import re\n",
    "from tqdm import tqdm\n",
    "\n",
    "from tensorflow.keras.models import Sequential, load_model\n",
    "from tensorflow.keras.layers import Input\n",
    "from tensorflow.keras.layers import Dense, Dropout, Activation, Flatten, Concatenate\n",
    "from tensorflow.keras.layers import Convolution2D, MaxPooling2D,Conv2D, Conv1D,MaxPooling1D\n",
    "# from tensorflow.keras.layers.core import Lambda\n",
    "import tensorflow.keras.optimizers as optimizers\n",
    "from tensorflow.keras import regularizers\n",
    "from tensorflow.keras import backend as K\n",
    "from tensorflow.keras.models import Model\n",
    "\n",
    "from matplotlib import pyplot as plt\n",
    "from matplotlib import gridspec\n",
    "import seaborn as sns\n",
    "\n",
    "import pickle\n",
    "import random\n",
    "# import png"
   ]
  },
  {
   "cell_type": "code",
   "execution_count": 4,
   "id": "651e941a",
   "metadata": {},
   "outputs": [
    {
     "name": "stdout",
     "output_type": "stream",
     "text": [
      "[name: \"/device:CPU:0\"\n",
      "device_type: \"CPU\"\n",
      "memory_limit: 268435456\n",
      "locality {\n",
      "}\n",
      "incarnation: 7078543916600018029\n",
      ", name: \"/device:GPU:0\"\n",
      "device_type: \"GPU\"\n",
      "memory_limit: 10091102208\n",
      "locality {\n",
      "  bus_id: 1\n",
      "  links {\n",
      "  }\n",
      "}\n",
      "incarnation: 13090889638799611344\n",
      "physical_device_desc: \"device: 0, name: GeForce GTX 1080 Ti, pci bus id: 0000:17:00.0, compute capability: 6.1\"\n",
      ", name: \"/device:GPU:1\"\n",
      "device_type: \"GPU\"\n",
      "memory_limit: 10091102208\n",
      "locality {\n",
      "  bus_id: 1\n",
      "  links {\n",
      "  }\n",
      "}\n",
      "incarnation: 11361810148654009147\n",
      "physical_device_desc: \"device: 1, name: GeForce GTX 1080 Ti, pci bus id: 0000:65:00.0, compute capability: 6.1\"\n",
      "]\n"
     ]
    },
    {
     "data": {
      "text/plain": [
       "[PhysicalDevice(name='/physical_device:CPU:0', device_type='CPU'),\n",
       " PhysicalDevice(name='/physical_device:GPU:0', device_type='GPU'),\n",
       " PhysicalDevice(name='/physical_device:GPU:1', device_type='GPU')]"
      ]
     },
     "execution_count": 4,
     "metadata": {},
     "output_type": "execute_result"
    }
   ],
   "source": [
    "from tensorflow.python.client import device_lib\n",
    "print(device_lib.list_local_devices())\n",
    "tf.config.list_physical_devices()"
   ]
  },
  {
   "cell_type": "code",
   "execution_count": 5,
   "id": "dabf073e",
   "metadata": {},
   "outputs": [],
   "source": [
    "Files = ['FinalData_6OHDA.h5','FinalData_6OHDA_H.h5']\n",
    "#miceList.remove('1253')\n",
    "#miceList.remove('1231')\n",
    "def periodCalc(day):\n",
    "    if day== 0:\n",
    "        return 'Healthy'\n",
    "    elif day<13:\n",
    "        return 'Acute' #day 1-13\n",
    "    else:\n",
    "        return 'Chronic' #day 14-35"
   ]
  },
  {
   "cell_type": "code",
   "execution_count": 103,
   "id": "2e69ab06",
   "metadata": {},
   "outputs": [
    {
     "name": "stdout",
     "output_type": "stream",
     "text": [
      "['1231', '1253', '2980', '4539', '7584', '1208', '7909', '1222', '1793', '0761', '8815', '8430'] ['8803', '2976'] ['1236', '2981']\n"
     ]
    }
   ],
   "source": [
    "miceList = getMiceList(Files[0])\n",
    "miceList.remove('1253')\n",
    "miceList.remove('1231')\n",
    "mOrder = np.random.permutation(len(miceList))\n",
    "\n",
    "mTrain = ['1231', '1253']\n",
    "mValidate =[miceList[i] for i in mOrder[:2]]\n",
    "mTest =  [miceList[i] for i in mOrder[2:4]]\n",
    "mTrain = mTrain+ [miceList[i] for i in mOrder[4:]]\n",
    "\n",
    "print(mTrain,mValidate,mTest)\n",
    "# print(miceList[mOrder[:2]])"
   ]
  },
  {
   "cell_type": "code",
   "execution_count": 104,
   "id": "1ed1fb32",
   "metadata": {},
   "outputs": [],
   "source": [
    "# create and save the LFP images so can do flow from directory\n",
    "savePath = \"E:\\\\data\\\\\"\n",
    "for g in ['Train','Validate','Test']:\n",
    "    if not os.path.isdir(savePath+g):\n",
    "            os.mkdir(savePath+g)\n",
    "    sPath = savePath+g+\"\\\\\"\n",
    "    if g=='Test':\n",
    "        os.mkdir(sPath+'unlabeled')\n",
    "    else:\n",
    "        for cond in ['Healthy','Acute','Chronic']:\n",
    "            if not os.path.isdir(sPath+cond):\n",
    "                os.mkdir(sPath+cond)\n"
   ]
  },
  {
   "cell_type": "code",
   "execution_count": 124,
   "id": "b72ca33a",
   "metadata": {
    "scrolled": false
   },
   "outputs": [
    {
     "name": "stderr",
     "output_type": "stream",
     "text": [
      "\r",
      "  0%|                                                                                            | 0/2 [00:00<?, ?it/s]"
     ]
    },
    {
     "name": "stdout",
     "output_type": "stream",
     "text": [
      "cleaning up lfp data\n",
      "cleaning up speed data\n",
      "found  1.0  outlier points\n",
      "found  888231.0  outlier points\n",
      "found  481139.0  outlier points\n"
     ]
    },
    {
     "name": "stderr",
     "output_type": "stream",
     "text": [
      "\r",
      " 50%|█████████████████████████████████████████                                         | 1/2 [17:08<17:08, 1028.29s/it]"
     ]
    },
    {
     "name": "stdout",
     "output_type": "stream",
     "text": [
      "cleaning up lfp data\n",
      "cleaning up speed data\n",
      "found  50.0  outlier points\n"
     ]
    },
    {
     "name": "stderr",
     "output_type": "stream",
     "text": [
      "100%|██████████████████████████████████████████████████████████████████████████████████| 2/2 [34:15<00:00, 1027.90s/it]\n",
      "  0%|                                                                                            | 0/2 [00:00<?, ?it/s]"
     ]
    },
    {
     "name": "stdout",
     "output_type": "stream",
     "text": [
      "cleaning up lfp data\n",
      "cleaning up speed data\n"
     ]
    },
    {
     "name": "stderr",
     "output_type": "stream",
     "text": [
      "\r",
      " 50%|█████████████████████████████████████████                                         | 1/2 [18:02<18:02, 1082.03s/it]"
     ]
    },
    {
     "name": "stdout",
     "output_type": "stream",
     "text": [
      "cleaning up lfp data\n",
      "I deleted session: 2976_day4\n",
      "cleaning up speed data\n",
      "found  1.0  outlier points\n",
      "found  3.0  outlier points\n"
     ]
    },
    {
     "name": "stderr",
     "output_type": "stream",
     "text": [
      "100%|██████████████████████████████████████████████████████████████████████████████████| 2/2 [35:07<00:00, 1053.78s/it]\n",
      "  0%|                                                                                           | 0/12 [00:00<?, ?it/s]"
     ]
    },
    {
     "name": "stdout",
     "output_type": "stream",
     "text": [
      "cleaning up lfp data\n",
      "cleaning up speed data\n"
     ]
    },
    {
     "name": "stderr",
     "output_type": "stream",
     "text": [
      "\r",
      "  8%|██████▊                                                                           | 1/12 [03:55<43:13, 235.80s/it]"
     ]
    },
    {
     "name": "stdout",
     "output_type": "stream",
     "text": [
      "cleaning up lfp data\n",
      "cleaning up speed data\n"
     ]
    },
    {
     "name": "stderr",
     "output_type": "stream",
     "text": [
      "\r",
      " 17%|█████████████▋                                                                    | 2/12 [07:51<39:15, 235.56s/it]"
     ]
    },
    {
     "name": "stdout",
     "output_type": "stream",
     "text": [
      "cleaning up lfp data\n",
      "cleaning up speed data\n"
     ]
    },
    {
     "name": "stderr",
     "output_type": "stream",
     "text": [
      "\r",
      " 25%|████████████████████                                                            | 3/12 [24:51<1:29:04, 593.88s/it]"
     ]
    },
    {
     "name": "stdout",
     "output_type": "stream",
     "text": [
      "cleaning up lfp data\n",
      "cleaning up speed data\n",
      "found  29.0  outlier points\n"
     ]
    },
    {
     "name": "stderr",
     "output_type": "stream",
     "text": [
      "\r",
      " 33%|██████████████████████████▋                                                     | 4/12 [48:26<2:02:23, 917.98s/it]"
     ]
    },
    {
     "name": "stdout",
     "output_type": "stream",
     "text": [
      "cleaning up lfp data\n",
      "cleaning up speed data\n"
     ]
    },
    {
     "name": "stderr",
     "output_type": "stream",
     "text": [
      "\r",
      " 42%|████████████████████████████████                                             | 5/12 [1:10:30<2:04:11, 1064.56s/it]"
     ]
    },
    {
     "name": "stdout",
     "output_type": "stream",
     "text": [
      "cleaning up lfp data\n",
      "I deleted session: 1208_day12\n",
      "cleaning up speed data\n",
      "found  17.0  outlier points\n"
     ]
    },
    {
     "name": "stderr",
     "output_type": "stream",
     "text": [
      "\r",
      " 50%|██████████████████████████████████████▌                                      | 6/12 [1:27:23<1:44:40, 1046.82s/it]"
     ]
    },
    {
     "name": "stdout",
     "output_type": "stream",
     "text": [
      "cleaning up lfp data\n",
      "cleaning up speed data\n"
     ]
    },
    {
     "name": "stderr",
     "output_type": "stream",
     "text": [
      "\r",
      " 58%|████████████████████████████████████████████▉                                | 7/12 [1:52:09<1:39:13, 1190.65s/it]"
     ]
    },
    {
     "name": "stdout",
     "output_type": "stream",
     "text": [
      "cleaning up lfp data\n",
      "cleaning up speed data\n"
     ]
    },
    {
     "name": "stderr",
     "output_type": "stream",
     "text": [
      "\r",
      " 67%|███████████████████████████████████████████████████▎                         | 8/12 [2:10:35<1:17:33, 1163.45s/it]"
     ]
    },
    {
     "name": "stdout",
     "output_type": "stream",
     "text": [
      "cleaning up lfp data\n",
      "cleaning up speed data\n"
     ]
    },
    {
     "name": "stderr",
     "output_type": "stream",
     "text": [
      "\r",
      " 75%|███████████████████████████████████████████████████████████▎                   | 9/12 [2:28:29<56:46, 1135.60s/it]"
     ]
    },
    {
     "name": "stdout",
     "output_type": "stream",
     "text": [
      "cleaning up lfp data\n",
      "cleaning up speed data\n"
     ]
    },
    {
     "name": "stderr",
     "output_type": "stream",
     "text": [
      "\r",
      " 83%|█████████████████████████████████████████████████████████████████             | 10/12 [2:46:57<37:34, 1127.17s/it]"
     ]
    },
    {
     "name": "stdout",
     "output_type": "stream",
     "text": [
      "cleaning up lfp data\n",
      "cleaning up speed data\n"
     ]
    },
    {
     "name": "stderr",
     "output_type": "stream",
     "text": [
      "\r",
      " 92%|███████████████████████████████████████████████████████████████████████▌      | 11/12 [3:05:18<18:38, 1118.98s/it]"
     ]
    },
    {
     "name": "stdout",
     "output_type": "stream",
     "text": [
      "cleaning up lfp data\n",
      "cleaning up speed data\n"
     ]
    },
    {
     "name": "stderr",
     "output_type": "stream",
     "text": [
      "100%|██████████████████████████████████████████████████████████████████████████████| 12/12 [3:22:18<00:00, 1011.56s/it]\n"
     ]
    }
   ],
   "source": [
    "# add speed data:\n",
    "f = sci.interpolate.interp1d(x, speed,kind='linear')\n",
    "\n",
    "from matplotlib import image as pltI\n",
    "savePath = \"E:\\\\data\\\\\"\n",
    "dtL = 0.0032768\n",
    "tPlot = np.linspace(-8,8,int(16/dtL-1))\n",
    "f = h5py.File('D:\\\\6OHDA\\\\Spectograms.hdf5','r') \n",
    "for g in ['Test','Validate','Train']: #'Train','Validate',\n",
    "    mList = eval(\"m\"+g)\n",
    "    sPath = savePath+g+\"\\\\\"\n",
    "    for m in tqdm(mList):\n",
    "        data =  getData(Files[0],['lfp','speed'],period ='Pre', mice=m)\n",
    "        for sess in data:\n",
    "            if sess[5] == 'B':\n",
    "                day = 0\n",
    "            else:\n",
    "                day = int(re.findall(r'\\d+',sess[5:])[0])\n",
    "\n",
    "            # get data\n",
    "            speed = data[sess]['speed']['speed']\n",
    "            Cat = np.arrange(len(speed))*0.05\n",
    "            period = periodCalc(day)\n",
    "            freq = f[m][sess]['Pre']['freq'][:]\n",
    "            coeff = np.abs(f[m][sess]['Pre']['coeff'][:])\n",
    "            lfpOutliers = removeLFPOutliers(data[sess]['lfp']['lfp'], sess)\n",
    "            coeff = coeff[:,(lfpOutliers[:,0]==0)]\n",
    "            coeff = coeff.T*freq\n",
    "            Hs = np.nansum(coeff, axis=1)\n",
    "            coeff = coeff.T/Hs.T\n",
    "            coeff = coeff.T\n",
    "            a = sci.signal.decimate(coeff,10,axis=0)\n",
    "            del coeff\n",
    "            A = [a[i : i + tPlot.shape[0],:] for i in range(0, a.shape[0],int(np.ceil(2/dtL)))] \n",
    "            if g == 'Test':\n",
    "                sPathSess = sPath + 'unlabeled\\\\'\n",
    "            else:\n",
    "                sPathSess = sPath +period+'\\\\'\n",
    "            for ind,img in enumerate(A):\n",
    "                z = (65535*((img - np.nanmin(img))/( np.nanmax(img)- np.nanmin(img)))).astype(np.uint16)\n",
    "                pltI.imsave(sPathSess+'{m:s}_{p:s}_{ind:d}.png'.format(m=sess,p=period,ind=ind), z)\n",
    "                \n",
    "\n",
    "                \n",
    "\n",
    "                \n"
   ]
  },
  {
   "cell_type": "code",
   "execution_count": 16,
   "id": "e0b410c4",
   "metadata": {},
   "outputs": [
    {
     "name": "stdout",
     "output_type": "stream",
     "text": [
      "Found 46722 images belonging to 3 classes.\n",
      "Found 8040 images belonging to 3 classes.\n",
      "Found 8071 images belonging to 1 classes.\n"
     ]
    }
   ],
   "source": [
    "train_datagen = tf.keras.preprocessing.image.ImageDataGenerator(rescale = 1./65535)\n",
    "valid_datagen = tf.keras.preprocessing.image.ImageDataGenerator(rescale = 1./65535)\n",
    "test_datagen = tf.keras.preprocessing.image.ImageDataGenerator(rescale = 1./65535) #rescale=1./255\n",
    "train_generator = train_datagen.flow_from_directory(\n",
    "    directory=\"E:\\\\data\\\\Train\\\\\",#'E:\\\\data\\\\imageTest\\\\training_set\\\\',#\n",
    "    target_size=(300, 300),\n",
    "    color_mode=\"grayscale\",\n",
    "    batch_size=32,\n",
    "    class_mode=\"categorical\",\n",
    "    shuffle=True,\n",
    "    seed=36\n",
    ")\n",
    "validate_generator = valid_datagen.flow_from_directory(\n",
    "    directory=\"E:\\\\data\\\\Validate\\\\\",#'E:\\\\data\\\\imageTest\\\\test_set\\\\',#\n",
    "    target_size=(300, 300),\n",
    "    color_mode=\"grayscale\",\n",
    "    batch_size=32,\n",
    "    class_mode=\"categorical\",\n",
    "    shuffle=True,\n",
    "    seed=42\n",
    ")\n",
    "test_generator = test_datagen.flow_from_directory(\n",
    "    directory=\"E:\\\\data\\\\Test\\\\\",#'E:\\\\data\\\\imageTest\\\\test_set\\\\',#\n",
    "    target_size=(300, 300),\n",
    "    color_mode=\"grayscale\",\n",
    "    batch_size=32,\n",
    "    class_mode=None,\n",
    "    shuffle=False\n",
    ")\n",
    "\n"
   ]
  },
  {
   "cell_type": "code",
   "execution_count": 7,
   "id": "a239118b",
   "metadata": {},
   "outputs": [
    {
     "name": "stdout",
     "output_type": "stream",
     "text": [
      "[23180, 12814, 10728]\n",
      "{0: 1.0078084555651423, 1: 1.8230841267363822, 2: 2.177572706935123}\n"
     ]
    }
   ],
   "source": [
    "# calculate the class weight: - flow from directory goes alphabetically so Acute, Chroniq, Healthy\n",
    "files_per_class = []\n",
    "for folder in ['Acute','Chronic','Healthy']:\n",
    "    if not os.path.isfile(\"E:\\\\data\\\\Train\\\\\"+folder):\n",
    "            files_per_class.append(len(os.listdir(\"E:\\\\data\\\\Train\\\\\"+folder)))\n",
    "total_files = sum(files_per_class)\n",
    "class_weights = {}\n",
    "print(files_per_class)\n",
    "for i in range(len(files_per_class)):\n",
    "    class_weights[i] = (1 /(float(files_per_class[i]))) *( total_files/2)\n",
    "\n",
    "print(class_weights)"
   ]
  },
  {
   "cell_type": "code",
   "execution_count": 8,
   "id": "250abf08",
   "metadata": {},
   "outputs": [
    {
     "name": "stdout",
     "output_type": "stream",
     "text": [
      "[23180, 12814, 10728]\n"
     ]
    }
   ],
   "source": [
    "print(files_per_class)\n"
   ]
  },
  {
   "cell_type": "code",
   "execution_count": 17,
   "id": "2de8fb7d",
   "metadata": {},
   "outputs": [],
   "source": [
    "del model"
   ]
  },
  {
   "cell_type": "code",
   "execution_count": 18,
   "id": "33266e0e",
   "metadata": {},
   "outputs": [],
   "source": [
    "# model for v4\n",
    "mix_layer = []\n",
    "inputShape = (300,300,1)\n",
    "inp = Input(shape=inputShape)\n",
    "convs = []\n",
    "kernel_size= {}\n",
    "kernel_size[0]= (40,10)\n",
    "kernel_size[1]= (5,15)\n",
    "for k_no in range(len(kernel_size)):\n",
    "    conv = Conv2D(16, kernel_size[k_no],activation='relu',\n",
    "                  padding='SAME',input_shape=inputShape)(inp)\n",
    "    pool = MaxPooling2D(pool_size=(3,1))(conv)\n",
    "    mix_layer.append(pool)\n",
    "out = Concatenate()(mix_layer)\n",
    "conv_model = Model(inputs=inp, outputs=out)\n",
    "\n",
    "model = Sequential()\n",
    "model.add(conv_model) \n",
    "model.add(Dropout(0.40))\n",
    "model.add(Conv2D(32, kernel_size=(3,3), activation='relu'))\n",
    "model.add(MaxPooling2D(pool_size=(4,4)))\n",
    "model.add(Dropout(0.40))\n",
    "\n",
    "\n",
    "# model.add(Conv2D(64, kernel_size=(5,5), activation='relu'))#,kernel_initializer=initializer))\n",
    "model.add(Flatten())\n",
    "# model.add(Dense(50, activation='relu'))#,kernel_initializer=initializer))\n",
    "model.add(Dense(3, activation='softmax'))"
   ]
  },
  {
   "cell_type": "code",
   "execution_count": 19,
   "id": "8fb8411a",
   "metadata": {},
   "outputs": [
    {
     "name": "stdout",
     "output_type": "stream",
     "text": [
      "Model: \"sequential_2\"\n",
      "_________________________________________________________________\n",
      "Layer (type)                 Output Shape              Param #   \n",
      "=================================================================\n",
      "model_2 (Functional)         (None, 100, 300, 32)      7632      \n",
      "_________________________________________________________________\n",
      "dropout_4 (Dropout)          (None, 100, 300, 32)      0         \n",
      "_________________________________________________________________\n",
      "conv2d_8 (Conv2D)            (None, 98, 298, 32)       9248      \n",
      "_________________________________________________________________\n",
      "max_pooling2d_8 (MaxPooling2 (None, 24, 74, 32)        0         \n",
      "_________________________________________________________________\n",
      "dropout_5 (Dropout)          (None, 24, 74, 32)        0         \n",
      "_________________________________________________________________\n",
      "flatten_2 (Flatten)          (None, 56832)             0         \n",
      "_________________________________________________________________\n",
      "dense_3 (Dense)              (None, 3)                 170499    \n",
      "=================================================================\n",
      "Total params: 187,379\n",
      "Trainable params: 187,379\n",
      "Non-trainable params: 0\n",
      "_________________________________________________________________\n",
      "None\n"
     ]
    }
   ],
   "source": [
    "print(model.summary())"
   ]
  },
  {
   "cell_type": "code",
   "execution_count": 14,
   "id": "d4551229",
   "metadata": {},
   "outputs": [],
   "source": [
    "early_stopping = tf.keras.callbacks.EarlyStopping(\n",
    "    monitor='val_accuracy', \n",
    "    verbose=1,\n",
    "    patience=160,\n",
    "    mode='max',\n",
    "    restore_best_weights=True)"
   ]
  },
  {
   "cell_type": "code",
   "execution_count": null,
   "id": "50b307a4",
   "metadata": {
    "scrolled": true
   },
   "outputs": [
    {
     "name": "stdout",
     "output_type": "stream",
     "text": [
      "Epoch 1/500\n",
      "1460/1460 [==============================] - 639s 437ms/step - loss: 1.6481 - accuracy: 0.3129 - val_loss: 1.0974 - val_accuracy: 0.3334\n",
      "Epoch 2/500\n",
      "1460/1460 [==============================] - 639s 438ms/step - loss: 1.6482 - accuracy: 0.3186 - val_loss: 1.1002 - val_accuracy: 0.2222\n",
      "Epoch 3/500\n",
      "1460/1460 [==============================] - 641s 439ms/step - loss: 1.6482 - accuracy: 0.2907 - val_loss: 1.0958 - val_accuracy: 0.4440\n",
      "Epoch 4/500\n",
      "1460/1460 [==============================] - 639s 438ms/step - loss: 1.6482 - accuracy: 0.3352 - val_loss: 1.1003 - val_accuracy: 0.2222\n",
      "Epoch 5/500\n",
      "1460/1460 [==============================] - 641s 439ms/step - loss: 1.6482 - accuracy: 0.2933 - val_loss: 1.0969 - val_accuracy: 0.4440\n",
      "Epoch 6/500\n",
      "1460/1460 [==============================] - 642s 440ms/step - loss: 1.6480 - accuracy: 0.3353 - val_loss: 1.1005 - val_accuracy: 0.2224\n",
      "Epoch 7/500\n",
      "1460/1460 [==============================] - 639s 437ms/step - loss: 1.6480 - accuracy: 0.3301 - val_loss: 1.0962 - val_accuracy: 0.4440\n",
      "Epoch 8/500\n",
      "1460/1460 [==============================] - 639s 438ms/step - loss: 1.6481 - accuracy: 0.3208 - val_loss: 1.1004 - val_accuracy: 0.2224\n",
      "Epoch 9/500\n",
      "1460/1460 [==============================] - 640s 438ms/step - loss: 1.6480 - accuracy: 0.3187 - val_loss: 1.0965 - val_accuracy: 0.3334\n",
      "Epoch 10/500\n",
      "1460/1460 [==============================] - 640s 438ms/step - loss: 1.6481 - accuracy: 0.3451 - val_loss: 1.0972 - val_accuracy: 0.3335\n",
      "Epoch 11/500\n",
      "1460/1460 [==============================] - 647s 443ms/step - loss: 1.6481 - accuracy: 0.2830 - val_loss: 1.0926 - val_accuracy: 0.4437\n",
      "Epoch 12/500\n",
      "1460/1460 [==============================] - 644s 441ms/step - loss: 1.6482 - accuracy: 0.3351 - val_loss: 1.0960 - val_accuracy: 0.4440\n",
      "Epoch 13/500\n",
      "1460/1460 [==============================] - 653s 447ms/step - loss: 1.6481 - accuracy: 0.3565 - val_loss: 1.1008 - val_accuracy: 0.3335\n",
      "Epoch 14/500\n",
      "1460/1460 [==============================] - 656s 449ms/step - loss: 1.6481 - accuracy: 0.3092 - val_loss: 1.0962 - val_accuracy: 0.4438\n",
      "Epoch 15/500\n",
      "1460/1460 [==============================] - 652s 447ms/step - loss: 1.6481 - accuracy: 0.3603 - val_loss: 1.1010 - val_accuracy: 0.2221\n",
      "Epoch 16/500\n",
      "1460/1460 [==============================] - 652s 447ms/step - loss: 1.6481 - accuracy: 0.2986 - val_loss: 1.0995 - val_accuracy: 0.2224\n",
      "Epoch 17/500\n",
      "1460/1460 [==============================] - 654s 448ms/step - loss: 1.6480 - accuracy: 0.2848 - val_loss: 1.1002 - val_accuracy: 0.2226\n",
      "Epoch 18/500\n",
      "1460/1460 [==============================] - 647s 443ms/step - loss: 1.6479 - accuracy: 0.3072 - val_loss: 1.0961 - val_accuracy: 0.3338\n",
      "Epoch 19/500\n",
      "1460/1460 [==============================] - 645s 442ms/step - loss: 1.6481 - accuracy: 0.3629 - val_loss: 1.0998 - val_accuracy: 0.3335\n",
      "Epoch 20/500\n",
      "1460/1460 [==============================] - 644s 441ms/step - loss: 1.6481 - accuracy: 0.3320 - val_loss: 1.0970 - val_accuracy: 0.4438\n",
      "Epoch 21/500\n",
      "1460/1460 [==============================] - 645s 441ms/step - loss: 1.6481 - accuracy: 0.3406 - val_loss: 1.0976 - val_accuracy: 0.3333\n",
      "Epoch 22/500\n",
      "1460/1460 [==============================] - 644s 441ms/step - loss: 1.6481 - accuracy: 0.3420 - val_loss: 1.0955 - val_accuracy: 0.4442\n",
      "Epoch 23/500\n",
      "1460/1460 [==============================] - 645s 442ms/step - loss: 1.6480 - accuracy: 0.3294 - val_loss: 1.0988 - val_accuracy: 0.2224\n",
      "Epoch 24/500\n",
      "1460/1460 [==============================] - 644s 441ms/step - loss: 1.6480 - accuracy: 0.3119 - val_loss: 1.0984 - val_accuracy: 0.4441\n",
      "Epoch 25/500\n",
      "1460/1460 [==============================] - 645s 442ms/step - loss: 1.6482 - accuracy: 0.3209 - val_loss: 1.0981 - val_accuracy: 0.4443\n",
      "Epoch 26/500\n",
      "1460/1460 [==============================] - 644s 441ms/step - loss: 1.6481 - accuracy: 0.3653 - val_loss: 1.1008 - val_accuracy: 0.2224\n",
      "Epoch 27/500\n",
      "1460/1460 [==============================] - 649s 445ms/step - loss: 1.6480 - accuracy: 0.3079 - val_loss: 1.0984 - val_accuracy: 0.3339\n",
      "Epoch 28/500\n",
      "1460/1460 [==============================] - 652s 446ms/step - loss: 1.6480 - accuracy: 0.3275 - val_loss: 1.0976 - val_accuracy: 0.4440\n",
      "Epoch 29/500\n",
      "1460/1460 [==============================] - 652s 447ms/step - loss: 1.6481 - accuracy: 0.3652 - val_loss: 1.1045 - val_accuracy: 0.2224\n",
      "Epoch 30/500\n",
      "1460/1460 [==============================] - 652s 447ms/step - loss: 1.6481 - accuracy: 0.2811 - val_loss: 1.1000 - val_accuracy: 0.2224\n",
      "Epoch 31/500\n",
      "1460/1460 [==============================] - 653s 447ms/step - loss: 1.6481 - accuracy: 0.3012 - val_loss: 1.0978 - val_accuracy: 0.4442\n",
      "Epoch 32/500\n",
      "1460/1460 [==============================] - 657s 450ms/step - loss: 1.6481 - accuracy: 0.3344 - val_loss: 1.0973 - val_accuracy: 0.4441\n",
      "Epoch 33/500\n",
      "1460/1460 [==============================] - 650s 445ms/step - loss: 1.6481 - accuracy: 0.3015 - val_loss: 1.0963 - val_accuracy: 0.4441\n",
      "Epoch 34/500\n",
      "1460/1460 [==============================] - 649s 445ms/step - loss: 1.6481 - accuracy: 0.3404 - val_loss: 1.0994 - val_accuracy: 0.3335\n",
      "Epoch 35/500\n",
      "1460/1460 [==============================] - 649s 445ms/step - loss: 1.6480 - accuracy: 0.3271 - val_loss: 1.0996 - val_accuracy: 0.3338\n",
      "Epoch 36/500\n",
      "1460/1460 [==============================] - 649s 445ms/step - loss: 1.6479 - accuracy: 0.3092 - val_loss: 1.0989 - val_accuracy: 0.2222\n",
      "Epoch 37/500\n",
      "1460/1460 [==============================] - 653s 447ms/step - loss: 1.6480 - accuracy: 0.3423 - val_loss: 1.1041 - val_accuracy: 0.2219\n",
      "Epoch 38/500\n",
      "1460/1460 [==============================] - 654s 448ms/step - loss: 1.6481 - accuracy: 0.3529 - val_loss: 1.1027 - val_accuracy: 0.2225\n",
      "Epoch 39/500\n",
      "1460/1460 [==============================] - 657s 450ms/step - loss: 1.6482 - accuracy: 0.3060 - val_loss: 1.0993 - val_accuracy: 0.2225\n",
      "Epoch 40/500\n",
      "1460/1460 [==============================] - 658s 450ms/step - loss: 1.6480 - accuracy: 0.3029 - val_loss: 1.0966 - val_accuracy: 0.4440\n",
      "Epoch 41/500\n",
      "1460/1460 [==============================] - 658s 451ms/step - loss: 1.6481 - accuracy: 0.3568 - val_loss: 1.0996 - val_accuracy: 0.3334\n",
      "Epoch 42/500\n",
      "1460/1460 [==============================] - 657s 450ms/step - loss: 1.6480 - accuracy: 0.3203 - val_loss: 1.0995 - val_accuracy: 0.2224\n",
      "Epoch 43/500\n",
      "1460/1460 [==============================] - 657s 450ms/step - loss: 1.6482 - accuracy: 0.3158 - val_loss: 1.0980 - val_accuracy: 0.4441\n",
      "Epoch 44/500\n",
      "1460/1460 [==============================] - 652s 446ms/step - loss: 1.6481 - accuracy: 0.3251 - val_loss: 1.1000 - val_accuracy: 0.2222\n",
      "Epoch 45/500\n",
      "1460/1460 [==============================] - 651s 446ms/step - loss: 1.6481 - accuracy: 0.3360 - val_loss: 1.1002 - val_accuracy: 0.2226\n",
      "Epoch 46/500\n",
      "1460/1460 [==============================] - 651s 446ms/step - loss: 1.6480 - accuracy: 0.3309 - val_loss: 1.1014 - val_accuracy: 0.2222\n",
      "Epoch 47/500\n",
      "1460/1460 [==============================] - 651s 446ms/step - loss: 1.6482 - accuracy: 0.2758 - val_loss: 1.0985 - val_accuracy: 0.4441\n",
      "Epoch 48/500\n",
      "1460/1460 [==============================] - 650s 445ms/step - loss: 1.6482 - accuracy: 0.2912 - val_loss: 1.0973 - val_accuracy: 0.4441\n",
      "Epoch 49/500\n",
      "1460/1460 [==============================] - 655s 449ms/step - loss: 1.6481 - accuracy: 0.3991 - val_loss: 1.1024 - val_accuracy: 0.2224\n",
      "Epoch 50/500\n",
      "1460/1460 [==============================] - 659s 451ms/step - loss: 1.6482 - accuracy: 0.3170 - val_loss: 1.0985 - val_accuracy: 0.3337\n",
      "Epoch 51/500\n",
      "1460/1460 [==============================] - 658s 451ms/step - loss: 1.6481 - accuracy: 0.3060 - val_loss: 1.0982 - val_accuracy: 0.4441\n",
      "Epoch 52/500\n",
      "1460/1460 [==============================] - 658s 451ms/step - loss: 1.6481 - accuracy: 0.3124 - val_loss: 1.1000 - val_accuracy: 0.2225\n",
      "Epoch 53/500\n",
      "1460/1460 [==============================] - 659s 451ms/step - loss: 1.6482 - accuracy: 0.2907 - val_loss: 1.0970 - val_accuracy: 0.4440\n",
      "Epoch 54/500\n",
      "1460/1460 [==============================] - 659s 451ms/step - loss: 1.6480 - accuracy: 0.3509 - val_loss: 1.1027 - val_accuracy: 0.2224\n",
      "Epoch 55/500\n"
     ]
    },
    {
     "name": "stdout",
     "output_type": "stream",
     "text": [
      "1460/1460 [==============================] - 653s 447ms/step - loss: 1.6482 - accuracy: 0.3054 - val_loss: 1.0988 - val_accuracy: 0.2226\n",
      "Epoch 56/500\n",
      "1460/1460 [==============================] - 652s 446ms/step - loss: 1.6482 - accuracy: 0.3492 - val_loss: 1.0989 - val_accuracy: 0.3335\n",
      "Epoch 57/500\n",
      "1460/1460 [==============================] - 653s 447ms/step - loss: 1.6481 - accuracy: 0.3116 - val_loss: 1.0982 - val_accuracy: 0.3339\n",
      "Epoch 58/500\n",
      "1460/1460 [==============================] - 654s 448ms/step - loss: 1.6481 - accuracy: 0.3221 - val_loss: 1.0994 - val_accuracy: 0.3337\n",
      "Epoch 59/500\n",
      "1460/1460 [==============================] - 657s 450ms/step - loss: 1.6481 - accuracy: 0.3229 - val_loss: 1.0972 - val_accuracy: 0.3337\n",
      "Epoch 60/500\n",
      "1460/1460 [==============================] - 658s 450ms/step - loss: 1.6480 - accuracy: 0.3105 - val_loss: 1.0937 - val_accuracy: 0.4440\n",
      "Epoch 61/500\n",
      "1460/1460 [==============================] - 659s 452ms/step - loss: 1.6482 - accuracy: 0.3779 - val_loss: 1.0983 - val_accuracy: 0.3338\n",
      "Epoch 62/500\n",
      "1460/1460 [==============================] - 662s 453ms/step - loss: 1.6481 - accuracy: 0.3074 - val_loss: 1.0985 - val_accuracy: 0.4442\n",
      "Epoch 63/500\n",
      "1460/1460 [==============================] - 661s 452ms/step - loss: 1.6481 - accuracy: 0.3184 - val_loss: 1.0990 - val_accuracy: 0.2224\n",
      "Epoch 64/500\n",
      "1460/1460 [==============================] - 659s 451ms/step - loss: 1.6482 - accuracy: 0.3602 - val_loss: 1.1014 - val_accuracy: 0.2224\n",
      "Epoch 65/500\n",
      "1460/1460 [==============================] - 659s 451ms/step - loss: 1.6481 - accuracy: 0.2986 - val_loss: 1.0966 - val_accuracy: 0.3337\n",
      "Epoch 66/500\n",
      "1460/1460 [==============================] - 652s 447ms/step - loss: 1.6481 - accuracy: 0.2776 - val_loss: 1.0952 - val_accuracy: 0.3335\n",
      "Epoch 67/500\n",
      "1460/1460 [==============================] - 652s 446ms/step - loss: 1.6482 - accuracy: 0.3400 - val_loss: 1.0993 - val_accuracy: 0.3339\n",
      "Epoch 68/500\n",
      "1460/1460 [==============================] - 652s 447ms/step - loss: 1.6482 - accuracy: 0.2945 - val_loss: 1.0967 - val_accuracy: 0.4442\n",
      "Epoch 69/500\n",
      "1460/1460 [==============================] - 654s 448ms/step - loss: 1.6481 - accuracy: 0.3223 - val_loss: 1.0988 - val_accuracy: 0.2222\n",
      "Epoch 70/500\n",
      "1460/1460 [==============================] - 653s 447ms/step - loss: 1.6482 - accuracy: 0.3265 - val_loss: 1.0982 - val_accuracy: 0.3335\n",
      "Epoch 71/500\n",
      "1460/1460 [==============================] - 658s 451ms/step - loss: 1.6481 - accuracy: 0.3420 - val_loss: 1.0980 - val_accuracy: 0.4438\n",
      "Epoch 72/500\n",
      "1460/1460 [==============================] - 661s 453ms/step - loss: 1.6480 - accuracy: 0.3898 - val_loss: 1.1033 - val_accuracy: 0.2221\n",
      "Epoch 73/500\n",
      "1460/1460 [==============================] - 660s 452ms/step - loss: 1.6480 - accuracy: 0.2852 - val_loss: 1.0943 - val_accuracy: 0.4441\n",
      "Epoch 74/500\n",
      "1460/1460 [==============================] - 662s 453ms/step - loss: 1.6479 - accuracy: 0.3548 - val_loss: 1.0984 - val_accuracy: 0.3334\n",
      "Epoch 75/500\n",
      "1460/1460 [==============================] - 661s 452ms/step - loss: 1.6480 - accuracy: 0.3102 - val_loss: 1.0965 - val_accuracy: 0.4440\n",
      "Epoch 76/500\n",
      "1460/1460 [==============================] - 660s 452ms/step - loss: 1.6481 - accuracy: 0.3427 - val_loss: 1.0971 - val_accuracy: 0.3335\n",
      "Epoch 77/500\n",
      "1460/1460 [==============================] - 654s 448ms/step - loss: 1.6480 - accuracy: 0.3526 - val_loss: 1.0999 - val_accuracy: 0.3337\n",
      "Epoch 78/500\n",
      "1460/1460 [==============================] - 653s 447ms/step - loss: 1.6480 - accuracy: 0.3283 - val_loss: 1.0960 - val_accuracy: 0.4441\n",
      "Epoch 79/500\n",
      "1460/1460 [==============================] - 652s 447ms/step - loss: 1.6481 - accuracy: 0.3286 - val_loss: 1.0989 - val_accuracy: 0.2225\n",
      "Epoch 80/500\n",
      "1460/1460 [==============================] - 653s 447ms/step - loss: 1.6481 - accuracy: 0.3033 - val_loss: 1.0967 - val_accuracy: 0.4445\n",
      "Epoch 81/500\n",
      "1460/1460 [==============================] - 654s 448ms/step - loss: 1.6482 - accuracy: 0.3372 - val_loss: 1.0969 - val_accuracy: 0.4441\n",
      "Epoch 82/500\n",
      "1460/1460 [==============================] - 658s 451ms/step - loss: 1.6480 - accuracy: 0.3233 - val_loss: 1.0946 - val_accuracy: 0.4437\n",
      "Epoch 83/500\n",
      "1460/1460 [==============================] - 661s 453ms/step - loss: 1.6481 - accuracy: 0.3541 - val_loss: 1.0991 - val_accuracy: 0.3334\n",
      "Epoch 84/500\n",
      "1460/1460 [==============================] - 658s 451ms/step - loss: 1.6480 - accuracy: 0.3175 - val_loss: 1.0967 - val_accuracy: 0.4441\n",
      "Epoch 85/500\n",
      "1460/1460 [==============================] - 660s 452ms/step - loss: 1.6480 - accuracy: 0.3239 - val_loss: 1.0967 - val_accuracy: 0.4440\n",
      "Epoch 86/500\n",
      "1460/1460 [==============================] - 660s 452ms/step - loss: 1.6481 - accuracy: 0.3633 - val_loss: 1.1016 - val_accuracy: 0.2224\n",
      "Epoch 87/500\n",
      "1460/1460 [==============================] - 659s 451ms/step - loss: 1.6480 - accuracy: 0.3061 - val_loss: 1.0981 - val_accuracy: 0.4441\n",
      "Epoch 88/500\n",
      "1460/1460 [==============================] - 662s 453ms/step - loss: 1.6480 - accuracy: 0.3525 - val_loss: 1.0981 - val_accuracy: 0.3335\n",
      "Epoch 89/500\n",
      "1460/1460 [==============================] - 661s 453ms/step - loss: 1.6481 - accuracy: 0.3122 - val_loss: 1.0922 - val_accuracy: 0.4436\n",
      "Epoch 90/500\n",
      "1460/1460 [==============================] - 659s 452ms/step - loss: 1.6482 - accuracy: 0.3690 - val_loss: 1.0994 - val_accuracy: 0.3339\n",
      "Epoch 91/500\n",
      "1460/1460 [==============================] - 658s 451ms/step - loss: 1.6481 - accuracy: 0.3255 - val_loss: 1.0977 - val_accuracy: 0.3333\n",
      "Epoch 92/500\n",
      "1460/1460 [==============================] - 645s 441ms/step - loss: 1.6482 - accuracy: 0.3468 - val_loss: 1.1003 - val_accuracy: 0.3333\n",
      "Epoch 93/500\n",
      "1460/1460 [==============================] - 643s 441ms/step - loss: 1.6481 - accuracy: 0.3105 - val_loss: 1.0973 - val_accuracy: 0.3337\n",
      "Epoch 94/500\n",
      "1460/1460 [==============================] - 644s 441ms/step - loss: 1.6481 - accuracy: 0.3154 - val_loss: 1.0984 - val_accuracy: 0.4440\n",
      "Epoch 95/500\n",
      "1460/1460 [==============================] - 646s 443ms/step - loss: 1.6481 - accuracy: 0.3335 - val_loss: 1.0982 - val_accuracy: 0.3334\n",
      "Epoch 96/500\n",
      "1460/1460 [==============================] - 672s 460ms/step - loss: 1.6480 - accuracy: 0.3317 - val_loss: 1.1003 - val_accuracy: 0.2225\n",
      "Epoch 97/500\n",
      "1460/1460 [==============================] - 651s 446ms/step - loss: 1.6482 - accuracy: 0.3138 - val_loss: 1.0988 - val_accuracy: 0.3335\n",
      "Epoch 98/500\n",
      "1460/1460 [==============================] - 664s 455ms/step - loss: 1.6481 - accuracy: 0.3033 - val_loss: 1.0997 - val_accuracy: 0.2225\n",
      "Epoch 99/500\n",
      "1460/1460 [==============================] - 656s 449ms/step - loss: 1.6479 - accuracy: 0.3139 - val_loss: 1.1000 - val_accuracy: 0.2225\n",
      "Epoch 100/500\n",
      "1460/1460 [==============================] - 648s 444ms/step - loss: 1.6482 - accuracy: 0.3038 - val_loss: 1.0991 - val_accuracy: 0.2222\n",
      "Epoch 101/500\n",
      "1460/1460 [==============================] - 659s 452ms/step - loss: 1.6481 - accuracy: 0.3644 - val_loss: 1.1007 - val_accuracy: 0.2225\n",
      "Epoch 102/500\n",
      "1460/1460 [==============================] - 655s 449ms/step - loss: 1.6481 - accuracy: 0.3655 - val_loss: 1.1033 - val_accuracy: 0.2226\n",
      "Epoch 103/500\n",
      "1460/1460 [==============================] - 651s 446ms/step - loss: 1.6482 - accuracy: 0.3053 - val_loss: 1.0987 - val_accuracy: 0.3335\n",
      "Epoch 104/500\n",
      "1460/1460 [==============================] - 656s 449ms/step - loss: 1.6482 - accuracy: 0.3141 - val_loss: 1.0959 - val_accuracy: 0.4440\n",
      "Epoch 105/500\n",
      "1460/1460 [==============================] - 655s 448ms/step - loss: 1.6480 - accuracy: 0.3129 - val_loss: 1.0955 - val_accuracy: 0.3337\n",
      "Epoch 106/500\n",
      "1460/1460 [==============================] - 652s 447ms/step - loss: 1.6480 - accuracy: 0.3053 - val_loss: 1.0946 - val_accuracy: 0.4440\n",
      "Epoch 107/500\n",
      "1460/1460 [==============================] - 659s 452ms/step - loss: 1.6481 - accuracy: 0.3223 - val_loss: 1.1013 - val_accuracy: 0.2226\n",
      "Epoch 108/500\n",
      "1460/1460 [==============================] - 656s 449ms/step - loss: 1.6482 - accuracy: 0.3110 - val_loss: 1.1002 - val_accuracy: 0.3338\n",
      "Epoch 109/500\n"
     ]
    },
    {
     "name": "stdout",
     "output_type": "stream",
     "text": [
      "1460/1460 [==============================] - 659s 451ms/step - loss: 1.6480 - accuracy: 0.3059 - val_loss: 1.0983 - val_accuracy: 0.4442\n",
      "Epoch 110/500\n",
      "1460/1460 [==============================] - 662s 454ms/step - loss: 1.6479 - accuracy: 0.2869 - val_loss: 1.0950 - val_accuracy: 0.4442\n",
      "Epoch 111/500\n",
      "1460/1460 [==============================] - 654s 448ms/step - loss: 1.6482 - accuracy: 0.3351 - val_loss: 1.0973 - val_accuracy: 0.4440\n",
      "Epoch 112/500\n",
      "1180/1460 [=======================>......] - ETA: 1:48 - loss: 1.6469 - accuracy: 0.3907"
     ]
    }
   ],
   "source": [
    "modelName = 'LFP_period_v11'\n",
    "\n",
    "model.compile(optimizer='sgd',\n",
    "              loss=tf.keras.losses.CategoricalCrossentropy(),\n",
    "              metrics=['accuracy'])\n",
    "\n",
    "stepTrain=train_generator.n//train_generator.batch_size\n",
    "stepValidate=validate_generator.n//validate_generator.batch_size\n",
    "\n",
    "history = model.fit(train_generator,\n",
    "                    steps_per_epoch=stepTrain,\n",
    "                    validation_data=validate_generator,\n",
    "                    validation_steps=stepValidate,\n",
    "                    epochs=500,class_weight=class_weights,callbacks=[early_stopping])#,\n"
   ]
  },
  {
   "cell_type": "code",
   "execution_count": 80,
   "id": "b8471574",
   "metadata": {},
   "outputs": [
    {
     "name": "stdout",
     "output_type": "stream",
     "text": [
      "INFO:tensorflow:Assets written to: E:\\LFP_period_v9\\assets\n"
     ]
    }
   ],
   "source": [
    "## Saving the model\n",
    "##\n",
    "model.save('E:\\\\'+modelName)\n",
    "model.save_weights('E:\\\\'+modelName+'_weights.h5')"
   ]
  },
  {
   "cell_type": "code",
   "execution_count": 1,
   "id": "3b370f98",
   "metadata": {},
   "outputs": [
    {
     "ename": "NameError",
     "evalue": "name 'plt' is not defined",
     "output_type": "error",
     "traceback": [
      "\u001b[1;31m---------------------------------------------------------------------------\u001b[0m",
      "\u001b[1;31mNameError\u001b[0m                                 Traceback (most recent call last)",
      "\u001b[1;32m<ipython-input-1-65e3507b890c>\u001b[0m in \u001b[0;36m<module>\u001b[1;34m\u001b[0m\n\u001b[1;32m----> 1\u001b[1;33m \u001b[0mplt\u001b[0m\u001b[1;33m.\u001b[0m\u001b[0mplot\u001b[0m\u001b[1;33m(\u001b[0m\u001b[0mhistory\u001b[0m\u001b[1;33m.\u001b[0m\u001b[0mhistory\u001b[0m\u001b[1;33m[\u001b[0m\u001b[1;34m'accuracy'\u001b[0m\u001b[1;33m]\u001b[0m\u001b[1;33m)\u001b[0m\u001b[1;33m\u001b[0m\u001b[1;33m\u001b[0m\u001b[0m\n\u001b[0m\u001b[0;32m      2\u001b[0m \u001b[1;33m\u001b[0m\u001b[0m\n\u001b[0;32m      3\u001b[0m \u001b[0mplt\u001b[0m\u001b[1;33m.\u001b[0m\u001b[0mplot\u001b[0m\u001b[1;33m(\u001b[0m\u001b[0mhistory\u001b[0m\u001b[1;33m.\u001b[0m\u001b[0mhistory\u001b[0m\u001b[1;33m[\u001b[0m\u001b[1;34m'val_accuracy'\u001b[0m\u001b[1;33m]\u001b[0m\u001b[1;33m)\u001b[0m\u001b[1;31m# history.history\u001b[0m\u001b[1;33m\u001b[0m\u001b[1;33m\u001b[0m\u001b[0m\n",
      "\u001b[1;31mNameError\u001b[0m: name 'plt' is not defined"
     ]
    }
   ],
   "source": [
    "plt.plot(history.history['accuracy'])\n",
    "\n",
    "plt.plot(history.history['val_accuracy'])# history.history"
   ]
  },
  {
   "cell_type": "code",
   "execution_count": 82,
   "id": "808e9d88",
   "metadata": {},
   "outputs": [
    {
     "name": "stderr",
     "output_type": "stream",
     "text": [
      "C:\\Users\\dzemel\\AppData\\Roaming\\Python\\Python38\\site-packages\\tensorflow\\python\\keras\\engine\\training.py:2001: UserWarning: `Model.predict_generator` is deprecated and will be removed in a future version. Please use `Model.predict`, which supports generators.\n",
      "  warnings.warn('`Model.predict_generator` is deprecated and '\n"
     ]
    },
    {
     "name": "stdout",
     "output_type": "stream",
     "text": [
      "252/252 [==============================] - 132s 524ms/step\n",
      "[0]\n"
     ]
    }
   ],
   "source": [
    "# model =  tf.keras.models.load_model('E:\\\\caOnly_v1')\n",
    "# model.compile(optimizer='adam',\n",
    "#               loss=tf.keras.losses.SparseCategoricalCrossentropy(from_logits=True),\n",
    "#               metrics=['accuracy'])\n",
    "# model.load_weights(\"E:\\\\caOnly_v1_weights.h5\")\n",
    "\n",
    "labels = (train_generator.class_indices)\n",
    "pred = model.predict_generator(test_generator,verbose=1)\n",
    "pred = np.argmax(pred,axis=1)\n",
    "print(np.unique(pred))\n",
    "\n",
    "y = []\n",
    "for f in test_generator.filenames:\n",
    "    sess = f.split(\"_\")[1]\n",
    "    if sess[0] == 'B':\n",
    "        day = 0\n",
    "    else:\n",
    "        day = int(re.findall(r'\\d+',sess)[0])\n",
    "\n",
    "    # get data\n",
    "    period = periodCalc(day) \n",
    "    y.append(labels[period])"
   ]
  },
  {
   "cell_type": "code",
   "execution_count": 83,
   "id": "0ca3f6c2",
   "metadata": {},
   "outputs": [
    {
     "name": "stdout",
     "output_type": "stream",
     "text": [
      "0.4074074074074074\n"
     ]
    },
    {
     "data": {
      "image/png": "[encoded data removed]",
      "text/plain": [
       "<Figure size 576x576 with 2 Axes>"
      ]
     },
     "metadata": {
      "needs_background": "light"
     },
     "output_type": "display_data"
    }
   ],
   "source": [
    "classes=labels.keys()\n",
    "con_mat = tf.math.confusion_matrix(labels=y, predictions=pred).numpy()\n",
    "con_mat_norm = np.around(con_mat.astype('float') / con_mat.sum(axis=1)[:, np.newaxis], decimals=2)\n",
    "\n",
    "con_mat_df = pd.DataFrame(con_mat_norm,\n",
    "                     index = classes, \n",
    "                     columns = classes)\n",
    "figure = plt.figure(figsize=(8, 8))\n",
    "sns.heatmap(con_mat_df, annot=True,cmap=plt.cm.Blues)\n",
    "plt.tight_layout()\n",
    "plt.title(modelName +\"- on test dataset. Accuracy: {acc:f}\".format(acc=np.sum(y==pred)/len(y)))\n",
    "plt.ylabel('True label')\n",
    "plt.xlabel('Predicted label')\n",
    "plt.savefig(\"E:\\\\NN\\\\\"+modelName+\"_confusionOnTest_Test.png\")\n",
    "print(np.sum(y==pred)/len(y))"
   ]
  },
  {
   "cell_type": "code",
   "execution_count": 71,
   "id": "c5eac57e",
   "metadata": {},
   "outputs": [
    {
     "name": "stdout",
     "output_type": "stream",
     "text": [
      "567/567 [==============================] - 89s 157ms/step\n",
      "[0 1 2]\n"
     ]
    }
   ],
   "source": [
    "# model =  tf.keras.models.load_model('E:\\\\caOnly_v1')\n",
    "# model.compile(optimizer='adam',\n",
    "#               loss=tf.keras.losses.SparseCategoricalCrossentropy(from_logits=True),\n",
    "#               metrics=['accuracy'])\n",
    "# model.load_weights(\"E:\\\\caOnly_v1_weights.h5\")\n",
    "\n",
    "# train_datagenT = tf.keras.preprocessing.image.ImageDataGenerator(rescale=1./255)\n",
    "# train_generatorT = train_datagenT.flow_from_directory(\n",
    "#     directory=\"E:\\\\data\\\\Train\\\\\",#'E:\\\\data\\\\imageTest\\\\training_set\\\\',#\n",
    "#     target_size=(300, 300),\n",
    "#     color_mode=\"grayscale\",\n",
    "#     batch_size=32,\n",
    "#     class_mode=\"categorical\",\n",
    "#     shuffle=False,\n",
    "#     seed=36\n",
    "# )\n",
    "\n",
    "\n",
    "labels = (train_generator.class_indices)\n",
    "pred = model.predict_generator(train_generatorT,verbose=1)\n",
    "pred = np.argmax(pred,axis=1)\n",
    "print(np.unique(pred))\n",
    "\n",
    "y = []\n",
    "for f in train_generatorT.filenames:\n",
    "    sess = f.split(\"_\")[1]\n",
    "    if sess[0] == 'B':\n",
    "        day = 0\n",
    "    else:\n",
    "        day = int(re.findall(r'\\d+',sess)[0])\n",
    "\n",
    "    # get data\n",
    "    period = periodCalc(day) \n",
    "    y.append(labels[period])"
   ]
  },
  {
   "cell_type": "code",
   "execution_count": 73,
   "id": "994feed7",
   "metadata": {},
   "outputs": [
    {
     "data": {
      "image/png": "[encoded data removed]",
      "text/plain": [
       "<Figure size 576x576 with 2 Axes>"
      ]
     },
     "metadata": {
      "needs_background": "light"
     },
     "output_type": "display_data"
    }
   ],
   "source": [
    "classes=labels.keys()\n",
    "con_mat = tf.math.confusion_matrix(labels=y, predictions=pred).numpy()\n",
    "con_mat_norm = np.around(con_mat.astype('float') / con_mat.sum(axis=1)[:, np.newaxis], decimals=2)\n",
    "\n",
    "con_mat_df = pd.DataFrame(con_mat_norm,\n",
    "                     index = classes, \n",
    "                     columns = classes)\n",
    "figure = plt.figure(figsize=(8, 8))\n",
    "sns.heatmap(con_mat_df, annot=True,cmap=plt.cm.Blues)\n",
    "plt.tight_layout()\n",
    "plt.title(modelName +\"- on train dataset. Accuracy: {acc:f}\".format(acc=np.sum(y==pred)/len(y)))\n",
    "plt.ylabel('True label')\n",
    "plt.xlabel('Predicted label')\n",
    "plt.savefig(\"E:\\\\NN\\\\\"+modelName+\"_confusionOnTest_Train.png\")\n"
   ]
  },
  {
   "cell_type": "code",
   "execution_count": 61,
   "id": "c68bcb69",
   "metadata": {},
   "outputs": [
    {
     "name": "stdout",
     "output_type": "stream",
     "text": [
      "567/567 [==============================] - 89s 157ms/step - loss: 3.5345e-04 - accuracy: 1.0000\n",
      "[0.00035344576463103294, 1.0]\n"
     ]
    }
   ],
   "source": [
    "score = model.evaluate(train_generatorT)\n",
    "print(score)"
   ]
  },
  {
   "cell_type": "code",
   "execution_count": 56,
   "id": "6a581f51",
   "metadata": {},
   "outputs": [
    {
     "name": "stdout",
     "output_type": "stream",
     "text": [
      "567/567 [==============================] - 89s 157ms/step\n"
     ]
    },
    {
     "data": {
      "text/plain": [
       "(18130, 3)"
      ]
     },
     "execution_count": 56,
     "metadata": {},
     "output_type": "execute_result"
    }
   ],
   "source": [
    "pred = model.predict_generator(train_generator,verbose=1)\n",
    "pred.shape"
   ]
  },
  {
   "cell_type": "code",
   "execution_count": 57,
   "id": "43db7065",
   "metadata": {},
   "outputs": [
    {
     "data": {
      "text/plain": [
       "array([[9.9993336e-01, 6.6623645e-05, 2.0047966e-09],\n",
       "       [1.0000000e+00, 1.3673330e-08, 4.0443326e-10],\n",
       "       [3.7493074e-08, 1.0000000e+00, 1.9402356e-11],\n",
       "       [3.0466440e-04, 9.9913293e-01, 5.6242698e-04]], dtype=float32)"
      ]
     },
     "execution_count": 57,
     "metadata": {},
     "output_type": "execute_result"
    }
   ],
   "source": [
    "train_generatorT = train_datagen.flow_from_directory(\n",
    "    directory=\"E:\\\\data\\\\Train\\\\\",#'E:\\\\data\\\\imageTest\\\\training_set\\\\',#\n",
    "    target_size=(300, 300),\n",
    "    color_mode=\"grayscale\",\n",
    "    batch_size=32,\n",
    "    class_mode=\"categorical\",\n",
    "    shuffle=False,\n",
    "    seed=36\n",
    ")\n"
   ]
  },
  {
   "cell_type": "code",
   "execution_count": 85,
   "id": "f519eae8",
   "metadata": {},
   "outputs": [
    {
     "data": {
      "image/png": "[encoded data removed]",
      "text/plain": [
       "<Figure size 432x288 with 1 Axes>"
      ]
     },
     "metadata": {
      "needs_background": "light"
     },
     "output_type": "display_data"
    }
   ],
   "source": [
    "%matplotlib inline\n",
    "for d,l in train_generator:\n",
    "    plt.imshow(d[16,:,:,0])\n",
    "    break"
   ]
  }
 ],
 "metadata": {
  "kernelspec": {
   "display_name": "Python 3",
   "language": "python",
   "name": "python3"
  },
  "language_info": {
   "codemirror_mode": {
    "name": "ipython",
    "version": 3
   },
   "file_extension": ".py",
   "mimetype": "text/x-python",
   "name": "python",
   "nbconvert_exporter": "python",
   "pygments_lexer": "ipython3",
   "version": "3.8.10"
  }
 },
 "nbformat": 4,
 "nbformat_minor": 5
}
