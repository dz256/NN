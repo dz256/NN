{
 "cells": [
  {
   "cell_type": "code",
   "execution_count": 1,
   "id": "929a0299",
   "metadata": {},
   "outputs": [],
   "source": [
    "#since noteboke doesn't work in jupiterlabs    %matplotlib notebook \n",
    "%matplotlib inline \n",
    "%load_ext autoreload\n",
    "%autoreload 2"
   ]
  },
  {
   "cell_type": "code",
   "execution_count": 9,
   "id": "2904af6b",
   "metadata": {
    "scrolled": true
   },
   "outputs": [],
   "source": [
    "import tensorflow as tf\n",
    "import os\n",
    "# os.environ['PATH'] += os.pathsep + 'D:\\\\6OHDA\\\\'\n",
    "import numpy as np\n",
    "import scipy as sci\n",
    "from IO import *\n",
    "from utils import *\n",
    "import re\n",
    "from tqdm import tqdm\n",
    "\n",
    "from tensorflow.keras.models import Sequential, load_model\n",
    "from tensorflow.keras.layers import Input\n",
    "from tensorflow.keras.layers import Dense, Dropout, Activation, Flatten, Concatenate\n",
    "from tensorflow.keras.layers import Convolution2D, MaxPooling2D,Conv2D, Conv1D,MaxPooling1D\n",
    "# from tensorflow.keras.layers.core import Lambda\n",
    "import tensorflow.keras.optimizers as optimizers\n",
    "from tensorflow.keras import regularizers\n",
    "from tensorflow.keras import backend as K\n",
    "from tensorflow.keras.models import Model\n",
    "\n",
    "from matplotlib import pyplot as plt\n",
    "from matplotlib import gridspec\n",
    "import seaborn as sns\n",
    "\n",
    "import pickle\n",
    "import random\n",
    "# import png"
   ]
  },
  {
   "cell_type": "code",
   "execution_count": 3,
   "id": "651e941a",
   "metadata": {},
   "outputs": [
    {
     "name": "stdout",
     "output_type": "stream",
     "text": [
      "[name: \"/device:CPU:0\"\n",
      "device_type: \"CPU\"\n",
      "memory_limit: 268435456\n",
      "locality {\n",
      "}\n",
      "incarnation: 4644343913113660294\n",
      ", name: \"/device:GPU:0\"\n",
      "device_type: \"GPU\"\n",
      "memory_limit: 10091102208\n",
      "locality {\n",
      "  bus_id: 1\n",
      "  links {\n",
      "  }\n",
      "}\n",
      "incarnation: 4729986049828550038\n",
      "physical_device_desc: \"device: 0, name: GeForce GTX 1080 Ti, pci bus id: 0000:17:00.0, compute capability: 6.1\"\n",
      ", name: \"/device:GPU:1\"\n",
      "device_type: \"GPU\"\n",
      "memory_limit: 10091102208\n",
      "locality {\n",
      "  bus_id: 1\n",
      "  links {\n",
      "  }\n",
      "}\n",
      "incarnation: 4635631238244963721\n",
      "physical_device_desc: \"device: 1, name: GeForce GTX 1080 Ti, pci bus id: 0000:65:00.0, compute capability: 6.1\"\n",
      "]\n"
     ]
    },
    {
     "data": {
      "text/plain": [
       "[PhysicalDevice(name='/physical_device:CPU:0', device_type='CPU'),\n",
       " PhysicalDevice(name='/physical_device:GPU:0', device_type='GPU'),\n",
       " PhysicalDevice(name='/physical_device:GPU:1', device_type='GPU')]"
      ]
     },
     "execution_count": 3,
     "metadata": {},
     "output_type": "execute_result"
    }
   ],
   "source": [
    "from tensorflow.python.client import device_lib\n",
    "print(device_lib.list_local_devices())\n",
    "tf.config.list_physical_devices()"
   ]
  },
  {
   "cell_type": "code",
   "execution_count": 12,
   "id": "dabf073e",
   "metadata": {},
   "outputs": [],
   "source": [
    "Files = ['FinalData_6OHDA.h5','FinalData_6OHDA_H.h5']\n",
    "miceList = getMiceList(Files[0])\n",
    "#miceList.remove('1253')\n",
    "#miceList.remove('1231')\n",
    "def periodCalc(day):\n",
    "    if day== 0:\n",
    "        return 'Healthy'\n",
    "    elif day<13:\n",
    "        return 'Acute' #day 1-13\n",
    "    else:\n",
    "        return 'Chronic' #day 14-35"
   ]
  },
  {
   "cell_type": "code",
   "execution_count": 5,
   "id": "2e69ab06",
   "metadata": {},
   "outputs": [],
   "source": [
    "mTrain = ['0761', '1208', '1222', '1231', '1236', '7909' , '1793','4539',  '8430','1253']\n",
    "mValidate = ['2976', '2980', '2981', '7584']\n",
    "mTest = ['8803', '8815']"
   ]
  },
  {
   "cell_type": "code",
   "execution_count": 97,
   "id": "1ed1fb32",
   "metadata": {},
   "outputs": [],
   "source": [
    "# create and save the LFP images so can do flow from directory\n",
    "savePath = \"E:\\\\data\\\\\"\n",
    "for g in ['Train','Validate','Test']:\n",
    "    if not os.path.isdir(savePath+g):\n",
    "            os.mkdir(savePath+g)\n",
    "    sPath = savePath+g+\"\\\\\"\n",
    "    if g=='Test':\n",
    "        os.mkdir(sPath+'unlabeled')\n",
    "    else:\n",
    "        for cond in ['Healthy','Acute','Chronic']:\n",
    "            if not os.path.isdir(sPath+cond):\n",
    "                os.mkdir(sPath+cond)\n"
   ]
  },
  {
   "cell_type": "code",
   "execution_count": 113,
   "id": "b72ca33a",
   "metadata": {
    "scrolled": true
   },
   "outputs": [
    {
     "name": "stderr",
     "output_type": "stream",
     "text": [
      "\r",
      "  0%|                                                                                            | 0/2 [00:00<?, ?it/s]"
     ]
    },
    {
     "name": "stdout",
     "output_type": "stream",
     "text": [
      "cleaning up lfp data\n",
      "cleaning up speed data\n"
     ]
    },
    {
     "name": "stderr",
     "output_type": "stream",
     "text": [
      "\r",
      " 50%|█████████████████████████████████████████▌                                         | 1/2 [05:24<05:24, 324.76s/it]"
     ]
    },
    {
     "name": "stdout",
     "output_type": "stream",
     "text": [
      "cleaning up lfp data\n",
      "cleaning up speed data\n"
     ]
    },
    {
     "name": "stderr",
     "output_type": "stream",
     "text": [
      "100%|███████████████████████████████████████████████████████████████████████████████████| 2/2 [10:56<00:00, 328.29s/it]\n",
      "  0%|                                                                                            | 0/4 [00:00<?, ?it/s]"
     ]
    },
    {
     "name": "stdout",
     "output_type": "stream",
     "text": [
      "cleaning up lfp data\n",
      "I deleted session: 2976_day4\n",
      "cleaning up speed data\n",
      "found  1.0  outlier points\n",
      "found  3.0  outlier points\n"
     ]
    },
    {
     "name": "stderr",
     "output_type": "stream",
     "text": [
      "\r",
      " 25%|████████████████████▊                                                              | 1/4 [05:16<15:48, 316.15s/it]"
     ]
    },
    {
     "name": "stdout",
     "output_type": "stream",
     "text": [
      "cleaning up lfp data\n",
      "cleaning up speed data\n"
     ]
    },
    {
     "name": "stderr",
     "output_type": "stream",
     "text": [
      "\r",
      " 50%|█████████████████████████████████████████▌                                         | 2/4 [11:23<11:32, 346.01s/it]"
     ]
    },
    {
     "name": "stdout",
     "output_type": "stream",
     "text": [
      "cleaning up lfp data\n",
      "cleaning up speed data\n",
      "found  50.0  outlier points\n"
     ]
    },
    {
     "name": "stderr",
     "output_type": "stream",
     "text": [
      "\r",
      " 75%|██████████████████████████████████████████████████████████████▎                    | 3/4 [17:03<05:43, 343.56s/it]"
     ]
    },
    {
     "name": "stdout",
     "output_type": "stream",
     "text": [
      "cleaning up lfp data\n",
      "cleaning up speed data\n"
     ]
    },
    {
     "name": "stderr",
     "output_type": "stream",
     "text": [
      "100%|███████████████████████████████████████████████████████████████████████████████████| 4/4 [23:48<00:00, 357.02s/it]\n",
      "  0%|                                                                                           | 0/10 [00:00<?, ?it/s]"
     ]
    },
    {
     "name": "stdout",
     "output_type": "stream",
     "text": [
      "cleaning up lfp data\n",
      "cleaning up speed data\n"
     ]
    },
    {
     "name": "stderr",
     "output_type": "stream",
     "text": [
      "\r",
      " 10%|████████                                                                        | 1/10 [06:42<1:00:21, 402.40s/it]"
     ]
    },
    {
     "name": "stdout",
     "output_type": "stream",
     "text": [
      "cleaning up lfp data\n",
      "I deleted session: 1208_day12\n",
      "cleaning up speed data\n",
      "found  17.0  outlier points\n"
     ]
    },
    {
     "name": "stderr",
     "output_type": "stream",
     "text": [
      "\r",
      " 20%|████████████████▍                                                                 | 2/10 [13:28<53:58, 404.80s/it]"
     ]
    },
    {
     "name": "stdout",
     "output_type": "stream",
     "text": [
      "cleaning up lfp data\n",
      "cleaning up speed data\n"
     ]
    },
    {
     "name": "stderr",
     "output_type": "stream",
     "text": [
      "\r",
      " 30%|████████████████████████▌                                                         | 3/10 [20:06<46:50, 401.55s/it]"
     ]
    },
    {
     "name": "stdout",
     "output_type": "stream",
     "text": [
      "cleaning up lfp data\n",
      "cleaning up speed data\n"
     ]
    },
    {
     "name": "stderr",
     "output_type": "stream",
     "text": [
      "\r",
      " 40%|████████████████████████████████▊                                                 | 4/10 [21:27<27:30, 275.12s/it]"
     ]
    },
    {
     "name": "stdout",
     "output_type": "stream",
     "text": [
      "cleaning up lfp data\n",
      "cleaning up speed data\n",
      "found  1.0  outlier points\n",
      "found  888231.0  outlier points\n",
      "found  481139.0  outlier points\n"
     ]
    },
    {
     "name": "stderr",
     "output_type": "stream",
     "text": [
      "\r",
      " 50%|█████████████████████████████████████████                                         | 5/10 [28:01<26:29, 317.96s/it]"
     ]
    },
    {
     "name": "stdout",
     "output_type": "stream",
     "text": [
      "cleaning up lfp data\n",
      "cleaning up speed data\n"
     ]
    },
    {
     "name": "stderr",
     "output_type": "stream",
     "text": [
      "\r",
      " 60%|█████████████████████████████████████████████████▏                                | 6/10 [37:11<26:26, 396.70s/it]"
     ]
    },
    {
     "name": "stdout",
     "output_type": "stream",
     "text": [
      "cleaning up lfp data\n",
      "cleaning up speed data\n"
     ]
    },
    {
     "name": "stderr",
     "output_type": "stream",
     "text": [
      "\r",
      " 70%|█████████████████████████████████████████████████████████▍                        | 7/10 [44:27<20:28, 409.66s/it]"
     ]
    },
    {
     "name": "stdout",
     "output_type": "stream",
     "text": [
      "cleaning up lfp data\n",
      "cleaning up speed data\n",
      "found  29.0  outlier points\n"
     ]
    },
    {
     "name": "stderr",
     "output_type": "stream",
     "text": [
      "\r",
      " 80%|█████████████████████████████████████████████████████████████████▌                | 8/10 [53:06<14:49, 444.52s/it]"
     ]
    },
    {
     "name": "stdout",
     "output_type": "stream",
     "text": [
      "cleaning up lfp data\n",
      "cleaning up speed data\n"
     ]
    },
    {
     "name": "stderr",
     "output_type": "stream",
     "text": [
      "\r",
      " 90%|█████████████████████████████████████████████████████████████████████████▊        | 9/10 [59:53<07:12, 432.77s/it]"
     ]
    },
    {
     "name": "stdout",
     "output_type": "stream",
     "text": [
      "cleaning up lfp data\n",
      "cleaning up speed data\n"
     ]
    },
    {
     "name": "stderr",
     "output_type": "stream",
     "text": [
      "100%|███████████████████████████████████████████████████████████████████████████████| 10/10 [1:01:26<00:00, 368.67s/it]\n"
     ]
    }
   ],
   "source": [
    "from matplotlib import image as pltI\n",
    "savePath = \"E:\\\\data\\\\\"\n",
    "dtL = 0.0032768\n",
    "tPlot = np.linspace(-5,5,int(10/dtL-1))\n",
    "f = h5py.File('D:\\\\6OHDA\\\\Spectograms.hdf5','r') \n",
    "for g in ['Test','Validate','Train']: #'Train','Validate',\n",
    "    mList = eval(\"m\"+g)\n",
    "    sPath = savePath+g+\"\\\\\"\n",
    "    for m in tqdm(mList):\n",
    "        data =  getData(Files[0],['lfp','speed'],period ='Pre', mice=m)\n",
    "        for sess in data:\n",
    "            if sess[5] == 'B':\n",
    "                day = 0\n",
    "            else:\n",
    "                day = int(re.findall(r'\\d+',sess[5:])[0])\n",
    "\n",
    "            # get data\n",
    "            period = periodCalc(day)\n",
    "            freq = f[m][sess]['Pre']['freq'][:]\n",
    "            coeff = np.abs(f[m][sess]['Pre']['coeff'][:])\n",
    "            lfpOutliers = removeLFPOutliers(data[sess]['lfp']['lfp'], sess)\n",
    "            coeff[:,(lfpOutliers[:,0]==1)] = np.nan\n",
    "            coeff = coeff.T\n",
    "            Hs = np.nansum(coeff, axis=1)\n",
    "            coeff = coeff.T/Hs.T\n",
    "            coeff = coeff.T\n",
    "            a = sci.signal.decimate(coeff,10,axis=0)\n",
    "            del coeff\n",
    "            A = [a[i : i + tPlot.shape[0],:] for i in range(0, a.shape[0],int(np.ceil(4/dtL)))] \n",
    "            if g == 'Test':\n",
    "                sPathSess = sPath + 'unlabeled\\\\'\n",
    "            else:\n",
    "                sPathSess = sPath +period+'\\\\'\n",
    "            for ind,img in enumerate(A):\n",
    "                z = (65535*((img - img.min())/img.ptp())).astype(np.uint16)\n",
    "                pltI.imsave(sPathSess+'{m:s}_{p:s}_{ind:d}.png'.format(m=sess,p=period,ind=ind), z)\n",
    "                \n",
    "\n",
    "                \n",
    "\n",
    "                \n"
   ]
  },
  {
   "cell_type": "code",
   "execution_count": 114,
   "id": "e0b410c4",
   "metadata": {},
   "outputs": [
    {
     "name": "stdout",
     "output_type": "stream",
     "text": [
      "Found 18029 images belonging to 3 classes.\n",
      "Found 8612 images belonging to 3 classes.\n",
      "Found 4138 images belonging to 1 classes.\n"
     ]
    }
   ],
   "source": [
    "train_datagen = tf.keras.preprocessing.image.ImageDataGenerator(rescale=1./255)\n",
    "valid_datagen = tf.keras.preprocessing.image.ImageDataGenerator(rescale=1./255)\n",
    "test_datagen = tf.keras.preprocessing.image.ImageDataGenerator(rescale=1./255) #\n",
    "train_generator = train_datagen.flow_from_directory(\n",
    "    directory=\"E:\\\\data\\\\Train\\\\\",#'E:\\\\data\\\\imageTest\\\\training_set\\\\',#\n",
    "    target_size=(300, 300),\n",
    "    color_mode=\"grayscale\",\n",
    "    batch_size=32,\n",
    "    class_mode=\"categorical\",\n",
    "    shuffle=True,\n",
    "    seed=36\n",
    ")\n",
    "validate_generator = valid_datagen.flow_from_directory(\n",
    "    directory=\"E:\\\\data\\\\Validate\\\\\",#'E:\\\\data\\\\imageTest\\\\test_set\\\\',#\n",
    "    target_size=(300, 300),\n",
    "    color_mode=\"grayscale\",\n",
    "    batch_size=32,\n",
    "    class_mode=\"categorical\",\n",
    "    shuffle=True,\n",
    "    seed=42\n",
    ")\n",
    "test_generator = test_datagen.flow_from_directory(\n",
    "    directory=\"E:\\\\data\\\\Test\\\\\",#'E:\\\\data\\\\imageTest\\\\test_set\\\\',#\n",
    "    target_size=(300, 300),\n",
    "    color_mode=\"grayscale\",\n",
    "    batch_size=32,\n",
    "    class_mode=None,\n",
    "    shuffle=False\n",
    ")\n",
    "\n"
   ]
  },
  {
   "cell_type": "code",
   "execution_count": 115,
   "id": "a239118b",
   "metadata": {},
   "outputs": [
    {
     "name": "stdout",
     "output_type": "stream",
     "text": [
      "[8791, 4917, 4321]\n",
      "{0: 1.0254237288135593, 1: 1.8333333333333335, 2: 2.086206896551724}\n"
     ]
    }
   ],
   "source": [
    "# calculate the class weight: - flow from directory goes alphabetically so Acute, Chroniq, Healthy\n",
    "files_per_class = []\n",
    "for folder in ['Acute','Chronic','Healthy']:\n",
    "    if not os.path.isfile(\"E:\\\\data\\\\Train\\\\\"+folder):\n",
    "            files_per_class.append(len(os.listdir(\"E:\\\\data\\\\Train\\\\\"+folder)))\n",
    "total_files = sum(files_per_class)\n",
    "class_weights = {}\n",
    "print(files_per_class)\n",
    "for i in range(len(files_per_class)):\n",
    "    class_weights[i] = (1 /(float(files_per_class[i]))) *( total_files/2)\n",
    "\n",
    "print(class_weights)"
   ]
  },
  {
   "cell_type": "code",
   "execution_count": 116,
   "id": "250abf08",
   "metadata": {},
   "outputs": [
    {
     "name": "stdout",
     "output_type": "stream",
     "text": [
      "[8791, 4917, 4321]\n"
     ]
    }
   ],
   "source": [
    "print(files_per_class)"
   ]
  },
  {
   "cell_type": "code",
   "execution_count": 125,
   "id": "2de8fb7d",
   "metadata": {},
   "outputs": [],
   "source": [
    "del model"
   ]
  },
  {
   "cell_type": "code",
   "execution_count": 118,
   "id": "2d3432ba",
   "metadata": {},
   "outputs": [],
   "source": [
    "# model for V1 and V2, but both model overfitt too much. switch to model on cell below\n",
    "\n",
    "model = Sequential()\n",
    "model.add(Conv2D(16, kernel_size=(20,20), activation='relu', input_shape=(300,300,1)))#,kernel_initializer=initializer))\n",
    "model.add(Conv2D(32, kernel_size=(5,5), activation='relu'))\n",
    "model.add(MaxPooling2D(pool_size=(2,2)))\n",
    "model.add(Dropout(0.25))\n",
    "model.add(Conv2D(54, kernel_size=(3,3), activation='relu'))\n",
    "\n",
    "# model.add(Conv2D(64, kernel_size=(5,5), activation='relu'))#,kernel_initializer=initializer))\n",
    "model.add(Flatten())\n",
    "# model.add(Dense(50, activation='relu'))#,kernel_initializer=initializer))\n",
    "model.add(Dense(3, activation='softmax'))"
   ]
  },
  {
   "cell_type": "code",
   "execution_count": 126,
   "id": "915625e0",
   "metadata": {},
   "outputs": [],
   "source": [
    "# model for v3\n",
    "\n",
    "mix_layer = []\n",
    "inp = Input(shape=(300,300,1))\n",
    "convs = []\n",
    "kernel_size= {}\n",
    "kernel_size[0]= [15,15]\n",
    "kernel_size[1]= [5,5]\n",
    "for k_no in range(len(kernel_size)):\n",
    "    conv = Conv2D(nb_filters, kernel_size[k_no][0], kernel_size[k_no][1],\n",
    "                    border_mode='same',\n",
    "                         activation='relu',\n",
    "                    input_shape=input_shape)(inp)\n",
    "    pool = MaxPooling2D(pool_size=pool_size)(conv)\n",
    "    mix_layer.append(pool)\n",
    "out = Concatenate()(mix_layer)\n",
    "conv_model = Model(input=inp, output=out)\n",
    "\n",
    "model = Sequential()\n",
    "model.add(conv_model) \n",
    "model.add(Dropout(0.25))\n",
    "model.add(Conv2D(30, kernel_size=(3,3), activation='relu'))\n",
    "\n",
    "\n",
    "# model.add(Conv2D(64, kernel_size=(5,5), activation='relu'))#,kernel_initializer=initializer))\n",
    "model.add(Flatten())\n",
    "# model.add(Dense(50, activation='relu'))#,kernel_initializer=initializer))\n",
    "model.add(Dense(3, activation='softmax'))"
   ]
  },
  {
   "cell_type": "code",
   "execution_count": 127,
   "id": "8fb8411a",
   "metadata": {},
   "outputs": [
    {
     "name": "stdout",
     "output_type": "stream",
     "text": [
      "Model: \"sequential_11\"\n",
      "_________________________________________________________________\n",
      "Layer (type)                 Output Shape              Param #   \n",
      "=================================================================\n",
      "conv2d_33 (Conv2D)           (None, 286, 286, 16)      3616      \n",
      "_________________________________________________________________\n",
      "conv2d_34 (Conv2D)           (None, 282, 282, 16)      6416      \n",
      "_________________________________________________________________\n",
      "max_pooling2d_11 (MaxPooling (None, 141, 141, 16)      0         \n",
      "_________________________________________________________________\n",
      "dropout_11 (Dropout)         (None, 141, 141, 16)      0         \n",
      "_________________________________________________________________\n",
      "conv2d_35 (Conv2D)           (None, 139, 139, 30)      4350      \n",
      "_________________________________________________________________\n",
      "flatten_11 (Flatten)         (None, 579630)            0         \n",
      "_________________________________________________________________\n",
      "dense_11 (Dense)             (None, 3)                 1738893   \n",
      "=================================================================\n",
      "Total params: 1,753,275\n",
      "Trainable params: 1,753,275\n",
      "Non-trainable params: 0\n",
      "_________________________________________________________________\n",
      "None\n"
     ]
    }
   ],
   "source": [
    "print(model.summary())"
   ]
  },
  {
   "cell_type": "code",
   "execution_count": 128,
   "id": "d4551229",
   "metadata": {},
   "outputs": [],
   "source": [
    "early_stopping = tf.keras.callbacks.EarlyStopping(\n",
    "    monitor='val_accuracy', \n",
    "    verbose=1,\n",
    "    patience=60,\n",
    "    mode='max',\n",
    "    restore_best_weights=True)"
   ]
  },
  {
   "cell_type": "code",
   "execution_count": null,
   "id": "50b307a4",
   "metadata": {
    "scrolled": true
   },
   "outputs": [
    {
     "name": "stdout",
     "output_type": "stream",
     "text": [
      "Epoch 1/500\n",
      "563/563 [==============================] - 133s 236ms/step - loss: 1.6442 - accuracy: 0.3778 - val_loss: 1.0919 - val_accuracy: 0.4119\n",
      "Epoch 2/500\n",
      "563/563 [==============================] - 132s 234ms/step - loss: 1.6311 - accuracy: 0.3627 - val_loss: 1.1316 - val_accuracy: 0.3069\n",
      "Epoch 3/500\n",
      "563/563 [==============================] - 131s 233ms/step - loss: 1.6192 - accuracy: 0.3635 - val_loss: 1.1278 - val_accuracy: 0.3255\n",
      "Epoch 4/500\n",
      "563/563 [==============================] - 131s 233ms/step - loss: 1.5833 - accuracy: 0.4195 - val_loss: 1.2926 - val_accuracy: 0.2177\n",
      "Epoch 5/500\n",
      "563/563 [==============================] - 131s 233ms/step - loss: 1.5519 - accuracy: 0.4441 - val_loss: 1.2395 - val_accuracy: 0.2494\n",
      "Epoch 6/500\n",
      "563/563 [==============================] - 131s 233ms/step - loss: 1.5108 - accuracy: 0.4740 - val_loss: 1.2515 - val_accuracy: 0.2695\n",
      "Epoch 7/500\n",
      "563/563 [==============================] - 131s 232ms/step - loss: 1.4911 - accuracy: 0.4905 - val_loss: 1.1491 - val_accuracy: 0.3037\n",
      "Epoch 8/500\n",
      "563/563 [==============================] - 131s 233ms/step - loss: 1.4564 - accuracy: 0.5111 - val_loss: 1.2103 - val_accuracy: 0.2781\n",
      "Epoch 9/500\n",
      "563/563 [==============================] - 130s 232ms/step - loss: 1.4299 - accuracy: 0.5258 - val_loss: 1.1982 - val_accuracy: 0.2938\n",
      "Epoch 10/500\n",
      "563/563 [==============================] - 131s 232ms/step - loss: 1.3967 - accuracy: 0.5484 - val_loss: 1.2451 - val_accuracy: 0.2989\n",
      "Epoch 11/500\n",
      "563/563 [==============================] - 131s 233ms/step - loss: 1.3847 - accuracy: 0.5528 - val_loss: 1.2050 - val_accuracy: 0.3433\n",
      "Epoch 12/500\n",
      "563/563 [==============================] - 132s 234ms/step - loss: 1.3152 - accuracy: 0.5845 - val_loss: 1.6209 - val_accuracy: 0.2321\n",
      "Epoch 13/500\n",
      "563/563 [==============================] - 131s 233ms/step - loss: 1.2419 - accuracy: 0.6089 - val_loss: 1.3365 - val_accuracy: 0.2799\n",
      "Epoch 14/500\n",
      "563/563 [==============================] - 132s 235ms/step - loss: 1.1579 - accuracy: 0.6521 - val_loss: 1.7467 - val_accuracy: 0.2479\n",
      "Epoch 15/500\n",
      "563/563 [==============================] - 132s 234ms/step - loss: 1.0382 - accuracy: 0.6963 - val_loss: 1.5663 - val_accuracy: 0.2838\n",
      "Epoch 16/500\n",
      "563/563 [==============================] - 131s 233ms/step - loss: 0.9001 - accuracy: 0.7390 - val_loss: 1.6525 - val_accuracy: 0.2901\n",
      "Epoch 17/500\n",
      "563/563 [==============================] - 133s 236ms/step - loss: 0.7531 - accuracy: 0.7854 - val_loss: 1.6343 - val_accuracy: 0.3062\n",
      "Epoch 18/500\n",
      "563/563 [==============================] - 132s 235ms/step - loss: 0.5976 - accuracy: 0.8340 - val_loss: 1.8827 - val_accuracy: 0.3041\n",
      "Epoch 19/500\n",
      "364/563 [==================>...........] - ETA: 31s - loss: 0.4030 - accuracy: 0.8936"
     ]
    }
   ],
   "source": [
    "modelName = 'LFP_period_v4_normalized'\n",
    "\n",
    "model.compile(optimizer='sgd',\n",
    "              loss=tf.keras.losses.CategoricalCrossentropy(),\n",
    "              metrics=['accuracy'])\n",
    "\n",
    "stepTrain=train_generator.n//train_generator.batch_size\n",
    "stepValidate=validate_generator.n//validate_generator.batch_size\n",
    "\n",
    "history = model.fit(train_generator,\n",
    "                    steps_per_epoch=stepTrain,\n",
    "                    validation_data=validate_generator,\n",
    "                    validation_steps=stepValidate,\n",
    "                    epochs=500,class_weight=class_weights,callbacks=[early_stopping])#,\n"
   ]
  },
  {
   "cell_type": "code",
   "execution_count": 95,
   "id": "b8471574",
   "metadata": {},
   "outputs": [
    {
     "name": "stdout",
     "output_type": "stream",
     "text": [
      "INFO:tensorflow:Assets written to: E:\\LFP_period_v3\\assets\n"
     ]
    }
   ],
   "source": [
    "## Saving the model\n",
    "##\n",
    "model.save('E:\\\\'+modelName)\n",
    "model.save_weights('E:\\\\'+modelName+'_weights.h5')"
   ]
  },
  {
   "cell_type": "code",
   "execution_count": 124,
   "id": "3b370f98",
   "metadata": {},
   "outputs": [
    {
     "data": {
      "text/plain": [
       "[<matplotlib.lines.Line2D at 0x2399a6327f0>]"
      ]
     },
     "execution_count": 124,
     "metadata": {},
     "output_type": "execute_result"
    },
    {
     "data": {
      "image/png": "[encoded data removed]",
      "text/plain": [
       "<Figure size 432x288 with 1 Axes>"
      ]
     },
     "metadata": {
      "needs_background": "light"
     },
     "output_type": "display_data"
    }
   ],
   "source": [
    "plt.plot(history.history['accuracy'])\n",
    "\n",
    "plt.plot(history.history['val_accuracy'])# history.history"
   ]
  },
  {
   "cell_type": "code",
   "execution_count": 93,
   "id": "808e9d88",
   "metadata": {},
   "outputs": [
    {
     "name": "stdout",
     "output_type": "stream",
     "text": [
      "130/130 [==============================] - 19s 146ms/step\n",
      "[0 1 2]\n"
     ]
    }
   ],
   "source": [
    "# model =  tf.keras.models.load_model('E:\\\\caOnly_v1')\n",
    "# model.compile(optimizer='adam',\n",
    "#               loss=tf.keras.losses.SparseCategoricalCrossentropy(from_logits=True),\n",
    "#               metrics=['accuracy'])\n",
    "# model.load_weights(\"E:\\\\caOnly_v1_weights.h5\")\n",
    "\n",
    "labels = (train_generator.class_indices)\n",
    "pred = model.predict_generator(test_generator,verbose=1)\n",
    "pred = np.argmax(pred,axis=1)\n",
    "print(np.unique(pred))\n",
    "\n",
    "y = []\n",
    "for f in test_generator.filenames:\n",
    "    sess = f.split(\"_\")[1]\n",
    "    if sess[0] == 'B':\n",
    "        day = 0\n",
    "    else:\n",
    "        day = int(re.findall(r'\\d+',sess)[0])\n",
    "\n",
    "    # get data\n",
    "    period = periodCalc(day) \n",
    "    y.append(labels[period])"
   ]
  },
  {
   "cell_type": "code",
   "execution_count": 96,
   "id": "0ca3f6c2",
   "metadata": {},
   "outputs": [
    {
     "name": "stdout",
     "output_type": "stream",
     "text": [
      "0.35234412759787337\n"
     ]
    },
    {
     "data": {
      "image/png": "[encoded data removed]",
      "text/plain": [
       "<Figure size 576x576 with 2 Axes>"
      ]
     },
     "metadata": {
      "needs_background": "light"
     },
     "output_type": "display_data"
    }
   ],
   "source": [
    "classes=labels.keys()\n",
    "con_mat = tf.math.confusion_matrix(labels=y, predictions=pred).numpy()\n",
    "con_mat_norm = np.around(con_mat.astype('float') / con_mat.sum(axis=1)[:, np.newaxis], decimals=2)\n",
    "\n",
    "con_mat_df = pd.DataFrame(con_mat_norm,\n",
    "                     index = classes, \n",
    "                     columns = classes)\n",
    "figure = plt.figure(figsize=(8, 8))\n",
    "sns.heatmap(con_mat_df, annot=True,cmap=plt.cm.Blues)\n",
    "plt.tight_layout()\n",
    "plt.title(modelName +\"- on test dataset. Accuracy: {acc:f}\".format(acc=np.sum(y==pred)/len(y)))\n",
    "plt.ylabel('True label')\n",
    "plt.xlabel('Predicted label')\n",
    "plt.savefig(\"E:\\\\NN\\\\\"+modelName+\"_confusionOnTest_Test.png\")\n",
    "print(np.sum(y==pred)/len(y))"
   ]
  },
  {
   "cell_type": "code",
   "execution_count": 71,
   "id": "421368a1",
   "metadata": {},
   "outputs": [
    {
     "name": "stdout",
     "output_type": "stream",
     "text": [
      "567/567 [==============================] - 89s 157ms/step\n",
      "[0 1 2]\n"
     ]
    }
   ],
   "source": [
    "# model =  tf.keras.models.load_model('E:\\\\caOnly_v1')\n",
    "# model.compile(optimizer='adam',\n",
    "#               loss=tf.keras.losses.SparseCategoricalCrossentropy(from_logits=True),\n",
    "#               metrics=['accuracy'])\n",
    "# model.load_weights(\"E:\\\\caOnly_v1_weights.h5\")\n",
    "\n",
    "# train_datagenT = tf.keras.preprocessing.image.ImageDataGenerator(rescale=1./255)\n",
    "# train_generatorT = train_datagenT.flow_from_directory(\n",
    "#     directory=\"E:\\\\data\\\\Train\\\\\",#'E:\\\\data\\\\imageTest\\\\training_set\\\\',#\n",
    "#     target_size=(300, 300),\n",
    "#     color_mode=\"grayscale\",\n",
    "#     batch_size=32,\n",
    "#     class_mode=\"categorical\",\n",
    "#     shuffle=False,\n",
    "#     seed=36\n",
    "# )\n",
    "\n",
    "\n",
    "labels = (train_generator.class_indices)\n",
    "pred = model.predict_generator(train_generatorT,verbose=1)\n",
    "pred = np.argmax(pred,axis=1)\n",
    "print(np.unique(pred))\n",
    "\n",
    "y = []\n",
    "for f in train_generatorT.filenames:\n",
    "    sess = f.split(\"_\")[1]\n",
    "    if sess[0] == 'B':\n",
    "        day = 0\n",
    "    else:\n",
    "        day = int(re.findall(r'\\d+',sess)[0])\n",
    "\n",
    "    # get data\n",
    "    period = periodCalc(day) \n",
    "    y.append(labels[period])"
   ]
  },
  {
   "cell_type": "code",
   "execution_count": 73,
   "id": "ebd06dd5",
   "metadata": {},
   "outputs": [
    {
     "data": {
      "image/png": "[encoded data removed]",
      "text/plain": [
       "<Figure size 576x576 with 2 Axes>"
      ]
     },
     "metadata": {
      "needs_background": "light"
     },
     "output_type": "display_data"
    }
   ],
   "source": [
    "classes=labels.keys()\n",
    "con_mat = tf.math.confusion_matrix(labels=y, predictions=pred).numpy()\n",
    "con_mat_norm = np.around(con_mat.astype('float') / con_mat.sum(axis=1)[:, np.newaxis], decimals=2)\n",
    "\n",
    "con_mat_df = pd.DataFrame(con_mat_norm,\n",
    "                     index = classes, \n",
    "                     columns = classes)\n",
    "figure = plt.figure(figsize=(8, 8))\n",
    "sns.heatmap(con_mat_df, annot=True,cmap=plt.cm.Blues)\n",
    "plt.tight_layout()\n",
    "plt.title(modelName +\"- on train dataset. Accuracy: {acc:f}\".format(acc=np.sum(y==pred)/len(y)))\n",
    "plt.ylabel('True label')\n",
    "plt.xlabel('Predicted label')\n",
    "plt.savefig(\"E:\\\\NN\\\\\"+modelName+\"_confusionOnTest_Train.png\")\n"
   ]
  },
  {
   "cell_type": "code",
   "execution_count": 61,
   "id": "e638e884",
   "metadata": {},
   "outputs": [
    {
     "name": "stdout",
     "output_type": "stream",
     "text": [
      "567/567 [==============================] - 89s 157ms/step - loss: 3.5345e-04 - accuracy: 1.0000\n",
      "[0.00035344576463103294, 1.0]\n"
     ]
    }
   ],
   "source": [
    "score = model.evaluate(train_generatorT)\n",
    "print(score)"
   ]
  },
  {
   "cell_type": "code",
   "execution_count": 56,
   "id": "4c6b4775",
   "metadata": {},
   "outputs": [
    {
     "name": "stdout",
     "output_type": "stream",
     "text": [
      "567/567 [==============================] - 89s 157ms/step\n"
     ]
    },
    {
     "data": {
      "text/plain": [
       "(18130, 3)"
      ]
     },
     "execution_count": 56,
     "metadata": {},
     "output_type": "execute_result"
    }
   ],
   "source": [
    "pred = model.predict_generator(train_generator,verbose=1)\n",
    "pred.shape"
   ]
  },
  {
   "cell_type": "code",
   "execution_count": 57,
   "id": "3f103e27",
   "metadata": {},
   "outputs": [
    {
     "data": {
      "text/plain": [
       "array([[9.9993336e-01, 6.6623645e-05, 2.0047966e-09],\n",
       "       [1.0000000e+00, 1.3673330e-08, 4.0443326e-10],\n",
       "       [3.7493074e-08, 1.0000000e+00, 1.9402356e-11],\n",
       "       [3.0466440e-04, 9.9913293e-01, 5.6242698e-04]], dtype=float32)"
      ]
     },
     "execution_count": 57,
     "metadata": {},
     "output_type": "execute_result"
    }
   ],
   "source": [
    "train_generatorT = train_datagen.flow_from_directory(\n",
    "    directory=\"E:\\\\data\\\\Train\\\\\",#'E:\\\\data\\\\imageTest\\\\training_set\\\\',#\n",
    "    target_size=(300, 300),\n",
    "    color_mode=\"grayscale\",\n",
    "    batch_size=32,\n",
    "    class_mode=\"categorical\",\n",
    "    shuffle=False,\n",
    "    seed=36\n",
    ")\n"
   ]
  }
 ],
 "metadata": {
  "kernelspec": {
   "display_name": "Python 3",
   "language": "python",
   "name": "python3"
  },
  "language_info": {
   "codemirror_mode": {
    "name": "ipython",
    "version": 3
   },
   "file_extension": ".py",
   "mimetype": "text/x-python",
   "name": "python",
   "nbconvert_exporter": "python",
   "pygments_lexer": "ipython3",
   "version": "3.8.10"
  }
 },
 "nbformat": 4,
 "nbformat_minor": 5
}
