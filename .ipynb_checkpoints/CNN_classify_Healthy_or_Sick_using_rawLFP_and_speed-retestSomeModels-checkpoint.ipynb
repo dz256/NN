{
 "cells": [
  {
   "cell_type": "code",
   "execution_count": 2,
   "id": "929a0299",
   "metadata": {},
   "outputs": [],
   "source": [
    "#since noteboke doesn't work in jupiterlabs    %matplotlib notebook \n",
    "%matplotlib inline \n",
    "%load_ext autoreload\n",
    "%autoreload 2"
   ]
  },
  {
   "cell_type": "code",
   "execution_count": 1,
   "id": "2904af6b",
   "metadata": {
    "scrolled": true
   },
   "outputs": [],
   "source": [
    "import tensorflow as tf\n",
    "import os\n",
    "# os.environ['PATH'] += os.pathsep + 'D:\\\\6OHDA\\\\'\n",
    "import numpy as np\n",
    "import scipy as sci\n",
    "from IO import *\n",
    "from utils import *\n",
    "import re\n",
    "from tqdm import tqdm\n",
    "\n",
    "from tensorflow.keras.models import Sequential, load_model\n",
    "from tensorflow.keras.layers import Input\n",
    "from tensorflow.keras.layers import Dense, Dropout, Activation, Flatten, Concatenate\n",
    "from tensorflow.keras.layers import Convolution2D, MaxPooling2D,Conv2D, Conv1D,MaxPooling1D\n",
    "# from tensorflow.keras.layers.core import Lambda\n",
    "import tensorflow.keras.optimizers as optimizers\n",
    "from tensorflow.keras import regularizers\n",
    "from tensorflow.keras import backend as K\n",
    "from tensorflow.keras.models import Model\n",
    "\n",
    "from matplotlib import pyplot as plt\n",
    "from matplotlib import gridspec\n",
    "import seaborn as sns\n",
    "\n",
    "import pickle\n",
    "import random\n",
    "# import png"
   ]
  },
  {
   "cell_type": "code",
   "execution_count": 3,
   "id": "651e941a",
   "metadata": {
    "scrolled": false
   },
   "outputs": [
    {
     "name": "stdout",
     "output_type": "stream",
     "text": [
      "[name: \"/device:CPU:0\"\n",
      "device_type: \"CPU\"\n",
      "memory_limit: 268435456\n",
      "locality {\n",
      "}\n",
      "incarnation: 11974704268401034473\n",
      ", name: \"/device:GPU:0\"\n",
      "device_type: \"GPU\"\n",
      "memory_limit: 9545658356\n",
      "locality {\n",
      "  bus_id: 1\n",
      "  links {\n",
      "  }\n",
      "}\n",
      "incarnation: 186422914374101065\n",
      "physical_device_desc: \"device: 0, name: GeForce GTX 1080 Ti, pci bus id: 0000:17:00.0, compute capability: 6.1\"\n",
      ", name: \"/device:GPU:1\"\n",
      "device_type: \"GPU\"\n",
      "memory_limit: 10091102208\n",
      "locality {\n",
      "  bus_id: 1\n",
      "  links {\n",
      "  }\n",
      "}\n",
      "incarnation: 17928607058949342994\n",
      "physical_device_desc: \"device: 1, name: GeForce GTX 1080 Ti, pci bus id: 0000:65:00.0, compute capability: 6.1\"\n",
      "]\n"
     ]
    },
    {
     "data": {
      "text/plain": [
       "[PhysicalDevice(name='/physical_device:CPU:0', device_type='CPU'),\n",
       " PhysicalDevice(name='/physical_device:GPU:0', device_type='GPU'),\n",
       " PhysicalDevice(name='/physical_device:GPU:1', device_type='GPU')]"
      ]
     },
     "execution_count": 3,
     "metadata": {},
     "output_type": "execute_result"
    }
   ],
   "source": [
    "from tensorflow.python.client import device_lib\n",
    "print(device_lib.list_local_devices())\n",
    "tf.config.list_physical_devices()"
   ]
  },
  {
   "cell_type": "code",
   "execution_count": 4,
   "id": "dabf073e",
   "metadata": {},
   "outputs": [],
   "source": [
    "Files = ['FinalData_6OHDA.h5','FinalData_6OHDA_H.h5']\n",
    "#miceList.remove('1253')\n",
    "#miceList.remove('1231')\n",
    "def periodCalc(day):\n",
    "    if day== 0:\n",
    "        return 'Healthy'\n",
    "    elif day<13:\n",
    "        return 'Acute' #day 1-13\n",
    "    else:\n",
    "        return 'Chronic' #day 14-35"
   ]
  },
  {
   "cell_type": "code",
   "execution_count": 8,
   "id": "b4874a6b",
   "metadata": {},
   "outputs": [
    {
     "name": "stdout",
     "output_type": "stream",
     "text": [
      "cleaning up lfp data\n",
      "I deleted session: 1208_day12\n",
      "cleaning up speed data\n",
      "cleaning up lfp data\n",
      "I deleted session: 2976_day4\n",
      "cleaning up speed data\n"
     ]
    }
   ],
   "source": [
    "data_train = getData(Files[0],['lfp','speed'],period ='Pre', mice=mTrain)\n",
    "# data_validate = getData(Files[0],['lfp','speed'],period ='Pre', mice=mValidate)\n",
    "data_test = getData(Files[0],['lfp','speed'],period ='Pre', mice=mTest)"
   ]
  },
  {
   "cell_type": "code",
   "execution_count": 9,
   "id": "b5d1f4a5",
   "metadata": {},
   "outputs": [],
   "source": [
    "def prepData(segN,overlap,df):\n",
    "    df2 = df\n",
    "    df2['start'] = pd.Series([[]] * len(df2), index=df2.index)\n",
    "    df2['end'] = pd.Series([[]] * len(df2), index=df2.index)\n",
    "    for l in df.length.unique():\n",
    "        a = np.asarray([[i,i + segN] for i in range(0, l-(segN-overlap),int(segN-overlap))])\n",
    "        df2.loc[df2.length==l,'start'] = pd.Series([a[:,0]] * len(df2), index=df2.index)\n",
    "        df2.loc[df2.length==l,'end'] =  pd.Series([a[:,1]] * len(df2), index=df2.index)\n",
    "    lst_col = 'start'\n",
    "\n",
    "    lst_col = 'start'\n",
    "    lst_col2 = 'end'\n",
    "    df3 = pd.DataFrame({\n",
    "        col:np.repeat(df2[col].values, df2['start'].str.len())\n",
    "        for col in df2.columns.difference(['start','end'])\n",
    "    }).assign(**{'start':np.concatenate(df2['start'].values)}).assign(**{'end':np.concatenate(df2['end'].values)})[df2.columns.tolist()]\n",
    "    return df3"
   ]
  },
  {
   "cell_type": "code",
   "execution_count": 18,
   "id": "2e69ab06",
   "metadata": {},
   "outputs": [
    {
     "name": "stdout",
     "output_type": "stream",
     "text": [
      "[1231, 1253, 8815, 1208, 2981, 1222, 2976, 7909, 4539, 1793, 8803, 7584, 2980, 8430] [1236, 761]\n"
     ]
    }
   ],
   "source": [
    "miceList = getMiceList(Files[0])\n",
    "miceList.remove('1253')\n",
    "miceList.remove('1231')\n",
    "mOrder = np.random.permutation(len(miceList))\n",
    "\n",
    "mTrain = [1231, 1253]\n",
    "mTest =[int(miceList[i]) for i in mOrder[:2]]\n",
    "mTrain = mTrain+ [int(miceList[i]) for i in mOrder[2:]]\n",
    "\n",
    "print(mTrain,mTest)\n",
    "# print(miceList[mOrder[:2]])"
   ]
  },
  {
   "cell_type": "code",
   "execution_count": 19,
   "id": "b4b46370",
   "metadata": {},
   "outputs": [],
   "source": [
    "df = pd.read_csv('availableData2.csv')  \n",
    "# try 30s with 20s overlab\n",
    "dtL = 0.0032768\n",
    "segN = int(np.ceil(15/dtL))\n",
    "overlap = int(np.ceil(3/dtL))\n",
    "dataSamples = prepData(segN,overlap,df)\n",
    "\n",
    "df = prepData(segN,overlap,df)\n",
    "testData = df[df.Mouse.isin(mTest)]\n",
    "trainData = df[df.Mouse.isin(mTrain)]\n",
    "validate = trainData.sample(frac=.1)\n",
    "trainData = trainData.drop(validate.index)"
   ]
  },
  {
   "cell_type": "code",
   "execution_count": 11,
   "id": "86256562",
   "metadata": {},
   "outputs": [],
   "source": [
    "def loadTrain(data,sampleSize):\n",
    "    f = h5py.File('E:\\\\rawLFPData2.hdf5','r')\n",
    "    data['Period'] = data.Period.apply(lambda x: 'Healthy' if x=='Healthy' else  'sick' )\n",
    "    # sampleSize = batchSize/3\n",
    "    while True: \n",
    "        batch = data.groupby('Period').apply(lambda x: x.sample(sampleSize))\n",
    "        batch = batch.sample(frac=1)\n",
    "        labels = batch.Period.apply(lambda x: [1,0] if x=='Healthy' else  [0,1]  )\n",
    "        labels = np.stack(labels.values)\n",
    "        dataPoint = batch.apply(lambda row: f[row.Session][:,row.start:row.end].T, axis=1).values\n",
    "        try:\n",
    "            dataPoint = np.stack(dataPoint)\n",
    "        except:\n",
    "            continue\n",
    "        yield (dataPoint,labels)\n",
    "    f.close()\n"
   ]
  },
  {
   "cell_type": "code",
   "execution_count": 12,
   "id": "08148584",
   "metadata": {},
   "outputs": [],
   "source": [
    "def loadTest(data):\n",
    "    f = h5py.File('E:\\\\rawLFPData2.hdf5','r')\n",
    "    # sampleSize = batchSize/3 \n",
    "    for i, g in data.groupby(np.arange(len(data)) // 9):\n",
    "        batch = g\n",
    "        labels = batch.Period.apply(lambda x: [1,0] if x=='Healthy' else  [0,1] )\n",
    "        labels = np.stack(labels.values)\n",
    "        dataPoint = batch.apply(lambda row: f[row.Session][:,row.start:row.end].T, axis=1).values\n",
    "        try:\n",
    "            dataPoint = np.stack(dataPoint)\n",
    "        except:\n",
    "            continue\n",
    "        yield (dataPoint,labels)\n",
    "    f.close()\n"
   ]
  },
  {
   "cell_type": "code",
   "execution_count": 21,
   "id": "b492a969",
   "metadata": {},
   "outputs": [
    {
     "name": "stdout",
     "output_type": "stream",
     "text": [
      "[0.78273906 0.28923555]\n",
      "[0.76908022 0.14689967]\n"
     ]
    }
   ],
   "source": [
    "for ind,(dataP,label) in enumerate(loadTest(testData)):\n",
    "    print(np.max(dataP[3,:,:],axis=0))\n",
    "    if ind == 1:\n",
    "        break"
   ]
  },
  {
   "cell_type": "code",
   "execution_count": 22,
   "id": "4b253be0",
   "metadata": {},
   "outputs": [
    {
     "name": "stdout",
     "output_type": "stream",
     "text": [
      "(6, 2) (6, 4578, 2)\n",
      "(6, 2) (6, 4578, 2)\n",
      "(6, 2) (6, 4578, 2)\n",
      "(6, 2) (6, 4578, 2)\n"
     ]
    }
   ],
   "source": [
    "for ind,(dataP,label) in enumerate(loadTrain(trainData,3)):\n",
    "    print(label.shape,dataP.shape)\n",
    "    if ind == 3:\n",
    "        break"
   ]
  },
  {
   "cell_type": "code",
   "execution_count": 39,
   "id": "2de8fb7d",
   "metadata": {},
   "outputs": [],
   "source": [
    "model =  tf.keras.models.load_model('E:\\\\rawLFP_v5n_tunning_binary')\n",
    "model.compile(optimizer='adam',\n",
    "              loss=tf.keras.losses.SparseCategoricalCrossentropy(),\n",
    "              metrics=['accuracy'])\n",
    "# model.load_weights(\"E:\\\\rawLFP_v5n_tunning_binary_weights.h5\")"
   ]
  },
  {
   "cell_type": "code",
   "execution_count": 30,
   "id": "7d14483e",
   "metadata": {},
   "outputs": [],
   "source": [
    "batchSize = 64\n",
    "sampleSize = batchSize//2\n"
   ]
  },
  {
   "cell_type": "code",
   "execution_count": 40,
   "id": "8fb8411a",
   "metadata": {},
   "outputs": [
    {
     "name": "stdout",
     "output_type": "stream",
     "text": [
      "Model: \"sequential\"\n",
      "_________________________________________________________________\n",
      "Layer (type)                 Output Shape              Param #   \n",
      "=================================================================\n",
      "conv1d (Conv1D)              (None, 4526, 16)          1712      \n",
      "_________________________________________________________________\n",
      "max_pooling1d (MaxPooling1D) (None, 2263, 16)          0         \n",
      "_________________________________________________________________\n",
      "dropout (Dropout)            (None, 2263, 16)          0         \n",
      "_________________________________________________________________\n",
      "conv1d_1 (Conv1D)            (None, 2253, 4)           708       \n",
      "_________________________________________________________________\n",
      "max_pooling1d_1 (MaxPooling1 (None, 1126, 4)           0         \n",
      "_________________________________________________________________\n",
      "dropout_1 (Dropout)          (None, 1126, 4)           0         \n",
      "_________________________________________________________________\n",
      "conv1d_2 (Conv1D)            (None, 1096, 64)          8000      \n",
      "_________________________________________________________________\n",
      "max_pooling1d_2 (MaxPooling1 (None, 548, 64)           0         \n",
      "_________________________________________________________________\n",
      "dropout_2 (Dropout)          (None, 548, 64)           0         \n",
      "_________________________________________________________________\n",
      "conv1d_3 (Conv1D)            (None, 548, 64)           110656    \n",
      "_________________________________________________________________\n",
      "max_pooling1d_3 (MaxPooling1 (None, 274, 64)           0         \n",
      "_________________________________________________________________\n",
      "dropout_3 (Dropout)          (None, 274, 64)           0         \n",
      "_________________________________________________________________\n",
      "conv1d_4 (Conv1D)            (None, 274, 16)           25616     \n",
      "_________________________________________________________________\n",
      "max_pooling1d_4 (MaxPooling1 (None, 137, 16)           0         \n",
      "_________________________________________________________________\n",
      "dropout_4 (Dropout)          (None, 137, 16)           0         \n",
      "_________________________________________________________________\n",
      "conv1d_5 (Conv1D)            (None, 137, 64)           3136      \n",
      "_________________________________________________________________\n",
      "max_pooling1d_5 (MaxPooling1 (None, 68, 64)            0         \n",
      "_________________________________________________________________\n",
      "dropout_5 (Dropout)          (None, 68, 64)            0         \n",
      "_________________________________________________________________\n",
      "flatten (Flatten)            (None, 4352)              0         \n",
      "_________________________________________________________________\n",
      "dense (Dense)                (None, 10)                43530     \n",
      "_________________________________________________________________\n",
      "dense_1 (Dense)              (None, 2)                 22        \n",
      "=================================================================\n",
      "Total params: 193,380\n",
      "Trainable params: 193,380\n",
      "Non-trainable params: 0\n",
      "_________________________________________________________________\n",
      "None\n"
     ]
    }
   ],
   "source": [
    "print(model.summary())"
   ]
  },
  {
   "cell_type": "code",
   "execution_count": 41,
   "id": "d4551229",
   "metadata": {},
   "outputs": [],
   "source": [
    "early_stopping = tf.keras.callbacks.EarlyStopping(\n",
    "    monitor='val_accuracy', \n",
    "    verbose=1,\n",
    "    patience=50,\n",
    "    mode='max',\n",
    "    restore_best_weights=True)"
   ]
  },
  {
   "cell_type": "code",
   "execution_count": 42,
   "id": "50b307a4",
   "metadata": {
    "scrolled": true
   },
   "outputs": [
    {
     "name": "stdout",
     "output_type": "stream",
     "text": [
      "Epoch 1/1200\n",
      "126/126 [==============================] - 6s 38ms/step - loss: 0.6155 - accuracy: 0.6487 - val_loss: 0.6287 - val_accuracy: 0.6150: 0.613\n",
      "Epoch 2/1200\n",
      "126/126 [==============================] - 5s 37ms/step - loss: 0.6181 - accuracy: 0.6391 - val_loss: 0.6398 - val_accuracy: 0.5949\n",
      "Epoch 3/1200\n",
      "126/126 [==============================] - 5s 37ms/step - loss: 0.6150 - accuracy: 0.6365 - val_loss: 0.6656 - val_accuracy: 0.5681\n",
      "Epoch 4/1200\n",
      "126/126 [==============================] - 5s 37ms/step - loss: 0.6128 - accuracy: 0.6420 - val_loss: 0.6644 - val_accuracy: 0.5424\n",
      "Epoch 5/1200\n",
      "126/126 [==============================] - 5s 37ms/step - loss: 0.6122 - accuracy: 0.6424 - val_loss: 0.5998 - val_accuracy: 0.6674\n",
      "Epoch 6/1200\n",
      "126/126 [==============================] - 5s 37ms/step - loss: 0.6191 - accuracy: 0.6317 - val_loss: 0.6833 - val_accuracy: 0.5547\n",
      "Epoch 7/1200\n",
      "126/126 [==============================] - 5s 37ms/step - loss: 0.6048 - accuracy: 0.6481 - val_loss: 0.6470 - val_accuracy: 0.5725\n",
      "Epoch 8/1200\n",
      "126/126 [==============================] - 5s 37ms/step - loss: 0.6054 - accuracy: 0.6500 - val_loss: 0.6989 - val_accuracy: 0.5759\n",
      "Epoch 9/1200\n",
      "126/126 [==============================] - 5s 37ms/step - loss: 0.6039 - accuracy: 0.6479 - val_loss: 0.6247 - val_accuracy: 0.6083\n",
      "Epoch 10/1200\n",
      "126/126 [==============================] - 5s 37ms/step - loss: 0.6060 - accuracy: 0.6549 - val_loss: 0.6341 - val_accuracy: 0.5859\n",
      "Epoch 11/1200\n",
      "126/126 [==============================] - 5s 37ms/step - loss: 0.6044 - accuracy: 0.6517 - val_loss: 0.6734 - val_accuracy: 0.5212\n",
      "Epoch 12/1200\n",
      "126/126 [==============================] - 5s 38ms/step - loss: 0.6086 - accuracy: 0.6513 - val_loss: 0.6839 - val_accuracy: 0.5592\n",
      "Epoch 13/1200\n",
      "126/126 [==============================] - 5s 37ms/step - loss: 0.5984 - accuracy: 0.6591 - val_loss: 0.6636 - val_accuracy: 0.5804\n",
      "Epoch 14/1200\n",
      "126/126 [==============================] - 5s 37ms/step - loss: 0.6048 - accuracy: 0.6560 - val_loss: 0.6570 - val_accuracy: 0.6272\n",
      "Epoch 15/1200\n",
      "126/126 [==============================] - 5s 37ms/step - loss: 0.5978 - accuracy: 0.6551 - val_loss: 0.6478 - val_accuracy: 0.5625\n",
      "Epoch 16/1200\n",
      "126/126 [==============================] - 5s 37ms/step - loss: 0.6061 - accuracy: 0.6514 - val_loss: 0.6224 - val_accuracy: 0.5938\n",
      "Epoch 17/1200\n",
      "126/126 [==============================] - 5s 37ms/step - loss: 0.6100 - accuracy: 0.6489 - val_loss: 0.6437 - val_accuracy: 0.5312\n",
      "Epoch 18/1200\n",
      "126/126 [==============================] - 5s 37ms/step - loss: 0.5949 - accuracy: 0.6688 - val_loss: 0.6316 - val_accuracy: 0.6797 0s -\n",
      "Epoch 19/1200\n",
      "126/126 [==============================] - 5s 37ms/step - loss: 0.5873 - accuracy: 0.6654 - val_loss: 0.7285 - val_accuracy: 0.5413\n",
      "Epoch 20/1200\n",
      "126/126 [==============================] - 5s 37ms/step - loss: 0.5957 - accuracy: 0.6741 - val_loss: 0.5989 - val_accuracy: 0.6685\n",
      "Epoch 21/1200\n",
      "126/126 [==============================] - 5s 37ms/step - loss: 0.5964 - accuracy: 0.6577 - val_loss: 0.5700 - val_accuracy: 0.7087\n",
      "Epoch 22/1200\n",
      "126/126 [==============================] - 5s 37ms/step - loss: 0.5907 - accuracy: 0.6731 - val_loss: 0.6811 - val_accuracy: 0.5491\n",
      "Epoch 23/1200\n",
      "126/126 [==============================] - 5s 38ms/step - loss: 0.5954 - accuracy: 0.6603 - val_loss: 0.6520 - val_accuracy: 0.5480\n",
      "Epoch 24/1200\n",
      "126/126 [==============================] - 5s 37ms/step - loss: 0.5885 - accuracy: 0.6700 - val_loss: 0.5965 - val_accuracy: 0.6373\n",
      "Epoch 25/1200\n",
      "126/126 [==============================] - 5s 40ms/step - loss: 0.5838 - accuracy: 0.6703 - val_loss: 0.5738 - val_accuracy: 0.6708\n",
      "Epoch 26/1200\n",
      "126/126 [==============================] - 5s 37ms/step - loss: 0.5870 - accuracy: 0.6696 - val_loss: 0.6590 - val_accuracy: 0.5949\n",
      "Epoch 27/1200\n",
      "126/126 [==============================] - 5s 37ms/step - loss: 0.5839 - accuracy: 0.6739 - val_loss: 0.5869 - val_accuracy: 0.6842\n",
      "Epoch 28/1200\n",
      "126/126 [==============================] - 5s 37ms/step - loss: 0.5816 - accuracy: 0.6762 - val_loss: 0.6134 - val_accuracy: 0.6429\n",
      "Epoch 29/1200\n",
      "126/126 [==============================] - 5s 37ms/step - loss: 0.5815 - accuracy: 0.6762 - val_loss: 0.5592 - val_accuracy: 0.7422\n",
      "Epoch 30/1200\n",
      "126/126 [==============================] - 5s 37ms/step - loss: 0.5745 - accuracy: 0.6820 - val_loss: 0.5710 - val_accuracy: 0.6775\n",
      "Epoch 31/1200\n",
      "126/126 [==============================] - 5s 36ms/step - loss: 0.5762 - accuracy: 0.6724 - val_loss: 0.5760 - val_accuracy: 0.6975\n",
      "Epoch 32/1200\n",
      "126/126 [==============================] - 5s 37ms/step - loss: 0.5789 - accuracy: 0.6856 - val_loss: 0.6086 - val_accuracy: 0.6473\n",
      "Epoch 33/1200\n",
      "126/126 [==============================] - 5s 37ms/step - loss: 0.5629 - accuracy: 0.6928 - val_loss: 0.5835 - val_accuracy: 0.6719\n",
      "Epoch 34/1200\n",
      "126/126 [==============================] - 5s 37ms/step - loss: 0.5654 - accuracy: 0.6925 - val_loss: 0.5909 - val_accuracy: 0.6763\n",
      "Epoch 35/1200\n",
      "126/126 [==============================] - 5s 37ms/step - loss: 0.5691 - accuracy: 0.6811 - val_loss: 0.6228 - val_accuracy: 0.6618\n",
      "Epoch 36/1200\n",
      "126/126 [==============================] - 5s 37ms/step - loss: 0.5605 - accuracy: 0.6923 - val_loss: 0.5950 - val_accuracy: 0.6228\n",
      "Epoch 37/1200\n",
      "126/126 [==============================] - 5s 37ms/step - loss: 0.5772 - accuracy: 0.6730 - val_loss: 0.6031 - val_accuracy: 0.6384\n",
      "Epoch 38/1200\n",
      "126/126 [==============================] - 5s 38ms/step - loss: 0.5683 - accuracy: 0.6913 - val_loss: 0.5342 - val_accuracy: 0.7522\n",
      "Epoch 39/1200\n",
      "126/126 [==============================] - 5s 37ms/step - loss: 0.5609 - accuracy: 0.6881 - val_loss: 0.5680 - val_accuracy: 0.6786\n",
      "Epoch 40/1200\n",
      "126/126 [==============================] - 5s 37ms/step - loss: 0.5599 - accuracy: 0.6911 - val_loss: 0.5948 - val_accuracy: 0.6562\n",
      "Epoch 41/1200\n",
      "126/126 [==============================] - 5s 37ms/step - loss: 0.5447 - accuracy: 0.7034 - val_loss: 0.5632 - val_accuracy: 0.6964s - loss: 0.5\n",
      "Epoch 42/1200\n",
      "126/126 [==============================] - 5s 37ms/step - loss: 0.5515 - accuracy: 0.6975 - val_loss: 0.5761 - val_accuracy: 0.6842\n",
      "Epoch 43/1200\n",
      "126/126 [==============================] - 5s 37ms/step - loss: 0.5538 - accuracy: 0.6963 - val_loss: 0.5654 - val_accuracy: 0.6797\n",
      "Epoch 44/1200\n",
      "126/126 [==============================] - 5s 37ms/step - loss: 0.5508 - accuracy: 0.7026 - val_loss: 0.6031 - val_accuracy: 0.6752\n",
      "Epoch 45/1200\n",
      "126/126 [==============================] - 5s 37ms/step - loss: 0.5540 - accuracy: 0.6959 - val_loss: 0.5692 - val_accuracy: 0.6998\n",
      "Epoch 46/1200\n",
      "126/126 [==============================] - 5s 37ms/step - loss: 0.5468 - accuracy: 0.6974 - val_loss: 0.5395 - val_accuracy: 0.6886\n",
      "Epoch 47/1200\n",
      "126/126 [==============================] - 5s 37ms/step - loss: 0.5473 - accuracy: 0.7025 - val_loss: 0.5637 - val_accuracy: 0.7210\n",
      "Epoch 48/1200\n",
      "126/126 [==============================] - 5s 37ms/step - loss: 0.5399 - accuracy: 0.7085 - val_loss: 0.6081 - val_accuracy: 0.6819\n",
      "Epoch 49/1200\n",
      "126/126 [==============================] - 5s 37ms/step - loss: 0.5411 - accuracy: 0.7106 - val_loss: 0.6077 - val_accuracy: 0.6406\n",
      "Epoch 50/1200\n",
      "126/126 [==============================] - 5s 39ms/step - loss: 0.5371 - accuracy: 0.7080 - val_loss: 0.6029 - val_accuracy: 0.6696\n",
      "Epoch 51/1200\n",
      "126/126 [==============================] - 5s 37ms/step - loss: 0.5290 - accuracy: 0.7137 - val_loss: 0.5343 - val_accuracy: 0.7031\n",
      "Epoch 52/1200\n",
      "126/126 [==============================] - 5s 38ms/step - loss: 0.5430 - accuracy: 0.7063 - val_loss: 0.5309 - val_accuracy: 0.7076\n",
      "Epoch 53/1200\n",
      "126/126 [==============================] - 5s 37ms/step - loss: 0.5402 - accuracy: 0.7093 - val_loss: 0.5402 - val_accuracy: 0.7065\n",
      "Epoch 54/1200\n",
      "126/126 [==============================] - 5s 37ms/step - loss: 0.5306 - accuracy: 0.7154 - val_loss: 0.6205 - val_accuracy: 0.6283\n",
      "Epoch 55/1200\n",
      "126/126 [==============================] - 5s 37ms/step - loss: 0.5296 - accuracy: 0.7092 - val_loss: 0.5485 - val_accuracy: 0.6998\n",
      "Epoch 56/1200\n",
      "126/126 [==============================] - 5s 37ms/step - loss: 0.5330 - accuracy: 0.7039 - val_loss: 0.5983 - val_accuracy: 0.6473\n",
      "Epoch 57/1200\n"
     ]
    },
    {
     "name": "stdout",
     "output_type": "stream",
     "text": [
      "126/126 [==============================] - 5s 37ms/step - loss: 0.5308 - accuracy: 0.7135 - val_loss: 0.5573 - val_accuracy: 0.6931\n",
      "Epoch 58/1200\n",
      "126/126 [==============================] - 5s 37ms/step - loss: 0.5406 - accuracy: 0.7041 - val_loss: 0.5850 - val_accuracy: 0.6562\n",
      "Epoch 59/1200\n",
      "126/126 [==============================] - 5s 38ms/step - loss: 0.5147 - accuracy: 0.7233 - val_loss: 0.5442 - val_accuracy: 0.6864\n",
      "Epoch 60/1200\n",
      "126/126 [==============================] - 5s 37ms/step - loss: 0.5315 - accuracy: 0.7075 - val_loss: 0.6439 - val_accuracy: 0.6083\n",
      "Epoch 61/1200\n",
      "126/126 [==============================] - 5s 38ms/step - loss: 0.5234 - accuracy: 0.7199 - val_loss: 0.5102 - val_accuracy: 0.7277\n",
      "Epoch 62/1200\n",
      "126/126 [==============================] - 5s 37ms/step - loss: 0.5174 - accuracy: 0.7206 - val_loss: 0.5726 - val_accuracy: 0.6797\n",
      "Epoch 63/1200\n",
      "126/126 [==============================] - 5s 36ms/step - loss: 0.5144 - accuracy: 0.7290 - val_loss: 0.5316 - val_accuracy: 0.7042\n",
      "Epoch 64/1200\n",
      "126/126 [==============================] - 5s 37ms/step - loss: 0.5142 - accuracy: 0.7274 - val_loss: 0.5782 - val_accuracy: 0.6875\n",
      "Epoch 65/1200\n",
      "126/126 [==============================] - 5s 37ms/step - loss: 0.5076 - accuracy: 0.7283 - val_loss: 0.5074 - val_accuracy: 0.7221\n",
      "Epoch 66/1200\n",
      "126/126 [==============================] - 5s 37ms/step - loss: 0.5123 - accuracy: 0.7272 - val_loss: 0.5710 - val_accuracy: 0.6842\n",
      "Epoch 67/1200\n",
      "126/126 [==============================] - 5s 37ms/step - loss: 0.5005 - accuracy: 0.7303 - val_loss: 0.5133 - val_accuracy: 0.7143\n",
      "Epoch 68/1200\n",
      "126/126 [==============================] - 5s 37ms/step - loss: 0.5296 - accuracy: 0.7168 - val_loss: 0.5068 - val_accuracy: 0.71435318 - accuracy: 0. - ETA: 0s - loss: 0.5300 - accuracy: 0.\n",
      "Epoch 69/1200\n",
      "126/126 [==============================] - 5s 37ms/step - loss: 0.5059 - accuracy: 0.7264 - val_loss: 0.6271 - val_accuracy: 0.6484\n",
      "Epoch 70/1200\n",
      "126/126 [==============================] - 5s 37ms/step - loss: 0.4973 - accuracy: 0.7336 - val_loss: 0.5314 - val_accuracy: 0.7109\n",
      "Epoch 71/1200\n",
      "126/126 [==============================] - 5s 37ms/step - loss: 0.5008 - accuracy: 0.7289 - val_loss: 0.5612 - val_accuracy: 0.6518\n",
      "Epoch 72/1200\n",
      "126/126 [==============================] - 5s 37ms/step - loss: 0.4924 - accuracy: 0.7439 - val_loss: 0.4911 - val_accuracy: 0.7388\n",
      "Epoch 73/1200\n",
      "126/126 [==============================] - 5s 37ms/step - loss: 0.5119 - accuracy: 0.7216 - val_loss: 0.5597 - val_accuracy: 0.6763\n",
      "Epoch 74/1200\n",
      "126/126 [==============================] - 5s 37ms/step - loss: 0.4984 - accuracy: 0.7378 - val_loss: 0.5689 - val_accuracy: 0.6920\n",
      "Epoch 75/1200\n",
      "126/126 [==============================] - 5s 37ms/step - loss: 0.4957 - accuracy: 0.7289 - val_loss: 0.4966 - val_accuracy: 0.7221\n",
      "Epoch 76/1200\n",
      "126/126 [==============================] - 5s 38ms/step - loss: 0.4963 - accuracy: 0.7369 - val_loss: 0.5691 - val_accuracy: 0.6663\n",
      "Epoch 77/1200\n",
      "126/126 [==============================] - 5s 37ms/step - loss: 0.5028 - accuracy: 0.7289 - val_loss: 0.5183 - val_accuracy: 0.6987\n",
      "Epoch 78/1200\n",
      "126/126 [==============================] - 5s 37ms/step - loss: 0.4837 - accuracy: 0.7393 - val_loss: 0.5886 - val_accuracy: 0.6484\n",
      "Epoch 79/1200\n",
      "126/126 [==============================] - 5s 37ms/step - loss: 0.5022 - accuracy: 0.7287 - val_loss: 0.5054 - val_accuracy: 0.7522\n",
      "Epoch 80/1200\n",
      "126/126 [==============================] - 5s 37ms/step - loss: 0.4893 - accuracy: 0.7325 - val_loss: 0.4953 - val_accuracy: 0.7065\n",
      "Epoch 81/1200\n",
      "126/126 [==============================] - 5s 37ms/step - loss: 0.4802 - accuracy: 0.7464 - val_loss: 0.5453 - val_accuracy: 0.6931\n",
      "Epoch 82/1200\n",
      "126/126 [==============================] - 5s 37ms/step - loss: 0.4967 - accuracy: 0.7338 - val_loss: 0.5573 - val_accuracy: 0.6629\n",
      "Epoch 83/1200\n",
      "126/126 [==============================] - 5s 37ms/step - loss: 0.4960 - accuracy: 0.7366 - val_loss: 0.5309 - val_accuracy: 0.6853\n",
      "Epoch 84/1200\n",
      "126/126 [==============================] - 5s 37ms/step - loss: 0.4879 - accuracy: 0.7346 - val_loss: 0.5125 - val_accuracy: 0.6920\n",
      "Epoch 85/1200\n",
      "126/126 [==============================] - 5s 37ms/step - loss: 0.4871 - accuracy: 0.7398 - val_loss: 0.5258 - val_accuracy: 0.7109\n",
      "Epoch 86/1200\n",
      "126/126 [==============================] - 5s 36ms/step - loss: 0.4774 - accuracy: 0.7436 - val_loss: 0.4926 - val_accuracy: 0.7344\n",
      "Epoch 87/1200\n",
      "126/126 [==============================] - 5s 37ms/step - loss: 0.4841 - accuracy: 0.7392 - val_loss: 0.5659 - val_accuracy: 0.6786\n",
      "Epoch 88/1200\n",
      "126/126 [==============================] - 5s 37ms/step - loss: 0.4781 - accuracy: 0.7476 - val_loss: 0.5308 - val_accuracy: 0.6998\n",
      "Restoring model weights from the end of the best epoch.\n",
      "Epoch 00088: early stopping\n"
     ]
    }
   ],
   "source": [
    "modelName = 'rawLFP_v5n_retesting'\n",
    "\n",
    "model.compile(optimizer='sgd',\n",
    "              loss=tf.keras.losses.CategoricalCrossentropy(),\n",
    "              metrics=['accuracy'])\n",
    "\n",
    "stepTrain=len(trainData)//batchSize\n",
    "stepValidate=len(validate)//batchSize\n",
    "\n",
    "history = model.fit(loadTrain(trainData,sampleSize),\n",
    "                    steps_per_epoch=stepTrain,\n",
    "                    validation_data=loadTrain(validate,sampleSize),\n",
    "                    validation_steps=stepValidate,\n",
    "                    epochs=1200,callbacks=[early_stopping])#,\n"
   ]
  },
  {
   "cell_type": "code",
   "execution_count": 591,
   "id": "a928aee7",
   "metadata": {},
   "outputs": [],
   "source": [
    "model = tuner.get_best_models(num_models=1)[0]"
   ]
  },
  {
   "cell_type": "code",
   "execution_count": 33,
   "id": "6e68cd1b",
   "metadata": {},
   "outputs": [],
   "source": [
    "modelName = 'rawLFP_v5n_tunning_2nd'"
   ]
  },
  {
   "cell_type": "code",
   "execution_count": 592,
   "id": "b8471574",
   "metadata": {},
   "outputs": [
    {
     "name": "stdout",
     "output_type": "stream",
     "text": [
      "INFO:tensorflow:Assets written to: E:\\rawLFP_v5n_tunning_binary\\assets\n"
     ]
    }
   ],
   "source": [
    "## Saving the model\n",
    "##\n",
    "model.save('E:\\\\'+modelName)\n",
    "model.save_weights('E:\\\\'+modelName+'_weights.h5')"
   ]
  },
  {
   "cell_type": "code",
   "execution_count": 43,
   "id": "3b370f98",
   "metadata": {},
   "outputs": [
    {
     "data": {
      "image/png": "[encoded data removed]",
      "text/plain": [
       "<Figure size 432x288 with 1 Axes>"
      ]
     },
     "metadata": {
      "needs_background": "light"
     },
     "output_type": "display_data"
    }
   ],
   "source": [
    "plt.plot(history.history['accuracy'])\n",
    "\n",
    "plt.plot(history.history['val_accuracy'])# history.history\n",
    "plt.savefig(\"E:\\\\NN\\\\\"+modelName+\"_history.png\")"
   ]
  },
  {
   "cell_type": "code",
   "execution_count": 44,
   "id": "910c795e",
   "metadata": {},
   "outputs": [
    {
     "data": {
      "image/png": "[encoded data removed]",
      "text/plain": [
       "<Figure size 432x288 with 1 Axes>"
      ]
     },
     "metadata": {
      "needs_background": "light"
     },
     "output_type": "display_data"
    }
   ],
   "source": [
    "plt.plot(history.history['loss'])\n",
    "\n",
    "plt.plot(history.history['val_loss'])# history.history\n",
    "plt.savefig(\"E:\\\\NN\\\\\"+modelName+\"_loss.png\")"
   ]
  },
  {
   "cell_type": "code",
   "execution_count": 45,
   "id": "808e9d88",
   "metadata": {},
   "outputs": [
    {
     "name": "stdout",
     "output_type": "stream",
     "text": [
      "149/149 [==============================] - 1s 5ms/step\n",
      "[0 1]\n"
     ]
    }
   ],
   "source": [
    "# model =  tf.keras.models.load_model('E:\\\\caOnly_v1')\n",
    "# model.compile(optimizer='adam',\n",
    "#               loss=tf.keras.losses.SparseCategoricalCrossentropy(from_logits=True),\n",
    "#               metrics=['accuracy'])\n",
    "# model.load_weights(\"E:\\\\caOnly_v1_weights.h5\")\n",
    "\n",
    "# labels = (train_generator.class_indices)\n",
    "pred = model.predict_generator(loadTest(testData),verbose=1)\n",
    "pred = np.argmax(pred,axis=1)\n",
    "print(np.unique(pred))\n",
    "\n",
    "y = []\n",
    "for ind,(dataP,label) in enumerate(loadTest(testData)):\n",
    "    y = y+list(np.argmax(label,axis=1))\n",
    "# print(pred[1:100],y[1:100])"
   ]
  },
  {
   "cell_type": "code",
   "execution_count": 46,
   "id": "0ca3f6c2",
   "metadata": {},
   "outputs": [
    {
     "name": "stdout",
     "output_type": "stream",
     "text": [
      "0.4682124158563949\n"
     ]
    },
    {
     "data": {
      "image/png": "[encoded data removed]",
      "text/plain": [
       "<Figure size 576x576 with 2 Axes>"
      ]
     },
     "metadata": {
      "needs_background": "light"
     },
     "output_type": "display_data"
    }
   ],
   "source": [
    "\n",
    "classes=['Healthy','sick']\n",
    "con_mat = tf.math.confusion_matrix(labels=y, predictions=pred).numpy()\n",
    "con_mat_norm = np.around(con_mat.astype('float') / con_mat.sum(axis=1)[:, np.newaxis], decimals=2)\n",
    "\n",
    "con_mat_df = pd.DataFrame(con_mat_norm,\n",
    "                     index = classes, \n",
    "                     columns = classes)\n",
    "figure = plt.figure(figsize=(8, 8))\n",
    "sns.heatmap(con_mat_df, annot=True,cmap=plt.cm.Blues)\n",
    "plt.tight_layout()\n",
    "plt.title(modelName +\"- on test dataset. Accuracy: {acc:f}\".format(acc=np.sum(y==pred)/len(y)))\n",
    "plt.ylabel('True label')\n",
    "plt.xlabel('Predicted label')\n",
    "# plt.savefig(\"E:\\\\NN\\\\\"+modelName+\"_confusionOnTest_Test.png\")\n",
    "print(np.sum(y==pred)/len(y))"
   ]
  },
  {
   "cell_type": "code",
   "execution_count": 47,
   "id": "7f130f4c",
   "metadata": {},
   "outputs": [
    {
     "name": "stdout",
     "output_type": "stream",
     "text": [
      "100/100 [==============================] - 1s 6ms/step\n",
      "[0 1]\n"
     ]
    }
   ],
   "source": [
    "# model =  tf.keras.models.load_model('E:\\\\caOnly_v1')\n",
    "# model.compile(optimizer='adam',\n",
    "#               loss=tf.keras.losses.SparseCategoricalCrossentropy(from_logits=True),\n",
    "#               metrics=['accuracy'])\n",
    "# model.load_weights(\"E:\\\\caOnly_v1_weights.h5\")\n",
    "\n",
    "# labels = (train_generator.class_indices)\n",
    "pred = model.predict_generator(loadTest(validate),verbose=1)\n",
    "pred = np.argmax(pred,axis=1)\n",
    "print(np.unique(pred))\n",
    "\n",
    "y = []\n",
    "for ind,(dataP,label) in enumerate(loadTest(validate)):\n",
    "    y = y+list(np.argmax(label,axis=1))\n",
    "# print(pred[1:100],y[1:100])"
   ]
  },
  {
   "cell_type": "code",
   "execution_count": 49,
   "id": "132e7638",
   "metadata": {},
   "outputs": [
    {
     "name": "stdout",
     "output_type": "stream",
     "text": [
      "0.72\n"
     ]
    },
    {
     "data": {
      "image/png": "[encoded data removed]",
      "text/plain": [
       "<Figure size 576x576 with 2 Axes>"
      ]
     },
     "metadata": {
      "needs_background": "light"
     },
     "output_type": "display_data"
    }
   ],
   "source": [
    "classes=['Healthy','sick']\n",
    "con_mat = tf.math.confusion_matrix(labels=y, predictions=pred).numpy()\n",
    "con_mat_norm = np.around(con_mat.astype('float') / con_mat.sum(axis=1)[:, np.newaxis], decimals=2)\n",
    "\n",
    "con_mat_df = pd.DataFrame(con_mat_norm,\n",
    "                     index = classes, \n",
    "                     columns = classes)\n",
    "figure = plt.figure(figsize=(8, 8))\n",
    "sns.heatmap(con_mat_df, annot=True,cmap=plt.cm.Blues)\n",
    "plt.tight_layout()\n",
    "plt.title(modelName +\"- on validation dataset. Accuracy: {acc:f}\".format(acc=np.sum(y==pred)/len(y)))\n",
    "plt.ylabel('True label')\n",
    "plt.xlabel('Predicted label')\n",
    "# plt.savefig(\"E:\\\\NN\\\\\"+modelName+\"_confusionOnTest_val.png\")\n",
    "print(np.sum(y==pred)/len(y))"
   ]
  },
  {
   "cell_type": "code",
   "execution_count": 50,
   "id": "bf7f90f0",
   "metadata": {},
   "outputs": [
    {
     "name": "stdout",
     "output_type": "stream",
     "text": [
      "899/899 [==============================] - 5s 5ms/step\n",
      "[0 1]\n"
     ]
    }
   ],
   "source": [
    "# model =  tf.keras.models.load_model('E:\\\\caOnly_v1')\n",
    "# model.compile(optimizer='adam',\n",
    "#               loss=tf.keras.losses.SparseCategoricalCrossentropy(from_logits=True),\n",
    "#               metrics=['accuracy'])\n",
    "# model.load_weights(\"E:\\\\caOnly_v1_weights.h5\")\n",
    "\n",
    "# labels = (train_generator.class_indices)\n",
    "pred = model.predict_generator(loadTest(trainData),verbose=1)\n",
    "pred = np.argmax(pred,axis=1)\n",
    "print(np.unique(pred))\n",
    "\n",
    "y = []\n",
    "for ind,(dataP,label) in enumerate(loadTest(trainData)):\n",
    "    y = y+list(np.argmax(label,axis=1))\n",
    "# print(pred[1:100],y[1:100])"
   ]
  },
  {
   "cell_type": "code",
   "execution_count": 51,
   "id": "5a7d0afe",
   "metadata": {},
   "outputs": [
    {
     "name": "stdout",
     "output_type": "stream",
     "text": [
      "0.702819688350235\n"
     ]
    },
    {
     "data": {
      "image/png": "[encoded data removed]",
      "text/plain": [
       "<Figure size 576x576 with 2 Axes>"
      ]
     },
     "metadata": {
      "needs_background": "light"
     },
     "output_type": "display_data"
    }
   ],
   "source": [
    "classes=['Healthy','sick']\n",
    "con_mat = tf.math.confusion_matrix(labels=y, predictions=pred).numpy()\n",
    "con_mat_norm = np.around(con_mat.astype('float') / con_mat.sum(axis=1)[:, np.newaxis], decimals=2)\n",
    "\n",
    "con_mat_df = pd.DataFrame(con_mat_norm,\n",
    "                     index = classes, \n",
    "                     columns = classes)\n",
    "figure = plt.figure(figsize=(8, 8))\n",
    "sns.heatmap(con_mat_df, annot=True,cmap=plt.cm.Blues)\n",
    "plt.tight_layout()\n",
    "plt.title(modelName +\"- on train dataset. Accuracy: {acc:f}\".format(acc=np.sum(y==pred)/len(y)))\n",
    "plt.ylabel('True label')\n",
    "plt.xlabel('Predicted label')\n",
    "# plt.savefig(\"E:\\\\NN\\\\\"+modelName+\"_confusionOnTest_Train.png\")\n",
    "print(np.sum(y==pred)/len(y))"
   ]
  },
  {
   "cell_type": "code",
   "execution_count": 52,
   "id": "11917503",
   "metadata": {},
   "outputs": [],
   "source": [
    "def dataSplits(i):\n",
    "    df = pd.read_csv('availableData2.csv')  \n",
    "    # try 30s with 20s overlab\n",
    "    dtL = 0.0032768\n",
    "    segN = int(np.ceil(15/dtL))\n",
    "    overlap = int(np.ceil(3/dtL))\n",
    "    dataSamples = prepData(segN,overlap,df)\n",
    "\n",
    "    df = prepData(segN,overlap,df)\n",
    "    testData = df[df.Mouse.isin(mTest)]\n",
    "    trainData = df[df.Mouse.isin(mTrain)]\n",
    "    return trainData,testData\n",
    "                   "
   ]
  },
  {
   "cell_type": "code",
   "execution_count": null,
   "id": "e4ce4627",
   "metadata": {},
   "outputs": [],
   "source": [
    "def plotHistory(history,modelName,dfName,i):\n",
    "    fig, ax = plt.subplots(2,1, figsize=(8, 8))\n",
    "    ax[0].plot(history.history['accuracy'],label='train')\n",
    "    ax[0].plot(history.history['val_accuracy'],label='validation')\n",
    "    ax[0].set_title('Accuracy')\n",
    "    ax[1].plot(history.history['loss'],label='train')\n",
    "    ax[1].plot(history.history['val_loss'],label='validation')\n",
    "    ax[1].set_title('Loss')\n",
    "    fig.savefig(\"E:\\\\NN\\\\\"+modelName+\"_history_\"+dfName+\"_\"+i[0]+\"_\"+i[1]+\".svg\")\n",
    "    fig.clf()\n",
    "    plt.close(fig)"
   ]
  },
  {
   "cell_type": "code",
   "execution_count": 54,
   "id": "0b607852",
   "metadata": {},
   "outputs": [],
   "source": [
    "def plotConfusionMatrix(y,pred,modelName, dfName):\n",
    "    con_mat = tf.math.confusion_matrix(labels=y, predictions=pred).numpy()\n",
    "    con_mat_norm = np.around(con_mat.astype('float') / con_mat.sum(axis=1)[:, np.newaxis], decimals=2)\n",
    "\n",
    "    con_mat_df = pd.DataFrame(con_mat_norm,\n",
    "                         index = classes, \n",
    "                         columns = classes)\n",
    "    fig, ax = plt.subplots(1,1, figsize=(8, 8))\n",
    "    sns.heatmap(con_mat_df, annot=True,cmap=plt.cm.Blues,ax=ax)\n",
    "    #fig.tight_layout()\n",
    "    ax.set_title((modelName +\"- on \"+dfName+\" dataset. Accuracy: {acc:f}\").format(acc=np.sum(y==pred)/len(y)) )\n",
    "    ax.set_ylabel('True label')\n",
    "    ax.set_xlabel('Predicted label')\n",
    "    fig.savefig(\"E:\\\\NN\\\\\"+modelName+\"_confusionOn_\"+dfName+\".svg\")\n",
    "    fig.clf()\n",
    "    plt.close(fig)"
   ]
  },
  {
   "cell_type": "code",
   "execution_count": 53,
   "id": "ae39ed59",
   "metadata": {},
   "outputs": [
    {
     "ename": "NameError",
     "evalue": "name 'combinations' is not defined",
     "output_type": "error",
     "traceback": [
      "\u001b[1;31m---------------------------------------------------------------------------\u001b[0m",
      "\u001b[1;31mNameError\u001b[0m                                 Traceback (most recent call last)",
      "\u001b[1;32m~\\AppData\\Local\\Temp/ipykernel_20792/2329617201.py\u001b[0m in \u001b[0;36m<module>\u001b[1;34m\u001b[0m\n\u001b[0;32m      8\u001b[0m \u001b[0mos\u001b[0m\u001b[1;33m.\u001b[0m\u001b[0mmkdir\u001b[0m\u001b[1;33m(\u001b[0m\u001b[1;34m'E:\\\\NN\\\\confusionMatrices\\\\retestingLFPv5n'\u001b[0m\u001b[1;33m)\u001b[0m\u001b[1;33m\u001b[0m\u001b[1;33m\u001b[0m\u001b[0m\n\u001b[0;32m      9\u001b[0m \u001b[0mcomb_List\u001b[0m \u001b[1;33m=\u001b[0m \u001b[1;33m[\u001b[0m\u001b[1;33m]\u001b[0m\u001b[1;33m\u001b[0m\u001b[1;33m\u001b[0m\u001b[0m\n\u001b[1;32m---> 10\u001b[1;33m \u001b[0mcomb\u001b[0m \u001b[1;33m=\u001b[0m \u001b[0mcombinations\u001b[0m\u001b[1;33m(\u001b[0m\u001b[0mmiceList\u001b[0m\u001b[1;33m,\u001b[0m \u001b[1;36m2\u001b[0m\u001b[1;33m)\u001b[0m\u001b[1;33m\u001b[0m\u001b[1;33m\u001b[0m\u001b[0m\n\u001b[0m\u001b[0;32m     11\u001b[0m \u001b[1;32mfor\u001b[0m \u001b[0mi\u001b[0m \u001b[1;32min\u001b[0m \u001b[0mtqdm\u001b[0m\u001b[1;33m.\u001b[0m\u001b[0mtqdm\u001b[0m\u001b[1;33m(\u001b[0m\u001b[0mcomb\u001b[0m\u001b[1;33m)\u001b[0m\u001b[1;33m:\u001b[0m\u001b[1;33m\u001b[0m\u001b[1;33m\u001b[0m\u001b[0m\n\u001b[0;32m     12\u001b[0m     \u001b[0mcomb_List\u001b[0m\u001b[1;33m.\u001b[0m\u001b[0mappend\u001b[0m\u001b[1;33m(\u001b[0m\u001b[0mi\u001b[0m\u001b[1;33m)\u001b[0m\u001b[1;33m\u001b[0m\u001b[1;33m\u001b[0m\u001b[0m\n",
      "\u001b[1;31mNameError\u001b[0m: name 'combinations' is not defined"
     ]
    }
   ],
   "source": [
    "dt = 0.05\n",
    "dfrigor = pd.DataFrame(columns=['N'])\n",
    "\n",
    "modelName = 'retesting_v5n_allSplits'\n",
    "batchSize = 64\n",
    "classes=['Healthy','Acute']\n",
    "\n",
    "# os.mkdir('E:\\\\NN\\\\confusionMatrices\\\\retestingLFPv5n')\n",
    "folder = 'confusionMatrices\\\\retestingLFPv5n\\\\' \n",
    "comb_List = []\n",
    "comb = combinations(miceList, 2)\n",
    "for i in tqdm.tqdm(comb):\n",
    "    comb_List.append(i)\n",
    "\n",
    "fpr = [],[]\n",
    "tpr = [],[]\n",
    "\n",
    "early_stopping = tf.keras.callbacks.EarlyStopping(\n",
    "    monitor='val_accuracy', \n",
    "    verbose=1,\n",
    "    patience=100,\n",
    "    mode='max',\n",
    "    restore_best_weights=True)\n",
    "\n",
    "for i in tqdm.tqdm(comb_List[1:]):\n",
    "    \n",
    "    trainData,testData = dataSplits(i) \n",
    "            \n",
    "    for l in tqdm.tqdm(range(5)): # 5-fold cross validation\n",
    "        results = {'Test':{},'Train':{},'Val':{}}\n",
    "        \n",
    "        valData = trainData.iloc[(len(trainData)//5)*itr:(len(trainData)//5)*(itr+1)]\n",
    "        trainData = trainData.drop(valData.index)\n",
    "\n",
    "        stepTrain=len(trainData)//batchSize\n",
    "        stepValidate=len(valData)//batchSize\n",
    "\n",
    "        model =  tf.keras.models.load_model('E:\\\\rawLFP_v5n_tunning_binary')\n",
    "        model.compile(optimizer='adam',\n",
    "              loss=tf.keras.losses.SparseCategoricalCrossentropy(),\n",
    "              metrics=['accuracy'])\n",
    "        # model.load_weights('E:\\\\'+modelName+'_bestWeights.h5')\n",
    "        \n",
    "        history = model.fit(loadTrainN(dfTrain2,batchSize,30),\n",
    "                    steps_per_epoch=stepTrain,\n",
    "                    validation_data=loadTrainN(dfVal2,batchSize,30),\n",
    "                    validation_steps=stepValidate,\n",
    "                    epochs=1200,callbacks=[early_stopping],verbose=1)#,\n",
    "        \n",
    "        plotHistory(history,folder+modelName,str(l),i)\n",
    "        #  test and save scores\n",
    "        \n",
    "        y = []\n",
    "        for ind,(dataP,label) in enumerate(loadTest(testData)):\n",
    "            y = y+list(np.argmax(label,axis=1))\n",
    "\n",
    "        pred = model.predict_generator(loadTest(testData),verbose=1)\n",
    "\n",
    "        fpr_t , tpr_t , thresholds = roc_curve ( y , pred[:,1])\n",
    "        fpr.append(fpr_t)\n",
    "        tpr.append(tpr_t)\n",
    "\n",
    "        pred = np.argmax(pred, axis = 1)\n",
    "        plotConfusionMatrix(y,pred,folder+str(l)+modelName+\"_\"+str(i[0])+\"_\"+str(i[1]), 'test')\n",
    "        y = np.array(y)\n",
    "        results['Test']['Acc'] = (np.sum(y==pred)/len(y))\n",
    "        results['Test']['Sen'] = (np.sum(y*pred)/sum(y))\n",
    "        results['Test']['Spe'] = np.sum(1*(y == pred)*(y==0))/sum(y==0)\n",
    "        results['Test']['AUC'] = auc(fpr_t, tpr_t)\n",
    "\n",
    "        y = []\n",
    "        for ind,(dataP,label) in enumerate(loadTest(trainData)):\n",
    "            y = y+list(np.argmax(label,axis=1))\n",
    "\n",
    "        pred = model.predict_generator(loadTest(trainData),verbose=1)\n",
    "        pred = np.argmax(pred, axis = 1)\n",
    "\n",
    "        plotConfusionMatrix(y,pred,folder+str(l)+modelName+\"_\"+str(i[0])+\"_\"+str(i[1]), 'train')\n",
    "        y = np.array(y)\n",
    "        results['Train']['Acc'] = (np.sum(y==pred)/len(y))\n",
    "        results['Train']['Sen'] = (np.sum(y*pred)/sum(y))\n",
    "        results['Train']['Spe'] = np.sum(1*(y == pred)*(y==0))/sum(y==0)\n",
    "\n",
    "        y = []\n",
    "        for ind,(dataP,label) in enumerate(loadTest(valData)):\n",
    "            y = y+list(np.argmax(label,axis=1))\n",
    "\n",
    "        pred = model.predict_generator(loadTest(valData),verbose=1)\n",
    "        pred = np.argmax(pred, axis = 1)\n",
    "\n",
    "        plotConfusionMatrix(y,pred,folder+str(l)+modelName+\"_\"+str(i[0])+\"_\"+str(i[1]), 'val')\n",
    "        y = np.array(y)\n",
    "        results['Val']['Acc'] = (np.sum(y==pred)/len(y))\n",
    "        results['Val']['Sen'] = (np.sum(y*pred)/sum(y))\n",
    "        results['Val']['Spe'] = np.sum(1*(y == pred)*(y==0))/sum(y==0)\n",
    "\n",
    "        del model\n",
    "\n",
    "\n",
    "        for spl in ['Test','Train','Val']:\n",
    "            dfrow = pd.DataFrame(results[spl],index=[0])\n",
    "            dfrow['split'] = spl\n",
    "            dfrow['itr'] = l\n",
    "            dfrow['i'] = str(i)\n",
    "            dfrigor = pd.concat([dfrigor,dfrow])\n",
    "            \n",
    "plotROC(fpr,tpr,\"section3_AUC_LFP_retrain\")\n",
    "\n",
    "dfrigor.to_csv(\"E:\\\\NN\\\\results_LFP.csv\")"
   ]
  }
 ],
 "metadata": {
  "kernelspec": {
   "display_name": "Python 3 (ipykernel)",
   "language": "python",
   "name": "python3"
  },
  "language_info": {
   "codemirror_mode": {
    "name": "ipython",
    "version": 3
   },
   "file_extension": ".py",
   "mimetype": "text/x-python",
   "name": "python",
   "nbconvert_exporter": "python",
   "pygments_lexer": "ipython3",
   "version": "3.7.9"
  }
 },
 "nbformat": 4,
 "nbformat_minor": 5
}
