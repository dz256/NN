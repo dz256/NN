{
 "cells": [
  {
   "cell_type": "code",
   "execution_count": 1,
   "id": "929a0299",
   "metadata": {},
   "outputs": [],
   "source": [
    "#since noteboke doesn't work in jupiterlabs    %matplotlib notebook \n",
    "%matplotlib inline \n",
    "%load_ext autoreload\n",
    "%autoreload 2"
   ]
  },
  {
   "cell_type": "code",
   "execution_count": 2,
   "id": "2904af6b",
   "metadata": {
    "scrolled": true
   },
   "outputs": [],
   "source": [
    "import tensorflow as tf\n",
    "import os\n",
    "# os.environ['PATH'] += os.pathsep + 'D:\\\\6OHDA\\\\'\n",
    "import numpy as np\n",
    "import scipy as sci\n",
    "from IO import *\n",
    "from utils import *\n",
    "import re\n",
    "from tqdm import tqdm\n",
    "\n",
    "from tensorflow.keras.models import Sequential, load_model\n",
    "from tensorflow.keras.layers import Input\n",
    "from tensorflow.keras.layers import Dense, Dropout, Activation, Flatten, Concatenate\n",
    "from tensorflow.keras.layers import Convolution2D, MaxPooling2D,Conv2D, Conv1D,MaxPooling1D\n",
    "# from tensorflow.keras.layers.core import Lambda\n",
    "import tensorflow.keras.optimizers as optimizers\n",
    "from tensorflow.keras import regularizers\n",
    "from tensorflow.keras import backend as K\n",
    "from tensorflow.keras.models import Model\n",
    "\n",
    "from matplotlib import pyplot as plt\n",
    "from matplotlib import gridspec\n",
    "import seaborn as sns\n",
    "\n",
    "import pickle\n",
    "import random\n",
    "\n",
    "import PIL\n",
    "from PIL import Image \n",
    "\n",
    "# import png"
   ]
  },
  {
   "cell_type": "code",
   "execution_count": 3,
   "id": "651e941a",
   "metadata": {
    "scrolled": false
   },
   "outputs": [
    {
     "name": "stdout",
     "output_type": "stream",
     "text": [
      "[name: \"/device:CPU:0\"\n",
      "device_type: \"CPU\"\n",
      "memory_limit: 268435456\n",
      "locality {\n",
      "}\n",
      "incarnation: 14367474920739284711\n",
      ", name: \"/device:GPU:0\"\n",
      "device_type: \"GPU\"\n",
      "memory_limit: 10091102208\n",
      "locality {\n",
      "  bus_id: 1\n",
      "  links {\n",
      "  }\n",
      "}\n",
      "incarnation: 9532586835484798863\n",
      "physical_device_desc: \"device: 0, name: GeForce GTX 1080 Ti, pci bus id: 0000:17:00.0, compute capability: 6.1\"\n",
      ", name: \"/device:GPU:1\"\n",
      "device_type: \"GPU\"\n",
      "memory_limit: 10091102208\n",
      "locality {\n",
      "  bus_id: 1\n",
      "  links {\n",
      "  }\n",
      "}\n",
      "incarnation: 13344954093107719201\n",
      "physical_device_desc: \"device: 1, name: GeForce GTX 1080 Ti, pci bus id: 0000:65:00.0, compute capability: 6.1\"\n",
      "]\n"
     ]
    },
    {
     "data": {
      "text/plain": [
       "[PhysicalDevice(name='/physical_device:CPU:0', device_type='CPU'),\n",
       " PhysicalDevice(name='/physical_device:GPU:0', device_type='GPU'),\n",
       " PhysicalDevice(name='/physical_device:GPU:1', device_type='GPU')]"
      ]
     },
     "execution_count": 3,
     "metadata": {},
     "output_type": "execute_result"
    }
   ],
   "source": [
    "from tensorflow.python.client import device_lib\n",
    "print(device_lib.list_local_devices())\n",
    "tf.config.list_physical_devices()"
   ]
  },
  {
   "cell_type": "code",
   "execution_count": 4,
   "id": "dabf073e",
   "metadata": {},
   "outputs": [],
   "source": [
    "Files = ['FinalData_6OHDA.h5','FinalData_6OHDA_H.h5']\n",
    "#miceList.remove('1253')\n",
    "#miceList.remove('1231')\n",
    "def periodCalc(day):\n",
    "    if day== 0:\n",
    "        return 'Healthy'\n",
    "    elif day<13:\n",
    "        return 'Acute' #day 1-13\n",
    "    else:\n",
    "        return 'Chronic' #day 14-35"
   ]
  },
  {
   "cell_type": "code",
   "execution_count": null,
   "id": "e76c9b92",
   "metadata": {},
   "outputs": [],
   "source": [
    "def center(x):\n",
    "    return (x-np.min(x))/(np.max(x)-np.min(x))\n",
    "\n",
    "f = h5py.File('D:\\\\6OHDA\\\\Spectograms.hdf5','r') \n",
    "df = pd.DataFrame(columns= [\"Mouse\",\"Session\",\"Period\",\"length\"])\n",
    "for m in getMiceList(Files[0]):\n",
    "    data =  getData(Files[0],['speed','trace'],period ='Pre', mice=m)\n",
    "    for sess in data.keys():\n",
    "        if sess[5] == 'B':\n",
    "            day = 0\n",
    "        else:\n",
    "            day = int(re.findall(r'\\d+',sess[5:])[0])\n",
    "        freq = f[m][sess]['Pre']['freq'][:]\n",
    "        coeff = f[m][sess]['Pre']['coeff'][:].shape\n",
    "        \n",
    "        df = df.append({\"Mouse\":m,\"Session\":sess,'Period':periodCalc(day),\"length\":np.max(coeff),\"freq\":freq},ignore_index=True)\n",
    "        \n",
    "df.to_csv('availableData_LFPwavelet.csv')  \n",
    "f.close()"
   ]
  },
  {
   "cell_type": "code",
   "execution_count": 5,
   "id": "dcf311f9",
   "metadata": {},
   "outputs": [],
   "source": [
    "def prepData(segN,overlap,df):\n",
    "    df2 = df\n",
    "    df2['start'] = pd.Series([[]] * len(df2), index=df2.index)\n",
    "    df2['end'] = pd.Series([[]] * len(df2), index=df2.index)\n",
    "    for l in df.length.unique():\n",
    "        a = np.asarray([[i,i + segN] for i in range(0, l-(segN-overlap),int(segN-overlap))])\n",
    "        df2.loc[df2.length==l,'start'] = pd.Series([a[:,0]] * len(df2), index=df2.index)\n",
    "        df2.loc[df2.length==l,'end'] =  pd.Series([a[:,1]] * len(df2), index=df2.index)\n",
    "    lst_col = 'start'\n",
    "\n",
    "    lst_col = 'start'\n",
    "    lst_col2 = 'end'\n",
    "    df3 = pd.DataFrame({\n",
    "        col:np.repeat(df2[col].values, df2['start'].str.len())\n",
    "        for col in df2.columns.difference(['start','end'])\n",
    "    }).assign(**{'start':np.concatenate(df2['start'].values)}).assign(**{'end':np.concatenate(df2['end'].values)})[df2.columns.tolist()]\n",
    "    return df3"
   ]
  },
  {
   "cell_type": "code",
   "execution_count": 6,
   "id": "b4874a6b",
   "metadata": {},
   "outputs": [
    {
     "name": "stdout",
     "output_type": "stream",
     "text": [
      "[1231, 1253, 7909, 1236, 761, 1793, 1222, 2980, 7584, 8803, 1208, 2981, 4539] [8815, 2976]\n"
     ]
    }
   ],
   "source": [
    "miceList = getMiceList(Files[0])\n",
    "miceList.remove('1253') # only healthy data - must be in training\n",
    "miceList.remove('1231') # only healthy data - must be in training\n",
    "miceList.remove('8430') # very abnormal running behavour\n",
    "mOrder = np.random.permutation(len(miceList))\n",
    "\n",
    "mTrain = [1231, 1253]\n",
    "mTest =[int(miceList[i]) for i in mOrder[:2]]\n",
    "mTrain = mTrain+ [int(miceList[i]) for i in mOrder[2:]]\n",
    "\n",
    "print(mTrain,mTest)"
   ]
  },
  {
   "cell_type": "code",
   "execution_count": 6,
   "id": "e45ca3bb",
   "metadata": {},
   "outputs": [],
   "source": [
    "mTrain = [1231, 1253, 7909, 1236, 761, 1793, 1222, 2980, 7584, 8803, 1208, 2981, 4539] \n",
    "mTest = [8815, 2976]"
   ]
  },
  {
   "cell_type": "code",
   "execution_count": 204,
   "id": "f18a8e72",
   "metadata": {},
   "outputs": [],
   "source": [
    "import gc\n",
    "for obj in gc.get_objects():   # Browse through ALL objects\n",
    "    if isinstance(obj, h5py.File):   # Just HDF5 files\n",
    "        try:\n",
    "            obj.close()\n",
    "        except:\n",
    "            pass # Was already closed"
   ]
  },
  {
   "cell_type": "code",
   "execution_count": 205,
   "id": "a82a4256",
   "metadata": {
    "scrolled": false
   },
   "outputs": [
    {
     "name": "stdout",
     "output_type": "stream",
     "text": [
      "1208_day12\n",
      "2976_day4\n"
     ]
    }
   ],
   "source": [
    "with h5py.File('E:\\\\Spectograms_norm.hdf5','a') as f:\n",
    "    for i in f.keys():\n",
    "        try:\n",
    "            dp = f[i]['data2'][:]\n",
    "            mi = np.min(dp[:,:,0])\n",
    "            ma = np.max(dp[:,:,0])\n",
    "            dp = 255*(dp-mi)/(ma-mi)\n",
    "            del f[i]['data2'] \n",
    "            f[i]['data2'] = dp\n",
    "        except:\n",
    "            print(i)\n",
    "            continue\n"
   ]
  },
  {
   "cell_type": "code",
   "execution_count": 7,
   "id": "b4b46370",
   "metadata": {},
   "outputs": [],
   "source": [
    "# df = pd.read_csv('availableData_LFPwavelet.csv')  \n",
    "# # try 30s with 20s overlab\n",
    "dtL =  0.00032768\n",
    "segN = int(np.ceil(5/dtL))\n",
    "# overlap = int(np.ceil(1/dtL))\n",
    "# dataSamples = prepData(segN,overlap,df)\n",
    "\n",
    "# df = prepData(segN,overlap,df)\n",
    "# print(len(df))\n",
    "# drop = []\n",
    "# with h5py.File('E:\\\\Spectograms_norm.hdf5','r') as f:\n",
    "#     dictData = df.to_dict('records')\n",
    "#     for i in range(len(dictData)):\n",
    "#         dp = f[dictData[i]['Session']]['data'][dictData[i]['start']:dictData[i]['end'],0:87]\n",
    "#         if dp.shape != (segN,87):\n",
    "#             drop.append(i)\n",
    "# df = df.drop(drop)\n",
    "# print(len(df))\n",
    "# df.to_csv('availableData_LFPwavelet_5s3overlap.csv')  \n",
    "\n",
    "df = pd.read_csv('availableData_LFPwavelet_5s3overlap.csv')\n",
    "def Clabel(x):\n",
    "    if x=='Healthy':\n",
    "        return [1,0,0]\n",
    "    elif x=='Acute':\n",
    "        return [0,1,0]\n",
    "    else:\n",
    "        return [0,0,1]\n",
    "\n",
    "\n",
    "df['label'] = df.apply(lambda x: Clabel(x.Period), axis=1 )\n",
    "\n",
    "testData = df[df.Mouse.isin(mTest)]\n",
    "trainData = df[df.Mouse.isin(mTrain)]\n",
    "validate = trainData.sample(frac=.1)\n",
    "trainData = trainData.drop(validate.index)"
   ]
  },
  {
   "cell_type": "code",
   "execution_count": 8,
   "id": "a2d8f838",
   "metadata": {},
   "outputs": [
    {
     "name": "stdout",
     "output_type": "stream",
     "text": [
      "22881 2542 3964\n"
     ]
    }
   ],
   "source": [
    "print(len(trainData),len(validate),len(testData))"
   ]
  },
  {
   "cell_type": "code",
   "execution_count": 396,
   "id": "3f7a8eb8",
   "metadata": {},
   "outputs": [],
   "source": [
    "dataVersion = 'v1_n_wavelet'\n",
    "#save data partition: \n",
    "trainData.to_csv('dataPartition_'+dataVersion+'_train.csv')\n",
    "validate.to_csv('dataPartition_'+dataVersion+'_val.csv')\n",
    "testData.to_csv('dataPartition_'+dataVersion+'_test.csv')"
   ]
  },
  {
   "cell_type": "code",
   "execution_count": 9,
   "id": "86256562",
   "metadata": {},
   "outputs": [],
   "source": [
    "def loadTrain(data,butchSize):\n",
    "    with h5py.File('E:\\\\Spectograms_norm.hdf5','r') as f:\n",
    "    # sampleSize = batchSize/3\n",
    "        while True: \n",
    "            data = data.sample(frac=1)\n",
    "            dictData = data.to_dict('records')\n",
    "            for i in range(0,len(dictData)-butchSize,butchSize):\n",
    "                labels = [dictData[i]['label'] for i in range(i,i+butchSize)]\n",
    "                dp = [f[dictData[i]['Session']]['data2'][dictData[i]['start']:dictData[i]['end']:10,0:87] for i in range(i,i+butchSize)]\n",
    "                dp = [np.array(Image.fromarray(i.astype(np.uint8)).resize((224, 224), PIL.Image.BICUBIC)) for i in dp]\n",
    "                labels = np.stack(labels)\n",
    "                dataPoint = np.stack(dp)\n",
    "                yield (dataPoint,labels)\n",
    "                labels = []\n",
    "                dataPoint = []\n",
    "            \n"
   ]
  },
  {
   "cell_type": "code",
   "execution_count": 10,
   "id": "6e956b82",
   "metadata": {},
   "outputs": [],
   "source": [
    "def loadTest(data,butchSize):\n",
    "    with h5py.File('E:\\\\Spectograms_norm.hdf5','r') as f:\n",
    "    # sampleSize = batchSize/3\n",
    "        dictData = data.to_dict('records')\n",
    "        for i in range(0,len(dictData)-butchSize,butchSize):\n",
    "            labels = [dictData[i]['label'] for i in range(i,i+butchSize)]\n",
    "            dp = [f[dictData[i]['Session']]['data2'][dictData[i]['start']:dictData[i]['end']:10,0:87] for i in range(i,i+butchSize)]\n",
    "            dp = [np.array(Image.fromarray(i.astype(np.uint8)).resize((224, 224), PIL.Image.BICUBIC)) for i in dp]\n",
    "            labels = np.stack(labels)\n",
    "            dataPoint = np.stack(dp)\n",
    "            yield (dataPoint,labels)\n",
    "            labels = []\n",
    "            dataPoint = []\n"
   ]
  },
  {
   "cell_type": "code",
   "execution_count": 61,
   "id": "62024f86",
   "metadata": {},
   "outputs": [
    {
     "name": "stderr",
     "output_type": "stream",
     "text": [
      "8it [01:46, 13.32s/it]\n",
      "8it [01:39, 12.45s/it]\n"
     ]
    }
   ],
   "source": [
    "def loadTest(data,butchSize):\n",
    "    with h5py.File('E:\\\\Spectograms_norm.hdf5','r') as f:\n",
    "    # sampleSize = batchSize/3\n",
    "        dictData = data.to_dict('records')\n",
    "        for i in range(0,len(dictData)-butchSize,butchSize):\n",
    "            labels = [dictData[i]['Period'] for i in range(i,i+butchSize)]\n",
    "            dp = [f[dictData[i]['Session']]['data'][dictData[i]['start']:dictData[i]['end'],0:87] for i in range(i,i+butchSize)]\n",
    "            labels = np.stack(labels)\n",
    "            dataPoint =np.repeat(np.stack(dp)[:,:,:,np.newaxis], 3, -1) \n",
    "            yield (dataPoint,labels)\n",
    "            labels = []\n",
    "            dataPoint = []\n",
    "\n",
    "def loadTest2(data,butchSize):\n",
    "    with h5py.File('E:\\\\Spectograms_norm.hdf5','r') as f:\n",
    "    # sampleSize = batchSize/3\n",
    "        dictData = data.to_dict('records')\n",
    "        for i in range(0,len(dictData)-butchSize,butchSize):\n",
    "            labels = [dictData[i]['Period'] for i in range(i,i+butchSize)].\n",
    "            dp = [f[dictData[i]['Session']]['data2'][dictData[i]['start']:dictData[i]['end'],0:87] for i in range(i,i+butchSize)]\n",
    "            labels = np.stack(labels)\n",
    "            dataPoint = np.stack(dp)\n",
    "            yield (dataPoint,labels)\n",
    "            labels = []\n",
    "            dataPoint = []\n",
    "\n",
    "# y = []\n",
    "# for ind,(dataP,label) in tqdm(enumerate(loadTest(testData,butchSize))):\n",
    "#     y = y+list(label)\n",
    "\n",
    "y = []\n",
    "for ind,(dataP,label) in tqdm(enumerate(loadTest2(testData.loc[:600],butchSize))):\n",
    "    y = y+list(label)\n"
   ]
  },
  {
   "cell_type": "code",
   "execution_count": 11,
   "id": "b492a969",
   "metadata": {},
   "outputs": [
    {
     "name": "stdout",
     "output_type": "stream",
     "text": [
      "(25, 3) (25, 224, 224, 3)\n",
      "(25, 3) (25, 224, 224, 3)\n"
     ]
    }
   ],
   "source": [
    "butchSize = 25\n",
    "for ind,(dataP,label) in enumerate(loadTest(testData,butchSize)):\n",
    "    print(label.shape,dataP.shape)#,np.max(dataP),np.min(dataP))\n",
    "    if ind == 1:\n",
    "        break"
   ]
  },
  {
   "cell_type": "code",
   "execution_count": 12,
   "id": "4b253be0",
   "metadata": {},
   "outputs": [
    {
     "name": "stdout",
     "output_type": "stream",
     "text": [
      "(25, 3) (25, 224, 224, 3)\n",
      "(25, 3) (25, 224, 224, 3)\n",
      "(25, 3) (25, 224, 224, 3)\n"
     ]
    }
   ],
   "source": [
    "for ind,(dataP,label) in enumerate(loadTrain(validate,butchSize)):\n",
    "    print(label.shape,dataP.shape)#,sci.stats.pearsonr(np.mean(dataP[:,:,0],axis=1), label))\n",
    "#     plt.scatter(np.mean(dataP[:,:,0],axis=1), label)\n",
    "    if ind == 2:\n",
    "        break        "
   ]
  },
  {
   "cell_type": "code",
   "execution_count": 14,
   "id": "2de8fb7d",
   "metadata": {},
   "outputs": [],
   "source": [
    "del model  "
   ]
  },
  {
   "cell_type": "code",
   "execution_count": 15,
   "id": "7d14483e",
   "metadata": {},
   "outputs": [],
   "source": [
    "inputs = tf.keras.Input(shape=(segN//10+1, 87, 3))\n",
    "base_model = tf.keras.applications.VGG16(\n",
    "    include_top=True,\n",
    "    weights=\"imagenet\",\n",
    "    input_tensor=None,\n",
    "#     input_shape=(segN//10+1, 87, 3),\n",
    "#     pooling=None,\n",
    "#     classes=3,\n",
    "    classifier_activation=\"softmax\",\n",
    ")#(inputs)\n",
    "base_model.trainable = False\n",
    "\n",
    "x= base_model.layers[-3].output\n",
    "# x = base_model(inputs, training=False)\n",
    "# x = tf.keras.layers.Flatten(name='newFlat')(x)\n",
    "# x = tf.keras.layers.Dense(120, activation='relu')(x) \n",
    "x = tf.keras.layers.Dense(120, activation='relu')(x) \n",
    "outputs = tf.keras.layers.Dense(3, activation='softmax')(x)\n",
    "model = tf.keras.Model(base_model.input, outputs)\n"
   ]
  },
  {
   "cell_type": "code",
   "execution_count": 16,
   "id": "8fb8411a",
   "metadata": {},
   "outputs": [
    {
     "name": "stdout",
     "output_type": "stream",
     "text": [
      "Model: \"model_1\"\n",
      "_________________________________________________________________\n",
      "Layer (type)                 Output Shape              Param #   \n",
      "=================================================================\n",
      "input_4 (InputLayer)         [(None, 224, 224, 3)]     0         \n",
      "_________________________________________________________________\n",
      "block1_conv1 (Conv2D)        (None, 224, 224, 64)      1792      \n",
      "_________________________________________________________________\n",
      "block1_conv2 (Conv2D)        (None, 224, 224, 64)      36928     \n",
      "_________________________________________________________________\n",
      "block1_pool (MaxPooling2D)   (None, 112, 112, 64)      0         \n",
      "_________________________________________________________________\n",
      "block2_conv1 (Conv2D)        (None, 112, 112, 128)     73856     \n",
      "_________________________________________________________________\n",
      "block2_conv2 (Conv2D)        (None, 112, 112, 128)     147584    \n",
      "_________________________________________________________________\n",
      "block2_pool (MaxPooling2D)   (None, 56, 56, 128)       0         \n",
      "_________________________________________________________________\n",
      "block3_conv1 (Conv2D)        (None, 56, 56, 256)       295168    \n",
      "_________________________________________________________________\n",
      "block3_conv2 (Conv2D)        (None, 56, 56, 256)       590080    \n",
      "_________________________________________________________________\n",
      "block3_conv3 (Conv2D)        (None, 56, 56, 256)       590080    \n",
      "_________________________________________________________________\n",
      "block3_pool (MaxPooling2D)   (None, 28, 28, 256)       0         \n",
      "_________________________________________________________________\n",
      "block4_conv1 (Conv2D)        (None, 28, 28, 512)       1180160   \n",
      "_________________________________________________________________\n",
      "block4_conv2 (Conv2D)        (None, 28, 28, 512)       2359808   \n",
      "_________________________________________________________________\n",
      "block4_conv3 (Conv2D)        (None, 28, 28, 512)       2359808   \n",
      "_________________________________________________________________\n",
      "block4_pool (MaxPooling2D)   (None, 14, 14, 512)       0         \n",
      "_________________________________________________________________\n",
      "block5_conv1 (Conv2D)        (None, 14, 14, 512)       2359808   \n",
      "_________________________________________________________________\n",
      "block5_conv2 (Conv2D)        (None, 14, 14, 512)       2359808   \n",
      "_________________________________________________________________\n",
      "block5_conv3 (Conv2D)        (None, 14, 14, 512)       2359808   \n",
      "_________________________________________________________________\n",
      "block5_pool (MaxPooling2D)   (None, 7, 7, 512)         0         \n",
      "_________________________________________________________________\n",
      "flatten (Flatten)            (None, 25088)             0         \n",
      "_________________________________________________________________\n",
      "fc1 (Dense)                  (None, 4096)              102764544 \n",
      "_________________________________________________________________\n",
      "dense_2 (Dense)              (None, 120)               491640    \n",
      "_________________________________________________________________\n",
      "dense_3 (Dense)              (None, 3)                 363       \n",
      "=================================================================\n",
      "Total params: 117,971,235\n",
      "Trainable params: 492,003\n",
      "Non-trainable params: 117,479,232\n",
      "_________________________________________________________________\n",
      "None\n"
     ]
    }
   ],
   "source": [
    "print(model.summary())\n",
    "# outputs"
   ]
  },
  {
   "cell_type": "code",
   "execution_count": 498,
   "id": "c1198833",
   "metadata": {},
   "outputs": [],
   "source": [
    "import keras_tuner as kt\n",
    "from keras_tuner import HyperModel as hp\n",
    "from keras_tuner.tuners import RandomSearch\n"
   ]
  },
  {
   "cell_type": "code",
   "execution_count": 17,
   "id": "d4551229",
   "metadata": {},
   "outputs": [],
   "source": [
    "modelName = 'wavelet_VGG16_n1'\n",
    "early_stopping = tf.keras.callbacks.EarlyStopping(\n",
    "    monitor='val_accuracy', \n",
    "    verbose=1,\n",
    "    patience=50,\n",
    "    mode='max',\n",
    "    restore_best_weights=False)\n",
    "\n",
    "check_point = tf.keras.callbacks.ModelCheckpoint(\n",
    "    'E:\\\\'+modelName+'_bestWeights.h5',\n",
    "    monitor=\"val_accuracy\",\n",
    "    verbose=1,\n",
    "    save_best_only=True,\n",
    "    save_weights_only=False,\n",
    "    mode=\"auto\",\n",
    "    save_freq=\"epoch\"\n",
    ")"
   ]
  },
  {
   "cell_type": "code",
   "execution_count": null,
   "id": "50b307a4",
   "metadata": {
    "scrolled": true
   },
   "outputs": [
    {
     "name": "stdout",
     "output_type": "stream",
     "text": [
      "Epoch 1/3000\n",
      "915/915 [==============================] - 3725s 4s/step - loss: 0.9824 - accuracy: 0.5236 - val_loss: 0.9809 - val_accuracy: 0.5180\n",
      "\n",
      "Epoch 00001: val_accuracy improved from -inf to 0.51802, saving model to E:\\wavelet_VGG16_n1_bestWeights.h5\n",
      "Epoch 2/3000\n",
      "915/915 [==============================] - 3822s 4s/step - loss: 0.9774 - accuracy: 0.5259 - val_loss: 0.9736 - val_accuracy: 0.5141\n",
      "\n",
      "Epoch 00002: val_accuracy did not improve from 0.51802\n",
      "Epoch 3/3000\n",
      "915/915 [==============================] - 3817s 4s/step - loss: 0.9680 - accuracy: 0.5267 - val_loss: 0.9910 - val_accuracy: 0.5172\n",
      "\n",
      "Epoch 00003: val_accuracy did not improve from 0.51802\n",
      "Epoch 4/3000\n",
      "915/915 [==============================] - 3804s 4s/step - loss: 0.9623 - accuracy: 0.5261 - val_loss: 1.0009 - val_accuracy: 0.5069\n",
      "\n",
      "Epoch 00004: val_accuracy did not improve from 0.51802\n",
      "Epoch 5/3000\n",
      "915/915 [==============================] - 3806s 4s/step - loss: 0.9531 - accuracy: 0.5317 - val_loss: 0.9853 - val_accuracy: 0.5145\n",
      "\n",
      "Epoch 00005: val_accuracy did not improve from 0.51802\n",
      "Epoch 6/3000\n",
      "915/915 [==============================] - 3787s 4s/step - loss: 0.9451 - accuracy: 0.5378 - val_loss: 0.9739 - val_accuracy: 0.5097\n",
      "\n",
      "Epoch 00006: val_accuracy did not improve from 0.51802\n",
      "Epoch 7/3000\n",
      "915/915 [==============================] - 3804s 4s/step - loss: 0.9427 - accuracy: 0.5370 - val_loss: 0.9841 - val_accuracy: 0.5244\n",
      "\n",
      "Epoch 00007: val_accuracy improved from 0.51802 to 0.52436, saving model to E:\\wavelet_VGG16_n1_bestWeights.h5\n",
      "Epoch 8/3000\n",
      "915/915 [==============================] - 3784s 4s/step - loss: 0.9363 - accuracy: 0.5409 - val_loss: 0.9791 - val_accuracy: 0.5081\n",
      "\n",
      "Epoch 00008: val_accuracy did not improve from 0.52436\n",
      "Epoch 9/3000\n",
      "915/915 [==============================] - 3772s 4s/step - loss: 0.9304 - accuracy: 0.5457 - val_loss: 0.9622 - val_accuracy: 0.5350\n",
      "\n",
      "Epoch 00009: val_accuracy improved from 0.52436 to 0.53505, saving model to E:\\wavelet_VGG16_n1_bestWeights.h5\n",
      "Epoch 10/3000\n",
      "915/915 [==============================] - 3772s 4s/step - loss: 0.9269 - accuracy: 0.5459 - val_loss: 0.9712 - val_accuracy: 0.5228\n",
      "\n",
      "Epoch 00010: val_accuracy did not improve from 0.53505\n",
      "Epoch 11/3000\n",
      "915/915 [==============================] - 3762s 4s/step - loss: 0.9249 - accuracy: 0.5496 - val_loss: 0.9943 - val_accuracy: 0.5109\n",
      "\n",
      "Epoch 00011: val_accuracy did not improve from 0.53505\n",
      "Epoch 12/3000\n",
      "915/915 [==============================] - 3763s 4s/step - loss: 0.9156 - accuracy: 0.5539 - val_loss: 0.9679 - val_accuracy: 0.5192\n",
      "\n",
      "Epoch 00012: val_accuracy did not improve from 0.53505\n",
      "Epoch 13/3000\n",
      "915/915 [==============================] - 3759s 4s/step - loss: 0.9107 - accuracy: 0.5584 - val_loss: 0.9944 - val_accuracy: 0.5145\n",
      "\n",
      "Epoch 00013: val_accuracy did not improve from 0.53505\n",
      "Epoch 14/3000\n",
      "915/915 [==============================] - 3744s 4s/step - loss: 0.9048 - accuracy: 0.5632 - val_loss: 0.9661 - val_accuracy: 0.5394\n",
      "\n",
      "Epoch 00014: val_accuracy improved from 0.53505 to 0.53941, saving model to E:\\wavelet_VGG16_n1_bestWeights.h5\n",
      "Epoch 15/3000\n",
      "915/915 [==============================] - 3742s 4s/step - loss: 0.9049 - accuracy: 0.5610 - val_loss: 0.9809 - val_accuracy: 0.5184\n",
      "\n",
      "Epoch 00015: val_accuracy did not improve from 0.53941\n",
      "Epoch 16/3000\n",
      "915/915 [==============================] - 3744s 4s/step - loss: 0.8966 - accuracy: 0.5692 - val_loss: 0.9683 - val_accuracy: 0.5394\n",
      "\n",
      "Epoch 00016: val_accuracy did not improve from 0.53941\n",
      "Epoch 17/3000\n",
      "915/915 [==============================] - 3745s 4s/step - loss: 0.8878 - accuracy: 0.5756 - val_loss: 0.9863 - val_accuracy: 0.5101\n",
      "\n",
      "Epoch 00017: val_accuracy did not improve from 0.53941\n",
      "Epoch 18/3000\n",
      "915/915 [==============================] - 3735s 4s/step - loss: 0.8862 - accuracy: 0.5748 - val_loss: 0.9744 - val_accuracy: 0.5236\n",
      "\n",
      "Epoch 00018: val_accuracy did not improve from 0.53941\n",
      "Epoch 19/3000\n",
      "915/915 [==============================] - 3732s 4s/step - loss: 0.8822 - accuracy: 0.5784 - val_loss: 0.9462 - val_accuracy: 0.5347\n",
      "\n",
      "Epoch 00019: val_accuracy did not improve from 0.53941\n",
      "Epoch 20/3000\n",
      "915/915 [==============================] - 3725s 4s/step - loss: 0.8810 - accuracy: 0.5778 - val_loss: 0.9891 - val_accuracy: 0.4859\n",
      "\n",
      "Epoch 00020: val_accuracy did not improve from 0.53941\n",
      "Epoch 21/3000\n",
      "915/915 [==============================] - 3734s 4s/step - loss: 0.8766 - accuracy: 0.5809 - val_loss: 0.9732 - val_accuracy: 0.5291\n",
      "\n",
      "Epoch 00021: val_accuracy did not improve from 0.53941\n",
      "Epoch 22/3000\n",
      "915/915 [==============================] - 3721s 4s/step - loss: 0.8677 - accuracy: 0.5872 - val_loss: 0.9615 - val_accuracy: 0.5335\n",
      "\n",
      "Epoch 00022: val_accuracy did not improve from 0.53941\n",
      "Epoch 23/3000\n",
      "915/915 [==============================] - 3714s 4s/step - loss: 0.8628 - accuracy: 0.5908 - val_loss: 0.9803 - val_accuracy: 0.5267\n",
      "\n",
      "Epoch 00023: val_accuracy did not improve from 0.53941\n",
      "Epoch 24/3000\n",
      "915/915 [==============================] - 3721s 4s/step - loss: 0.8634 - accuracy: 0.5888 - val_loss: 0.9701 - val_accuracy: 0.5461\n",
      "\n",
      "Epoch 00024: val_accuracy improved from 0.53941 to 0.54614, saving model to E:\\wavelet_VGG16_n1_bestWeights.h5\n",
      "Epoch 25/3000\n",
      "915/915 [==============================] - 3721s 4s/step - loss: 0.8561 - accuracy: 0.5917 - val_loss: 1.0226 - val_accuracy: 0.5212\n",
      "\n",
      "Epoch 00025: val_accuracy did not improve from 0.54614\n",
      "Epoch 26/3000\n",
      "915/915 [==============================] - 3723s 4s/step - loss: 0.8585 - accuracy: 0.5920 - val_loss: 0.9990 - val_accuracy: 0.4879\n",
      "\n",
      "Epoch 00026: val_accuracy did not improve from 0.54614\n",
      "Epoch 27/3000\n",
      "915/915 [==============================] - 3710s 4s/step - loss: 0.8480 - accuracy: 0.6003 - val_loss: 0.9722 - val_accuracy: 0.5446\n",
      "\n",
      "Epoch 00027: val_accuracy did not improve from 0.54614\n",
      "Epoch 28/3000\n",
      "915/915 [==============================] - 3701s 4s/step - loss: 0.8398 - accuracy: 0.5982 - val_loss: 1.0235 - val_accuracy: 0.5295\n",
      "\n",
      "Epoch 00028: val_accuracy did not improve from 0.54614\n",
      "Epoch 29/3000\n",
      "915/915 [==============================] - 3707s 4s/step - loss: 0.8386 - accuracy: 0.6028 - val_loss: 0.9998 - val_accuracy: 0.5370\n",
      "\n",
      "Epoch 00029: val_accuracy did not improve from 0.54614\n",
      "Epoch 30/3000\n",
      "915/915 [==============================] - 3709s 4s/step - loss: 0.8379 - accuracy: 0.6045 - val_loss: 0.9680 - val_accuracy: 0.5188\n",
      "\n",
      "Epoch 00030: val_accuracy did not improve from 0.54614\n",
      "Epoch 31/3000\n",
      "915/915 [==============================] - 3719s 4s/step - loss: 0.8366 - accuracy: 0.6048 - val_loss: 0.9925 - val_accuracy: 0.5026\n",
      "\n",
      "Epoch 00031: val_accuracy did not improve from 0.54614\n",
      "Epoch 32/3000\n",
      "915/915 [==============================] - 3712s 4s/step - loss: 0.8337 - accuracy: 0.6086 - val_loss: 1.1123 - val_accuracy: 0.5386\n",
      "\n",
      "Epoch 00032: val_accuracy did not improve from 0.54614\n",
      "Epoch 33/3000\n",
      "915/915 [==============================] - 3705s 4s/step - loss: 0.8267 - accuracy: 0.6136 - val_loss: 1.0426 - val_accuracy: 0.5327\n",
      "\n",
      "Epoch 00033: val_accuracy did not improve from 0.54614\n",
      "Epoch 34/3000\n",
      "915/915 [==============================] - 3699s 4s/step - loss: 0.8248 - accuracy: 0.6122 - val_loss: 1.0451 - val_accuracy: 0.5275\n",
      "\n",
      "Epoch 00034: val_accuracy did not improve from 0.54614\n",
      "Epoch 35/3000\n",
      "915/915 [==============================] - 3690s 4s/step - loss: 0.8182 - accuracy: 0.6197 - val_loss: 0.9928 - val_accuracy: 0.5232\n",
      "\n",
      "Epoch 00035: val_accuracy did not improve from 0.54614\n",
      "Epoch 36/3000\n",
      "915/915 [==============================] - 3698s 4s/step - loss: 0.8191 - accuracy: 0.6152 - val_loss: 1.0274 - val_accuracy: 0.5251\n",
      "\n",
      "Epoch 00036: val_accuracy did not improve from 0.54614\n",
      "Epoch 37/3000\n",
      "915/915 [==============================] - 3700s 4s/step - loss: 0.8119 - accuracy: 0.6196 - val_loss: 1.0034 - val_accuracy: 0.5430\n",
      "\n",
      "Epoch 00037: val_accuracy did not improve from 0.54614\n",
      "Epoch 38/3000\n",
      "915/915 [==============================] - 3694s 4s/step - loss: 0.8157 - accuracy: 0.6176 - val_loss: 1.0408 - val_accuracy: 0.5418\n",
      "\n",
      "Epoch 00038: val_accuracy did not improve from 0.54614\n",
      "Epoch 39/3000\n",
      "915/915 [==============================] - 3697s 4s/step - loss: 0.8113 - accuracy: 0.6221 - val_loss: 1.0519 - val_accuracy: 0.5311\n",
      "\n",
      "Epoch 00039: val_accuracy did not improve from 0.54614\n",
      "Epoch 40/3000\n"
     ]
    },
    {
     "name": "stdout",
     "output_type": "stream",
     "text": [
      "915/915 [==============================] - 3688s 4s/step - loss: 0.8056 - accuracy: 0.6257 - val_loss: 1.0242 - val_accuracy: 0.5160\n",
      "\n",
      "Epoch 00040: val_accuracy did not improve from 0.54614\n",
      "Epoch 41/3000\n",
      "915/915 [==============================] - 3684s 4s/step - loss: 0.8056 - accuracy: 0.6274 - val_loss: 1.0438 - val_accuracy: 0.5065\n",
      "\n",
      "Epoch 00041: val_accuracy did not improve from 0.54614\n",
      "Epoch 42/3000\n",
      "915/915 [==============================] - 3681s 4s/step - loss: 0.7992 - accuracy: 0.6269 - val_loss: 1.1030 - val_accuracy: 0.5145\n",
      "\n",
      "Epoch 00042: val_accuracy did not improve from 0.54614\n",
      "Epoch 43/3000\n",
      "915/915 [==============================] - 3690s 4s/step - loss: 0.8113 - accuracy: 0.6219 - val_loss: 1.0203 - val_accuracy: 0.5188\n",
      "\n",
      "Epoch 00043: val_accuracy did not improve from 0.54614\n",
      "Epoch 44/3000\n",
      "915/915 [==============================] - 3683s 4s/step - loss: 0.7974 - accuracy: 0.6258 - val_loss: 1.0465 - val_accuracy: 0.5406\n",
      "\n",
      "Epoch 00044: val_accuracy did not improve from 0.54614\n",
      "Epoch 45/3000\n",
      "915/915 [==============================] - 3692s 4s/step - loss: 0.7938 - accuracy: 0.6292 - val_loss: 1.0541 - val_accuracy: 0.5279\n",
      "\n",
      "Epoch 00045: val_accuracy did not improve from 0.54614\n",
      "Epoch 46/3000\n",
      "915/915 [==============================] - 3686s 4s/step - loss: 0.8626 - accuracy: 0.5902 - val_loss: 1.1459 - val_accuracy: 0.5283\n",
      "\n",
      "Epoch 00046: val_accuracy did not improve from 0.54614\n",
      "Epoch 47/3000\n",
      "915/915 [==============================] - 3678s 4s/step - loss: 0.8125 - accuracy: 0.6208 - val_loss: 1.1557 - val_accuracy: 0.5149\n",
      "\n",
      "Epoch 00047: val_accuracy did not improve from 0.54614\n",
      "Epoch 48/3000\n",
      "915/915 [==============================] - 3678s 4s/step - loss: 0.7970 - accuracy: 0.6294 - val_loss: 1.0391 - val_accuracy: 0.5434\n",
      "\n",
      "Epoch 00048: val_accuracy did not improve from 0.54614\n",
      "Epoch 49/3000\n",
      "915/915 [==============================] - 3680s 4s/step - loss: 0.7870 - accuracy: 0.6340 - val_loss: 1.1260 - val_accuracy: 0.4958\n",
      "\n",
      "Epoch 00049: val_accuracy did not improve from 0.54614\n",
      "Epoch 50/3000\n",
      "915/915 [==============================] - 3677s 4s/step - loss: 0.7912 - accuracy: 0.6306 - val_loss: 1.0342 - val_accuracy: 0.4903\n",
      "\n",
      "Epoch 00050: val_accuracy did not improve from 0.54614\n",
      "Epoch 51/3000\n",
      "915/915 [==============================] - 3683s 4s/step - loss: 0.7843 - accuracy: 0.6356 - val_loss: 1.0737 - val_accuracy: 0.5275\n",
      "\n",
      "Epoch 00051: val_accuracy did not improve from 0.54614\n",
      "Epoch 52/3000\n",
      "915/915 [==============================] - 3681s 4s/step - loss: 0.7868 - accuracy: 0.6351 - val_loss: 1.1563 - val_accuracy: 0.5101\n",
      "\n",
      "Epoch 00052: val_accuracy did not improve from 0.54614\n",
      "Epoch 53/3000\n",
      "915/915 [==============================] - 3687s 4s/step - loss: 0.7796 - accuracy: 0.6393 - val_loss: 1.0513 - val_accuracy: 0.5053\n",
      "\n",
      "Epoch 00053: val_accuracy did not improve from 0.54614\n",
      "Epoch 54/3000\n",
      "915/915 [==============================] - 3679s 4s/step - loss: 0.7813 - accuracy: 0.6398 - val_loss: 1.0854 - val_accuracy: 0.5489\n",
      "\n",
      "Epoch 00054: val_accuracy improved from 0.54614 to 0.54891, saving model to E:\\wavelet_VGG16_n1_bestWeights.h5\n",
      "Epoch 55/3000\n",
      "915/915 [==============================] - 3695s 4s/step - loss: 0.7821 - accuracy: 0.6371 - val_loss: 1.0609 - val_accuracy: 0.4974\n",
      "\n",
      "Epoch 00055: val_accuracy did not improve from 0.54891\n",
      "Epoch 56/3000\n",
      "915/915 [==============================] - 3686s 4s/step - loss: 0.7780 - accuracy: 0.6420 - val_loss: 1.1174 - val_accuracy: 0.5168\n",
      "\n",
      "Epoch 00056: val_accuracy did not improve from 0.54891\n",
      "Epoch 57/3000\n",
      "915/915 [==============================] - 3691s 4s/step - loss: 0.7707 - accuracy: 0.6439 - val_loss: 1.0676 - val_accuracy: 0.5315\n",
      "\n",
      "Epoch 00057: val_accuracy did not improve from 0.54891\n",
      "Epoch 58/3000\n",
      "915/915 [==============================] - 3687s 4s/step - loss: 0.7793 - accuracy: 0.6393 - val_loss: 1.1557 - val_accuracy: 0.4855\n",
      "\n",
      "Epoch 00058: val_accuracy did not improve from 0.54891\n",
      "Epoch 59/3000\n",
      "915/915 [==============================] - 3688s 4s/step - loss: 0.7720 - accuracy: 0.6427 - val_loss: 1.0574 - val_accuracy: 0.5141\n",
      "\n",
      "Epoch 00059: val_accuracy did not improve from 0.54891\n",
      "Epoch 60/3000\n",
      "915/915 [==============================] - 3695s 4s/step - loss: 0.7706 - accuracy: 0.6460 - val_loss: 1.0717 - val_accuracy: 0.5323\n",
      "\n",
      "Epoch 00060: val_accuracy did not improve from 0.54891\n",
      "Epoch 61/3000\n",
      "915/915 [==============================] - 3689s 4s/step - loss: 0.7648 - accuracy: 0.6455 - val_loss: 1.1750 - val_accuracy: 0.5259\n",
      "\n",
      "Epoch 00061: val_accuracy did not improve from 0.54891\n",
      "Epoch 62/3000\n",
      "915/915 [==============================] - 3687s 4s/step - loss: 0.7657 - accuracy: 0.6459 - val_loss: 1.2174 - val_accuracy: 0.5192\n",
      "\n",
      "Epoch 00062: val_accuracy did not improve from 0.54891\n",
      "Epoch 63/3000\n",
      "915/915 [==============================] - 3700s 4s/step - loss: 0.7623 - accuracy: 0.6494 - val_loss: 1.1879 - val_accuracy: 0.5244\n",
      "\n",
      "Epoch 00063: val_accuracy did not improve from 0.54891\n",
      "Epoch 64/3000\n",
      "915/915 [==============================] - 3688s 4s/step - loss: 0.7587 - accuracy: 0.6545 - val_loss: 1.1877 - val_accuracy: 0.5149\n",
      "\n",
      "Epoch 00064: val_accuracy did not improve from 0.54891\n",
      "Epoch 65/3000\n",
      "915/915 [==============================] - 3697s 4s/step - loss: 0.7628 - accuracy: 0.6481 - val_loss: 1.0858 - val_accuracy: 0.4974\n",
      "\n",
      "Epoch 00065: val_accuracy did not improve from 0.54891\n",
      "Epoch 66/3000\n",
      "915/915 [==============================] - 3694s 4s/step - loss: 0.7581 - accuracy: 0.6531 - val_loss: 1.2839 - val_accuracy: 0.5149\n",
      "\n",
      "Epoch 00066: val_accuracy did not improve from 0.54891\n",
      "Epoch 67/3000\n",
      "915/915 [==============================] - 3699s 4s/step - loss: 0.7598 - accuracy: 0.6516 - val_loss: 1.1357 - val_accuracy: 0.5319\n",
      "\n",
      "Epoch 00067: val_accuracy did not improve from 0.54891\n",
      "Epoch 68/3000\n",
      "915/915 [==============================] - 3690s 4s/step - loss: 0.7540 - accuracy: 0.6541 - val_loss: 1.1060 - val_accuracy: 0.5168\n",
      "\n",
      "Epoch 00068: val_accuracy did not improve from 0.54891\n",
      "Epoch 69/3000\n",
      "915/915 [==============================] - 3702s 4s/step - loss: 0.7591 - accuracy: 0.6515 - val_loss: 1.0884 - val_accuracy: 0.5002\n",
      "\n",
      "Epoch 00069: val_accuracy did not improve from 0.54891\n",
      "Epoch 70/3000\n",
      "915/915 [==============================] - 3703s 4s/step - loss: 0.7536 - accuracy: 0.6536 - val_loss: 1.2246 - val_accuracy: 0.5014\n",
      "\n",
      "Epoch 00070: val_accuracy did not improve from 0.54891\n",
      "Epoch 71/3000\n",
      "915/915 [==============================] - 3712s 4s/step - loss: 0.7528 - accuracy: 0.6563 - val_loss: 1.2194 - val_accuracy: 0.5418\n",
      "\n",
      "Epoch 00071: val_accuracy did not improve from 0.54891\n",
      "Epoch 72/3000\n",
      "915/915 [==============================] - 3726s 4s/step - loss: 0.7596 - accuracy: 0.6494 - val_loss: 1.1775 - val_accuracy: 0.5026\n",
      "\n",
      "Epoch 00072: val_accuracy did not improve from 0.54891\n",
      "Epoch 73/3000\n",
      "915/915 [==============================] - 3761s 4s/step - loss: 0.7449 - accuracy: 0.6576 - val_loss: 1.1558 - val_accuracy: 0.4681\n",
      "\n",
      "Epoch 00073: val_accuracy did not improve from 0.54891\n",
      "Epoch 74/3000\n",
      "915/915 [==============================] - 3751s 4s/step - loss: 0.7476 - accuracy: 0.6578 - val_loss: 1.2239 - val_accuracy: 0.5370\n",
      "\n",
      "Epoch 00074: val_accuracy did not improve from 0.54891\n",
      "Epoch 75/3000\n",
      "915/915 [==============================] - 3741s 4s/step - loss: 0.7396 - accuracy: 0.6616 - val_loss: 1.0914 - val_accuracy: 0.4998\n",
      "\n",
      "Epoch 00075: val_accuracy did not improve from 0.54891\n",
      "Epoch 76/3000\n",
      "915/915 [==============================] - 3748s 4s/step - loss: 0.7488 - accuracy: 0.6575 - val_loss: 1.1288 - val_accuracy: 0.5184\n",
      "\n",
      "Epoch 00076: val_accuracy did not improve from 0.54891\n",
      "Epoch 77/3000\n",
      "915/915 [==============================] - 3746s 4s/step - loss: 0.7457 - accuracy: 0.6597 - val_loss: 1.2036 - val_accuracy: 0.4808\n",
      "\n",
      "Epoch 00077: val_accuracy did not improve from 0.54891\n",
      "Epoch 78/3000\n",
      "915/915 [==============================] - 3767s 4s/step - loss: 0.7438 - accuracy: 0.6624 - val_loss: 1.2126 - val_accuracy: 0.5358\n",
      "\n",
      "Epoch 00078: val_accuracy did not improve from 0.54891\n",
      "Epoch 79/3000\n",
      "915/915 [==============================] - 3770s 4s/step - loss: 0.7391 - accuracy: 0.6621 - val_loss: 1.1893 - val_accuracy: 0.5315\n",
      "\n",
      "Epoch 00079: val_accuracy did not improve from 0.54891\n",
      "Epoch 80/3000\n"
     ]
    },
    {
     "name": "stdout",
     "output_type": "stream",
     "text": [
      "915/915 [==============================] - 3739s 4s/step - loss: 0.7372 - accuracy: 0.6650 - val_loss: 1.1310 - val_accuracy: 0.4986\n",
      "\n",
      "Epoch 00080: val_accuracy did not improve from 0.54891\n",
      "Epoch 81/3000\n",
      "915/915 [==============================] - 3733s 4s/step - loss: 0.7433 - accuracy: 0.6584 - val_loss: 1.1268 - val_accuracy: 0.4962\n",
      "\n",
      "Epoch 00081: val_accuracy did not improve from 0.54891\n",
      "Epoch 82/3000\n",
      "915/915 [==============================] - 3737s 4s/step - loss: 0.7412 - accuracy: 0.6567 - val_loss: 1.1475 - val_accuracy: 0.4958\n",
      "\n",
      "Epoch 00082: val_accuracy did not improve from 0.54891\n",
      "Epoch 83/3000\n",
      "915/915 [==============================] - 3742s 4s/step - loss: 0.7373 - accuracy: 0.6626 - val_loss: 1.2383 - val_accuracy: 0.5141\n",
      "\n",
      "Epoch 00083: val_accuracy did not improve from 0.54891\n",
      "Epoch 84/3000\n",
      "915/915 [==============================] - 3752s 4s/step - loss: 0.7325 - accuracy: 0.6685 - val_loss: 1.1486 - val_accuracy: 0.5224\n",
      "\n",
      "Epoch 00084: val_accuracy did not improve from 0.54891\n",
      "Epoch 85/3000\n",
      "915/915 [==============================] - 3760s 4s/step - loss: 0.7347 - accuracy: 0.6654 - val_loss: 1.3374 - val_accuracy: 0.5121\n",
      "\n",
      "Epoch 00085: val_accuracy did not improve from 0.54891\n",
      "Epoch 86/3000\n",
      "915/915 [==============================] - 3746s 4s/step - loss: 0.7343 - accuracy: 0.6659 - val_loss: 1.2978 - val_accuracy: 0.4741\n",
      "\n",
      "Epoch 00086: val_accuracy did not improve from 0.54891\n",
      "Epoch 87/3000\n",
      "915/915 [==============================] - 3753s 4s/step - loss: 0.7326 - accuracy: 0.6653 - val_loss: 1.2024 - val_accuracy: 0.4760\n",
      "\n",
      "Epoch 00087: val_accuracy did not improve from 0.54891\n",
      "Epoch 88/3000\n",
      "915/915 [==============================] - 3766s 4s/step - loss: 0.7319 - accuracy: 0.6671 - val_loss: 1.1602 - val_accuracy: 0.5291\n",
      "\n",
      "Epoch 00088: val_accuracy did not improve from 0.54891\n",
      "Epoch 89/3000\n",
      "915/915 [==============================] - 3764s 4s/step - loss: 0.7256 - accuracy: 0.6703 - val_loss: 1.3082 - val_accuracy: 0.5180\n",
      "\n",
      "Epoch 00089: val_accuracy did not improve from 0.54891\n",
      "Epoch 90/3000\n",
      "915/915 [==============================] - 3768s 4s/step - loss: 0.7365 - accuracy: 0.6638 - val_loss: 1.3836 - val_accuracy: 0.5354\n",
      "\n",
      "Epoch 00090: val_accuracy did not improve from 0.54891\n",
      "Epoch 91/3000\n",
      "915/915 [==============================] - 3765s 4s/step - loss: 0.7338 - accuracy: 0.6663 - val_loss: 1.1987 - val_accuracy: 0.5149\n",
      "\n",
      "Epoch 00091: val_accuracy did not improve from 0.54891\n",
      "Epoch 92/3000\n",
      "915/915 [==============================] - 3776s 4s/step - loss: 0.7297 - accuracy: 0.6714 - val_loss: 1.3649 - val_accuracy: 0.5109\n",
      "\n",
      "Epoch 00092: val_accuracy did not improve from 0.54891\n",
      "Epoch 93/3000\n",
      "869/915 [===========================>..] - ETA: 2:51 - loss: 0.7266 - accuracy: 0.6665"
     ]
    }
   ],
   "source": [
    "batchSize = 25\n",
    "modelName = 'wavelet_VGG16_n1'\n",
    "\n",
    "model.compile(optimizer='adam',\n",
    "              loss=tf.keras.losses.CategoricalCrossentropy(),\n",
    "              metrics=['accuracy'])\n",
    "\n",
    "model.load_weights('E:\\\\'+modelName+'_bestWeights.h5')\n",
    "\n",
    "stepTrain=len(trainData)//batchSize\n",
    "stepValidate=len(validate)//batchSize\n",
    "\n",
    "history = model.fit(loadTrain(trainData,batchSize),\n",
    "                    steps_per_epoch=stepTrain,\n",
    "                    validation_data=loadTrain(validate,batchSize),\n",
    "                    validation_steps=stepValidate,\n",
    "                    epochs=3000,callbacks=[early_stopping,check_point],verbose=1)#,\n"
   ]
  },
  {
   "cell_type": "code",
   "execution_count": 592,
   "id": "b8471574",
   "metadata": {},
   "outputs": [
    {
     "name": "stdout",
     "output_type": "stream",
     "text": [
      "INFO:tensorflow:Assets written to: E:\\rawLFP_v5n_tunning_binary\\assets\n"
     ]
    }
   ],
   "source": [
    "## Saving the model\n",
    "##\n",
    "model.save('E:\\\\'+modelName)\n",
    "model.save_weights('E:\\\\'+modelName+'_weights.h5')"
   ]
  },
  {
   "cell_type": "code",
   "execution_count": 367,
   "id": "3b370f98",
   "metadata": {},
   "outputs": [
    {
     "data": {
      "image/png": "[encoded data removed]",
      "text/plain": [
       "<Figure size 432x288 with 1 Axes>"
      ]
     },
     "metadata": {
      "needs_background": "light"
     },
     "output_type": "display_data"
    }
   ],
   "source": [
    "plt.plot(history.history['accuracy'])\n",
    "\n",
    "plt.plot(history.history['val_accuracy'])# history.history\n",
    "plt.savefig(\"E:\\\\NN\\\\\"+modelName+\"_history.png\")"
   ]
  },
  {
   "cell_type": "code",
   "execution_count": 368,
   "id": "910c795e",
   "metadata": {},
   "outputs": [
    {
     "data": {
      "image/png": "[encoded data removed]",
      "text/plain": [
       "<Figure size 432x288 with 1 Axes>"
      ]
     },
     "metadata": {
      "needs_background": "light"
     },
     "output_type": "display_data"
    }
   ],
   "source": [
    "plt.plot(history.history['loss'])\n",
    "\n",
    "plt.plot(history.history['val_loss'])# history.history\n",
    "plt.savefig(\"E:\\\\NN\\\\\"+modelName+\"_loss.png\")"
   ]
  },
  {
   "cell_type": "code",
   "execution_count": 593,
   "id": "808e9d88",
   "metadata": {},
   "outputs": [
    {
     "name": "stdout",
     "output_type": "stream",
     "text": [
      "\r",
      "      1/Unknown - 0s 156ms/step"
     ]
    },
    {
     "name": "stderr",
     "output_type": "stream",
     "text": [
      "C:\\Users\\dzemel\\AppData\\Roaming\\Python\\Python38\\site-packages\\tensorflow\\python\\keras\\engine\\training.py:2001: UserWarning: `Model.predict_generator` is deprecated and will be removed in a future version. Please use `Model.predict`, which supports generators.\n",
      "  warnings.warn('`Model.predict_generator` is deprecated and '\n"
     ]
    },
    {
     "name": "stdout",
     "output_type": "stream",
     "text": [
      "153/153 [==============================] - 1s 5ms/step\n",
      "[0 1]\n"
     ]
    }
   ],
   "source": [
    "# model =  tf.keras.models.load_model('E:\\\\caOnly_v1')\n",
    "# model.compile(optimizer='adam',\n",
    "#               loss=tf.keras.losses.SparseCategoricalCrossentropy(from_logits=True),\n",
    "#               metrics=['accuracy'])\n",
    "# model.load_weights(\"E:\\\\caOnly_v1_weights.h5\")\n",
    "\n",
    "# labels = (train_generator.class_indices)\n",
    "pred = model.predict_generator(loadTest(testData),verbose=1)\n",
    "pred = np.argmax(pred,axis=1)\n",
    "print(np.unique(pred))\n",
    "\n",
    "y = []\n",
    "for ind,(dataP,label) in enumerate(loadTest(testData)):\n",
    "    y = y+list(np.argmax(label,axis=1))\n",
    "# print(pred[1:100],y[1:100])"
   ]
  },
  {
   "cell_type": "code",
   "execution_count": 595,
   "id": "0ca3f6c2",
   "metadata": {},
   "outputs": [
    {
     "name": "stdout",
     "output_type": "stream",
     "text": [
      "0.7702407002188184\n"
     ]
    },
    {
     "data": {
      "image/png": "[encoded data removed]",
      "text/plain": [
       "<Figure size 576x576 with 2 Axes>"
      ]
     },
     "metadata": {
      "needs_background": "light"
     },
     "output_type": "display_data"
    }
   ],
   "source": [
    "classes=['Healthy','sick']\n",
    "con_mat = tf.math.confusion_matrix(labels=y, predictions=pred).numpy()\n",
    "con_mat_norm = np.around(con_mat.astype('float') / con_mat.sum(axis=1)[:, np.newaxis], decimals=2)\n",
    "\n",
    "con_mat_df = pd.DataFrame(con_mat_norm,\n",
    "                     index = classes, \n",
    "                     columns = classes)\n",
    "figure = plt.figure(figsize=(8, 8))\n",
    "sns.heatmap(con_mat_df, annot=True,cmap=plt.cm.Blues)\n",
    "plt.tight_layout()\n",
    "plt.title(modelName +\"- on test dataset. Accuracy: {acc:f}\".format(acc=np.sum(y==pred)/len(y)))\n",
    "plt.ylabel('True label')\n",
    "plt.xlabel('Predicted label')\n",
    "plt.savefig(\"E:\\\\NN\\\\\"+modelName+\"_confusionOnTest_Test.png\")\n",
    "print(np.sum(y==pred)/len(y))"
   ]
  },
  {
   "cell_type": "code",
   "execution_count": 26,
   "id": "7f130f4c",
   "metadata": {},
   "outputs": [],
   "source": [
    "# model =  tf.keras.models.load_model('E:\\\\caOnly_v1')\n",
    "# model.compile(optimizer='adam',\n",
    "#               loss=tf.keras.losses.SparseCategoricalCrossentropy(from_logits=True),\n",
    "#               metrics=['accuracy'])\n",
    "# model.load_weights(\"E:\\\\caOnly_v1_weights.h5\")\n",
    "\n",
    "# labels = (train_generator.class_indices)\n",
    "pred = model.predict_generator(loadTest(validate,batchSize),verbose=1)\n",
    "pred = np.argmax(pred,axis=1)\n",
    "print(np.unique(pred))\n",
    "\n",
    "y = []\n",
    "for ind,(dataP,label) in enumerate(loadTest(validate,batchSize)):\n",
    "    y = y+list(np.argmax(label,axis=1))\n",
    "# print(pred[1:100],y[1:100])"
   ]
  },
  {
   "cell_type": "code",
   "execution_count": 27,
   "id": "132e7638",
   "metadata": {},
   "outputs": [
    {
     "name": "stdout",
     "output_type": "stream",
     "text": [
      "0.3148\n"
     ]
    },
    {
     "data": {
      "image/png": "[encoded data removed]",
      "text/plain": [
       "<Figure size 576x576 with 2 Axes>"
      ]
     },
     "metadata": {
      "needs_background": "light"
     },
     "output_type": "display_data"
    }
   ],
   "source": [
    "classes=['Healthy','Acute','Chronic']\n",
    "con_mat = tf.math.confusion_matrix(labels=y, predictions=pred).numpy()\n",
    "con_mat_norm = np.around(con_mat.astype('float') / con_mat.sum(axis=1)[:, np.newaxis], decimals=2)\n",
    "\n",
    "con_mat_df = pd.DataFrame(con_mat_norm,\n",
    "                     index = classes, \n",
    "                     columns = classes)\n",
    "figure = plt.figure(figsize=(8, 8))\n",
    "sns.heatmap(con_mat_df, annot=True,cmap=plt.cm.Blues)\n",
    "plt.tight_layout()\n",
    "plt.title(modelName +\"- on test dataset. Accuracy: {acc:f}\".format(acc=np.sum(y==pred)/len(y)))\n",
    "plt.ylabel('True label')\n",
    "plt.xlabel('Predicted label')\n",
    "plt.savefig(\"E:\\\\NN\\\\\"+modelName+\"_confusionOnTest_val.png\")\n",
    "print(np.sum(y==pred)/len(y))"
   ]
  },
  {
   "cell_type": "code",
   "execution_count": 161,
   "id": "bf7f90f0",
   "metadata": {},
   "outputs": [
    {
     "name": "stdout",
     "output_type": "stream",
     "text": [
      "24/24 [==============================] - 2s 100ms/step\n",
      "[0]\n"
     ]
    }
   ],
   "source": [
    "# model =  tf.keras.models.load_model('E:\\\\caOnly_v1')\n",
    "# model.compile(optimizer='adam',\n",
    "#               loss=tf.keras.losses.SparseCategoricalCrossentropy(from_logits=True),\n",
    "#               metrics=['accuracy'])\n",
    "# model.load_weights(\"E:\\\\caOnly_v1_weights.h5\")\n",
    "\n",
    "# labels = (train_generator.class_indices)\n",
    "pred = model.predict_generator(loadTest(trainData2,batchSize),verbose=1)\n",
    "pred = np.argmax(pred,axis=1)\n",
    "print(np.unique(pred))\n",
    "\n",
    "y = []\n",
    "for ind,(dataP,label) in enumerate(loadTest(trainData2,batchSize)):\n",
    "    y = y+list(np.argmax(label,axis=1))\n",
    "# print(pred[1:100],y[1:100])"
   ]
  },
  {
   "cell_type": "code",
   "execution_count": 162,
   "id": "5a7d0afe",
   "metadata": {},
   "outputs": [
    {
     "name": "stdout",
     "output_type": "stream",
     "text": [
      "0.21354166666666666\n"
     ]
    },
    {
     "data": {
      "image/png": "[encoded data removed]",
      "text/plain": [
       "<Figure size 576x576 with 2 Axes>"
      ]
     },
     "metadata": {
      "needs_background": "light"
     },
     "output_type": "display_data"
    }
   ],
   "source": [
    "classes=['Healthy','Acute','Chronic']\n",
    "con_mat = tf.math.confusion_matrix(labels=y, predictions=pred).numpy()\n",
    "con_mat_norm = np.around(con_mat.astype('float') / con_mat.sum(axis=1)[:, np.newaxis], decimals=2)\n",
    "\n",
    "con_mat_df = pd.DataFrame(con_mat_norm,\n",
    "                     index = classes, \n",
    "                     columns = classes)\n",
    "figure = plt.figure(figsize=(8, 8))\n",
    "sns.heatmap(con_mat_df, annot=True,cmap=plt.cm.Blues)\n",
    "plt.tight_layout()\n",
    "plt.title(modelName +\"- on train dataset. Accuracy: {acc:f}\".format(acc=np.sum(y==pred)/len(y)))\n",
    "plt.ylabel('True label')\n",
    "plt.xlabel('Predicted label')\n",
    "plt.savefig(\"E:\\\\NN\\\\\"+modelName+\"_confusionOnTest_Train.png\")\n",
    "print(np.sum(y==pred)/len(y))"
   ]
  },
  {
   "cell_type": "code",
   "execution_count": 71,
   "id": "6b67399e",
   "metadata": {},
   "outputs": [
    {
     "name": "stdout",
     "output_type": "stream",
     "text": [
      "567/567 [==============================] - 89s 157ms/step\n",
      "[0 1 2]\n"
     ]
    }
   ],
   "source": [
    "# model =  tf.keras.models.load_model('E:\\\\caOnly_v1')\n",
    "# model.compile(optimizer='adam',\n",
    "#               loss=tf.keras.losses.SparseCategoricalCrossentropy(from_logits=True),\n",
    "#               metrics=['accuracy'])\n",
    "# model.load_weights(\"E:\\\\caOnly_v1_weights.h5\")\n",
    "\n",
    "# train_datagenT = tf.keras.preprocessing.image.ImageDataGenerator(rescale=1./255)\n",
    "# train_generatorT = train_datagenT.flow_from_directory(\n",
    "#     directory=\"E:\\\\data\\\\Train\\\\\",#'E:\\\\data\\\\imageTest\\\\training_set\\\\',#\n",
    "#     target_size=(300, 300),\n",
    "#     color_mode=\"grayscale\",\n",
    "#     batch_size=32,\n",
    "#     class_mode=\"categorical\",\n",
    "#     shuffle=False,\n",
    "#     seed=36\n",
    "# )\n",
    "\n",
    "\n",
    "labels = (train_generator.class_indices)\n",
    "pred = model.predict_generator(train_generatorT,verbose=1)\n",
    "pred = np.argmax(pred,axis=1)\n",
    "print(np.unique(pred))\n",
    "\n",
    "y = []\n",
    "for f in train_generatorT.filenames:\n",
    "    sess = f.split(\"_\")[1]\n",
    "    if sess[0] == 'B':\n",
    "        day = 0\n",
    "    else:\n",
    "        day = int(re.findall(r'\\d+',sess)[0])\n",
    "\n",
    "    # get data\n",
    "    period = periodCalc(day) \n",
    "    y.append(labels[period])"
   ]
  },
  {
   "cell_type": "code",
   "execution_count": 73,
   "id": "71a07908",
   "metadata": {},
   "outputs": [
    {
     "data": {
      "image/png": "[encoded data removed]",
      "text/plain": [
       "<Figure size 576x576 with 2 Axes>"
      ]
     },
     "metadata": {
      "needs_background": "light"
     },
     "output_type": "display_data"
    }
   ],
   "source": [
    "classes=labels.keys()\n",
    "con_mat = tf.math.confusion_matrix(labels=y, predictions=pred).numpy()\n",
    "con_mat_norm = np.around(con_mat.astype('float') / con_mat.sum(axis=1)[:, np.newaxis], decimals=2)\n",
    "\n",
    "con_mat_df = pd.DataFrame(con_mat_norm,\n",
    "                     index = classes, \n",
    "                     columns = classes)\n",
    "figure = plt.figure(figsize=(8, 8))\n",
    "sns.heatmap(con_mat_df, annot=True,cmap=plt.cm.Blues)\n",
    "plt.tight_layout()\n",
    "plt.title(modelName +\"- on train dataset. Accuracy: {acc:f}\".format(acc=np.sum(y==pred)/len(y)))\n",
    "plt.ylabel('True label')\n",
    "plt.xlabel('Predicted label')\n",
    "plt.savefig(\"E:\\\\NN\\\\\"+modelName+\"_confusionOnTest_Train.png\")\n"
   ]
  },
  {
   "cell_type": "code",
   "execution_count": 61,
   "id": "4f88aa37",
   "metadata": {},
   "outputs": [
    {
     "name": "stdout",
     "output_type": "stream",
     "text": [
      "567/567 [==============================] - 89s 157ms/step - loss: 3.5345e-04 - accuracy: 1.0000\n",
      "[0.00035344576463103294, 1.0]\n"
     ]
    }
   ],
   "source": [
    "score = model.evaluate(train_generatorT)\n",
    "print(score)"
   ]
  },
  {
   "cell_type": "code",
   "execution_count": 56,
   "id": "823d27a5",
   "metadata": {},
   "outputs": [
    {
     "name": "stdout",
     "output_type": "stream",
     "text": [
      "567/567 [==============================] - 89s 157ms/step\n"
     ]
    },
    {
     "data": {
      "text/plain": [
       "(18130, 3)"
      ]
     },
     "execution_count": 56,
     "metadata": {},
     "output_type": "execute_result"
    }
   ],
   "source": [
    "pred = model.predict_generator(train_generator,verbose=1)\n",
    "pred.shape"
   ]
  },
  {
   "cell_type": "code",
   "execution_count": 57,
   "id": "f72b53ca",
   "metadata": {},
   "outputs": [
    {
     "data": {
      "text/plain": [
       "array([[9.9993336e-01, 6.6623645e-05, 2.0047966e-09],\n",
       "       [1.0000000e+00, 1.3673330e-08, 4.0443326e-10],\n",
       "       [3.7493074e-08, 1.0000000e+00, 1.9402356e-11],\n",
       "       [3.0466440e-04, 9.9913293e-01, 5.6242698e-04]], dtype=float32)"
      ]
     },
     "execution_count": 57,
     "metadata": {},
     "output_type": "execute_result"
    }
   ],
   "source": [
    "train_generatorT = train_datagen.flow_from_directory(\n",
    "    directory=\"E:\\\\data\\\\Train\\\\\",#'E:\\\\data\\\\imageTest\\\\training_set\\\\',#\n",
    "    target_size=(300, 300),\n",
    "    color_mode=\"grayscale\",\n",
    "    batch_size=32,\n",
    "    class_mode=\"categorical\",\n",
    "    shuffle=False,\n",
    "    seed=36\n",
    ")\n"
   ]
  },
  {
   "cell_type": "code",
   "execution_count": 85,
   "id": "5ec9f784",
   "metadata": {},
   "outputs": [
    {
     "data": {
      "image/png": "[encoded data removed]",
      "text/plain": [
       "<Figure size 432x288 with 1 Axes>"
      ]
     },
     "metadata": {
      "needs_background": "light"
     },
     "output_type": "display_data"
    }
   ],
   "source": [
    "%matplotlib inline\n",
    "for d,l in train_generator:\n",
    "    plt.imshow(d[16,:,:,0])\n",
    "    break"
   ]
  }
 ],
 "metadata": {
  "kernelspec": {
   "display_name": "Python 3 (ipykernel)",
   "language": "python",
   "name": "python3"
  },
  "language_info": {
   "codemirror_mode": {
    "name": "ipython",
    "version": 3
   },
   "file_extension": ".py",
   "mimetype": "text/x-python",
   "name": "python",
   "nbconvert_exporter": "python",
   "pygments_lexer": "ipython3",
   "version": "3.7.9"
  }
 },
 "nbformat": 4,
 "nbformat_minor": 5
}
